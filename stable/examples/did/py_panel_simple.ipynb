{
 "cells": [
  {
   "cell_type": "markdown",
   "metadata": {},
   "source": [
    "# Python: Panel Data Introduction\n",
    "\n",
    "In this example, we replicate the results from the guide [Getting Started with the did Package](https://bcallaway11.github.io/did/articles/did-basics.html) of the [did-R-package](https://bcallaway11.github.io/did/index.html).\n",
    "\n",
    "As the [did-R-package](https://bcallaway11.github.io/did/index.html) the implementation of [DoubleML](https://docs.doubleml.org/stable/index.html) is based on [Callaway and Sant'Anna(2021)](https://doi.org/10.1016/j.jeconom.2020.12.001).\n",
    "\n",
    "The notebook requires the following packages:"
   ]
  },
  {
   "cell_type": "code",
   "execution_count": 1,
   "metadata": {
    "execution": {
     "iopub.execute_input": "2025-07-08T16:14:33.586702Z",
     "iopub.status.busy": "2025-07-08T16:14:33.586515Z",
     "iopub.status.idle": "2025-07-08T16:14:35.062127Z",
     "shell.execute_reply": "2025-07-08T16:14:35.061439Z"
    }
   },
   "outputs": [],
   "source": [
    "import pandas as pd\n",
    "import numpy as np\n",
    "\n",
    "from sklearn.linear_model import LinearRegression, LogisticRegression\n",
    "\n",
    "from doubleml.data import DoubleMLPanelData\n",
    "from doubleml.did import DoubleMLDIDMulti"
   ]
  },
  {
   "cell_type": "markdown",
   "metadata": {},
   "source": [
    "## Data\n",
    "\n",
    "The data we will use is simulated and part of the [CSDID-Python-Package](https://d2cml-ai.github.io/csdid/index.html).\n",
    "\n",
    "A description of the data generating process can be found at the [CSDID-documentation](https://d2cml-ai.github.io/csdid/examples/csdid_basic.html#Examples-with-simulated-data).\n"
   ]
  },
  {
   "cell_type": "code",
   "execution_count": 2,
   "metadata": {
    "execution": {
     "iopub.execute_input": "2025-07-08T16:14:35.064634Z",
     "iopub.status.busy": "2025-07-08T16:14:35.064142Z",
     "iopub.status.idle": "2025-07-08T16:14:35.146536Z",
     "shell.execute_reply": "2025-07-08T16:14:35.145889Z"
    }
   },
   "outputs": [
    {
     "data": {
      "text/html": [
       "<div>\n",
       "<style scoped>\n",
       "    .dataframe tbody tr th:only-of-type {\n",
       "        vertical-align: middle;\n",
       "    }\n",
       "\n",
       "    .dataframe tbody tr th {\n",
       "        vertical-align: top;\n",
       "    }\n",
       "\n",
       "    .dataframe thead th {\n",
       "        text-align: right;\n",
       "    }\n",
       "</style>\n",
       "<table border=\"1\" class=\"dataframe\">\n",
       "  <thead>\n",
       "    <tr style=\"text-align: right;\">\n",
       "      <th></th>\n",
       "      <th>G</th>\n",
       "      <th>X</th>\n",
       "      <th>id</th>\n",
       "      <th>cluster</th>\n",
       "      <th>period</th>\n",
       "      <th>Y</th>\n",
       "      <th>treat</th>\n",
       "    </tr>\n",
       "  </thead>\n",
       "  <tbody>\n",
       "    <tr>\n",
       "      <th>0</th>\n",
       "      <td>3</td>\n",
       "      <td>-0.876233</td>\n",
       "      <td>1</td>\n",
       "      <td>5</td>\n",
       "      <td>1</td>\n",
       "      <td>5.562556</td>\n",
       "      <td>1</td>\n",
       "    </tr>\n",
       "    <tr>\n",
       "      <th>1</th>\n",
       "      <td>3</td>\n",
       "      <td>-0.876233</td>\n",
       "      <td>1</td>\n",
       "      <td>5</td>\n",
       "      <td>2</td>\n",
       "      <td>4.349213</td>\n",
       "      <td>1</td>\n",
       "    </tr>\n",
       "    <tr>\n",
       "      <th>2</th>\n",
       "      <td>3</td>\n",
       "      <td>-0.876233</td>\n",
       "      <td>1</td>\n",
       "      <td>5</td>\n",
       "      <td>3</td>\n",
       "      <td>7.134037</td>\n",
       "      <td>1</td>\n",
       "    </tr>\n",
       "    <tr>\n",
       "      <th>3</th>\n",
       "      <td>3</td>\n",
       "      <td>-0.876233</td>\n",
       "      <td>1</td>\n",
       "      <td>5</td>\n",
       "      <td>4</td>\n",
       "      <td>6.243056</td>\n",
       "      <td>1</td>\n",
       "    </tr>\n",
       "    <tr>\n",
       "      <th>4</th>\n",
       "      <td>2</td>\n",
       "      <td>-0.873848</td>\n",
       "      <td>2</td>\n",
       "      <td>36</td>\n",
       "      <td>1</td>\n",
       "      <td>-3.659387</td>\n",
       "      <td>1</td>\n",
       "    </tr>\n",
       "  </tbody>\n",
       "</table>\n",
       "</div>"
      ],
      "text/plain": [
       "   G         X  id  cluster  period         Y  treat\n",
       "0  3 -0.876233   1        5       1  5.562556      1\n",
       "1  3 -0.876233   1        5       2  4.349213      1\n",
       "2  3 -0.876233   1        5       3  7.134037      1\n",
       "3  3 -0.876233   1        5       4  6.243056      1\n",
       "4  2 -0.873848   2       36       1 -3.659387      1"
      ]
     },
     "execution_count": 2,
     "metadata": {},
     "output_type": "execute_result"
    }
   ],
   "source": [
    "dta = pd.read_csv(\"https://raw.githubusercontent.com/d2cml-ai/csdid/main/data/sim_data.csv\")\n",
    "dta.head()"
   ]
  },
  {
   "cell_type": "markdown",
   "metadata": {},
   "source": [
    "To work with the [DoubleML-package](https://docs.doubleml.org/stable/index.html), we initialize a ``DoubleMLPanelData`` object.\n",
    "\n",
    "Therefore, we set the *never-treated* units in group column `G` to `np.inf` (we have to change the datatype to `float`)."
   ]
  },
  {
   "cell_type": "code",
   "execution_count": 3,
   "metadata": {
    "execution": {
     "iopub.execute_input": "2025-07-08T16:14:35.148604Z",
     "iopub.status.busy": "2025-07-08T16:14:35.148228Z",
     "iopub.status.idle": "2025-07-08T16:14:35.157709Z",
     "shell.execute_reply": "2025-07-08T16:14:35.157080Z"
    }
   },
   "outputs": [
    {
     "data": {
      "text/html": [
       "<div>\n",
       "<style scoped>\n",
       "    .dataframe tbody tr th:only-of-type {\n",
       "        vertical-align: middle;\n",
       "    }\n",
       "\n",
       "    .dataframe tbody tr th {\n",
       "        vertical-align: top;\n",
       "    }\n",
       "\n",
       "    .dataframe thead th {\n",
       "        text-align: right;\n",
       "    }\n",
       "</style>\n",
       "<table border=\"1\" class=\"dataframe\">\n",
       "  <thead>\n",
       "    <tr style=\"text-align: right;\">\n",
       "      <th></th>\n",
       "      <th>G</th>\n",
       "      <th>X</th>\n",
       "      <th>id</th>\n",
       "      <th>cluster</th>\n",
       "      <th>period</th>\n",
       "      <th>Y</th>\n",
       "      <th>treat</th>\n",
       "    </tr>\n",
       "  </thead>\n",
       "  <tbody>\n",
       "    <tr>\n",
       "      <th>0</th>\n",
       "      <td>3.0</td>\n",
       "      <td>-0.876233</td>\n",
       "      <td>1</td>\n",
       "      <td>5</td>\n",
       "      <td>1</td>\n",
       "      <td>5.562556</td>\n",
       "      <td>1</td>\n",
       "    </tr>\n",
       "    <tr>\n",
       "      <th>1</th>\n",
       "      <td>3.0</td>\n",
       "      <td>-0.876233</td>\n",
       "      <td>1</td>\n",
       "      <td>5</td>\n",
       "      <td>2</td>\n",
       "      <td>4.349213</td>\n",
       "      <td>1</td>\n",
       "    </tr>\n",
       "    <tr>\n",
       "      <th>2</th>\n",
       "      <td>3.0</td>\n",
       "      <td>-0.876233</td>\n",
       "      <td>1</td>\n",
       "      <td>5</td>\n",
       "      <td>3</td>\n",
       "      <td>7.134037</td>\n",
       "      <td>1</td>\n",
       "    </tr>\n",
       "    <tr>\n",
       "      <th>3</th>\n",
       "      <td>3.0</td>\n",
       "      <td>-0.876233</td>\n",
       "      <td>1</td>\n",
       "      <td>5</td>\n",
       "      <td>4</td>\n",
       "      <td>6.243056</td>\n",
       "      <td>1</td>\n",
       "    </tr>\n",
       "    <tr>\n",
       "      <th>4</th>\n",
       "      <td>2.0</td>\n",
       "      <td>-0.873848</td>\n",
       "      <td>2</td>\n",
       "      <td>36</td>\n",
       "      <td>1</td>\n",
       "      <td>-3.659387</td>\n",
       "      <td>1</td>\n",
       "    </tr>\n",
       "  </tbody>\n",
       "</table>\n",
       "</div>"
      ],
      "text/plain": [
       "     G         X  id  cluster  period         Y  treat\n",
       "0  3.0 -0.876233   1        5       1  5.562556      1\n",
       "1  3.0 -0.876233   1        5       2  4.349213      1\n",
       "2  3.0 -0.876233   1        5       3  7.134037      1\n",
       "3  3.0 -0.876233   1        5       4  6.243056      1\n",
       "4  2.0 -0.873848   2       36       1 -3.659387      1"
      ]
     },
     "execution_count": 3,
     "metadata": {},
     "output_type": "execute_result"
    }
   ],
   "source": [
    "# set dtype for G to float\n",
    "dta[\"G\"] = dta[\"G\"].astype(float)\n",
    "dta.loc[dta[\"G\"] == 0, \"G\"] = np.inf\n",
    "dta.head()"
   ]
  },
  {
   "cell_type": "markdown",
   "metadata": {},
   "source": [
    "Now, we can initialize the ``DoubleMLPanelData`` object, specifying\n",
    "\n",
    " - `y_col` : the outcome\n",
    " - `d_cols`: the group variable indicating the first treated period for each unit\n",
    " - `id_col`: the unique identification column for each unit\n",
    " - `t_col` : the time column\n",
    " - `x_cols`: the additional pre-treatment controls\n"
   ]
  },
  {
   "cell_type": "code",
   "execution_count": 4,
   "metadata": {
    "execution": {
     "iopub.execute_input": "2025-07-08T16:14:35.159500Z",
     "iopub.status.busy": "2025-07-08T16:14:35.159291Z",
     "iopub.status.idle": "2025-07-08T16:14:35.169209Z",
     "shell.execute_reply": "2025-07-08T16:14:35.168732Z"
    }
   },
   "outputs": [
    {
     "name": "stdout",
     "output_type": "stream",
     "text": [
      "================== DoubleMLPanelData Object ==================\n",
      "\n",
      "------------------ Data summary      ------------------\n",
      "Outcome variable: Y\n",
      "Treatment variable(s): ['G']\n",
      "Covariates: ['X']\n",
      "Instrument variable(s): None\n",
      "Time variable: period\n",
      "Id variable: id\n",
      "No. Unique Ids: 3979\n",
      "No. Observations: 15916\n",
      "\n",
      "------------------ DataFrame info    ------------------\n",
      "<class 'pandas.core.frame.DataFrame'>\n",
      "RangeIndex: 15916 entries, 0 to 15915\n",
      "Columns: 7 entries, G to treat\n",
      "dtypes: float64(3), int64(4)\n",
      "memory usage: 870.5 KB\n",
      "\n"
     ]
    }
   ],
   "source": [
    "dml_data = DoubleMLPanelData(\n",
    "    data=dta,\n",
    "    y_col=\"Y\",\n",
    "    d_cols=\"G\",\n",
    "    id_col=\"id\",\n",
    "    t_col=\"period\",\n",
    "    x_cols=[\"X\"]\n",
    ")\n",
    "print(dml_data)"
   ]
  },
  {
   "cell_type": "markdown",
   "metadata": {},
   "source": [
    "## ATT Estimation\n",
    "\n",
    "The [DoubleML-package](https://docs.doubleml.org/stable/index.html) implements estimation of group-time average treatment effect via the `DoubleMLDIDMulti` class (see [model documentation](https://docs.doubleml.org/stable/guide/models.html#difference-in-differences-models-did)).\n",
    "\n",
    "The class basically behaves like other `DoubleML` classes and requires the specification of two learners (for more details on the regression elements, see [score documentation](https://docs.doubleml.org/stable/guide/scores.html#difference-in-differences-models)). The model will be estimated using the `fit()` method."
   ]
  },
  {
   "cell_type": "code",
   "execution_count": 5,
   "metadata": {
    "execution": {
     "iopub.execute_input": "2025-07-08T16:14:35.171249Z",
     "iopub.status.busy": "2025-07-08T16:14:35.170787Z",
     "iopub.status.idle": "2025-07-08T16:14:35.466965Z",
     "shell.execute_reply": "2025-07-08T16:14:35.465749Z"
    }
   },
   "outputs": [
    {
     "name": "stdout",
     "output_type": "stream",
     "text": [
      "================== DoubleMLDIDMulti Object ==================\n",
      "\n",
      "------------------ Data summary      ------------------\n",
      "Outcome variable: Y\n",
      "Treatment variable(s): ['G']\n",
      "Covariates: ['X']\n",
      "Instrument variable(s): None\n",
      "Time variable: period\n",
      "Id variable: id\n",
      "No. Unique Ids: 3979\n",
      "No. Observations: 15916\n",
      "\n",
      "------------------ Score & algorithm ------------------\n",
      "Score function: observational\n",
      "Control group: never_treated\n",
      "Anticipation periods: 0\n",
      "\n",
      "------------------ Machine learner   ------------------\n",
      "Learner ml_g: LinearRegression()\n",
      "Learner ml_m: LogisticRegression()\n",
      "Out-of-sample Performance:\n",
      "Regression:\n",
      "Learner ml_g0 RMSE: [[1.42399836 1.41039895 1.39637598 1.42444937 1.40335355 1.42067316\n",
      "  1.42312791 1.40455858 1.42352007]]\n",
      "Learner ml_g1 RMSE: [[1.40251639 1.43584983 1.39490406 1.41473112 1.42591492 1.38378077\n",
      "  1.45549857 1.41437203 1.4083904 ]]\n",
      "Classification:\n",
      "Learner ml_m Log Loss: [[0.69084345 0.69096141 0.6906615  0.67925681 0.67972123 0.67971272\n",
      "  0.66256474 0.66215298 0.66240443]]\n",
      "\n",
      "------------------ Resampling        ------------------\n",
      "No. folds: 5\n",
      "No. repeated sample splits: 1\n",
      "\n",
      "------------------ Fit summary       ------------------\n",
      "                  coef   std err          t     P>|t|     2.5 %    97.5 %\n",
      "ATT(2.0,1,2)  0.918098  0.064019  14.340978  0.000000  0.792623  1.043574\n",
      "ATT(2.0,1,3)  1.992117  0.064648  30.814992  0.000000  1.865410  2.118824\n",
      "ATT(2.0,1,4)  2.954547  0.063175  46.767521  0.000000  2.830726  3.078368\n",
      "ATT(3.0,1,2) -0.042733  0.065989  -0.647582  0.517255 -0.172070  0.086603\n",
      "ATT(3.0,2,3)  1.107601  0.065447  16.923713  0.000000  0.979328  1.235874\n",
      "ATT(3.0,2,4)  2.056854  0.065678  31.317373  0.000000  1.928128  2.185580\n",
      "ATT(4.0,1,2)  0.003125  0.068599   0.045558  0.963663 -0.131327  0.137577\n",
      "ATT(4.0,2,3)  0.063969  0.066386   0.963581  0.335256 -0.066146  0.194084\n",
      "ATT(4.0,3,4)  0.949730  0.067450  14.080530  0.000000  0.817531  1.081929\n"
     ]
    }
   ],
   "source": [
    "dml_obj = DoubleMLDIDMulti(\n",
    "    obj_dml_data=dml_data,\n",
    "    ml_g=LinearRegression(),\n",
    "    ml_m=LogisticRegression(),\n",
    "    control_group=\"never_treated\",\n",
    ")\n",
    "\n",
    "dml_obj.fit()\n",
    "print(dml_obj)"
   ]
  },
  {
   "cell_type": "markdown",
   "metadata": {},
   "source": [
    "The summary displays estimates of the $ATT(g,t_\\text{eval})$ effects for different combinations of $(g,t_\\text{eval})$ via $\\widehat{ATT}(\\mathrm{g},t_\\text{pre},t_\\text{eval})$, where\n",
    " - $\\mathrm{g}$ specifies the group\n",
    " - $t_\\text{pre}$ specifies the corresponding pre-treatment period\n",
    " - $t_\\text{eval}$ specifies the evaluation period\n",
    "\n",
    "This corresponds to the estimates given in `att_gt` function in the [did-R-package](https://bcallaway11.github.io/did/index.html), where the standard choice is $t_\\text{pre} = \\min(\\mathrm{g}, t_\\text{eval}) - 1$ (without anticipation).\n",
    "\n",
    "Remark that this includes pre-tests effects if $\\mathrm{g} > t_{eval}$, e.g. $ATT(4,2)$."
   ]
  },
  {
   "cell_type": "markdown",
   "metadata": {},
   "source": [
    "As usual for the DoubleML-package, you can obtain joint confidence intervals via bootstrap."
   ]
  },
  {
   "cell_type": "code",
   "execution_count": 6,
   "metadata": {
    "execution": {
     "iopub.execute_input": "2025-07-08T16:14:35.469722Z",
     "iopub.status.busy": "2025-07-08T16:14:35.469491Z",
     "iopub.status.idle": "2025-07-08T16:14:35.967717Z",
     "shell.execute_reply": "2025-07-08T16:14:35.966592Z"
    }
   },
   "outputs": [
    {
     "data": {
      "text/html": [
       "<div>\n",
       "<style scoped>\n",
       "    .dataframe tbody tr th:only-of-type {\n",
       "        vertical-align: middle;\n",
       "    }\n",
       "\n",
       "    .dataframe tbody tr th {\n",
       "        vertical-align: top;\n",
       "    }\n",
       "\n",
       "    .dataframe thead th {\n",
       "        text-align: right;\n",
       "    }\n",
       "</style>\n",
       "<table border=\"1\" class=\"dataframe\">\n",
       "  <thead>\n",
       "    <tr style=\"text-align: right;\">\n",
       "      <th></th>\n",
       "      <th>2.5 %</th>\n",
       "      <th>97.5 %</th>\n",
       "    </tr>\n",
       "  </thead>\n",
       "  <tbody>\n",
       "    <tr>\n",
       "      <th>ATT(2.0,1,2)</th>\n",
       "      <td>0.746717</td>\n",
       "      <td>1.089479</td>\n",
       "    </tr>\n",
       "    <tr>\n",
       "      <th>ATT(2.0,1,3)</th>\n",
       "      <td>1.819054</td>\n",
       "      <td>2.165180</td>\n",
       "    </tr>\n",
       "    <tr>\n",
       "      <th>ATT(2.0,1,4)</th>\n",
       "      <td>2.785426</td>\n",
       "      <td>3.123669</td>\n",
       "    </tr>\n",
       "    <tr>\n",
       "      <th>ATT(3.0,1,2)</th>\n",
       "      <td>-0.219388</td>\n",
       "      <td>0.133921</td>\n",
       "    </tr>\n",
       "    <tr>\n",
       "      <th>ATT(3.0,2,3)</th>\n",
       "      <td>0.932399</td>\n",
       "      <td>1.282803</td>\n",
       "    </tr>\n",
       "    <tr>\n",
       "      <th>ATT(3.0,2,4)</th>\n",
       "      <td>1.881033</td>\n",
       "      <td>2.232675</td>\n",
       "    </tr>\n",
       "    <tr>\n",
       "      <th>ATT(4.0,1,2)</th>\n",
       "      <td>-0.180517</td>\n",
       "      <td>0.186767</td>\n",
       "    </tr>\n",
       "    <tr>\n",
       "      <th>ATT(4.0,2,3)</th>\n",
       "      <td>-0.113749</td>\n",
       "      <td>0.241686</td>\n",
       "    </tr>\n",
       "    <tr>\n",
       "      <th>ATT(4.0,3,4)</th>\n",
       "      <td>0.769165</td>\n",
       "      <td>1.130295</td>\n",
       "    </tr>\n",
       "  </tbody>\n",
       "</table>\n",
       "</div>"
      ],
      "text/plain": [
       "                 2.5 %    97.5 %\n",
       "ATT(2.0,1,2)  0.746717  1.089479\n",
       "ATT(2.0,1,3)  1.819054  2.165180\n",
       "ATT(2.0,1,4)  2.785426  3.123669\n",
       "ATT(3.0,1,2) -0.219388  0.133921\n",
       "ATT(3.0,2,3)  0.932399  1.282803\n",
       "ATT(3.0,2,4)  1.881033  2.232675\n",
       "ATT(4.0,1,2) -0.180517  0.186767\n",
       "ATT(4.0,2,3) -0.113749  0.241686\n",
       "ATT(4.0,3,4)  0.769165  1.130295"
      ]
     },
     "execution_count": 6,
     "metadata": {},
     "output_type": "execute_result"
    }
   ],
   "source": [
    "level = 0.95\n",
    "\n",
    "ci = dml_obj.confint(level=level)\n",
    "dml_obj.bootstrap(n_rep_boot=5000)\n",
    "ci_joint = dml_obj.confint(level=level, joint=True)\n",
    "ci_joint"
   ]
  },
  {
   "cell_type": "markdown",
   "metadata": {},
   "source": [
    "A visualization of the effects can be obtained via the `plot_effects()` method.\n",
    "\n",
    "Remark that the plot used joint confidence intervals per default. "
   ]
  },
  {
   "cell_type": "code",
   "execution_count": 7,
   "metadata": {
    "execution": {
     "iopub.execute_input": "2025-07-08T16:14:35.970251Z",
     "iopub.status.busy": "2025-07-08T16:14:35.970032Z",
     "iopub.status.idle": "2025-07-08T16:14:36.538831Z",
     "shell.execute_reply": "2025-07-08T16:14:36.538274Z"
    },
    "tags": [
     "nbsphinx-thumbnail"
    ]
   },
   "outputs": [
    {
     "name": "stderr",
     "output_type": "stream",
     "text": [
      "/opt/hostedtoolcache/Python/3.12.11/x64/lib/python3.12/site-packages/matplotlib/cbook.py:1719: FutureWarning: Calling float on a single element Series is deprecated and will raise a TypeError in the future. Use float(ser.iloc[0]) instead\n",
      "  return math.isfinite(val)\n",
      "/opt/hostedtoolcache/Python/3.12.11/x64/lib/python3.12/site-packages/matplotlib/cbook.py:1719: FutureWarning: Calling float on a single element Series is deprecated and will raise a TypeError in the future. Use float(ser.iloc[0]) instead\n",
      "  return math.isfinite(val)\n"
     ]
    },
    {
     "data": {
      "image/png": "[encoded data removed]",
      "text/plain": [
       "<Figure size 1200x800 with 4 Axes>"
      ]
     },
     "metadata": {},
     "output_type": "display_data"
    }
   ],
   "source": [
    "fig, ax = dml_obj.plot_effects()"
   ]
  },
  {
   "cell_type": "markdown",
   "metadata": {},
   "source": [
    "## Effect Aggregation\n",
    "\n",
    "As the [did-R-package](https://bcallaway11.github.io/did/index.html), the $ATT$'s can be aggregated to summarize multiple effects.\n",
    "For details on different aggregations and details on their interpretations see [Callaway and Sant'Anna(2021)](https://doi.org/10.1016/j.jeconom.2020.12.001).\n",
    "\n",
    "The aggregations are implemented via the `aggregate()` method."
   ]
  },
  {
   "cell_type": "markdown",
   "metadata": {},
   "source": [
    "### Group Aggregation\n",
    "\n",
    "To obtain group-specific effects it is possible to aggregate several $\\widehat{ATT}(\\mathrm{g},t_\\text{pre},t_\\text{eval})$ values based on the group $\\mathrm{g}$ by setting the `aggregation=\"group\"` argument."
   ]
  },
  {
   "cell_type": "code",
   "execution_count": 8,
   "metadata": {
    "execution": {
     "iopub.execute_input": "2025-07-08T16:14:36.540811Z",
     "iopub.status.busy": "2025-07-08T16:14:36.540602Z",
     "iopub.status.idle": "2025-07-08T16:14:36.760744Z",
     "shell.execute_reply": "2025-07-08T16:14:36.760183Z"
    }
   },
   "outputs": [
    {
     "name": "stdout",
     "output_type": "stream",
     "text": [
      "================== DoubleMLDIDAggregation Object ==================\n",
      " Group Aggregation \n",
      "\n",
      "------------------ Overall Aggregated Effects ------------------\n",
      "    coef  std err         t  P>|t|    2.5 %   97.5 %\n",
      "1.486854 0.034271 43.385353    0.0 1.419684 1.554023\n",
      "------------------ Aggregated Effects         ------------------\n",
      "         coef   std err          t  P>|t|     2.5 %    97.5 %\n",
      "2.0  1.954921  0.052232  37.427685    0.0  1.852548  2.057294\n",
      "3.0  1.582227  0.056300  28.103346    0.0  1.471881  1.692574\n",
      "4.0  0.949730  0.067450  14.080530    0.0  0.817531  1.081929\n",
      "------------------ Additional Information     ------------------\n",
      "Score function: observational\n",
      "Control group: never_treated\n",
      "Anticipation periods: 0\n",
      "\n"
     ]
    },
    {
     "name": "stderr",
     "output_type": "stream",
     "text": [
      "/opt/hostedtoolcache/Python/3.12.11/x64/lib/python3.12/site-packages/doubleml/did/did_aggregation.py:368: UserWarning: Joint confidence intervals require bootstrapping which hasn't been performed yet. Automatically applying '.aggregated_frameworks.bootstrap(method=\"normal\", n_rep_boot=500)' with default values. For different bootstrap settings, call bootstrap() explicitly before plotting.\n",
      "  warnings.warn(\n"
     ]
    },
    {
     "data": {
      "image/png": "[encoded data removed]",
      "text/plain": [
       "<Figure size 1200x600 with 1 Axes>"
      ]
     },
     "metadata": {},
     "output_type": "display_data"
    }
   ],
   "source": [
    "aggregated = dml_obj.aggregate(aggregation=\"group\")\n",
    "print(aggregated)\n",
    "_ = aggregated.plot_effects()"
   ]
  },
  {
   "cell_type": "markdown",
   "metadata": {},
   "source": [
    "The output is a `DoubleMLDIDAggregation` object which includes an overall aggregation summary based on group size."
   ]
  },
  {
   "cell_type": "markdown",
   "metadata": {},
   "source": [
    "### Time Aggregation\n",
    "\n",
    "This aggregates $\\widehat{ATT}(\\mathrm{g},t_\\text{pre},t_\\text{eval})$, based on $t_\\text{eval}$, but weighted with respect to group size. Corresponds to *Calendar Time Effects* from the [did-R-package](https://bcallaway11.github.io/did/index.html).\n",
    "\n",
    "For calendar time effects set `aggregation=\"time\"`."
   ]
  },
  {
   "cell_type": "code",
   "execution_count": 9,
   "metadata": {
    "execution": {
     "iopub.execute_input": "2025-07-08T16:14:36.762855Z",
     "iopub.status.busy": "2025-07-08T16:14:36.762465Z",
     "iopub.status.idle": "2025-07-08T16:14:36.981181Z",
     "shell.execute_reply": "2025-07-08T16:14:36.980642Z"
    }
   },
   "outputs": [
    {
     "name": "stdout",
     "output_type": "stream",
     "text": [
      "================== DoubleMLDIDAggregation Object ==================\n",
      " Time Aggregation \n",
      "\n",
      "------------------ Overall Aggregated Effects ------------------\n",
      "   coef  std err         t  P>|t|    2.5 %   97.5 %\n",
      "1.47996 0.035096 42.168944    0.0 1.411173 1.548746\n",
      "------------------ Aggregated Effects         ------------------\n",
      "       coef   std err          t  P>|t|     2.5 %    97.5 %\n",
      "2  0.918098  0.064019  14.340978    0.0  0.792623  1.043574\n",
      "3  1.551215  0.051339  30.215353    0.0  1.450594  1.651837\n",
      "4  1.970565  0.046712  42.185370    0.0  1.879011  2.062119\n",
      "------------------ Additional Information     ------------------\n",
      "Score function: observational\n",
      "Control group: never_treated\n",
      "Anticipation periods: 0\n",
      "\n"
     ]
    },
    {
     "name": "stderr",
     "output_type": "stream",
     "text": [
      "/opt/hostedtoolcache/Python/3.12.11/x64/lib/python3.12/site-packages/doubleml/did/did_aggregation.py:368: UserWarning: Joint confidence intervals require bootstrapping which hasn't been performed yet. Automatically applying '.aggregated_frameworks.bootstrap(method=\"normal\", n_rep_boot=500)' with default values. For different bootstrap settings, call bootstrap() explicitly before plotting.\n",
      "  warnings.warn(\n"
     ]
    },
    {
     "data": {
      "image/png": "[encoded data removed]",
      "text/plain": [
       "<Figure size 1200x600 with 1 Axes>"
      ]
     },
     "metadata": {},
     "output_type": "display_data"
    }
   ],
   "source": [
    "aggregated_time = dml_obj.aggregate(\"time\")\n",
    "print(aggregated_time)\n",
    "fig, ax = aggregated_time.plot_effects()"
   ]
  },
  {
   "cell_type": "markdown",
   "metadata": {},
   "source": [
    "## Event Study Aggregation\n",
    "\n",
    "Finally, `aggregation=\"eventstudy\"` aggregates $\\widehat{ATT}(\\mathrm{g},t_\\text{pre},t_\\text{eval})$ based on exposure time $e = t_\\text{eval} - \\mathrm{g}$ (respecting group size)."
   ]
  },
  {
   "cell_type": "code",
   "execution_count": 10,
   "metadata": {
    "execution": {
     "iopub.execute_input": "2025-07-08T16:14:36.983301Z",
     "iopub.status.busy": "2025-07-08T16:14:36.982913Z",
     "iopub.status.idle": "2025-07-08T16:14:37.229107Z",
     "shell.execute_reply": "2025-07-08T16:14:37.228474Z"
    }
   },
   "outputs": [
    {
     "name": "stdout",
     "output_type": "stream",
     "text": [
      "================== DoubleMLDIDAggregation Object ==================\n",
      " Event Study Aggregation \n",
      "\n",
      "------------------ Overall Aggregated Effects ------------------\n",
      "    coef  std err         t  P>|t|    2.5 %   97.5 %\n",
      "1.989949 0.038747 51.357273    0.0 1.914006 2.065892\n",
      "------------------ Aggregated Effects         ------------------\n",
      "          coef   std err          t     P>|t|     2.5 %    97.5 %\n",
      "-2.0  0.003125  0.068599   0.045558  0.963663 -0.131327  0.137577\n",
      "-1.0  0.012029  0.040454   0.297359  0.766193 -0.067259  0.091317\n",
      "0.0   0.990914  0.030721  32.254904  0.000000  0.930701  1.051127\n",
      "1.0   2.024386  0.045737  44.261574  0.000000  1.934744  2.114029\n",
      "2.0   2.954547  0.063175  46.767521  0.000000  2.830726  3.078368\n",
      "------------------ Additional Information     ------------------\n",
      "Score function: observational\n",
      "Control group: never_treated\n",
      "Anticipation periods: 0\n",
      "\n"
     ]
    },
    {
     "name": "stderr",
     "output_type": "stream",
     "text": [
      "/opt/hostedtoolcache/Python/3.12.11/x64/lib/python3.12/site-packages/doubleml/did/did_aggregation.py:368: UserWarning: Joint confidence intervals require bootstrapping which hasn't been performed yet. Automatically applying '.aggregated_frameworks.bootstrap(method=\"normal\", n_rep_boot=500)' with default values. For different bootstrap settings, call bootstrap() explicitly before plotting.\n",
      "  warnings.warn(\n"
     ]
    },
    {
     "data": {
      "image/png": "[encoded data removed]",
      "text/plain": [
       "<Figure size 1200x600 with 1 Axes>"
      ]
     },
     "metadata": {},
     "output_type": "display_data"
    }
   ],
   "source": [
    "aggregated_eventstudy = dml_obj.aggregate(\"eventstudy\")\n",
    "print(aggregated_eventstudy)\n",
    "fig, ax = aggregated_eventstudy.plot_effects()"
   ]
  },
  {
   "cell_type": "markdown",
   "metadata": {},
   "source": [
    "### Aggregation Details\n",
    "\n",
    "The `DoubleMLDIDAggregation` objects include several `DoubleMLFrameworks` which support methods like `bootstrap()` or `confint()`.\n",
    "Further, the weights can be accessed via the properties\n",
    "\n",
    " - ``overall_aggregation_weights``: weights for the overall aggregation\n",
    " - ``aggregation_weights``: weights for the aggregation\n",
    "\n",
    "To clarify, e.g. for the eventstudy aggregation"
   ]
  },
  {
   "cell_type": "code",
   "execution_count": 11,
   "metadata": {
    "execution": {
     "iopub.execute_input": "2025-07-08T16:14:37.231267Z",
     "iopub.status.busy": "2025-07-08T16:14:37.230873Z",
     "iopub.status.idle": "2025-07-08T16:14:37.240818Z",
     "shell.execute_reply": "2025-07-08T16:14:37.240195Z"
    }
   },
   "outputs": [
    {
     "name": "stdout",
     "output_type": "stream",
     "text": [
      "================== DoubleMLDIDAggregation Object ==================\n",
      " Event Study Aggregation \n",
      "\n",
      "------------------ Overall Aggregated Effects ------------------\n",
      "    coef  std err         t  P>|t|    2.5 %   97.5 %\n",
      "1.989949 0.038747 51.357273    0.0 1.914006 2.065892\n",
      "------------------ Aggregated Effects         ------------------\n",
      "          coef   std err          t     P>|t|     2.5 %    97.5 %\n",
      "-2.0  0.003125  0.068599   0.045558  0.963663 -0.131327  0.137577\n",
      "-1.0  0.012029  0.040454   0.297359  0.766193 -0.067259  0.091317\n",
      "0.0   0.990914  0.030721  32.254904  0.000000  0.930701  1.051127\n",
      "1.0   2.024386  0.045737  44.261574  0.000000  1.934744  2.114029\n",
      "2.0   2.954547  0.063175  46.767521  0.000000  2.830726  3.078368\n",
      "------------------ Additional Information     ------------------\n",
      "Score function: observational\n",
      "Control group: never_treated\n",
      "Anticipation periods: 0\n",
      "\n"
     ]
    }
   ],
   "source": [
    "print(aggregated_eventstudy)"
   ]
  },
  {
   "cell_type": "markdown",
   "metadata": {},
   "source": [
    "Here, the overall effect aggregation aggregates each effect with positive exposure"
   ]
  },
  {
   "cell_type": "code",
   "execution_count": 12,
   "metadata": {
    "execution": {
     "iopub.execute_input": "2025-07-08T16:14:37.242769Z",
     "iopub.status.busy": "2025-07-08T16:14:37.242431Z",
     "iopub.status.idle": "2025-07-08T16:14:37.245966Z",
     "shell.execute_reply": "2025-07-08T16:14:37.245332Z"
    }
   },
   "outputs": [
    {
     "name": "stdout",
     "output_type": "stream",
     "text": [
      "[0.         0.         0.33333333 0.33333333 0.33333333]\n"
     ]
    }
   ],
   "source": [
    "print(aggregated_eventstudy.overall_aggregation_weights)"
   ]
  },
  {
   "cell_type": "markdown",
   "metadata": {},
   "source": [
    "If one would like to consider how the aggregated effect with $e=0$ is computed, one would have to look at the third set of weights within the ``aggregation_weights`` property"
   ]
  },
  {
   "cell_type": "code",
   "execution_count": 13,
   "metadata": {
    "execution": {
     "iopub.execute_input": "2025-07-08T16:14:37.247867Z",
     "iopub.status.busy": "2025-07-08T16:14:37.247526Z",
     "iopub.status.idle": "2025-07-08T16:14:37.251772Z",
     "shell.execute_reply": "2025-07-08T16:14:37.251156Z"
    }
   },
   "outputs": [
    {
     "data": {
      "text/plain": [
       "array([0.32875335, 0.        , 0.        , 0.        , 0.32674263,\n",
       "       0.        , 0.        , 0.        , 0.34450402])"
      ]
     },
     "execution_count": 13,
     "metadata": {},
     "output_type": "execute_result"
    }
   ],
   "source": [
    "aggregated_eventstudy.aggregation_weights[2]"
   ]
  },
  {
   "cell_type": "markdown",
   "metadata": {},
   "source": [
    "Taking a look at the original `dml_obj`, one can see that this combines the following estimates:\n",
    "\n",
    " - $\\widehat{ATT}(2,1,2)$\n",
    " - $\\widehat{ATT}(3,2,3)$\n",
    " - $\\widehat{ATT}(4,3,4)$"
   ]
  },
  {
   "cell_type": "code",
   "execution_count": 14,
   "metadata": {
    "execution": {
     "iopub.execute_input": "2025-07-08T16:14:37.253776Z",
     "iopub.status.busy": "2025-07-08T16:14:37.253437Z",
     "iopub.status.idle": "2025-07-08T16:14:37.260520Z",
     "shell.execute_reply": "2025-07-08T16:14:37.259909Z"
    }
   },
   "outputs": [
    {
     "name": "stdout",
     "output_type": "stream",
     "text": [
      "                  coef   std err          t     P>|t|     2.5 %    97.5 %\n",
      "ATT(2.0,1,2)  0.918098  0.064019  14.340978  0.000000  0.792623  1.043574\n",
      "ATT(2.0,1,3)  1.992117  0.064648  30.814992  0.000000  1.865410  2.118824\n",
      "ATT(2.0,1,4)  2.954547  0.063175  46.767521  0.000000  2.830726  3.078368\n",
      "ATT(3.0,1,2) -0.042733  0.065989  -0.647582  0.517255 -0.172070  0.086603\n",
      "ATT(3.0,2,3)  1.107601  0.065447  16.923713  0.000000  0.979328  1.235874\n",
      "ATT(3.0,2,4)  2.056854  0.065678  31.317373  0.000000  1.928128  2.185580\n",
      "ATT(4.0,1,2)  0.003125  0.068599   0.045558  0.963663 -0.131327  0.137577\n",
      "ATT(4.0,2,3)  0.063969  0.066386   0.963581  0.335256 -0.066146  0.194084\n",
      "ATT(4.0,3,4)  0.949730  0.067450  14.080530  0.000000  0.817531  1.081929\n"
     ]
    }
   ],
   "source": [
    "print(dml_obj.summary)"
   ]
  }
 ],
 "metadata": {
  "kernelspec": {
   "display_name": ".venv",
   "language": "python",
   "name": "python3"
  },
  "language_info": {
   "codemirror_mode": {
    "name": "ipython",
    "version": 3
   },
   "file_extension": ".py",
   "mimetype": "text/x-python",
   "name": "python",
   "nbconvert_exporter": "python",
   "pygments_lexer": "ipython3",
   "version": "3.12.11"
  }
 },
 "nbformat": 4,
 "nbformat_minor": 2
}
