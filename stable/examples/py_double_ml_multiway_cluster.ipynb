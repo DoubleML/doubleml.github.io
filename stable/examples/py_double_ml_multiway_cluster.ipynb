{
 "cells": [
  {
   "cell_type": "markdown",
   "metadata": {
    "id": "mNcwBqn11_ZX"
   },
   "source": [
    "# Python: Cluster Robust Double Machine Learning\n",
    "\n",
    "\n",
    "## Motivation \n",
    "\n",
    "In many empirical applications, errors exhibit a clustered structure such that the usual i.i.d. assumption does not hold anymore. In order to perform valid statistical inference, researchers have to account for clustering. In this notebook, we will shortly emphasize the consequences of clustered data on inference based on the double machine learning (DML) approach as has been considered in [Chiang et al. (2021)](https://doi.org/10.1080/07350015.2021.1895815). We will demonstrate how users of the [DoubleML](https://docs.doubleml.org/stable/index.html) package can account for one- and two-way clustering in their analysis.\n",
    "\n",
    "Clustered errors in terms of one or multiple dimensions might arise in many empirical applications. For example, in a cross-sectional study, errors might be correlated (i) within regions (one-way clustering) or (ii) within regions and industries at the same time (two-way clustering). Another example for two-way clustering, discussed in [Chiang et al. (2021)](https://doi.org/10.1080/07350015.2021.1895815), refers to market share data with market shares being subject to shocks on the market and product level at the same time. We refer to [Cameron et al. (2011)](https://doi.org/10.1198/jbes.2010.07136) for an introduction to multiway clustering and a illustrative list of empirical examples.\n",
    "\n",
    "## Clustering and double machine learning\n",
    "\n",
    "Clustering creates a challenge to the double machine learning (DML) approach in terms of \n",
    "\n",
    "1. a necessary adjustment of the formulae used for estimation of the variance covariance matrix, standard errors, p-values etc., and,\n",
    "2. an adjusted resampling scheme for the cross-fitting algorithm.\n",
    "\n",
    "The first point equally applies to classical statistical models, for example a linear regression model (see, for example [Cameron et al. 2011](https://doi.org/10.1198/jbes.2010.07136)). The second point arises because the clustering implies a correlation of errors from train and test samples if the standard cross-fitting procedure suggested in [Chernozhukov et al. (2018)](https://doi.org/10.1111/ectj.12097) was employed. The DML approach builds on independent sample splits into partitions that are used for training of the machine learning (ML) model learners and generation of predictions that are eventually used for solving the score function. For a motivation of the necessity of sample splitting, we refer to the illustration example in the [user guide]( \n",
    "https://docs.doubleml.org/stable/guide/basics.html#sample-splitting-to-remove-bias-induced-by-overfitting) as well as to the explanation in [Chernozhukov et al. (2018)](https://doi.org/10.1111/ectj.12097) .\n",
    "\n",
    "In order to achieve independent data splits in a setting with one-way or multi-way clustering, [Chiang et al. (2021)](https://doi.org/10.1080/07350015.2021.1895815) develop an updated  $K$-fold sample splitting procedure that ensures independent sample splits: The data set is split into disjoint partitions in terms of all clustering dimensions. For example, in a situation with two-way clustering, the data is split into $K^2$ folds. The machine learning models are then trained on a specific fold and used for generation of predictions in hold-out samples. Thereby, the sample splitting procedure ensures that the hold-out samples do not contain observations of the same clusters as used for training.\n"
   ]
  },
  {
   "cell_type": "code",
   "execution_count": 1,
   "metadata": {
    "execution": {
     "iopub.execute_input": "2022-10-11T07:32:34.658802Z",
     "iopub.status.busy": "2022-10-11T07:32:34.658516Z",
     "iopub.status.idle": "2022-10-11T07:32:35.663983Z",
     "shell.execute_reply": "2022-10-11T07:32:35.663280Z"
    },
    "id": "r1nf2-YD1_Z2"
   },
   "outputs": [],
   "source": [
    "import numpy as np\n",
    "import pandas as pd\n",
    "\n",
    "import matplotlib.pyplot as plt\n",
    "from matplotlib.colors import ListedColormap\n",
    "import seaborn as sns\n",
    "\n",
    "from sklearn.model_selection import KFold, RepeatedKFold\n",
    "from sklearn.base import clone\n",
    "\n",
    "from sklearn.linear_model import LassoCV\n",
    "\n",
    "from doubleml import DoubleMLClusterData, DoubleMLData, DoubleMLPLIV\n",
    "\n",
    "from doubleml.datasets import make_pliv_multiway_cluster_CKMS2021"
   ]
  },
  {
   "cell_type": "markdown",
   "metadata": {
    "id": "1lptyTy61_Z_"
   },
   "source": [
    "## A Motivating Example: Two-Way Cluster Robust DML\n",
    "\n",
    "In a first part, we show how the two-way cluster robust double machine learning (DML) ([Chiang et al. 2021](https://doi.org/10.1080/07350015.2021.1895815)) can be implemented with the [DoubleML](https://docs.doubleml.org/stable/index.html) package.\n",
    "[Chiang et al. (2021)](https://doi.org/10.1080/07350015.2021.1895815) consider double-indexed data\n",
    "\n",
    "\\begin{equation}\n",
    "\\lbrace W_{ij}: i \\in \\lbrace 1, \\ldots, N \\rbrace, j \\in \\lbrace 1, \\ldots, M \\rbrace \\rbrace\n",
    "\\end{equation}\n",
    "\n",
    "and the partially linear IV regression model (PLIV)\n",
    "\n",
    "$$\\begin{aligned}\n",
    "Y_{ij} = D_{ij} \\theta_0 +  g_0(X_{ij}) + \\epsilon_{ij}, & &\\mathbb{E}(\\epsilon_{ij} | X_{ij}, Z_{ij}) = 0, \\\\\n",
    "Z_{ij} = m_0(X_{ij}) + v_{ij}, & &\\mathbb{E}(v_{ij} | X_{ij}) = 0.\n",
    "\\end{aligned}$$"
   ]
  },
  {
   "cell_type": "markdown",
   "metadata": {
    "id": "9L-nrVMH1_aD"
   },
   "source": [
    "### Simulate two-way cluster data\n",
    "\n",
    "We use the PLIV data generating process described in Section 4.1 of [Chiang et al. (2021)](https://doi.org/10.1080/07350015.2021.1895815).\n",
    "The DGP is defined as\n",
    "$$\\begin{aligned}\n",
    "Z_{ij} &= X_{ij}' \\xi_0 + V_{ij}, \\\\\n",
    "D_{ij} &= Z_{ij}' \\pi_{10} + X_{ij}' \\pi_{20} + v_{ij}, \\\\\n",
    "Y_{ij} &= D_{ij} \\theta + X_{ij}' \\zeta_0 + \\varepsilon_{ij},\n",
    "\\end{aligned}$$\n",
    "with\n",
    "$$\\begin{aligned}\n",
    "X_{ij} &= (1 - \\omega_1^X - \\omega_2^X) \\alpha_{ij}^X\n",
    "+ \\omega_1^X \\alpha_{i}^X + \\omega_2^X \\alpha_{j}^X, \\\\\n",
    "\\varepsilon_{ij} &= (1 - \\omega_1^\\varepsilon - \\omega_2^\\varepsilon) \\alpha_{ij}^\\varepsilon\n",
    "+ \\omega_1^\\varepsilon \\alpha_{i}^\\varepsilon + \\omega_2^\\varepsilon \\alpha_{j}^\\varepsilon, \\\\\n",
    "v_{ij} &= (1 - \\omega_1^v - \\omega_2^v) \\alpha_{ij}^v\n",
    "+ \\omega_1^v \\alpha_{i}^v + \\omega_2^v \\alpha_{j}^v, \\\\\n",
    "V_{ij} &= (1 - \\omega_1^V - \\omega_2^V) \\alpha_{ij}^V\n",
    "+ \\omega_1^V \\alpha_{i}^V + \\omega_2^V \\alpha_{j}^V,\n",
    "\\end{aligned}$$\n",
    "and $\\alpha_{ij}^X, \\alpha_{i}^X, \\alpha_{j}^X \\sim \\mathcal{N}(0, \\Sigma)$\n",
    "where  $\\Sigma$ is a $p_x \\times p_x$ matrix with entries\n",
    "$\\Sigma_{kj} = s_X^{|j-k|}$.\n",
    "Further\n",
    "$$\\begin{aligned}\n",
    "\\left(\\begin{matrix} \\alpha_{ij}^\\varepsilon \\\\ \\alpha_{ij}^v \\end{matrix}\\right),\n",
    "\\left(\\begin{matrix} \\alpha_{i}^\\varepsilon \\\\ \\alpha_{i}^v \\end{matrix}\\right),\n",
    "\\left(\\begin{matrix} \\alpha_{j}^\\varepsilon \\\\ \\alpha_{j}^v \\end{matrix}\\right)\n",
    "\\sim \\mathcal{N}\\left(0, \\left(\\begin{matrix} 1 & s_{\\varepsilon v} \\\\\n",
    "s_{\\varepsilon v} & 1 \\end{matrix} \\right) \\right)\n",
    "\\end{aligned}$$\n",
    "and $\\alpha_{ij}^V, \\alpha_{i}^V, \\alpha_{j}^V \\sim \\mathcal{N}(0, 1)$.\n",
    "\n",
    "Data from this DGP can be generated with the [make_pliv_multiway_cluster_CKMS2021()](https://docs.doubleml.org/stable/api/generated/doubleml.datasets.make_pliv_multiway_cluster_CKMS2021.html#doubleml.datasets.make_pliv_multiway_cluster_CKMS2021) function from [DoubleML](https://docs.doubleml.org/stable/index.html).\n",
    "Analogously to [Chiang et al. (2021, Section 5)](https://doi.org/10.1080/07350015.2021.1895815)\n",
    "we use the following parameter setting:\n",
    "$\\theta=1.0$, $N=M=25$, $p_x=100$, $\\pi_{10}=1.0$, $\\omega_X = \\omega_{\\varepsilon} = \\omega_V = \\omega_v = (0.25, 0.25)$, $s_X = s_{\\varepsilon v} = 0.25$ and the $j$-th entries of the $p_x$-vectors $\\zeta_0 = \\pi_{20} = \\xi_0$ are $(\\zeta_{0})_j = 0.5^j$.\n",
    "This are also the default values of [make_pliv_multiway_cluster_CKMS2021()](https://docs.doubleml.org/stable/api/generated/doubleml.datasets.make_pliv_multiway_cluster_CKMS2021.html#doubleml.datasets.make_pliv_multiway_cluster_CKMS2021)."
   ]
  },
  {
   "cell_type": "code",
   "execution_count": 2,
   "metadata": {
    "execution": {
     "iopub.execute_input": "2022-10-11T07:32:35.667809Z",
     "iopub.status.busy": "2022-10-11T07:32:35.667413Z",
     "iopub.status.idle": "2022-10-11T07:32:35.700496Z",
     "shell.execute_reply": "2022-10-11T07:32:35.699779Z"
    },
    "id": "9hepXKz91_aM"
   },
   "outputs": [],
   "source": [
    "# Set the simulation parameters\n",
    "N = 25  # number of observations (first dimension)\n",
    "M = 25  # number of observations (second dimension)\n",
    "dim_X = 100  # dimension of X\n",
    "np.random.seed(3141) # set seed\n",
    "\n",
    "obj_dml_data = make_pliv_multiway_cluster_CKMS2021(N, M, dim_X)"
   ]
  },
  {
   "cell_type": "markdown",
   "metadata": {
    "id": "rlePOlu21_aP"
   },
   "source": [
    "### Data-Backend for Cluster Data\n",
    "The implementation of cluster robust double machine learning is based on a special data-backend called [DoubleMLClusterData](https://docs.doubleml.org/stable/api/generated/doubleml.DoubleMLClusterData.html#doubleml.DoubleMLClusterData). As compared to the standard data-backend [DoubleMLData](https://docs.doubleml.org/dev/api/generated/doubleml.DoubleMLData.html), users can specify the clustering variables during instantiation of a  [DoubleMLClusterData](https://docs.doubleml.org/stable/api/generated/doubleml.DoubleMLClusterData.html#doubleml.DoubleMLClusterData) object. The estimation framework will subsequently account for the provided clustering options."
   ]
  },
  {
   "cell_type": "code",
   "execution_count": 3,
   "metadata": {
    "execution": {
     "iopub.execute_input": "2022-10-11T07:32:35.704412Z",
     "iopub.status.busy": "2022-10-11T07:32:35.704161Z",
     "iopub.status.idle": "2022-10-11T07:32:35.717034Z",
     "shell.execute_reply": "2022-10-11T07:32:35.716023Z"
    },
    "id": "N9DBwEFT1_aS"
   },
   "outputs": [
    {
     "name": "stdout",
     "output_type": "stream",
     "text": [
      "================== DoubleMLClusterData Object ==================\n",
      "\n",
      "------------------ Data summary      ------------------\n",
      "Outcome variable: Y\n",
      "Treatment variable(s): ['D']\n",
      "Cluster variable(s): ['cluster_var_i', 'cluster_var_j']\n",
      "Covariates: ['X1', 'X2', 'X3', 'X4', 'X5', 'X6', 'X7', 'X8', 'X9', 'X10', 'X11', 'X12', 'X13', 'X14', 'X15', 'X16', 'X17', 'X18', 'X19', 'X20', 'X21', 'X22', 'X23', 'X24', 'X25', 'X26', 'X27', 'X28', 'X29', 'X30', 'X31', 'X32', 'X33', 'X34', 'X35', 'X36', 'X37', 'X38', 'X39', 'X40', 'X41', 'X42', 'X43', 'X44', 'X45', 'X46', 'X47', 'X48', 'X49', 'X50', 'X51', 'X52', 'X53', 'X54', 'X55', 'X56', 'X57', 'X58', 'X59', 'X60', 'X61', 'X62', 'X63', 'X64', 'X65', 'X66', 'X67', 'X68', 'X69', 'X70', 'X71', 'X72', 'X73', 'X74', 'X75', 'X76', 'X77', 'X78', 'X79', 'X80', 'X81', 'X82', 'X83', 'X84', 'X85', 'X86', 'X87', 'X88', 'X89', 'X90', 'X91', 'X92', 'X93', 'X94', 'X95', 'X96', 'X97', 'X98', 'X99', 'X100']\n",
      "Instrument variable(s): ['Z']\n",
      "No. Observations: 625\n",
      "\n",
      "------------------ DataFrame info    ------------------\n",
      "<class 'pandas.core.frame.DataFrame'>\n",
      "RangeIndex: 625 entries, 0 to 624\n",
      "Columns: 105 entries, cluster_var_i to Z\n",
      "dtypes: float64(103), int64(2)\n",
      "memory usage: 512.8 KB\n",
      "\n"
     ]
    }
   ],
   "source": [
    "# The simulated data is of type DoubleMLClusterData\n",
    "print(obj_dml_data)"
   ]
  },
  {
   "cell_type": "code",
   "execution_count": 4,
   "metadata": {
    "execution": {
     "iopub.execute_input": "2022-10-11T07:32:35.720122Z",
     "iopub.status.busy": "2022-10-11T07:32:35.719880Z",
     "iopub.status.idle": "2022-10-11T07:32:35.744648Z",
     "shell.execute_reply": "2022-10-11T07:32:35.743966Z"
    },
    "id": "yMU5Y0n81_aW"
   },
   "outputs": [
    {
     "data": {
      "text/html": [
       "<div>\n",
       "<style scoped>\n",
       "    .dataframe tbody tr th:only-of-type {\n",
       "        vertical-align: middle;\n",
       "    }\n",
       "\n",
       "    .dataframe tbody tr th {\n",
       "        vertical-align: top;\n",
       "    }\n",
       "\n",
       "    .dataframe thead th {\n",
       "        text-align: right;\n",
       "    }\n",
       "</style>\n",
       "<table border=\"1\" class=\"dataframe\">\n",
       "  <thead>\n",
       "    <tr style=\"text-align: right;\">\n",
       "      <th></th>\n",
       "      <th>cluster_var_i</th>\n",
       "      <th>cluster_var_j</th>\n",
       "      <th>X1</th>\n",
       "      <th>X2</th>\n",
       "      <th>X3</th>\n",
       "      <th>X4</th>\n",
       "      <th>X5</th>\n",
       "      <th>X6</th>\n",
       "      <th>X7</th>\n",
       "      <th>X8</th>\n",
       "      <th>...</th>\n",
       "      <th>X94</th>\n",
       "      <th>X95</th>\n",
       "      <th>X96</th>\n",
       "      <th>X97</th>\n",
       "      <th>X98</th>\n",
       "      <th>X99</th>\n",
       "      <th>X100</th>\n",
       "      <th>Y</th>\n",
       "      <th>D</th>\n",
       "      <th>Z</th>\n",
       "    </tr>\n",
       "  </thead>\n",
       "  <tbody>\n",
       "    <tr>\n",
       "      <th>0</th>\n",
       "      <td>0</td>\n",
       "      <td>0</td>\n",
       "      <td>-0.261903</td>\n",
       "      <td>-0.195564</td>\n",
       "      <td>-0.118952</td>\n",
       "      <td>0.508459</td>\n",
       "      <td>0.226598</td>\n",
       "      <td>-0.544555</td>\n",
       "      <td>0.183888</td>\n",
       "      <td>1.694919</td>\n",
       "      <td>...</td>\n",
       "      <td>-0.205938</td>\n",
       "      <td>-0.996934</td>\n",
       "      <td>-1.136836</td>\n",
       "      <td>0.010269</td>\n",
       "      <td>-0.396985</td>\n",
       "      <td>-0.161141</td>\n",
       "      <td>-0.614188</td>\n",
       "      <td>0.256567</td>\n",
       "      <td>-0.113780</td>\n",
       "      <td>0.104787</td>\n",
       "    </tr>\n",
       "    <tr>\n",
       "      <th>1</th>\n",
       "      <td>0</td>\n",
       "      <td>1</td>\n",
       "      <td>-1.082973</td>\n",
       "      <td>-0.303835</td>\n",
       "      <td>0.760778</td>\n",
       "      <td>-0.542671</td>\n",
       "      <td>-0.601598</td>\n",
       "      <td>-0.201768</td>\n",
       "      <td>0.234910</td>\n",
       "      <td>0.212844</td>\n",
       "      <td>...</td>\n",
       "      <td>0.427573</td>\n",
       "      <td>0.303324</td>\n",
       "      <td>0.247826</td>\n",
       "      <td>0.109273</td>\n",
       "      <td>-0.410795</td>\n",
       "      <td>-0.128408</td>\n",
       "      <td>0.633433</td>\n",
       "      <td>-1.816318</td>\n",
       "      <td>-1.002983</td>\n",
       "      <td>-0.942661</td>\n",
       "    </tr>\n",
       "    <tr>\n",
       "      <th>2</th>\n",
       "      <td>0</td>\n",
       "      <td>2</td>\n",
       "      <td>-0.110359</td>\n",
       "      <td>-0.679539</td>\n",
       "      <td>0.491245</td>\n",
       "      <td>-0.309772</td>\n",
       "      <td>-0.552727</td>\n",
       "      <td>0.036729</td>\n",
       "      <td>-0.673302</td>\n",
       "      <td>-1.024604</td>\n",
       "      <td>...</td>\n",
       "      <td>0.094381</td>\n",
       "      <td>-0.922996</td>\n",
       "      <td>-2.054068</td>\n",
       "      <td>-0.477474</td>\n",
       "      <td>-0.543380</td>\n",
       "      <td>-0.720664</td>\n",
       "      <td>-0.332996</td>\n",
       "      <td>-0.851366</td>\n",
       "      <td>-0.302648</td>\n",
       "      <td>0.628069</td>\n",
       "    </tr>\n",
       "    <tr>\n",
       "      <th>3</th>\n",
       "      <td>0</td>\n",
       "      <td>3</td>\n",
       "      <td>-0.010940</td>\n",
       "      <td>1.003427</td>\n",
       "      <td>0.412653</td>\n",
       "      <td>0.784238</td>\n",
       "      <td>0.014637</td>\n",
       "      <td>0.611269</td>\n",
       "      <td>0.323679</td>\n",
       "      <td>-0.557999</td>\n",
       "      <td>...</td>\n",
       "      <td>0.698694</td>\n",
       "      <td>1.342992</td>\n",
       "      <td>-1.136089</td>\n",
       "      <td>-0.632058</td>\n",
       "      <td>-0.509958</td>\n",
       "      <td>-0.456370</td>\n",
       "      <td>-0.557595</td>\n",
       "      <td>1.081488</td>\n",
       "      <td>0.438960</td>\n",
       "      <td>0.054162</td>\n",
       "    </tr>\n",
       "    <tr>\n",
       "      <th>4</th>\n",
       "      <td>0</td>\n",
       "      <td>4</td>\n",
       "      <td>-0.073207</td>\n",
       "      <td>-0.370736</td>\n",
       "      <td>-0.005857</td>\n",
       "      <td>-0.833907</td>\n",
       "      <td>-0.096337</td>\n",
       "      <td>-0.714240</td>\n",
       "      <td>0.094026</td>\n",
       "      <td>0.435401</td>\n",
       "      <td>...</td>\n",
       "      <td>-0.149714</td>\n",
       "      <td>-0.164864</td>\n",
       "      <td>-0.756805</td>\n",
       "      <td>0.518175</td>\n",
       "      <td>0.510385</td>\n",
       "      <td>-0.681176</td>\n",
       "      <td>-1.020271</td>\n",
       "      <td>-1.708190</td>\n",
       "      <td>-1.805007</td>\n",
       "      <td>-0.850321</td>\n",
       "    </tr>\n",
       "  </tbody>\n",
       "</table>\n",
       "<p>5 rows × 105 columns</p>\n",
       "</div>"
      ],
      "text/plain": [
       "   cluster_var_i  cluster_var_j        X1        X2        X3        X4  \\\n",
       "0              0              0 -0.261903 -0.195564 -0.118952  0.508459   \n",
       "1              0              1 -1.082973 -0.303835  0.760778 -0.542671   \n",
       "2              0              2 -0.110359 -0.679539  0.491245 -0.309772   \n",
       "3              0              3 -0.010940  1.003427  0.412653  0.784238   \n",
       "4              0              4 -0.073207 -0.370736 -0.005857 -0.833907   \n",
       "\n",
       "         X5        X6        X7        X8  ...       X94       X95       X96  \\\n",
       "0  0.226598 -0.544555  0.183888  1.694919  ... -0.205938 -0.996934 -1.136836   \n",
       "1 -0.601598 -0.201768  0.234910  0.212844  ...  0.427573  0.303324  0.247826   \n",
       "2 -0.552727  0.036729 -0.673302 -1.024604  ...  0.094381 -0.922996 -2.054068   \n",
       "3  0.014637  0.611269  0.323679 -0.557999  ...  0.698694  1.342992 -1.136089   \n",
       "4 -0.096337 -0.714240  0.094026  0.435401  ... -0.149714 -0.164864 -0.756805   \n",
       "\n",
       "        X97       X98       X99      X100         Y         D         Z  \n",
       "0  0.010269 -0.396985 -0.161141 -0.614188  0.256567 -0.113780  0.104787  \n",
       "1  0.109273 -0.410795 -0.128408  0.633433 -1.816318 -1.002983 -0.942661  \n",
       "2 -0.477474 -0.543380 -0.720664 -0.332996 -0.851366 -0.302648  0.628069  \n",
       "3 -0.632058 -0.509958 -0.456370 -0.557595  1.081488  0.438960  0.054162  \n",
       "4  0.518175  0.510385 -0.681176 -1.020271 -1.708190 -1.805007 -0.850321  \n",
       "\n",
       "[5 rows x 105 columns]"
      ]
     },
     "execution_count": 4,
     "metadata": {},
     "output_type": "execute_result"
    }
   ],
   "source": [
    "# The cluster variables are part of the DataFrame\n",
    "obj_dml_data.data.head()"
   ]
  },
  {
   "cell_type": "markdown",
   "metadata": {
    "id": "hPXEpA3J1_aa"
   },
   "source": [
    "### Initialize the objects of class `DoubleMLPLIV`"
   ]
  },
  {
   "cell_type": "code",
   "execution_count": 5,
   "metadata": {
    "execution": {
     "iopub.execute_input": "2022-10-11T07:32:35.747991Z",
     "iopub.status.busy": "2022-10-11T07:32:35.747700Z",
     "iopub.status.idle": "2022-10-11T07:32:35.754528Z",
     "shell.execute_reply": "2022-10-11T07:32:35.753893Z"
    },
    "id": "DvjBpafF1_ae"
   },
   "outputs": [],
   "source": [
    "# Set machine learning methods for l, m & r\n",
    "learner = LassoCV()\n",
    "ml_l = clone(learner)\n",
    "ml_m = clone(learner)\n",
    "ml_r = clone(learner)\n",
    "\n",
    "# initialize the DoubleMLPLIV object\n",
    "dml_pliv_obj = DoubleMLPLIV(obj_dml_data,\n",
    "                            ml_l, ml_m, ml_r,\n",
    "                            n_folds=3)"
   ]
  },
  {
   "cell_type": "code",
   "execution_count": 6,
   "metadata": {
    "execution": {
     "iopub.execute_input": "2022-10-11T07:32:35.758853Z",
     "iopub.status.busy": "2022-10-11T07:32:35.757533Z",
     "iopub.status.idle": "2022-10-11T07:32:35.766960Z",
     "shell.execute_reply": "2022-10-11T07:32:35.766408Z"
    },
    "id": "rh3-MK2Q1_ah"
   },
   "outputs": [
    {
     "name": "stdout",
     "output_type": "stream",
     "text": [
      "================== DoubleMLPLIV Object ==================\n",
      "\n",
      "------------------ Data summary      ------------------\n",
      "Outcome variable: Y\n",
      "Treatment variable(s): ['D']\n",
      "Covariates: ['X1', 'X2', 'X3', 'X4', 'X5', 'X6', 'X7', 'X8', 'X9', 'X10', 'X11', 'X12', 'X13', 'X14', 'X15', 'X16', 'X17', 'X18', 'X19', 'X20', 'X21', 'X22', 'X23', 'X24', 'X25', 'X26', 'X27', 'X28', 'X29', 'X30', 'X31', 'X32', 'X33', 'X34', 'X35', 'X36', 'X37', 'X38', 'X39', 'X40', 'X41', 'X42', 'X43', 'X44', 'X45', 'X46', 'X47', 'X48', 'X49', 'X50', 'X51', 'X52', 'X53', 'X54', 'X55', 'X56', 'X57', 'X58', 'X59', 'X60', 'X61', 'X62', 'X63', 'X64', 'X65', 'X66', 'X67', 'X68', 'X69', 'X70', 'X71', 'X72', 'X73', 'X74', 'X75', 'X76', 'X77', 'X78', 'X79', 'X80', 'X81', 'X82', 'X83', 'X84', 'X85', 'X86', 'X87', 'X88', 'X89', 'X90', 'X91', 'X92', 'X93', 'X94', 'X95', 'X96', 'X97', 'X98', 'X99', 'X100']\n",
      "Instrument variable(s): ['Z']\n",
      "Cluster variable(s): ['cluster_var_i', 'cluster_var_j']\n",
      "No. Observations: 625\n",
      "\n",
      "------------------ Score & algorithm ------------------\n",
      "Score function: partialling out\n",
      "DML algorithm: dml2\n",
      "\n",
      "------------------ Machine learner   ------------------\n",
      "Learner ml_l: LassoCV()\n",
      "Learner ml_m: LassoCV()\n",
      "Learner ml_r: LassoCV()\n",
      "\n",
      "------------------ Resampling        ------------------\n",
      "No. folds per cluster: 3\n",
      "No. folds: 9\n",
      "No. repeated sample splits: 1\n",
      "Apply cross-fitting: True\n",
      "\n",
      "------------------ Fit summary       ------------------\n",
      "Empty DataFrame\n",
      "Columns: [coef, std err, t, P>|t|]\n",
      "Index: []\n"
     ]
    }
   ],
   "source": [
    "print(dml_pliv_obj)"
   ]
  },
  {
   "cell_type": "code",
   "execution_count": 7,
   "metadata": {
    "execution": {
     "iopub.execute_input": "2022-10-11T07:32:35.770707Z",
     "iopub.status.busy": "2022-10-11T07:32:35.770398Z",
     "iopub.status.idle": "2022-10-11T07:32:35.840738Z",
     "shell.execute_reply": "2022-10-11T07:32:35.839866Z"
    },
    "nbsphinx": "hidden"
   },
   "outputs": [],
   "source": [
    "#discrete color scheme\n",
    "x = sns.color_palette(\"RdBu_r\", 7)\n",
    "cMap = ListedColormap([x[0], x[3], x[6]])\n",
    "plt.rcParams['figure.figsize'] = 15, 12\n",
    "sns.set(font_scale=1.3)\n",
    "\n",
    "def plt_smpls(smpls, n_folds_per_cluster):\n",
    "    df = pd.DataFrame(np.zeros([N*M, n_folds_per_cluster*n_folds_per_cluster]))\n",
    "    for i_split, this_split_ind in enumerate(smpls):\n",
    "        df.loc[this_split_ind[0], i_split] = -1.\n",
    "        df.loc[this_split_ind[1], i_split] = 1.\n",
    "\n",
    "    ax = sns.heatmap(df, cmap=cMap);\n",
    "    ax.invert_yaxis();\n",
    "    ax.set_ylim([0, N*M]);\n",
    "    ax.set_xlabel('Fold')\n",
    "    ax.set_ylabel('Observation')\n",
    "    colorbar = ax.collections[0].colorbar\n",
    "    colorbar.set_ticks([-0.667, 0, 0.667])\n",
    "    colorbar.set_ticklabels(['Nuisance', '', 'Score'])\n",
    "\n",
    "def plt_smpls_cluster(smpls_cluster, n_folds_per_cluster):\n",
    "    for i_split in range(len(smpls_cluster)):\n",
    "        plt.subplot(n_folds_per_cluster, n_folds_per_cluster, i_split + 1)\n",
    "        df = pd.DataFrame(np.zeros([N*M, 1]),\n",
    "                      index = pd.MultiIndex.from_product([range(N), range(M)]),\n",
    "                      columns=['value'])\n",
    "\n",
    "        df.loc[pd.MultiIndex.from_product(smpls_cluster[i_split][0]), :] = -1.\n",
    "        df.loc[pd.MultiIndex.from_product(smpls_cluster[i_split][1]), :] = 1.\n",
    "\n",
    "        df_wide = df.reset_index().pivot(index=\"level_0\", columns=\"level_1\", values=\"value\")\n",
    "        df_wide.index.name=''\n",
    "        df_wide.columns.name=''\n",
    "\n",
    "        ax = sns.heatmap(df_wide, cmap=cMap);\n",
    "        ax.invert_yaxis();\n",
    "        ax.set_ylim([0, M]);\n",
    "        colorbar = ax.collections[0].colorbar\n",
    "        colorbar.set_ticks([-0.667, 0, 0.667])\n",
    "\n",
    "        l = i_split % n_folds_per_cluster + 1\n",
    "        k = np.floor_divide(i_split, n_folds_per_cluster) + 1\n",
    "        title = f'Nuisance: $I_{{{k}}}^C \\\\times J_{{{l}}}^C$; Score: $I_{{{k}}} \\\\times J_{{{l}}}$'\n",
    "        ax.set_title(title)\n",
    "        if l == n_folds_per_cluster:\n",
    "            colorbar.set_ticklabels(['Nuisance', '', 'Score'])\n",
    "        else:\n",
    "            colorbar.set_ticklabels(['', '', ''])\n",
    "        if l == 1:\n",
    "            ax.set_ylabel('First Cluster Variable $k$')\n",
    "        if k == 3:\n",
    "            ax.set_xlabel('Second Cluster Variable $\\ell$')\n",
    "    plt.tight_layout()"
   ]
  },
  {
   "cell_type": "markdown",
   "metadata": {
    "id": "dbxf265L1_ak"
   },
   "source": [
    "### Cluster Robust Cross Fitting\n",
    "A key element of cluster robust DML ([Chiang et al. 2021](https://doi.org/10.1080/07350015.2021.1895815)) is a special sample splitting used for the cross-fitting.\n",
    "In case of two-way clustering, we assume $N$ clusters in the first dimension and $M$ clusters in the second dimension.\n",
    "\n",
    "For $K$-fold cross-fitting, [Chiang et al. (2021)](https://doi.org/10.1080/07350015.2021.1895815) proposed to randomly partition $[N]:=\\{1,\\ldots,N\\}$ into $K$ subsets $\\{I_1, \\ldots, I_K\\}$ and $[M]:=\\{1,\\ldots,N\\}$ into $K$ subsets $\\{J_1, \\ldots, J_K\\}$.\n",
    "Effectively, one then considers $K^2$ folds.\n",
    "Basically for each $(k, \\ell) \\in \\{1, \\ldots, K\\} \\times \\{1, \\ldots, K\\}$, the nuisance functions are estimated for all double-indexed observations in $([N]\\setminus I_K) \\times ([M]\\setminus J_\\ell)$, i.e.,\n",
    "$$\n",
    "\\hat{\\eta}_{k\\ell} = \\hat{\\eta}\\left((W_{ij})_{(i,j)\\in ([N]\\setminus I_K) \\times ([M]\\setminus J_\\ell)}\\right)\n",
    "$$\n",
    "The causal parameter is then estimated as usual by solving a moment condition with a Neyman orthogonal score function.\n",
    "For two-way cluster robust double machine learning with algorithm [DML2](https://docs.doubleml.org/stable/guide/algorithms.html#algorithm-dml2) this results in solving\n",
    "$$\n",
    "\\frac{1}{K^2} \\sum_{k=1}^{K} \\sum_{\\ell=1}^{K} \\frac{1}{|I_k| |J_\\ell|} \\sum_{(i,j) \\in I_K \\times J_\\ell}\n",
    "\\psi(W_{ij}, \\tilde{\\theta}_0, \\hat{\\eta}_{k\\ell}) = 0\n",
    "$$\n",
    "for $\\tilde{\\theta}_0$.\n",
    "Here $|I_k|$ denotes the cardinality, i.e., the number of clusters in the $k$-th fold for the first cluster variable."
   ]
  },
  {
   "cell_type": "markdown",
   "metadata": {
    "id": "CwgzBXvQ1_am"
   },
   "source": [
    "We can visualize the sample splitting of the $N \\cdot M = 625$ observations into $K \\cdot K = 9$ folds. The following heat map illustrates the partitioned data set that is split into $K=9$ folds. The horizontal axis corresponds to the fold indices and the vertical axis to the indices of the observations. A blue field indicates that the observation $i$ is used for fitting the nuisance part, red indicates that the fold is used for prediction generation and white means that an observation is left out from the sample splitting. \n",
    "\n",
    "For example, the first observation as displayed on the very bottom of the figure (using Python indexing starting at `0`) is used for training of the nuisance parts in the first (`0`), the third (`2`), fourth (`3`) and sixth (`5`) fold and used for generation of the predictions in fold eight (`7`). At the same time the observation is left out from the sample splitting procedure in folds two (`1`), five (`4`), seven (`6`) and nine (`8`)."
   ]
  },
  {
   "cell_type": "code",
   "execution_count": 8,
   "metadata": {
    "execution": {
     "iopub.execute_input": "2022-10-11T07:32:35.844619Z",
     "iopub.status.busy": "2022-10-11T07:32:35.844241Z",
     "iopub.status.idle": "2022-10-11T07:32:36.389166Z",
     "shell.execute_reply": "2022-10-11T07:32:36.388401Z"
    },
    "id": "2eU-ukl81_ar"
   },
   "outputs": [
    {
     "data": {
      "image/png": "[encoded data removed]",
      "text/plain": [
       "<Figure size 1500x1200 with 2 Axes>"
      ]
     },
     "metadata": {},
     "output_type": "display_data"
    }
   ],
   "source": [
    "# The function plt_smpls is defined at the end of the Notebook\n",
    "plt_smpls(dml_pliv_obj.smpls[0], dml_pliv_obj._n_folds_per_cluster)"
   ]
  },
  {
   "cell_type": "markdown",
   "metadata": {
    "id": "WbylaFQx1_ay"
   },
   "source": [
    "If we visualize the sample splitting in terms of the cluster variables, the partitioning of the data into $9$ folds $I_k \\times J_\\ell$ becomes clear.\n",
    "The identifiers for the first cluster variable $[N]:=\\{1,\\ldots,N\\}$ have been randomly partioned into $K=3$ folds denoted by $\\{I_1, I_2, I_3\\}$ and the identifiers for the second cluster variable $[M]:=\\{1,\\ldots,M\\}$ have also been randomly partioned into $K=3$ folds denoted by $\\{J_1, J_2, J_3\\}$.\n",
    "By considering every combination $I_k \\times J_\\ell$ for $1 \\leq k, \\ell \\leq K = 3$ we effectively base the cross-fitting on $9$ folds.\n",
    "\n",
    "We now want to focus on the top-left sub-plot showing the partitioning of the cluster data for the first fold.\n",
    "The $x$-axis corresponds to the first cluster variable and the $y$-axis to the second cluster variable.\n",
    "Observations with cluster variables $(i,j) \\in I_K \\times J_\\ell$ are used for estimation of the target parameter $\\tilde{\\theta}_0$ by solving a Neyman orthogonal score function.\n",
    "For estimation of the nuisance function, we only use observation where neither the first cluster variable is in $I_K$ nor the second cluster variable is in $J_\\ell$, i.e., we use observations indexed by $(i,j)\\in ([N]\\setminus I_K) \\times ([M]\\setminus J_\\ell)$ to estimate the nuisance functions\n",
    "$$\n",
    "\\hat{\\eta}_{k\\ell} = \\hat{\\eta}\\left((W_{ij})_{(i,j)\\in ([N]\\setminus I_K) \\times ([M]\\setminus J_\\ell)}\\right).\n",
    "$$\n",
    "This way we guarantee that there are never observations from the same cluster (first and/or second cluster dimension) in the sample for the nuisance function estimation (blue) and at the same time in the sample for solving the score function (red). As a result of this special sample splitting proposed by [Chiang et al. (2021)](https://doi.org/10.1080/07350015.2021.1895815), the observations in the score (red) and nuisance (blue) sample can be considered independent and the standard cross-fitting approach for double machine learning can be applied."
   ]
  },
  {
   "cell_type": "code",
   "execution_count": 9,
   "metadata": {
    "execution": {
     "iopub.execute_input": "2022-10-11T07:32:36.392861Z",
     "iopub.status.busy": "2022-10-11T07:32:36.392456Z",
     "iopub.status.idle": "2022-10-11T07:32:41.679531Z",
     "shell.execute_reply": "2022-10-11T07:32:41.678800Z"
    },
    "id": "KfI-DvHV1_a1",
    "tags": [
     "nbsphinx-thumbnail"
    ]
   },
   "outputs": [
    {
     "data": {
      "image/png": "[encoded data removed]",
      "text/plain": [
       "<Figure size 1500x1200 with 18 Axes>"
      ]
     },
     "metadata": {},
     "output_type": "display_data"
    }
   ],
   "source": [
    "# The function plt_smpls_cluster is defined at the end of the Notebook\n",
    "plt_smpls_cluster(dml_pliv_obj.smpls_cluster[0], dml_pliv_obj._n_folds_per_cluster)"
   ]
  },
  {
   "cell_type": "markdown",
   "metadata": {
    "id": "wS8OuXQG1_a5"
   },
   "source": [
    "### Cluster Robust Standard Errors\n",
    "In the abstract base class `DoubleML` the estimation of cluster robust standard errors is implemented for all supported double machine learning models.\n",
    "It is based on the assumption of a linear Neyman orthogonal score function.\n",
    "We use the notation $n \\wedge m := \\min\\{n,m\\}$.\n",
    "For the the asymptotic variance of\n",
    "$\\sqrt{\\underline{C}}(\\tilde{\\theta_0} - \\theta_0)$ with\n",
    "$\\underline{C} := N \\wedge M$\n",
    "[Chiang et al. (2021)](https://doi.org/10.1080/07350015.2021.1895815) then propose the following estimator\n",
    "$$\n",
    "\\hat{\\sigma}^2 = \\hat{J}^{-1} \\hat{\\Gamma} \\hat{J}^{-1}\n",
    "$$\n",
    "where\n",
    "$$\n",
    "\\begin{aligned}\n",
    "\\hat{\\Gamma} = \\frac{1}{K^2} \\sum_{(k, \\ell) \\in[K]^2}\n",
    "\\Bigg[ \\frac{|I_k| \\wedge |J_\\ell|}{(|I_k||J_\\ell|)^2}\n",
    "\\bigg(&\\sum_{i \\in I_k} \\sum_{j \\in J_\\ell} \\sum_{j' \\in J_\\ell}\n",
    "\\psi(W_{ij}; \\tilde{\\theta}, \\hat{\\eta}_{k \\ell}) \\psi(W_{ij'}; \\tilde{\\theta}_0, \\hat{\\eta}_{k \\ell}) \\\\\n",
    "&+ \\sum_{i \\in I_k} \\sum_{i' \\in I_k} \\sum_{j \\in J_\\ell}\n",
    "\\psi(W_{ij}; \\tilde{\\theta}, \\hat{\\eta}_{k \\ell}) \\psi(W_{i'j}; \\tilde{\\theta}_0, \\hat{\\eta}_{k \\ell})\n",
    "\\bigg)\n",
    "\\Bigg]\n",
    "\\end{aligned}$$\n",
    "and\n",
    "$$\n",
    "\\begin{aligned}\n",
    "\\hat{J} = \\frac{1}{K^2} \\sum_{(k, \\ell) \\in[K]^2} \\frac{1}{|I_k||J_\\ell|}\n",
    "\\sum_{i \\in I_k} \\sum_{j \\in J_\\ell}\n",
    "\\psi_a(W_{ij}; \\tilde{\\theta}_0, \\hat{\\eta}_{k \\ell}).\n",
    "\\end{aligned}\n",
    "$$\n",
    "A $(1-\\alpha)$ confidence interval is then given by ([Chiang et al. 2021](https://doi.org/10.1080/07350015.2021.1895815))\n",
    "$$\\begin{aligned}\n",
    "\\left[\n",
    "\\tilde{\\theta} \\pm \\Phi^{-1}(1-\\alpha/2) \\sqrt{\\hat{\\sigma}^2 / \\underline{C}}\n",
    "\\right]\n",
    "\\end{aligned}\n",
    "$$\n",
    "with $\\underline{C} = N \\wedge M$."
   ]
  },
  {
   "cell_type": "code",
   "execution_count": 10,
   "metadata": {
    "execution": {
     "iopub.execute_input": "2022-10-11T07:32:41.683464Z",
     "iopub.status.busy": "2022-10-11T07:32:41.683135Z",
     "iopub.status.idle": "2022-10-11T07:32:44.494969Z",
     "shell.execute_reply": "2022-10-11T07:32:44.494405Z"
    },
    "id": "ZcNPzPnC1_a9"
   },
   "outputs": [
    {
     "data": {
      "text/html": [
       "<div>\n",
       "<style scoped>\n",
       "    .dataframe tbody tr th:only-of-type {\n",
       "        vertical-align: middle;\n",
       "    }\n",
       "\n",
       "    .dataframe tbody tr th {\n",
       "        vertical-align: top;\n",
       "    }\n",
       "\n",
       "    .dataframe thead th {\n",
       "        text-align: right;\n",
       "    }\n",
       "</style>\n",
       "<table border=\"1\" class=\"dataframe\">\n",
       "  <thead>\n",
       "    <tr style=\"text-align: right;\">\n",
       "      <th></th>\n",
       "      <th>coef</th>\n",
       "      <th>std err</th>\n",
       "      <th>t</th>\n",
       "      <th>P&gt;|t|</th>\n",
       "      <th>2.5 %</th>\n",
       "      <th>97.5 %</th>\n",
       "    </tr>\n",
       "  </thead>\n",
       "  <tbody>\n",
       "    <tr>\n",
       "      <th>D</th>\n",
       "      <td>1.135871</td>\n",
       "      <td>0.118601</td>\n",
       "      <td>9.577271</td>\n",
       "      <td>9.964261e-22</td>\n",
       "      <td>0.903418</td>\n",
       "      <td>1.368324</td>\n",
       "    </tr>\n",
       "  </tbody>\n",
       "</table>\n",
       "</div>"
      ],
      "text/plain": [
       "       coef   std err         t         P>|t|     2.5 %    97.5 %\n",
       "D  1.135871  0.118601  9.577271  9.964261e-22  0.903418  1.368324"
      ]
     },
     "execution_count": 10,
     "metadata": {},
     "output_type": "execute_result"
    }
   ],
   "source": [
    "# Estimate the PLIV model with cluster robust double machine learning\n",
    "dml_pliv_obj.fit()\n",
    "dml_pliv_obj.summary"
   ]
  },
  {
   "cell_type": "markdown",
   "metadata": {
    "id": "XNRVgYrF1_bA"
   },
   "source": [
    "## (One-Way) Cluster Robust Double Machine Learing\n",
    "\n",
    "We again use the PLIV data generating process described in Section 4.1 of [Chiang et al. (2021)](https://doi.org/10.1080/07350015.2021.1895815).\n",
    "To obtain one-way clustered data, we set the following weights to zero\n",
    "$$\n",
    "\\omega_2^X = \\omega_2^\\varepsilon = \\omega_2^v = \\omega_2^V = 0.\n",
    "$$\n",
    "Again we can simulate this data with [make_pliv_multiway_cluster_CKMS2021()](https://docs.doubleml.org/stable/api/generated/doubleml.datasets.make_pliv_multiway_cluster_CKMS2021.html#doubleml.datasets.make_pliv_multiway_cluster_CKMS2021). To prepare the data-backend for one-way clustering, we only have to alter the `cluster_cols` to be `'cluster_var_i'`."
   ]
  },
  {
   "cell_type": "code",
   "execution_count": 11,
   "metadata": {
    "execution": {
     "iopub.execute_input": "2022-10-11T07:32:44.498192Z",
     "iopub.status.busy": "2022-10-11T07:32:44.497743Z",
     "iopub.status.idle": "2022-10-11T07:32:44.538215Z",
     "shell.execute_reply": "2022-10-11T07:32:44.537600Z"
    },
    "id": "EvJ-wHSV1_bD"
   },
   "outputs": [],
   "source": [
    "obj_dml_data = make_pliv_multiway_cluster_CKMS2021(N, M, dim_X,\n",
    "                                                   omega_X=np.array([0.25, 0]),\n",
    "                                                   omega_epsilon=np.array([0.25, 0]),\n",
    "                                                   omega_v=np.array([0.25, 0]),\n",
    "                                                   omega_V=np.array([0.25, 0]))"
   ]
  },
  {
   "cell_type": "code",
   "execution_count": 12,
   "metadata": {
    "execution": {
     "iopub.execute_input": "2022-10-11T07:32:44.541577Z",
     "iopub.status.busy": "2022-10-11T07:32:44.541156Z",
     "iopub.status.idle": "2022-10-11T07:32:44.560122Z",
     "shell.execute_reply": "2022-10-11T07:32:44.559536Z"
    },
    "id": "UIMLXmD51_bF"
   },
   "outputs": [
    {
     "name": "stdout",
     "output_type": "stream",
     "text": [
      "================== DoubleMLClusterData Object ==================\n",
      "\n",
      "------------------ Data summary      ------------------\n",
      "Outcome variable: Y\n",
      "Treatment variable(s): ['D']\n",
      "Cluster variable(s): ['cluster_var_i']\n",
      "Covariates: ['X1', 'X2', 'X3', 'X4', 'X5', 'X6', 'X7', 'X8', 'X9', 'X10', 'X11', 'X12', 'X13', 'X14', 'X15', 'X16', 'X17', 'X18', 'X19', 'X20', 'X21', 'X22', 'X23', 'X24', 'X25', 'X26', 'X27', 'X28', 'X29', 'X30', 'X31', 'X32', 'X33', 'X34', 'X35', 'X36', 'X37', 'X38', 'X39', 'X40', 'X41', 'X42', 'X43', 'X44', 'X45', 'X46', 'X47', 'X48', 'X49', 'X50', 'X51', 'X52', 'X53', 'X54', 'X55', 'X56', 'X57', 'X58', 'X59', 'X60', 'X61', 'X62', 'X63', 'X64', 'X65', 'X66', 'X67', 'X68', 'X69', 'X70', 'X71', 'X72', 'X73', 'X74', 'X75', 'X76', 'X77', 'X78', 'X79', 'X80', 'X81', 'X82', 'X83', 'X84', 'X85', 'X86', 'X87', 'X88', 'X89', 'X90', 'X91', 'X92', 'X93', 'X94', 'X95', 'X96', 'X97', 'X98', 'X99', 'X100']\n",
      "Instrument variable(s): ['Z']\n",
      "No. Observations: 625\n",
      "\n",
      "------------------ DataFrame info    ------------------\n",
      "<class 'pandas.core.frame.DataFrame'>\n",
      "RangeIndex: 625 entries, 0 to 624\n",
      "Columns: 105 entries, cluster_var_i to Z\n",
      "dtypes: float64(103), int64(2)\n",
      "memory usage: 512.8 KB\n",
      "\n"
     ]
    }
   ],
   "source": [
    "obj_dml_data.cluster_cols = 'cluster_var_i'\n",
    "print(obj_dml_data)"
   ]
  },
  {
   "cell_type": "code",
   "execution_count": 13,
   "metadata": {
    "execution": {
     "iopub.execute_input": "2022-10-11T07:32:44.563405Z",
     "iopub.status.busy": "2022-10-11T07:32:44.563023Z",
     "iopub.status.idle": "2022-10-11T07:32:44.570381Z",
     "shell.execute_reply": "2022-10-11T07:32:44.569819Z"
    },
    "id": "Jb0zciH41_bJ"
   },
   "outputs": [],
   "source": [
    "# Set machine learning methods for l, m & r\n",
    "learner = LassoCV()\n",
    "ml_l = clone(learner)\n",
    "ml_m = clone(learner)\n",
    "ml_r = clone(learner)\n",
    "\n",
    "# initialize the DoubleMLPLIV object\n",
    "dml_pliv_obj = DoubleMLPLIV(obj_dml_data,\n",
    "                            ml_l, ml_m, ml_r,\n",
    "                            n_folds=3)"
   ]
  },
  {
   "cell_type": "code",
   "execution_count": 14,
   "metadata": {
    "execution": {
     "iopub.execute_input": "2022-10-11T07:32:44.573629Z",
     "iopub.status.busy": "2022-10-11T07:32:44.573266Z",
     "iopub.status.idle": "2022-10-11T07:32:45.445118Z",
     "shell.execute_reply": "2022-10-11T07:32:45.444439Z"
    },
    "id": "DcQHiCFG1_bN"
   },
   "outputs": [
    {
     "data": {
      "text/html": [
       "<div>\n",
       "<style scoped>\n",
       "    .dataframe tbody tr th:only-of-type {\n",
       "        vertical-align: middle;\n",
       "    }\n",
       "\n",
       "    .dataframe tbody tr th {\n",
       "        vertical-align: top;\n",
       "    }\n",
       "\n",
       "    .dataframe thead th {\n",
       "        text-align: right;\n",
       "    }\n",
       "</style>\n",
       "<table border=\"1\" class=\"dataframe\">\n",
       "  <thead>\n",
       "    <tr style=\"text-align: right;\">\n",
       "      <th></th>\n",
       "      <th>coef</th>\n",
       "      <th>std err</th>\n",
       "      <th>t</th>\n",
       "      <th>P&gt;|t|</th>\n",
       "      <th>2.5 %</th>\n",
       "      <th>97.5 %</th>\n",
       "    </tr>\n",
       "  </thead>\n",
       "  <tbody>\n",
       "    <tr>\n",
       "      <th>D</th>\n",
       "      <td>0.951532</td>\n",
       "      <td>0.047954</td>\n",
       "      <td>19.842625</td>\n",
       "      <td>1.276189e-87</td>\n",
       "      <td>0.857544</td>\n",
       "      <td>1.04552</td>\n",
       "    </tr>\n",
       "  </tbody>\n",
       "</table>\n",
       "</div>"
      ],
      "text/plain": [
       "       coef   std err          t         P>|t|     2.5 %   97.5 %\n",
       "D  0.951532  0.047954  19.842625  1.276189e-87  0.857544  1.04552"
      ]
     },
     "execution_count": 14,
     "metadata": {},
     "output_type": "execute_result"
    }
   ],
   "source": [
    "dml_pliv_obj.fit()\n",
    "dml_pliv_obj.summary"
   ]
  },
  {
   "cell_type": "markdown",
   "metadata": {
    "id": "BViUo9UW1_bZ"
   },
   "source": [
    "## Real-Data Application\n",
    "As a real-data application we revist the consumer demand example from [Chiang et al. (2021)](https://doi.org/10.1080/07350015.2021.1895815).\n",
    "The U.S. automobile data of [Berry, Levinsohn, and Pakes (1995)](https://doi.org/10.2307/2171802) is obtained from the `R` package [hdm](https://cran.r-project.org/web/packages/hdm/index.html). In this example, we consider different specifications for the cluster dimensions."
   ]
  },
  {
   "cell_type": "markdown",
   "metadata": {
    "id": "A7p7eaeO1_bb"
   },
   "source": [
    "### Load and Process Data"
   ]
  },
  {
   "cell_type": "code",
   "execution_count": 15,
   "metadata": {
    "execution": {
     "iopub.execute_input": "2022-10-11T07:32:45.450547Z",
     "iopub.status.busy": "2022-10-11T07:32:45.448705Z",
     "iopub.status.idle": "2022-10-11T07:32:45.878628Z",
     "shell.execute_reply": "2022-10-11T07:32:45.877856Z"
    },
    "id": "SM30YzZo1_bh"
   },
   "outputs": [],
   "source": [
    "from sklearn.preprocessing import PolynomialFeatures\n",
    "from rpy2.robjects.packages import PackageData\n",
    "from rpy2.robjects import pandas2ri, default_converter, conversion"
   ]
  },
  {
   "cell_type": "code",
   "execution_count": 16,
   "metadata": {
    "execution": {
     "iopub.execute_input": "2022-10-11T07:32:45.882655Z",
     "iopub.status.busy": "2022-10-11T07:32:45.881855Z",
     "iopub.status.idle": "2022-10-11T07:32:45.923839Z",
     "shell.execute_reply": "2022-10-11T07:32:45.923184Z"
    },
    "id": "kWO-X1aZ1_bj"
   },
   "outputs": [],
   "source": [
    "r_df = PackageData('hdm').fetch('BLP')['BLP'][0]\n",
    "with conversion.localconverter(default_converter + pandas2ri.converter):\n",
    "    blp_data = conversion.rpy2py(r_df)"
   ]
  },
  {
   "cell_type": "code",
   "execution_count": 17,
   "metadata": {
    "execution": {
     "iopub.execute_input": "2022-10-11T07:32:45.927298Z",
     "iopub.status.busy": "2022-10-11T07:32:45.926853Z",
     "iopub.status.idle": "2022-10-11T07:32:45.950211Z",
     "shell.execute_reply": "2022-10-11T07:32:45.949507Z"
    },
    "id": "Kzu6GG2i1_bo"
   },
   "outputs": [
    {
     "data": {
      "text/html": [
       "<div>\n",
       "<style scoped>\n",
       "    .dataframe tbody tr th:only-of-type {\n",
       "        vertical-align: middle;\n",
       "    }\n",
       "\n",
       "    .dataframe tbody tr th {\n",
       "        vertical-align: top;\n",
       "    }\n",
       "\n",
       "    .dataframe thead th {\n",
       "        text-align: right;\n",
       "    }\n",
       "</style>\n",
       "<table border=\"1\" class=\"dataframe\">\n",
       "  <thead>\n",
       "    <tr style=\"text-align: right;\">\n",
       "      <th></th>\n",
       "      <th>model.name</th>\n",
       "      <th>model.id</th>\n",
       "      <th>firm.id</th>\n",
       "      <th>cdid</th>\n",
       "      <th>id</th>\n",
       "      <th>price</th>\n",
       "      <th>mpd</th>\n",
       "      <th>air</th>\n",
       "      <th>mpg</th>\n",
       "      <th>space</th>\n",
       "      <th>hpwt</th>\n",
       "      <th>trend</th>\n",
       "      <th>share</th>\n",
       "      <th>outshr</th>\n",
       "      <th>y</th>\n",
       "    </tr>\n",
       "  </thead>\n",
       "  <tbody>\n",
       "    <tr>\n",
       "      <th>1</th>\n",
       "      <td>AMGREM</td>\n",
       "      <td>23.0</td>\n",
       "      <td>15.0</td>\n",
       "      <td>1.0</td>\n",
       "      <td>129.0</td>\n",
       "      <td>-6.825617</td>\n",
       "      <td>1.888146</td>\n",
       "      <td>0.0</td>\n",
       "      <td>1.697</td>\n",
       "      <td>1.150200</td>\n",
       "      <td>0.528997</td>\n",
       "      <td>0.0</td>\n",
       "      <td>0.001051</td>\n",
       "      <td>0.880106</td>\n",
       "      <td>0.820366</td>\n",
       "    </tr>\n",
       "    <tr>\n",
       "      <th>2</th>\n",
       "      <td>AMHORN</td>\n",
       "      <td>24.0</td>\n",
       "      <td>15.0</td>\n",
       "      <td>1.0</td>\n",
       "      <td>130.0</td>\n",
       "      <td>-6.245370</td>\n",
       "      <td>1.935989</td>\n",
       "      <td>0.0</td>\n",
       "      <td>1.740</td>\n",
       "      <td>1.278000</td>\n",
       "      <td>0.494324</td>\n",
       "      <td>0.0</td>\n",
       "      <td>0.000670</td>\n",
       "      <td>0.880106</td>\n",
       "      <td>0.369981</td>\n",
       "    </tr>\n",
       "    <tr>\n",
       "      <th>3</th>\n",
       "      <td>AMJAVL</td>\n",
       "      <td>25.0</td>\n",
       "      <td>15.0</td>\n",
       "      <td>1.0</td>\n",
       "      <td>132.0</td>\n",
       "      <td>-4.652778</td>\n",
       "      <td>1.716799</td>\n",
       "      <td>0.0</td>\n",
       "      <td>1.543</td>\n",
       "      <td>1.459200</td>\n",
       "      <td>0.467613</td>\n",
       "      <td>0.0</td>\n",
       "      <td>0.000341</td>\n",
       "      <td>0.880106</td>\n",
       "      <td>-0.306915</td>\n",
       "    </tr>\n",
       "    <tr>\n",
       "      <th>4</th>\n",
       "      <td>AMMATA</td>\n",
       "      <td>26.0</td>\n",
       "      <td>15.0</td>\n",
       "      <td>1.0</td>\n",
       "      <td>134.0</td>\n",
       "      <td>-4.921913</td>\n",
       "      <td>1.687871</td>\n",
       "      <td>0.0</td>\n",
       "      <td>1.517</td>\n",
       "      <td>1.606800</td>\n",
       "      <td>0.426540</td>\n",
       "      <td>0.0</td>\n",
       "      <td>0.000522</td>\n",
       "      <td>0.880106</td>\n",
       "      <td>0.120721</td>\n",
       "    </tr>\n",
       "    <tr>\n",
       "      <th>5</th>\n",
       "      <td>AMAMBS</td>\n",
       "      <td>18.0</td>\n",
       "      <td>15.0</td>\n",
       "      <td>1.0</td>\n",
       "      <td>136.0</td>\n",
       "      <td>-2.833024</td>\n",
       "      <td>1.504286</td>\n",
       "      <td>0.0</td>\n",
       "      <td>1.352</td>\n",
       "      <td>1.645800</td>\n",
       "      <td>0.452489</td>\n",
       "      <td>0.0</td>\n",
       "      <td>0.000442</td>\n",
       "      <td>0.880106</td>\n",
       "      <td>-0.045144</td>\n",
       "    </tr>\n",
       "    <tr>\n",
       "      <th>...</th>\n",
       "      <td>...</td>\n",
       "      <td>...</td>\n",
       "      <td>...</td>\n",
       "      <td>...</td>\n",
       "      <td>...</td>\n",
       "      <td>...</td>\n",
       "      <td>...</td>\n",
       "      <td>...</td>\n",
       "      <td>...</td>\n",
       "      <td>...</td>\n",
       "      <td>...</td>\n",
       "      <td>...</td>\n",
       "      <td>...</td>\n",
       "      <td>...</td>\n",
       "      <td>...</td>\n",
       "    </tr>\n",
       "    <tr>\n",
       "      <th>2213</th>\n",
       "      <td>VV740</td>\n",
       "      <td>526.0</td>\n",
       "      <td>6.0</td>\n",
       "      <td>20.0</td>\n",
       "      <td>5584.0</td>\n",
       "      <td>4.378596</td>\n",
       "      <td>2.639135</td>\n",
       "      <td>1.0</td>\n",
       "      <td>2.100</td>\n",
       "      <td>1.305612</td>\n",
       "      <td>0.385917</td>\n",
       "      <td>19.0</td>\n",
       "      <td>0.000488</td>\n",
       "      <td>0.907801</td>\n",
       "      <td>0.022915</td>\n",
       "    </tr>\n",
       "    <tr>\n",
       "      <th>2214</th>\n",
       "      <td>VV760G</td>\n",
       "      <td>529.0</td>\n",
       "      <td>6.0</td>\n",
       "      <td>20.0</td>\n",
       "      <td>5585.0</td>\n",
       "      <td>14.225574</td>\n",
       "      <td>2.136442</td>\n",
       "      <td>1.0</td>\n",
       "      <td>1.700</td>\n",
       "      <td>1.305612</td>\n",
       "      <td>0.435967</td>\n",
       "      <td>19.0</td>\n",
       "      <td>0.000091</td>\n",
       "      <td>0.907801</td>\n",
       "      <td>-1.652350</td>\n",
       "    </tr>\n",
       "    <tr>\n",
       "      <th>2215</th>\n",
       "      <td>YGGVPL</td>\n",
       "      <td>555.0</td>\n",
       "      <td>23.0</td>\n",
       "      <td>20.0</td>\n",
       "      <td>5589.0</td>\n",
       "      <td>-8.368152</td>\n",
       "      <td>3.518846</td>\n",
       "      <td>0.0</td>\n",
       "      <td>2.800</td>\n",
       "      <td>0.843730</td>\n",
       "      <td>0.358289</td>\n",
       "      <td>19.0</td>\n",
       "      <td>0.000067</td>\n",
       "      <td>0.907801</td>\n",
       "      <td>-1.957375</td>\n",
       "    </tr>\n",
       "    <tr>\n",
       "      <th>2216</th>\n",
       "      <td>PS911C</td>\n",
       "      <td>425.0</td>\n",
       "      <td>12.0</td>\n",
       "      <td>20.0</td>\n",
       "      <td>5590.0</td>\n",
       "      <td>32.997571</td>\n",
       "      <td>3.016154</td>\n",
       "      <td>1.0</td>\n",
       "      <td>2.400</td>\n",
       "      <td>1.093950</td>\n",
       "      <td>0.814913</td>\n",
       "      <td>19.0</td>\n",
       "      <td>0.000039</td>\n",
       "      <td>0.907801</td>\n",
       "      <td>-2.512519</td>\n",
       "    </tr>\n",
       "    <tr>\n",
       "      <th>2217</th>\n",
       "      <td>PS944</td>\n",
       "      <td>438.0</td>\n",
       "      <td>12.0</td>\n",
       "      <td>20.0</td>\n",
       "      <td>5592.0</td>\n",
       "      <td>20.296729</td>\n",
       "      <td>3.267500</td>\n",
       "      <td>1.0</td>\n",
       "      <td>2.600</td>\n",
       "      <td>1.153587</td>\n",
       "      <td>0.693796</td>\n",
       "      <td>19.0</td>\n",
       "      <td>0.000025</td>\n",
       "      <td>0.907801</td>\n",
       "      <td>-2.953683</td>\n",
       "    </tr>\n",
       "  </tbody>\n",
       "</table>\n",
       "<p>2217 rows × 15 columns</p>\n",
       "</div>"
      ],
      "text/plain": [
       "     model.name  model.id  firm.id  cdid      id      price       mpd  air  \\\n",
       "1        AMGREM      23.0     15.0   1.0   129.0  -6.825617  1.888146  0.0   \n",
       "2        AMHORN      24.0     15.0   1.0   130.0  -6.245370  1.935989  0.0   \n",
       "3        AMJAVL      25.0     15.0   1.0   132.0  -4.652778  1.716799  0.0   \n",
       "4        AMMATA      26.0     15.0   1.0   134.0  -4.921913  1.687871  0.0   \n",
       "5        AMAMBS      18.0     15.0   1.0   136.0  -2.833024  1.504286  0.0   \n",
       "...         ...       ...      ...   ...     ...        ...       ...  ...   \n",
       "2213     VV740      526.0      6.0  20.0  5584.0   4.378596  2.639135  1.0   \n",
       "2214     VV760G     529.0      6.0  20.0  5585.0  14.225574  2.136442  1.0   \n",
       "2215     YGGVPL     555.0     23.0  20.0  5589.0  -8.368152  3.518846  0.0   \n",
       "2216     PS911C     425.0     12.0  20.0  5590.0  32.997571  3.016154  1.0   \n",
       "2217     PS944      438.0     12.0  20.0  5592.0  20.296729  3.267500  1.0   \n",
       "\n",
       "        mpg     space      hpwt  trend     share    outshr         y  \n",
       "1     1.697  1.150200  0.528997    0.0  0.001051  0.880106  0.820366  \n",
       "2     1.740  1.278000  0.494324    0.0  0.000670  0.880106  0.369981  \n",
       "3     1.543  1.459200  0.467613    0.0  0.000341  0.880106 -0.306915  \n",
       "4     1.517  1.606800  0.426540    0.0  0.000522  0.880106  0.120721  \n",
       "5     1.352  1.645800  0.452489    0.0  0.000442  0.880106 -0.045144  \n",
       "...     ...       ...       ...    ...       ...       ...       ...  \n",
       "2213  2.100  1.305612  0.385917   19.0  0.000488  0.907801  0.022915  \n",
       "2214  1.700  1.305612  0.435967   19.0  0.000091  0.907801 -1.652350  \n",
       "2215  2.800  0.843730  0.358289   19.0  0.000067  0.907801 -1.957375  \n",
       "2216  2.400  1.093950  0.814913   19.0  0.000039  0.907801 -2.512519  \n",
       "2217  2.600  1.153587  0.693796   19.0  0.000025  0.907801 -2.953683  \n",
       "\n",
       "[2217 rows x 15 columns]"
      ]
     },
     "execution_count": 17,
     "metadata": {},
     "output_type": "execute_result"
    }
   ],
   "source": [
    "x_cols = ['hpwt', 'air', 'mpd', 'space']\n",
    "blp_data"
   ]
  },
  {
   "cell_type": "code",
   "execution_count": 18,
   "metadata": {
    "execution": {
     "iopub.execute_input": "2022-10-11T07:32:45.953369Z",
     "iopub.status.busy": "2022-10-11T07:32:45.953122Z",
     "iopub.status.idle": "2022-10-11T07:32:45.960123Z",
     "shell.execute_reply": "2022-10-11T07:32:45.959337Z"
    },
    "id": "5WIE4GPS1_bq"
   },
   "outputs": [],
   "source": [
    "def construct_iv(blp_data, x_cols=['hpwt', 'air', 'mpd', 'space']):\n",
    "    n = blp_data.shape[0]\n",
    "    p = len(x_cols)\n",
    "    \n",
    "    firmid = blp_data['firm.id'].values\n",
    "    cdid = blp_data['cdid'].values\n",
    "    id_var = blp_data['id'].values\n",
    "    X = blp_data[x_cols]\n",
    "    \n",
    "    sum_other = pd.DataFrame(columns=['sum.other.' + var for var in x_cols],\n",
    "                             index=blp_data.index)\n",
    "    sum_rival = pd.DataFrame(columns=['sum.rival.' + var for var in x_cols],\n",
    "                             index=blp_data.index)\n",
    "    \n",
    "    for i in range(n):\n",
    "        other_ind = (firmid == firmid[i]) & (cdid == cdid[i]) & (id_var != id_var[i])\n",
    "        rival_ind = (firmid != firmid[i]) & (cdid == cdid[i])\n",
    "        for j in range(p):\n",
    "            sum_other.iloc[i, j] = X.iloc[:,j][other_ind].sum()\n",
    "            sum_rival.iloc[i, j] = X.iloc[:,j][rival_ind].sum()\n",
    "    \n",
    "    return pd.concat((sum_other, sum_rival), axis=1)"
   ]
  },
  {
   "cell_type": "code",
   "execution_count": 19,
   "metadata": {
    "execution": {
     "iopub.execute_input": "2022-10-11T07:32:45.963208Z",
     "iopub.status.busy": "2022-10-11T07:32:45.962949Z",
     "iopub.status.idle": "2022-10-11T07:32:49.654399Z",
     "shell.execute_reply": "2022-10-11T07:32:49.653662Z"
    },
    "id": "2iTzEmsT1_br"
   },
   "outputs": [],
   "source": [
    "iv_vars = construct_iv(blp_data, x_cols=['hpwt', 'air', 'mpd', 'space'])"
   ]
  },
  {
   "cell_type": "code",
   "execution_count": 20,
   "metadata": {
    "execution": {
     "iopub.execute_input": "2022-10-11T07:32:49.658621Z",
     "iopub.status.busy": "2022-10-11T07:32:49.658096Z",
     "iopub.status.idle": "2022-10-11T07:32:49.667324Z",
     "shell.execute_reply": "2022-10-11T07:32:49.666672Z"
    },
    "id": "vjJEPgd61_bs"
   },
   "outputs": [
    {
     "name": "stderr",
     "output_type": "stream",
     "text": [
      "/opt/hostedtoolcache/Python/3.8.14/x64/lib/python3.8/site-packages/sklearn/utils/deprecation.py:87: FutureWarning: Function get_feature_names is deprecated; get_feature_names is deprecated in 1.0 and will be removed in 1.2. Please use get_feature_names_out instead.\n",
      "  warnings.warn(msg, category=FutureWarning)\n"
     ]
    }
   ],
   "source": [
    "poly = PolynomialFeatures(degree=3, include_bias=False)\n",
    "data_transf = poly.fit_transform(blp_data[x_cols])\n",
    "x_cols_poly = poly.get_feature_names(x_cols)\n",
    "data_transf = pd.DataFrame(data_transf, columns=x_cols_poly)\n",
    "data_transf.index = blp_data.index"
   ]
  },
  {
   "cell_type": "code",
   "execution_count": 21,
   "metadata": {
    "execution": {
     "iopub.execute_input": "2022-10-11T07:32:49.670897Z",
     "iopub.status.busy": "2022-10-11T07:32:49.670319Z",
     "iopub.status.idle": "2022-10-11T07:32:49.677287Z",
     "shell.execute_reply": "2022-10-11T07:32:49.676601Z"
    },
    "id": "VzG84J7K1_b3",
    "scrolled": true
   },
   "outputs": [
    {
     "data": {
      "text/plain": [
       "['air',\n",
       " 'air mpd',\n",
       " 'air mpd^2',\n",
       " 'air space',\n",
       " 'air space^2',\n",
       " 'air^2',\n",
       " 'air^2 mpd',\n",
       " 'air^2 space',\n",
       " 'air^3',\n",
       " 'hpwt',\n",
       " 'hpwt air',\n",
       " 'hpwt air^2',\n",
       " 'hpwt mpd',\n",
       " 'hpwt mpd^2',\n",
       " 'hpwt space',\n",
       " 'hpwt space^2',\n",
       " 'hpwt^2',\n",
       " 'hpwt^2 air',\n",
       " 'hpwt^2 mpd',\n",
       " 'hpwt^2 space',\n",
       " 'hpwt^3',\n",
       " 'mpd',\n",
       " 'mpd space',\n",
       " 'mpd space^2',\n",
       " 'mpd^2',\n",
       " 'mpd^2 space',\n",
       " 'mpd^3',\n",
       " 'space',\n",
       " 'space^2',\n",
       " 'space^3']"
      ]
     },
     "execution_count": 21,
     "metadata": {},
     "output_type": "execute_result"
    }
   ],
   "source": [
    "sel_cols_chiang = list(np.setdiff1d(data_transf.columns,\n",
    "                                    ['hpwt air mpd', 'hpwt air space',\n",
    "                                     'hpwt mpd space', 'air mpd space']))\n",
    "sel_cols_chiang"
   ]
  },
  {
   "cell_type": "code",
   "execution_count": 22,
   "metadata": {
    "execution": {
     "iopub.execute_input": "2022-10-11T07:32:49.680567Z",
     "iopub.status.busy": "2022-10-11T07:32:49.680180Z",
     "iopub.status.idle": "2022-10-11T07:32:49.685573Z",
     "shell.execute_reply": "2022-10-11T07:32:49.684843Z"
    },
    "id": "M8IeK-0A1_b6"
   },
   "outputs": [],
   "source": [
    "blp_data['log_p'] = np.log(blp_data['price'] + 11.761)\n",
    "\n",
    "y_col = 'y'\n",
    "d_col = 'log_p'\n",
    "cluster_cols = ['model.id', 'cdid']\n",
    "all_z_cols = ['sum.other.hpwt', 'sum.other.mpd', 'sum.other.space']\n",
    "z_col = all_z_cols[0]"
   ]
  },
  {
   "cell_type": "code",
   "execution_count": 23,
   "metadata": {
    "execution": {
     "iopub.execute_input": "2022-10-11T07:32:49.688477Z",
     "iopub.status.busy": "2022-10-11T07:32:49.688241Z",
     "iopub.status.idle": "2022-10-11T07:32:49.695999Z",
     "shell.execute_reply": "2022-10-11T07:32:49.695230Z"
    },
    "id": "7eVrppKH1_b7"
   },
   "outputs": [],
   "source": [
    "dml_df = pd.concat((blp_data[[y_col] + [d_col] + cluster_cols],\n",
    "                    data_transf[sel_cols_chiang],\n",
    "                    iv_vars[all_z_cols]),\n",
    "                   axis=1)"
   ]
  },
  {
   "cell_type": "code",
   "execution_count": 24,
   "metadata": {
    "execution": {
     "iopub.execute_input": "2022-10-11T07:32:49.698945Z",
     "iopub.status.busy": "2022-10-11T07:32:49.698687Z",
     "iopub.status.idle": "2022-10-11T07:32:49.703437Z",
     "shell.execute_reply": "2022-10-11T07:32:49.702690Z"
    },
    "id": "ezGVW5Gl1_b8"
   },
   "outputs": [
    {
     "data": {
      "text/plain": [
       "(2217, 37)"
      ]
     },
     "execution_count": 24,
     "metadata": {},
     "output_type": "execute_result"
    }
   ],
   "source": [
    "dml_df.shape"
   ]
  },
  {
   "cell_type": "markdown",
   "metadata": {
    "id": "05nt4NKc1_b9"
   },
   "source": [
    "### Initialize `DoubleMLClusterData` object"
   ]
  },
  {
   "cell_type": "code",
   "execution_count": 25,
   "metadata": {
    "execution": {
     "iopub.execute_input": "2022-10-11T07:32:49.706699Z",
     "iopub.status.busy": "2022-10-11T07:32:49.706464Z",
     "iopub.status.idle": "2022-10-11T07:32:49.718432Z",
     "shell.execute_reply": "2022-10-11T07:32:49.717635Z"
    },
    "id": "ik3fUxCn1_cH"
   },
   "outputs": [],
   "source": [
    "dml_data = DoubleMLClusterData(dml_df,\n",
    "                               y_col=y_col,\n",
    "                               d_cols=d_col,\n",
    "                               z_cols=z_col,\n",
    "                               cluster_cols=cluster_cols,\n",
    "                               x_cols=sel_cols_chiang)"
   ]
  },
  {
   "cell_type": "code",
   "execution_count": 26,
   "metadata": {
    "execution": {
     "iopub.execute_input": "2022-10-11T07:32:49.721713Z",
     "iopub.status.busy": "2022-10-11T07:32:49.721451Z",
     "iopub.status.idle": "2022-10-11T07:32:49.731829Z",
     "shell.execute_reply": "2022-10-11T07:32:49.731114Z"
    },
    "id": "7Y4wQOsC1_cJ"
   },
   "outputs": [
    {
     "name": "stdout",
     "output_type": "stream",
     "text": [
      "================== DoubleMLClusterData Object ==================\n",
      "\n",
      "------------------ Data summary      ------------------\n",
      "Outcome variable: y\n",
      "Treatment variable(s): ['log_p']\n",
      "Cluster variable(s): ['model.id', 'cdid']\n",
      "Covariates: ['air', 'air mpd', 'air mpd^2', 'air space', 'air space^2', 'air^2', 'air^2 mpd', 'air^2 space', 'air^3', 'hpwt', 'hpwt air', 'hpwt air^2', 'hpwt mpd', 'hpwt mpd^2', 'hpwt space', 'hpwt space^2', 'hpwt^2', 'hpwt^2 air', 'hpwt^2 mpd', 'hpwt^2 space', 'hpwt^3', 'mpd', 'mpd space', 'mpd space^2', 'mpd^2', 'mpd^2 space', 'mpd^3', 'space', 'space^2', 'space^3']\n",
      "Instrument variable(s): ['sum.other.hpwt']\n",
      "No. Observations: 2217\n",
      "\n",
      "------------------ DataFrame info    ------------------\n",
      "<class 'pandas.core.frame.DataFrame'>\n",
      "Index: 2217 entries, 1 to 2217\n",
      "Columns: 37 entries, y to sum.other.space\n",
      "dtypes: float64(34), object(3)\n",
      "memory usage: 658.2+ KB\n",
      "\n"
     ]
    }
   ],
   "source": [
    "print(dml_data)"
   ]
  },
  {
   "cell_type": "code",
   "execution_count": 27,
   "metadata": {
    "execution": {
     "iopub.execute_input": "2022-10-11T07:32:49.734689Z",
     "iopub.status.busy": "2022-10-11T07:32:49.734436Z",
     "iopub.status.idle": "2022-10-11T07:32:49.737901Z",
     "shell.execute_reply": "2022-10-11T07:32:49.737110Z"
    },
    "id": "LGgk1Yfy1_cK"
   },
   "outputs": [],
   "source": [
    "learner = LassoCV(max_iter=50000)"
   ]
  },
  {
   "cell_type": "code",
   "execution_count": 28,
   "metadata": {
    "execution": {
     "iopub.execute_input": "2022-10-11T07:32:49.740874Z",
     "iopub.status.busy": "2022-10-11T07:32:49.740635Z",
     "iopub.status.idle": "2022-10-11T07:32:49.744007Z",
     "shell.execute_reply": "2022-10-11T07:32:49.743307Z"
    },
    "id": "GssTYt2i1_cM"
   },
   "outputs": [],
   "source": [
    "res_df = pd.DataFrame()\n",
    "n_rep = 10"
   ]
  },
  {
   "cell_type": "markdown",
   "metadata": {
    "id": "wsagdd4V1_cN"
   },
   "source": [
    "### Two-Way Clustering with Respect to Product and Market"
   ]
  },
  {
   "cell_type": "code",
   "execution_count": 29,
   "metadata": {
    "execution": {
     "iopub.execute_input": "2022-10-11T07:32:49.747060Z",
     "iopub.status.busy": "2022-10-11T07:32:49.746817Z",
     "iopub.status.idle": "2022-10-11T07:33:21.639873Z",
     "shell.execute_reply": "2022-10-11T07:33:21.639237Z"
    },
    "id": "Dd2InB0w1_cO"
   },
   "outputs": [
    {
     "name": "stderr",
     "output_type": "stream",
     "text": [
      "/opt/hostedtoolcache/Python/3.8.14/x64/lib/python3.8/site-packages/sklearn/linear_model/_coordinate_descent.py:634: ConvergenceWarning: Objective did not converge. You might want to increase the number of iterations. Duality gap: 3.515478312122468, tolerance: 1.1187339840850312\n",
      "  model = cd_fast.enet_coordinate_descent_gram(\n"
     ]
    }
   ],
   "source": [
    "dml_data.z_cols = z_col\n",
    "dml_data.cluster_cols = ['model.id', 'cdid']\n",
    "dml_pliv = DoubleMLPLIV(dml_data,\n",
    "                        clone(learner), clone(learner), clone(learner),\n",
    "                        n_folds=2, n_rep=n_rep)\n",
    "dml_pliv.fit()\n",
    "res = dml_pliv.summary.reset_index(drop=True)\n",
    "res['z_col'] = dml_data.z_cols[0]\n",
    "res['clustering'] = 'two-way'\n",
    "res_df = pd.concat([res_df, res]).reset_index(drop=True)"
   ]
  },
  {
   "cell_type": "markdown",
   "metadata": {
    "id": "n3RhZ4fH1_cS"
   },
   "source": [
    "### One-Way Clustering with Respect to the Product"
   ]
  },
  {
   "cell_type": "code",
   "execution_count": 30,
   "metadata": {
    "execution": {
     "iopub.execute_input": "2022-10-11T07:33:21.644232Z",
     "iopub.status.busy": "2022-10-11T07:33:21.643689Z",
     "iopub.status.idle": "2022-10-11T07:34:04.841259Z",
     "shell.execute_reply": "2022-10-11T07:34:04.840653Z"
    },
    "id": "dqJxk4S61_cV"
   },
   "outputs": [],
   "source": [
    "dml_data.z_cols = z_col\n",
    "dml_data.cluster_cols = 'model.id'\n",
    "dml_pliv = DoubleMLPLIV(dml_data,\n",
    "                        clone(learner), clone(learner), clone(learner),\n",
    "                        n_folds=4, n_rep=n_rep)\n",
    "dml_pliv.fit()\n",
    "res = dml_pliv.summary.reset_index(drop=True)\n",
    "res['z_col'] = dml_data.z_cols[0]\n",
    "res['clustering'] = 'one-way-product'\n",
    "res_df = pd.concat([res_df, res]).reset_index(drop=True)"
   ]
  },
  {
   "cell_type": "markdown",
   "metadata": {
    "id": "ODt4TiKL1_cX"
   },
   "source": [
    "### One-Way Clustering with Respect to the Market"
   ]
  },
  {
   "cell_type": "code",
   "execution_count": 31,
   "metadata": {
    "execution": {
     "iopub.execute_input": "2022-10-11T07:34:04.844839Z",
     "iopub.status.busy": "2022-10-11T07:34:04.844454Z",
     "iopub.status.idle": "2022-10-11T07:34:45.124918Z",
     "shell.execute_reply": "2022-10-11T07:34:45.124252Z"
    },
    "id": "dl2CTDBu1_cY"
   },
   "outputs": [],
   "source": [
    "dml_data.z_cols = z_col\n",
    "dml_data.cluster_cols = 'cdid'\n",
    "dml_pliv = DoubleMLPLIV(dml_data,\n",
    "                        clone(learner), clone(learner), clone(learner),\n",
    "                        n_folds=4, n_rep=n_rep)\n",
    "dml_pliv.fit()\n",
    "res = dml_pliv.summary.reset_index(drop=True)\n",
    "res['z_col'] = dml_data.z_cols[0]\n",
    "res['clustering'] = 'one-way-market'\n",
    "res_df = pd.concat([res_df, res]).reset_index(drop=True)"
   ]
  },
  {
   "cell_type": "markdown",
   "metadata": {
    "id": "96RUevUV1_cZ"
   },
   "source": [
    "### No Clustering / Zero-Way Clustering"
   ]
  },
  {
   "cell_type": "code",
   "execution_count": 32,
   "metadata": {
    "execution": {
     "iopub.execute_input": "2022-10-11T07:34:45.128694Z",
     "iopub.status.busy": "2022-10-11T07:34:45.128409Z",
     "iopub.status.idle": "2022-10-11T07:34:45.136861Z",
     "shell.execute_reply": "2022-10-11T07:34:45.136261Z"
    },
    "id": "wkKU9Fxx1_cc"
   },
   "outputs": [],
   "source": [
    "dml_data = DoubleMLData(dml_df,\n",
    "                        y_col=y_col,\n",
    "                        d_cols=d_col,\n",
    "                        z_cols=z_col,\n",
    "                        x_cols=sel_cols_chiang)"
   ]
  },
  {
   "cell_type": "code",
   "execution_count": 33,
   "metadata": {
    "execution": {
     "iopub.execute_input": "2022-10-11T07:34:45.139968Z",
     "iopub.status.busy": "2022-10-11T07:34:45.139665Z",
     "iopub.status.idle": "2022-10-11T07:34:45.148008Z",
     "shell.execute_reply": "2022-10-11T07:34:45.147267Z"
    },
    "id": "xxCoX1CP1_cd"
   },
   "outputs": [
    {
     "name": "stdout",
     "output_type": "stream",
     "text": [
      "================== DoubleMLData Object ==================\n",
      "\n",
      "------------------ Data summary      ------------------\n",
      "Outcome variable: y\n",
      "Treatment variable(s): ['log_p']\n",
      "Covariates: ['air', 'air mpd', 'air mpd^2', 'air space', 'air space^2', 'air^2', 'air^2 mpd', 'air^2 space', 'air^3', 'hpwt', 'hpwt air', 'hpwt air^2', 'hpwt mpd', 'hpwt mpd^2', 'hpwt space', 'hpwt space^2', 'hpwt^2', 'hpwt^2 air', 'hpwt^2 mpd', 'hpwt^2 space', 'hpwt^3', 'mpd', 'mpd space', 'mpd space^2', 'mpd^2', 'mpd^2 space', 'mpd^3', 'space', 'space^2', 'space^3']\n",
      "Instrument variable(s): ['sum.other.hpwt']\n",
      "No. Observations: 2217\n",
      "\n",
      "------------------ DataFrame info    ------------------\n",
      "<class 'pandas.core.frame.DataFrame'>\n",
      "Index: 2217 entries, 1 to 2217\n",
      "Columns: 37 entries, y to sum.other.space\n",
      "dtypes: float64(34), object(3)\n",
      "memory usage: 658.2+ KB\n",
      "\n"
     ]
    }
   ],
   "source": [
    "print(dml_data)"
   ]
  },
  {
   "cell_type": "code",
   "execution_count": 34,
   "metadata": {
    "execution": {
     "iopub.execute_input": "2022-10-11T07:34:45.150781Z",
     "iopub.status.busy": "2022-10-11T07:34:45.150510Z",
     "iopub.status.idle": "2022-10-11T07:35:28.376539Z",
     "shell.execute_reply": "2022-10-11T07:35:28.375925Z"
    },
    "id": "WY3iQ5aO1_cq"
   },
   "outputs": [],
   "source": [
    "dml_data.z_cols = z_col\n",
    "dml_pliv = DoubleMLPLIV(dml_data,\n",
    "                        clone(learner), clone(learner), clone(learner),\n",
    "                        n_folds=4, n_rep=n_rep)\n",
    "dml_pliv.fit()\n",
    "res = dml_pliv.summary.reset_index(drop=True)\n",
    "res['z_col'] = dml_data.z_cols[0]\n",
    "res['clustering'] = 'zero-way'\n",
    "res_df = pd.concat([res_df, res]).reset_index(drop=True)"
   ]
  },
  {
   "cell_type": "markdown",
   "metadata": {
    "id": "Hmc3x1n-1_cr"
   },
   "source": [
    "### Application Results"
   ]
  },
  {
   "cell_type": "code",
   "execution_count": 35,
   "metadata": {
    "execution": {
     "iopub.execute_input": "2022-10-11T07:35:28.381592Z",
     "iopub.status.busy": "2022-10-11T07:35:28.380163Z",
     "iopub.status.idle": "2022-10-11T07:35:28.392688Z",
     "shell.execute_reply": "2022-10-11T07:35:28.392134Z"
    },
    "id": "PO-RMWTe1_cs"
   },
   "outputs": [
    {
     "data": {
      "text/html": [
       "<div>\n",
       "<style scoped>\n",
       "    .dataframe tbody tr th:only-of-type {\n",
       "        vertical-align: middle;\n",
       "    }\n",
       "\n",
       "    .dataframe tbody tr th {\n",
       "        vertical-align: top;\n",
       "    }\n",
       "\n",
       "    .dataframe thead th {\n",
       "        text-align: right;\n",
       "    }\n",
       "</style>\n",
       "<table border=\"1\" class=\"dataframe\">\n",
       "  <thead>\n",
       "    <tr style=\"text-align: right;\">\n",
       "      <th></th>\n",
       "      <th>coef</th>\n",
       "      <th>std err</th>\n",
       "      <th>t</th>\n",
       "      <th>P&gt;|t|</th>\n",
       "      <th>2.5 %</th>\n",
       "      <th>97.5 %</th>\n",
       "      <th>z_col</th>\n",
       "      <th>clustering</th>\n",
       "    </tr>\n",
       "  </thead>\n",
       "  <tbody>\n",
       "    <tr>\n",
       "      <th>0</th>\n",
       "      <td>-5.450152</td>\n",
       "      <td>1.262621</td>\n",
       "      <td>-4.316540</td>\n",
       "      <td>1.584942e-05</td>\n",
       "      <td>-7.924843</td>\n",
       "      <td>-2.975461</td>\n",
       "      <td>sum.other.hpwt</td>\n",
       "      <td>two-way</td>\n",
       "    </tr>\n",
       "    <tr>\n",
       "      <th>1</th>\n",
       "      <td>-5.757819</td>\n",
       "      <td>0.928947</td>\n",
       "      <td>-6.198218</td>\n",
       "      <td>5.710586e-10</td>\n",
       "      <td>-7.578523</td>\n",
       "      <td>-3.937116</td>\n",
       "      <td>sum.other.hpwt</td>\n",
       "      <td>one-way-product</td>\n",
       "    </tr>\n",
       "    <tr>\n",
       "      <th>2</th>\n",
       "      <td>-5.811825</td>\n",
       "      <td>0.784483</td>\n",
       "      <td>-7.408479</td>\n",
       "      <td>1.277561e-13</td>\n",
       "      <td>-7.349383</td>\n",
       "      <td>-4.274267</td>\n",
       "      <td>sum.other.hpwt</td>\n",
       "      <td>one-way-market</td>\n",
       "    </tr>\n",
       "    <tr>\n",
       "      <th>3</th>\n",
       "      <td>-5.754870</td>\n",
       "      <td>0.464284</td>\n",
       "      <td>-12.395136</td>\n",
       "      <td>2.776728e-35</td>\n",
       "      <td>-6.664850</td>\n",
       "      <td>-4.844889</td>\n",
       "      <td>sum.other.hpwt</td>\n",
       "      <td>zero-way</td>\n",
       "    </tr>\n",
       "  </tbody>\n",
       "</table>\n",
       "</div>"
      ],
      "text/plain": [
       "       coef   std err          t         P>|t|     2.5 %    97.5 %  \\\n",
       "0 -5.450152  1.262621  -4.316540  1.584942e-05 -7.924843 -2.975461   \n",
       "1 -5.757819  0.928947  -6.198218  5.710586e-10 -7.578523 -3.937116   \n",
       "2 -5.811825  0.784483  -7.408479  1.277561e-13 -7.349383 -4.274267   \n",
       "3 -5.754870  0.464284 -12.395136  2.776728e-35 -6.664850 -4.844889   \n",
       "\n",
       "            z_col       clustering  \n",
       "0  sum.other.hpwt          two-way  \n",
       "1  sum.other.hpwt  one-way-product  \n",
       "2  sum.other.hpwt   one-way-market  \n",
       "3  sum.other.hpwt         zero-way  "
      ]
     },
     "execution_count": 35,
     "metadata": {},
     "output_type": "execute_result"
    }
   ],
   "source": [
    "res_df"
   ]
  },
  {
   "cell_type": "markdown",
   "metadata": {
    "id": "NhIE_t-A1_ct"
   },
   "source": [
    "## References\n",
    "Berry, S., Levinsohn, J., and Pakes, A. (1995), Automobile Prices in Market\n",
    "Equilibrium, Econometrica: Journal of the Econometric Society, 63, 841-890, doi: [10.2307/2171802](https://doi.org/10.2307/2171802).\n",
    "\n",
    "Cameron, A. C., Gelbach, J. B. and Miller, D. L. (2011), Robust Inference with Multiway Clustering, Journal of Business & Economic Statistics, 29:2, 238-249, doi: [10.1198/jbes.2010.07136](https://doi.org/10.1198/jbes.2010.07136).\n",
    "\n",
    "Chernozhukov, V., Chetverikov, D., Demirer, M., Duflo, E., Hansen, C., Newey, W. and Robins, J. (2018), Double/debiased machine learning for treatment and structural parameters. The Econometrics Journal, 21: C1-C68, doi: [10.1111/ectj.12097](https://doi.org/10.1111/ectj.12097).\n",
    "\n",
    "Chiang, H. D., Kato K., Ma, Y. and Sasaki, Y. (2021), Multiway Cluster Robust Double/Debiased Machine Learning, Journal of Business & Economic Statistics, doi: [10.1080/07350015.2021.1895815](https://doi.org/10.1080/07350015.2021.1895815), arXiv: [1909.03489](https://arxiv.org/abs/1909.03489)."
   ]
  },
  {
   "cell_type": "markdown",
   "metadata": {},
   "source": [
    "## Define Helper Functions for Plotting"
   ]
  },
  {
   "cell_type": "code",
   "execution_count": 36,
   "metadata": {
    "execution": {
     "iopub.execute_input": "2022-10-11T07:35:28.397662Z",
     "iopub.status.busy": "2022-10-11T07:35:28.396401Z",
     "iopub.status.idle": "2022-10-11T07:35:28.410937Z",
     "shell.execute_reply": "2022-10-11T07:35:28.410351Z"
    }
   },
   "outputs": [],
   "source": [
    "#discrete color scheme\n",
    "x = sns.color_palette(\"RdBu_r\", 7)\n",
    "cMap = ListedColormap([x[0], x[3], x[6]])\n",
    "plt.rcParams['figure.figsize'] = 15, 12\n",
    "sns.set(font_scale=1.3)\n",
    "\n",
    "def plt_smpls(smpls, n_folds_per_cluster):\n",
    "    df = pd.DataFrame(np.zeros([N*M, n_folds_per_cluster*n_folds_per_cluster]))\n",
    "    for i_split, this_split_ind in enumerate(smpls):\n",
    "        df.loc[this_split_ind[0], i_split] = -1.\n",
    "        df.loc[this_split_ind[1], i_split] = 1.\n",
    "\n",
    "    ax = sns.heatmap(df, cmap=cMap);\n",
    "    ax.invert_yaxis();\n",
    "    ax.set_ylim([0, N*M]);\n",
    "    ax.set_xlabel('Fold')\n",
    "    ax.set_ylabel('Observation')\n",
    "    colorbar = ax.collections[0].colorbar\n",
    "    colorbar.set_ticks([-0.667, 0, 0.667])\n",
    "    colorbar.set_ticklabels(['Nuisance', '', 'Score'])\n",
    "\n",
    "def plt_smpls_cluster(smpls_cluster, n_folds_per_cluster):\n",
    "    for i_split in range(len(smpls_cluster)):\n",
    "        plt.subplot(n_folds_per_cluster, n_folds_per_cluster, i_split + 1)\n",
    "        df = pd.DataFrame(np.zeros([N*M, 1]),\n",
    "                      index = pd.MultiIndex.from_product([range(N), range(M)]),\n",
    "                      columns=['value'])\n",
    "\n",
    "        df.loc[pd.MultiIndex.from_product(smpls_cluster[i_split][0]), :] = -1.\n",
    "        df.loc[pd.MultiIndex.from_product(smpls_cluster[i_split][1]), :] = 1.\n",
    "\n",
    "        df_wide = df.reset_index().pivot(index=\"level_0\", columns=\"level_1\", values=\"value\")\n",
    "        df_wide.index.name=''\n",
    "        df_wide.columns.name=''\n",
    "\n",
    "        ax = sns.heatmap(df_wide, cmap=cMap);\n",
    "        ax.invert_yaxis();\n",
    "        ax.set_ylim([0, M]);\n",
    "        colorbar = ax.collections[0].colorbar\n",
    "        colorbar.set_ticks([-0.667, 0, 0.667])\n",
    "\n",
    "        l = i_split % n_folds_per_cluster + 1\n",
    "        k = np.floor_divide(i_split, n_folds_per_cluster) + 1\n",
    "        title = f'Nuisance: $I_{{{k}}}^C \\\\times J_{{{l}}}^C$; Score: $I_{{{k}}} \\\\times J_{{{l}}}$'\n",
    "        ax.set_title(title)\n",
    "        if l == n_folds_per_cluster:\n",
    "            colorbar.set_ticklabels(['Nuisance', '', 'Score'])\n",
    "        else:\n",
    "            colorbar.set_ticklabels(['', '', ''])\n",
    "        if l == 1:\n",
    "            ax.set_ylabel('First Cluster Variable $k$')\n",
    "        if k == 3:\n",
    "            ax.set_xlabel('Second Cluster Variable $\\ell$')\n",
    "    plt.tight_layout()"
   ]
  }
 ],
 "metadata": {
  "celltoolbar": "Edit Metadata",
  "colab": {
   "collapsed_sections": [
    "A7p7eaeO1_bb",
    "ODt4TiKL1_cX",
    "Hmc3x1n-1_cr"
   ],
   "name": "py_double_ml_multiway_cluster.ipynb",
   "provenance": []
  },
  "kernelspec": {
   "display_name": "Python 3 (ipykernel)",
   "language": "python",
   "name": "python3"
  },
  "language_info": {
   "codemirror_mode": {
    "name": "ipython",
    "version": 3
   },
   "file_extension": ".py",
   "mimetype": "text/x-python",
   "name": "python",
   "nbconvert_exporter": "python",
   "pygments_lexer": "ipython3",
   "version": "3.8.14"
  }
 },
 "nbformat": 4,
 "nbformat_minor": 1
}
