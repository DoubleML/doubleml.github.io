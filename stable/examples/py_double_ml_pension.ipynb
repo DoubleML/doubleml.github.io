{
 "cells": [
  {
   "cell_type": "markdown",
   "id": "2b2a0fd8",
   "metadata": {},
   "source": [
    "# Python: Impact of 401(k) on Financial Wealth"
   ]
  },
  {
   "cell_type": "markdown",
   "id": "a967ed5f",
   "metadata": {},
   "source": [
    "In this real-data example, we illustrate how the [DoubleML](https://docs.doubleml.org/stable/index.html) package can be used to estimate the effect of 401(k) eligibility and participation on accumulated assets. The 401(k) data set has been analyzed in several studies, among others [Chernozhukov et al. (2018)](https://arxiv.org/abs/1608.00060).\n",
    "\n",
    "401(k) plans are pension accounts sponsored by employers. The key problem in determining the effect of participation in 401(k) plans on accumulated assets is saver heterogeneity coupled with the fact that the decision to enroll in a 401(k) is non-random. It is generally recognized that some people have a higher preference for saving than others. It also seems likely that those individuals with high unobserved preference for saving would be most likely to choose to participate in tax-advantaged retirement savings plans and would tend to have otherwise high amounts of accumulated assets. The presence of unobserved savings preferences with these properties then implies that conventional estimates that do not account for saver heterogeneity and endogeneity of participation will be biased upward, tending to overstate the savings effects of 401(k) participation.\n",
    "\n",
    "One can argue that eligibility for enrolling in a 401(k) plan in this data can be taken as exogenous after conditioning on a few observables of which the most important for their argument is income. The basic idea is that, at least around the time 401(k)’s initially became available, people were unlikely to be basing their employment decisions on whether an employer offered a 401(k) but would instead focus on income and other aspects of the job."
   ]
  },
  {
   "cell_type": "markdown",
   "id": "40b41785",
   "metadata": {},
   "source": [
    "## Data\n",
    "\n",
    "The preprocessed data can be fetched by calling [fetch_401K()](https://docs.doubleml.org/stable/api/generated/doubleml.datasets.fetch_401K.html#doubleml.datasets.fetch_401K). Note that an internet connection is required for loading the data."
   ]
  },
  {
   "cell_type": "code",
   "execution_count": 1,
   "id": "c06e87b2",
   "metadata": {
    "execution": {
     "iopub.execute_input": "2022-06-15T08:05:32.849626Z",
     "iopub.status.busy": "2022-06-15T08:05:32.849134Z",
     "iopub.status.idle": "2022-06-15T08:05:34.222500Z",
     "shell.execute_reply": "2022-06-15T08:05:34.221723Z"
    }
   },
   "outputs": [],
   "source": [
    "import numpy as np\n",
    "import pandas as pd\n",
    "import doubleml as dml\n",
    "from doubleml.datasets import fetch_401K\n",
    "\n",
    "from sklearn.preprocessing import PolynomialFeatures\n",
    "from sklearn.linear_model import LassoCV, LogisticRegressionCV\n",
    "from sklearn.ensemble import RandomForestClassifier, RandomForestRegressor\n",
    "from sklearn.tree import DecisionTreeClassifier, DecisionTreeRegressor\n",
    "from sklearn.preprocessing import StandardScaler\n",
    "from sklearn.pipeline import make_pipeline\n",
    "\n",
    "from xgboost import XGBClassifier, XGBRegressor\n",
    "\n",
    "import matplotlib.pyplot as plt\n",
    "import seaborn as sns"
   ]
  },
  {
   "cell_type": "code",
   "execution_count": 2,
   "id": "28347df3",
   "metadata": {
    "execution": {
     "iopub.execute_input": "2022-06-15T08:05:34.226790Z",
     "iopub.status.busy": "2022-06-15T08:05:34.226406Z",
     "iopub.status.idle": "2022-06-15T08:05:34.231911Z",
     "shell.execute_reply": "2022-06-15T08:05:34.231288Z"
    }
   },
   "outputs": [],
   "source": [
    "sns.set()\n",
    "colors = sns.color_palette()"
   ]
  },
  {
   "cell_type": "code",
   "execution_count": 3,
   "id": "0ad5caf0",
   "metadata": {
    "execution": {
     "iopub.execute_input": "2022-06-15T08:05:34.235177Z",
     "iopub.status.busy": "2022-06-15T08:05:34.234747Z",
     "iopub.status.idle": "2022-06-15T08:05:34.239245Z",
     "shell.execute_reply": "2022-06-15T08:05:34.238655Z"
    }
   },
   "outputs": [],
   "source": [
    "plt.rcParams['figure.figsize'] = 10., 7.5\n",
    "sns.set(font_scale=1.5)\n",
    "sns.set_style('whitegrid', {'axes.spines.top': False,\n",
    "                            'axes.spines.bottom': False,\n",
    "                            'axes.spines.left': False,\n",
    "                            'axes.spines.right': False})"
   ]
  },
  {
   "cell_type": "code",
   "execution_count": 4,
   "id": "11763be2",
   "metadata": {
    "execution": {
     "iopub.execute_input": "2022-06-15T08:05:34.242108Z",
     "iopub.status.busy": "2022-06-15T08:05:34.241882Z",
     "iopub.status.idle": "2022-06-15T08:05:34.449463Z",
     "shell.execute_reply": "2022-06-15T08:05:34.448689Z"
    }
   },
   "outputs": [],
   "source": [
    "data = fetch_401K(return_type='DataFrame')"
   ]
  },
  {
   "cell_type": "code",
   "execution_count": 5,
   "id": "853ba4be",
   "metadata": {
    "execution": {
     "iopub.execute_input": "2022-06-15T08:05:34.453687Z",
     "iopub.status.busy": "2022-06-15T08:05:34.453265Z",
     "iopub.status.idle": "2022-06-15T08:05:34.460658Z",
     "shell.execute_reply": "2022-06-15T08:05:34.459920Z"
    }
   },
   "outputs": [],
   "source": [
    "# Temporary fix for https://github.com/DoubleML/doubleml-docs/issues/45 / https://github.com/scikit-learn/scikit-learn/issues/21997\n",
    "# Can be removed when scikit-learn version 1.2.0 is released\n",
    "dtypes = data.dtypes\n",
    "dtypes['nifa'] = 'float64'\n",
    "dtypes['net_tfa'] = 'float64'\n",
    "dtypes['tw'] = 'float64'\n",
    "dtypes['inc'] = 'float64'\n",
    "data = data.astype(dtypes)"
   ]
  },
  {
   "cell_type": "code",
   "execution_count": 6,
   "id": "cf8659c7",
   "metadata": {
    "execution": {
     "iopub.execute_input": "2022-06-15T08:05:34.464667Z",
     "iopub.status.busy": "2022-06-15T08:05:34.464066Z",
     "iopub.status.idle": "2022-06-15T08:05:34.484267Z",
     "shell.execute_reply": "2022-06-15T08:05:34.483548Z"
    }
   },
   "outputs": [
    {
     "data": {
      "text/html": [
       "<div>\n",
       "<style scoped>\n",
       "    .dataframe tbody tr th:only-of-type {\n",
       "        vertical-align: middle;\n",
       "    }\n",
       "\n",
       "    .dataframe tbody tr th {\n",
       "        vertical-align: top;\n",
       "    }\n",
       "\n",
       "    .dataframe thead th {\n",
       "        text-align: right;\n",
       "    }\n",
       "</style>\n",
       "<table border=\"1\" class=\"dataframe\">\n",
       "  <thead>\n",
       "    <tr style=\"text-align: right;\">\n",
       "      <th></th>\n",
       "      <th>nifa</th>\n",
       "      <th>net_tfa</th>\n",
       "      <th>tw</th>\n",
       "      <th>age</th>\n",
       "      <th>inc</th>\n",
       "      <th>fsize</th>\n",
       "      <th>educ</th>\n",
       "      <th>db</th>\n",
       "      <th>marr</th>\n",
       "      <th>twoearn</th>\n",
       "      <th>e401</th>\n",
       "      <th>p401</th>\n",
       "      <th>pira</th>\n",
       "      <th>hown</th>\n",
       "    </tr>\n",
       "  </thead>\n",
       "  <tbody>\n",
       "    <tr>\n",
       "      <th>0</th>\n",
       "      <td>0.0</td>\n",
       "      <td>0.0</td>\n",
       "      <td>4500.0</td>\n",
       "      <td>47</td>\n",
       "      <td>6765.0</td>\n",
       "      <td>2</td>\n",
       "      <td>8</td>\n",
       "      <td>0</td>\n",
       "      <td>0</td>\n",
       "      <td>0</td>\n",
       "      <td>0</td>\n",
       "      <td>0</td>\n",
       "      <td>0</td>\n",
       "      <td>1</td>\n",
       "    </tr>\n",
       "    <tr>\n",
       "      <th>1</th>\n",
       "      <td>6215.0</td>\n",
       "      <td>1015.0</td>\n",
       "      <td>22390.0</td>\n",
       "      <td>36</td>\n",
       "      <td>28452.0</td>\n",
       "      <td>1</td>\n",
       "      <td>16</td>\n",
       "      <td>0</td>\n",
       "      <td>0</td>\n",
       "      <td>0</td>\n",
       "      <td>0</td>\n",
       "      <td>0</td>\n",
       "      <td>0</td>\n",
       "      <td>1</td>\n",
       "    </tr>\n",
       "    <tr>\n",
       "      <th>2</th>\n",
       "      <td>0.0</td>\n",
       "      <td>-2000.0</td>\n",
       "      <td>-2000.0</td>\n",
       "      <td>37</td>\n",
       "      <td>3300.0</td>\n",
       "      <td>6</td>\n",
       "      <td>12</td>\n",
       "      <td>1</td>\n",
       "      <td>0</td>\n",
       "      <td>0</td>\n",
       "      <td>0</td>\n",
       "      <td>0</td>\n",
       "      <td>0</td>\n",
       "      <td>0</td>\n",
       "    </tr>\n",
       "    <tr>\n",
       "      <th>3</th>\n",
       "      <td>15000.0</td>\n",
       "      <td>15000.0</td>\n",
       "      <td>155000.0</td>\n",
       "      <td>58</td>\n",
       "      <td>52590.0</td>\n",
       "      <td>2</td>\n",
       "      <td>16</td>\n",
       "      <td>0</td>\n",
       "      <td>1</td>\n",
       "      <td>1</td>\n",
       "      <td>0</td>\n",
       "      <td>0</td>\n",
       "      <td>0</td>\n",
       "      <td>1</td>\n",
       "    </tr>\n",
       "    <tr>\n",
       "      <th>4</th>\n",
       "      <td>0.0</td>\n",
       "      <td>0.0</td>\n",
       "      <td>58000.0</td>\n",
       "      <td>32</td>\n",
       "      <td>21804.0</td>\n",
       "      <td>1</td>\n",
       "      <td>11</td>\n",
       "      <td>0</td>\n",
       "      <td>0</td>\n",
       "      <td>0</td>\n",
       "      <td>0</td>\n",
       "      <td>0</td>\n",
       "      <td>0</td>\n",
       "      <td>1</td>\n",
       "    </tr>\n",
       "  </tbody>\n",
       "</table>\n",
       "</div>"
      ],
      "text/plain": [
       "      nifa  net_tfa        tw  age      inc  fsize  educ  db  marr  twoearn  \\\n",
       "0      0.0      0.0    4500.0   47   6765.0      2     8   0     0        0   \n",
       "1   6215.0   1015.0   22390.0   36  28452.0      1    16   0     0        0   \n",
       "2      0.0  -2000.0   -2000.0   37   3300.0      6    12   1     0        0   \n",
       "3  15000.0  15000.0  155000.0   58  52590.0      2    16   0     1        1   \n",
       "4      0.0      0.0   58000.0   32  21804.0      1    11   0     0        0   \n",
       "\n",
       "   e401  p401  pira  hown  \n",
       "0     0     0     0     1  \n",
       "1     0     0     0     1  \n",
       "2     0     0     0     0  \n",
       "3     0     0     0     1  \n",
       "4     0     0     0     1  "
      ]
     },
     "execution_count": 6,
     "metadata": {},
     "output_type": "execute_result"
    }
   ],
   "source": [
    "data.head()"
   ]
  },
  {
   "cell_type": "code",
   "execution_count": 7,
   "id": "c1d9ce03",
   "metadata": {
    "execution": {
     "iopub.execute_input": "2022-06-15T08:05:34.488059Z",
     "iopub.status.busy": "2022-06-15T08:05:34.487664Z",
     "iopub.status.idle": "2022-06-15T08:05:34.608185Z",
     "shell.execute_reply": "2022-06-15T08:05:34.607344Z"
    }
   },
   "outputs": [
    {
     "data": {
      "text/html": [
       "<div>\n",
       "<style scoped>\n",
       "    .dataframe tbody tr th:only-of-type {\n",
       "        vertical-align: middle;\n",
       "    }\n",
       "\n",
       "    .dataframe tbody tr th {\n",
       "        vertical-align: top;\n",
       "    }\n",
       "\n",
       "    .dataframe thead th {\n",
       "        text-align: right;\n",
       "    }\n",
       "</style>\n",
       "<table border=\"1\" class=\"dataframe\">\n",
       "  <thead>\n",
       "    <tr style=\"text-align: right;\">\n",
       "      <th></th>\n",
       "      <th>nifa</th>\n",
       "      <th>net_tfa</th>\n",
       "      <th>tw</th>\n",
       "      <th>age</th>\n",
       "      <th>inc</th>\n",
       "      <th>fsize</th>\n",
       "      <th>educ</th>\n",
       "      <th>db</th>\n",
       "      <th>marr</th>\n",
       "      <th>twoearn</th>\n",
       "      <th>e401</th>\n",
       "      <th>p401</th>\n",
       "      <th>pira</th>\n",
       "      <th>hown</th>\n",
       "    </tr>\n",
       "  </thead>\n",
       "  <tbody>\n",
       "    <tr>\n",
       "      <th>count</th>\n",
       "      <td>9.915000e+03</td>\n",
       "      <td>9.915000e+03</td>\n",
       "      <td>9.915000e+03</td>\n",
       "      <td>9915.000000</td>\n",
       "      <td>9915.000000</td>\n",
       "      <td>9915.000000</td>\n",
       "      <td>9915.000000</td>\n",
       "      <td>9915.000000</td>\n",
       "      <td>9915.000000</td>\n",
       "      <td>9915.000000</td>\n",
       "      <td>9915.000000</td>\n",
       "      <td>9915.000000</td>\n",
       "      <td>9915.000000</td>\n",
       "      <td>9915.000000</td>\n",
       "    </tr>\n",
       "    <tr>\n",
       "      <th>mean</th>\n",
       "      <td>1.392864e+04</td>\n",
       "      <td>1.805153e+04</td>\n",
       "      <td>6.381685e+04</td>\n",
       "      <td>41.060212</td>\n",
       "      <td>37200.623197</td>\n",
       "      <td>2.865860</td>\n",
       "      <td>13.206253</td>\n",
       "      <td>0.271004</td>\n",
       "      <td>0.604841</td>\n",
       "      <td>0.380837</td>\n",
       "      <td>0.371357</td>\n",
       "      <td>0.261624</td>\n",
       "      <td>0.242158</td>\n",
       "      <td>0.635199</td>\n",
       "    </tr>\n",
       "    <tr>\n",
       "      <th>std</th>\n",
       "      <td>5.490488e+04</td>\n",
       "      <td>6.352250e+04</td>\n",
       "      <td>1.115297e+05</td>\n",
       "      <td>10.344505</td>\n",
       "      <td>24774.288006</td>\n",
       "      <td>1.538937</td>\n",
       "      <td>2.810382</td>\n",
       "      <td>0.444500</td>\n",
       "      <td>0.488909</td>\n",
       "      <td>0.485617</td>\n",
       "      <td>0.483192</td>\n",
       "      <td>0.439541</td>\n",
       "      <td>0.428411</td>\n",
       "      <td>0.481399</td>\n",
       "    </tr>\n",
       "    <tr>\n",
       "      <th>min</th>\n",
       "      <td>0.000000e+00</td>\n",
       "      <td>-5.023020e+05</td>\n",
       "      <td>-5.023020e+05</td>\n",
       "      <td>25.000000</td>\n",
       "      <td>-2652.000000</td>\n",
       "      <td>1.000000</td>\n",
       "      <td>1.000000</td>\n",
       "      <td>0.000000</td>\n",
       "      <td>0.000000</td>\n",
       "      <td>0.000000</td>\n",
       "      <td>0.000000</td>\n",
       "      <td>0.000000</td>\n",
       "      <td>0.000000</td>\n",
       "      <td>0.000000</td>\n",
       "    </tr>\n",
       "    <tr>\n",
       "      <th>25%</th>\n",
       "      <td>2.000000e+02</td>\n",
       "      <td>-5.000000e+02</td>\n",
       "      <td>3.291500e+03</td>\n",
       "      <td>32.000000</td>\n",
       "      <td>19413.000000</td>\n",
       "      <td>2.000000</td>\n",
       "      <td>12.000000</td>\n",
       "      <td>0.000000</td>\n",
       "      <td>0.000000</td>\n",
       "      <td>0.000000</td>\n",
       "      <td>0.000000</td>\n",
       "      <td>0.000000</td>\n",
       "      <td>0.000000</td>\n",
       "      <td>0.000000</td>\n",
       "    </tr>\n",
       "    <tr>\n",
       "      <th>50%</th>\n",
       "      <td>1.635000e+03</td>\n",
       "      <td>1.499000e+03</td>\n",
       "      <td>2.510000e+04</td>\n",
       "      <td>40.000000</td>\n",
       "      <td>31476.000000</td>\n",
       "      <td>3.000000</td>\n",
       "      <td>12.000000</td>\n",
       "      <td>0.000000</td>\n",
       "      <td>1.000000</td>\n",
       "      <td>0.000000</td>\n",
       "      <td>0.000000</td>\n",
       "      <td>0.000000</td>\n",
       "      <td>0.000000</td>\n",
       "      <td>1.000000</td>\n",
       "    </tr>\n",
       "    <tr>\n",
       "      <th>75%</th>\n",
       "      <td>8.765500e+03</td>\n",
       "      <td>1.652450e+04</td>\n",
       "      <td>8.148750e+04</td>\n",
       "      <td>48.000000</td>\n",
       "      <td>48583.500000</td>\n",
       "      <td>4.000000</td>\n",
       "      <td>16.000000</td>\n",
       "      <td>1.000000</td>\n",
       "      <td>1.000000</td>\n",
       "      <td>1.000000</td>\n",
       "      <td>1.000000</td>\n",
       "      <td>1.000000</td>\n",
       "      <td>0.000000</td>\n",
       "      <td>1.000000</td>\n",
       "    </tr>\n",
       "    <tr>\n",
       "      <th>max</th>\n",
       "      <td>1.430298e+06</td>\n",
       "      <td>1.536798e+06</td>\n",
       "      <td>2.029910e+06</td>\n",
       "      <td>64.000000</td>\n",
       "      <td>242124.000000</td>\n",
       "      <td>13.000000</td>\n",
       "      <td>18.000000</td>\n",
       "      <td>1.000000</td>\n",
       "      <td>1.000000</td>\n",
       "      <td>1.000000</td>\n",
       "      <td>1.000000</td>\n",
       "      <td>1.000000</td>\n",
       "      <td>1.000000</td>\n",
       "      <td>1.000000</td>\n",
       "    </tr>\n",
       "  </tbody>\n",
       "</table>\n",
       "</div>"
      ],
      "text/plain": [
       "               nifa       net_tfa            tw          age            inc  \\\n",
       "count  9.915000e+03  9.915000e+03  9.915000e+03  9915.000000    9915.000000   \n",
       "mean   1.392864e+04  1.805153e+04  6.381685e+04    41.060212   37200.623197   \n",
       "std    5.490488e+04  6.352250e+04  1.115297e+05    10.344505   24774.288006   \n",
       "min    0.000000e+00 -5.023020e+05 -5.023020e+05    25.000000   -2652.000000   \n",
       "25%    2.000000e+02 -5.000000e+02  3.291500e+03    32.000000   19413.000000   \n",
       "50%    1.635000e+03  1.499000e+03  2.510000e+04    40.000000   31476.000000   \n",
       "75%    8.765500e+03  1.652450e+04  8.148750e+04    48.000000   48583.500000   \n",
       "max    1.430298e+06  1.536798e+06  2.029910e+06    64.000000  242124.000000   \n",
       "\n",
       "             fsize         educ           db         marr      twoearn  \\\n",
       "count  9915.000000  9915.000000  9915.000000  9915.000000  9915.000000   \n",
       "mean      2.865860    13.206253     0.271004     0.604841     0.380837   \n",
       "std       1.538937     2.810382     0.444500     0.488909     0.485617   \n",
       "min       1.000000     1.000000     0.000000     0.000000     0.000000   \n",
       "25%       2.000000    12.000000     0.000000     0.000000     0.000000   \n",
       "50%       3.000000    12.000000     0.000000     1.000000     0.000000   \n",
       "75%       4.000000    16.000000     1.000000     1.000000     1.000000   \n",
       "max      13.000000    18.000000     1.000000     1.000000     1.000000   \n",
       "\n",
       "              e401         p401         pira         hown  \n",
       "count  9915.000000  9915.000000  9915.000000  9915.000000  \n",
       "mean      0.371357     0.261624     0.242158     0.635199  \n",
       "std       0.483192     0.439541     0.428411     0.481399  \n",
       "min       0.000000     0.000000     0.000000     0.000000  \n",
       "25%       0.000000     0.000000     0.000000     0.000000  \n",
       "50%       0.000000     0.000000     0.000000     1.000000  \n",
       "75%       1.000000     1.000000     0.000000     1.000000  \n",
       "max       1.000000     1.000000     1.000000     1.000000  "
      ]
     },
     "execution_count": 7,
     "metadata": {},
     "output_type": "execute_result"
    }
   ],
   "source": [
    "data.describe()"
   ]
  },
  {
   "cell_type": "markdown",
   "id": "3ea8c00f",
   "metadata": {},
   "source": [
    "The data consist of 9,915 observations at the household level drawn from the 1991 Survey of Income and Program Participation (SIPP).  All the variables are referred to 1990. We use net financial assets (*net\\_tfa*) as the outcome variable, $Y$,  in our analysis. The net financial assets are computed as the sum of IRA balances, 401(k) balances, checking accounts, saving bonds, other interest-earning accounts, other interest-earning assets, stocks, and mutual funds less non mortgage debts. "
   ]
  },
  {
   "cell_type": "markdown",
   "id": "1a4f9dc4",
   "metadata": {},
   "source": [
    "Among the $9915$ individuals, $3682$ are eligible to participate in the program. The variable *e401* indicates eligibility and *p401* indicates participation, respectively."
   ]
  },
  {
   "cell_type": "code",
   "execution_count": 8,
   "id": "1fb9537b",
   "metadata": {
    "execution": {
     "iopub.execute_input": "2022-06-15T08:05:34.612553Z",
     "iopub.status.busy": "2022-06-15T08:05:34.612270Z",
     "iopub.status.idle": "2022-06-15T08:05:34.723764Z",
     "shell.execute_reply": "2022-06-15T08:05:34.723045Z"
    }
   },
   "outputs": [
    {
     "data": {
      "image/png": "[encoded data removed]",
      "text/plain": [
       "<Figure size 432x288 with 1 Axes>"
      ]
     },
     "metadata": {
      "needs_background": "light"
     },
     "output_type": "display_data"
    }
   ],
   "source": [
    "data['e401'].value_counts().plot(kind='bar', color=colors)\n",
    "plt.title('Eligibility, 401(k)')\n",
    "plt.xlabel('e401')\n",
    "_ = plt.ylabel('count')"
   ]
  },
  {
   "cell_type": "code",
   "execution_count": 9,
   "id": "3d464563",
   "metadata": {
    "execution": {
     "iopub.execute_input": "2022-06-15T08:05:34.727288Z",
     "iopub.status.busy": "2022-06-15T08:05:34.727024Z",
     "iopub.status.idle": "2022-06-15T08:05:34.813236Z",
     "shell.execute_reply": "2022-06-15T08:05:34.812595Z"
    }
   },
   "outputs": [
    {
     "data": {
      "image/png": "[encoded data removed]",
      "text/plain": [
       "<Figure size 432x288 with 1 Axes>"
      ]
     },
     "metadata": {
      "needs_background": "light"
     },
     "output_type": "display_data"
    }
   ],
   "source": [
    "data['p401'].value_counts().plot(kind='bar', color=colors)\n",
    "plt.title('Participation, 401(k)')\n",
    "plt.xlabel('p401')\n",
    "_ = plt.ylabel('count')"
   ]
  },
  {
   "cell_type": "markdown",
   "id": "b8461a88",
   "metadata": {},
   "source": [
    "Eligibility is highly associated with financial wealth:"
   ]
  },
  {
   "cell_type": "code",
   "execution_count": 10,
   "id": "9ab147b8",
   "metadata": {
    "execution": {
     "iopub.execute_input": "2022-06-15T08:05:34.816888Z",
     "iopub.status.busy": "2022-06-15T08:05:34.816382Z",
     "iopub.status.idle": "2022-06-15T08:05:35.375057Z",
     "shell.execute_reply": "2022-06-15T08:05:35.374145Z"
    }
   },
   "outputs": [
    {
     "data": {
      "image/png": "[encoded data removed]",
      "text/plain": [
       "<Figure size 789.9x360 with 2 Axes>"
      ]
     },
     "metadata": {
      "needs_background": "light"
     },
     "output_type": "display_data"
    }
   ],
   "source": [
    "_ = sns.displot(data, x=\"net_tfa\", hue=\"e401\", col=\"e401\",\n",
    "                kind=\"kde\", fill=True)"
   ]
  },
  {
   "cell_type": "markdown",
   "id": "aae566a4",
   "metadata": {},
   "source": [
    "As a first estimate, we calculate the unconditional average predictive effect (APE) of 401(k) eligibility on accumulated assets. This effect corresponds to the average treatment effect if 401(k) eligibility would be assigned to individuals in an entirely randomized way. The unconditional APE of e401 is about $19559$:"
   ]
  },
  {
   "cell_type": "code",
   "execution_count": 11,
   "id": "97d9b759",
   "metadata": {
    "execution": {
     "iopub.execute_input": "2022-06-15T08:05:35.379314Z",
     "iopub.status.busy": "2022-06-15T08:05:35.378880Z",
     "iopub.status.idle": "2022-06-15T08:05:35.392093Z",
     "shell.execute_reply": "2022-06-15T08:05:35.391445Z"
    }
   },
   "outputs": [
    {
     "data": {
      "text/html": [
       "<div>\n",
       "<style scoped>\n",
       "    .dataframe tbody tr th:only-of-type {\n",
       "        vertical-align: middle;\n",
       "    }\n",
       "\n",
       "    .dataframe tbody tr th {\n",
       "        vertical-align: top;\n",
       "    }\n",
       "\n",
       "    .dataframe thead th {\n",
       "        text-align: right;\n",
       "    }\n",
       "</style>\n",
       "<table border=\"1\" class=\"dataframe\">\n",
       "  <thead>\n",
       "    <tr style=\"text-align: right;\">\n",
       "      <th></th>\n",
       "      <th>net_tfa</th>\n",
       "    </tr>\n",
       "    <tr>\n",
       "      <th>e401</th>\n",
       "      <th></th>\n",
       "    </tr>\n",
       "  </thead>\n",
       "  <tbody>\n",
       "    <tr>\n",
       "      <th>0</th>\n",
       "      <td>NaN</td>\n",
       "    </tr>\n",
       "    <tr>\n",
       "      <th>1</th>\n",
       "      <td>19559.34475</td>\n",
       "    </tr>\n",
       "  </tbody>\n",
       "</table>\n",
       "</div>"
      ],
      "text/plain": [
       "          net_tfa\n",
       "e401             \n",
       "0             NaN\n",
       "1     19559.34475"
      ]
     },
     "execution_count": 11,
     "metadata": {},
     "output_type": "execute_result"
    }
   ],
   "source": [
    "data[['e401', 'net_tfa']].groupby('e401').mean().diff()"
   ]
  },
  {
   "cell_type": "markdown",
   "id": "491fc066",
   "metadata": {},
   "source": [
    "Among the $3682$ individuals that  are eligible, $2594$ decided to participate in the program. The unconditional APE of p401 is about $27372$:"
   ]
  },
  {
   "cell_type": "code",
   "execution_count": 12,
   "id": "7f1660be",
   "metadata": {
    "execution": {
     "iopub.execute_input": "2022-06-15T08:05:35.396861Z",
     "iopub.status.busy": "2022-06-15T08:05:35.395470Z",
     "iopub.status.idle": "2022-06-15T08:05:35.407081Z",
     "shell.execute_reply": "2022-06-15T08:05:35.406455Z"
    }
   },
   "outputs": [
    {
     "data": {
      "text/html": [
       "<div>\n",
       "<style scoped>\n",
       "    .dataframe tbody tr th:only-of-type {\n",
       "        vertical-align: middle;\n",
       "    }\n",
       "\n",
       "    .dataframe tbody tr th {\n",
       "        vertical-align: top;\n",
       "    }\n",
       "\n",
       "    .dataframe thead th {\n",
       "        text-align: right;\n",
       "    }\n",
       "</style>\n",
       "<table border=\"1\" class=\"dataframe\">\n",
       "  <thead>\n",
       "    <tr style=\"text-align: right;\">\n",
       "      <th></th>\n",
       "      <th>net_tfa</th>\n",
       "    </tr>\n",
       "    <tr>\n",
       "      <th>p401</th>\n",
       "      <th></th>\n",
       "    </tr>\n",
       "  </thead>\n",
       "  <tbody>\n",
       "    <tr>\n",
       "      <th>0</th>\n",
       "      <td>NaN</td>\n",
       "    </tr>\n",
       "    <tr>\n",
       "      <th>1</th>\n",
       "      <td>27371.583404</td>\n",
       "    </tr>\n",
       "  </tbody>\n",
       "</table>\n",
       "</div>"
      ],
      "text/plain": [
       "           net_tfa\n",
       "p401              \n",
       "0              NaN\n",
       "1     27371.583404"
      ]
     },
     "execution_count": 12,
     "metadata": {},
     "output_type": "execute_result"
    }
   ],
   "source": [
    "data[['p401', 'net_tfa']].groupby('p401').mean().diff()"
   ]
  },
  {
   "cell_type": "markdown",
   "id": "58862aff",
   "metadata": {},
   "source": [
    "As discussed, these estimates are biased since they do not account for saver heterogeneity and endogeneity of participation."
   ]
  },
  {
   "cell_type": "markdown",
   "id": "bdb138b7",
   "metadata": {},
   "source": [
    "## The `DoubleML` package"
   ]
  },
  {
   "cell_type": "markdown",
   "id": "d871d878",
   "metadata": {},
   "source": [
    "Let's use the package [DoubleML](https://docs.doubleml.org/stable/index.html) to estimate the average treatment effect of 401(k) eligibility, i.e. `e401`, and participation, i.e. `p401`, on net financial assets `net_tfa`."
   ]
  },
  {
   "cell_type": "markdown",
   "id": "7c626f03",
   "metadata": {},
   "source": [
    "## Estimating the Average Treatment Effect of 401(k) Eligibility on Net Financial Assets"
   ]
  },
  {
   "cell_type": "markdown",
   "id": "8f1f0cbb",
   "metadata": {},
   "source": [
    "We first look at the treatment effect of `e401` on net total financial assets. We give estimates of the ATE in the linear model\n",
    "\n",
    "\\begin{equation*}\n",
    "Y = D \\alpha + f(X)'\\beta+ \\epsilon,\n",
    "\\end{equation*}\n",
    "where $f(X)$ is a dictonary applied to the raw regressors. $X$ contains variables on marital status, two-earner status, defined benefit pension status, IRA participation, home ownership, family size, education, age, and income. \n",
    "\n",
    "In the following, we will consider two different models, \n",
    "\n",
    "* a basic model specification that includes the raw regressors, i.e., $f(X) = X$, and \n",
    "\n",
    "* a flexible model specification, where $f(X)$ includes the raw regressors $X$ and the orthogonal polynomials of degree 2 for the variables family size education, age, and income. \n",
    "\n",
    "We will use the basic model specification whenever we use nonlinear methods, for example regression trees or random forests, and use the flexible model for linear methods such as the lasso. There are, of course, multiple ways how the model can be specified even more flexibly, for example including interactions of variable and higher order interaction. However, for the sake of simplicity we stick to the specification above. Users who are interested in varying the model can adapt the code below accordingly, for example to implement the orignal specification in [Chernozhukov et al. (2018)](https://arxiv.org/abs/1608.00060). \n",
    "\n",
    "In the first step, we report estimates of the average treatment effect (ATE) of 401(k) eligibility on net financial assets both in the partially linear regression (PLR) model and in the interactive regression model (IRM) allowing for heterogeneous treatment effects."
   ]
  },
  {
   "cell_type": "markdown",
   "id": "59d03336",
   "metadata": {},
   "source": [
    "### The Data Backend: `DoubleMLData`"
   ]
  },
  {
   "cell_type": "markdown",
   "id": "2e1fe478",
   "metadata": {},
   "source": [
    "To start our analysis, we initialize the data backend, i.e., a new instance of a [DoubleMLData](https://docs.doubleml.org/dev/api/generated/doubleml.DoubleMLData.html#doubleml.DoubleMLData) object. We implement the regression model by using scikit-learn's `PolynomialFeatures` class.\n",
    "\n",
    "To implement both models (basic and flexible), we generate two data backends: `data_dml_base` and `data_dml_flex`."
   ]
  },
  {
   "cell_type": "code",
   "execution_count": 13,
   "id": "a69acf79",
   "metadata": {
    "execution": {
     "iopub.execute_input": "2022-06-15T08:05:35.411951Z",
     "iopub.status.busy": "2022-06-15T08:05:35.411482Z",
     "iopub.status.idle": "2022-06-15T08:05:35.420261Z",
     "shell.execute_reply": "2022-06-15T08:05:35.419649Z"
    }
   },
   "outputs": [],
   "source": [
    "# Set up basic model: Specify variables for data-backend\n",
    "features_base = ['age', 'inc', 'educ', 'fsize', 'marr',\n",
    "                 'twoearn', 'db', 'pira', 'hown']\n",
    "\n",
    "# Initialize DoubleMLData (data-backend of DoubleML)\n",
    "data_dml_base = dml.DoubleMLData(data,\n",
    "                                 y_col='net_tfa',\n",
    "                                 d_cols='e401',\n",
    "                                 x_cols=features_base)"
   ]
  },
  {
   "cell_type": "code",
   "execution_count": 14,
   "id": "283cb128",
   "metadata": {
    "execution": {
     "iopub.execute_input": "2022-06-15T08:05:35.423610Z",
     "iopub.status.busy": "2022-06-15T08:05:35.422987Z",
     "iopub.status.idle": "2022-06-15T08:05:35.432971Z",
     "shell.execute_reply": "2022-06-15T08:05:35.432317Z"
    }
   },
   "outputs": [
    {
     "name": "stdout",
     "output_type": "stream",
     "text": [
      "================== DoubleMLData Object ==================\n",
      "\n",
      "------------------ Data summary      ------------------\n",
      "Outcome variable: net_tfa\n",
      "Treatment variable(s): ['e401']\n",
      "Covariates: ['age', 'inc', 'educ', 'fsize', 'marr', 'twoearn', 'db', 'pira', 'hown']\n",
      "Instrument variable(s): None\n",
      "No. Observations: 9915\n",
      "\n",
      "------------------ DataFrame info    ------------------\n",
      "<class 'pandas.core.frame.DataFrame'>\n",
      "Int64Index: 9915 entries, 0 to 9914\n",
      "Columns: 14 entries, nifa to hown\n",
      "dtypes: float64(4), int8(10)\n",
      "memory usage: 742.2 KB\n",
      "\n"
     ]
    }
   ],
   "source": [
    "print(data_dml_base)"
   ]
  },
  {
   "cell_type": "code",
   "execution_count": 15,
   "id": "4f8f4463",
   "metadata": {
    "execution": {
     "iopub.execute_input": "2022-06-15T08:05:35.436533Z",
     "iopub.status.busy": "2022-06-15T08:05:35.435971Z",
     "iopub.status.idle": "2022-06-15T08:05:35.464573Z",
     "shell.execute_reply": "2022-06-15T08:05:35.463877Z"
    }
   },
   "outputs": [
    {
     "name": "stderr",
     "output_type": "stream",
     "text": [
      "/opt/hostedtoolcache/Python/3.8.12/x64/lib/python3.8/site-packages/sklearn/utils/deprecation.py:87: FutureWarning: Function get_feature_names is deprecated; get_feature_names is deprecated in 1.0 and will be removed in 1.2. Please use get_feature_names_out instead.\n",
      "  warnings.warn(msg, category=FutureWarning)\n",
      "/opt/hostedtoolcache/Python/3.8.12/x64/lib/python3.8/site-packages/sklearn/utils/deprecation.py:87: FutureWarning: Function get_feature_names is deprecated; get_feature_names is deprecated in 1.0 and will be removed in 1.2. Please use get_feature_names_out instead.\n",
      "  warnings.warn(msg, category=FutureWarning)\n",
      "/opt/hostedtoolcache/Python/3.8.12/x64/lib/python3.8/site-packages/sklearn/utils/deprecation.py:87: FutureWarning: Function get_feature_names is deprecated; get_feature_names is deprecated in 1.0 and will be removed in 1.2. Please use get_feature_names_out instead.\n",
      "  warnings.warn(msg, category=FutureWarning)\n",
      "/opt/hostedtoolcache/Python/3.8.12/x64/lib/python3.8/site-packages/sklearn/utils/deprecation.py:87: FutureWarning: Function get_feature_names is deprecated; get_feature_names is deprecated in 1.0 and will be removed in 1.2. Please use get_feature_names_out instead.\n",
      "  warnings.warn(msg, category=FutureWarning)\n"
     ]
    }
   ],
   "source": [
    "# Set up a model according to regression formula with polynomials\n",
    "features = data.copy()[['marr', 'twoearn', 'db', 'pira', 'hown']]\n",
    "\n",
    "poly_dict = {'age': 2,\n",
    "             'inc': 2,\n",
    "             'educ': 2,\n",
    "             'fsize': 2}\n",
    "for key, degree in poly_dict.items():\n",
    "    poly = PolynomialFeatures(degree, include_bias=False)\n",
    "    data_transf = poly.fit_transform(data[[key]])\n",
    "    x_cols = poly.get_feature_names([key])\n",
    "    data_transf = pd.DataFrame(data_transf, columns=x_cols)\n",
    "    \n",
    "    features = pd.concat((features, data_transf),\n",
    "                          axis=1, sort=False)\n",
    "\n",
    "model_data = pd.concat((data.copy()[['net_tfa', 'e401']], features.copy()),\n",
    "                        axis=1, sort=False)\n",
    "\n",
    "# Initialize DoubleMLData (data-backend of DoubleML)\n",
    "data_dml_flex = dml.DoubleMLData(model_data, y_col='net_tfa', d_cols='e401')"
   ]
  },
  {
   "cell_type": "code",
   "execution_count": 16,
   "id": "4d5885ed",
   "metadata": {
    "execution": {
     "iopub.execute_input": "2022-06-15T08:05:35.468144Z",
     "iopub.status.busy": "2022-06-15T08:05:35.467670Z",
     "iopub.status.idle": "2022-06-15T08:05:35.477208Z",
     "shell.execute_reply": "2022-06-15T08:05:35.476410Z"
    }
   },
   "outputs": [
    {
     "name": "stdout",
     "output_type": "stream",
     "text": [
      "================== DoubleMLData Object ==================\n",
      "\n",
      "------------------ Data summary      ------------------\n",
      "Outcome variable: net_tfa\n",
      "Treatment variable(s): ['e401']\n",
      "Covariates: ['marr', 'twoearn', 'db', 'pira', 'hown', 'age', 'age^2', 'inc', 'inc^2', 'educ', 'educ^2', 'fsize', 'fsize^2']\n",
      "Instrument variable(s): None\n",
      "No. Observations: 9915\n",
      "\n",
      "------------------ DataFrame info    ------------------\n",
      "<class 'pandas.core.frame.DataFrame'>\n",
      "Int64Index: 9915 entries, 0 to 9914\n",
      "Columns: 15 entries, net_tfa to fsize^2\n",
      "dtypes: float64(9), int8(6)\n",
      "memory usage: 1.1 MB\n",
      "\n"
     ]
    }
   ],
   "source": [
    "print(data_dml_flex)"
   ]
  },
  {
   "cell_type": "markdown",
   "id": "a85b7f11",
   "metadata": {},
   "source": [
    "### Partially Linear Regression Model (PLR)"
   ]
  },
  {
   "cell_type": "markdown",
   "id": "f4794f98",
   "metadata": {},
   "source": [
    "We start using lasso to estimate the function $g_0$ and $m_0$ in the following PLR model:"
   ]
  },
  {
   "cell_type": "markdown",
   "id": "77aac812",
   "metadata": {},
   "source": [
    "\\begin{eqnarray}\n",
    "& Y = D\\theta_0 + g_0(X) + \\zeta, &\\quad E[\\zeta \\mid D,X]= 0,\\\\\n",
    "& D = m_0(X) +  V, &\\quad E[V \\mid X] = 0.\n",
    "\\end{eqnarray}"
   ]
  },
  {
   "cell_type": "markdown",
   "id": "8aaaa9ff",
   "metadata": {},
   "source": [
    "To estimate the causal parameter $\\theta_0$ here, we use double machine learning with 3-fold cross-fitting. \n",
    " \n",
    "Estimation of the nuisance components $g_0$ and $m_0$, is based on the lasso with cross-validated choice of the penalty term , $\\lambda$, as provided by [scikit-learn](https://scikit-learn.org). We load the learner by initializing instances from the classes [LassoCV](https://scikit-learn.org/stable/modules/generated/sklearn.linear_model.LassoCV.html) and [LogisticRegressionCV](https://scikit-learn.org/stable/modules/generated/sklearn.linear_model.LogisticRegressionCV.html). Hyperparameters and options can be set during instantiation of the learner. Here we specify that the lasso should use that value of $\\lambda$ that minimizes the cross-validated mean squared error which is based on 5-fold cross validation.\n",
    "\n",
    "We start by estimation the ATE in the basic model and then repeat the estimation in the flexible model."
   ]
  },
  {
   "cell_type": "code",
   "execution_count": 17,
   "id": "6481a766",
   "metadata": {
    "execution": {
     "iopub.execute_input": "2022-06-15T08:05:35.481441Z",
     "iopub.status.busy": "2022-06-15T08:05:35.480986Z",
     "iopub.status.idle": "2022-06-15T08:05:36.416342Z",
     "shell.execute_reply": "2022-06-15T08:05:36.415723Z"
    },
    "scrolled": true
   },
   "outputs": [
    {
     "data": {
      "text/html": [
       "<div>\n",
       "<style scoped>\n",
       "    .dataframe tbody tr th:only-of-type {\n",
       "        vertical-align: middle;\n",
       "    }\n",
       "\n",
       "    .dataframe tbody tr th {\n",
       "        vertical-align: top;\n",
       "    }\n",
       "\n",
       "    .dataframe thead th {\n",
       "        text-align: right;\n",
       "    }\n",
       "</style>\n",
       "<table border=\"1\" class=\"dataframe\">\n",
       "  <thead>\n",
       "    <tr style=\"text-align: right;\">\n",
       "      <th></th>\n",
       "      <th>coef</th>\n",
       "      <th>std err</th>\n",
       "      <th>t</th>\n",
       "      <th>P&gt;|t|</th>\n",
       "      <th>2.5 %</th>\n",
       "      <th>97.5 %</th>\n",
       "    </tr>\n",
       "  </thead>\n",
       "  <tbody>\n",
       "    <tr>\n",
       "      <th>e401</th>\n",
       "      <td>5722.474846</td>\n",
       "      <td>1380.619177</td>\n",
       "      <td>4.144861</td>\n",
       "      <td>0.000034</td>\n",
       "      <td>3016.510982</td>\n",
       "      <td>8428.438709</td>\n",
       "    </tr>\n",
       "  </tbody>\n",
       "</table>\n",
       "</div>"
      ],
      "text/plain": [
       "             coef      std err         t     P>|t|        2.5 %       97.5 %\n",
       "e401  5722.474846  1380.619177  4.144861  0.000034  3016.510982  8428.438709"
      ]
     },
     "execution_count": 17,
     "metadata": {},
     "output_type": "execute_result"
    }
   ],
   "source": [
    "# Initialize learners\n",
    "Cs = 0.0001*np.logspace(0, 4, 10)\n",
    "lasso = make_pipeline(StandardScaler(), LassoCV(cv=5, max_iter=10000))\n",
    "lasso_class = make_pipeline(StandardScaler(),\n",
    "                            LogisticRegressionCV(cv=5, penalty='l1', solver='liblinear',\n",
    "                                                 Cs = Cs, max_iter=1000))\n",
    "\n",
    "np.random.seed(123)\n",
    "# Initialize DoubleMLPLR model\n",
    "dml_plr_lasso = dml.DoubleMLPLR(data_dml_base,\n",
    "                                ml_l = lasso,\n",
    "                                ml_m = lasso_class,\n",
    "                                n_folds = 3)\n",
    "\n",
    "dml_plr_lasso.fit(store_predictions=True)\n",
    "dml_plr_lasso.summary"
   ]
  },
  {
   "cell_type": "code",
   "execution_count": 18,
   "id": "355e78ca",
   "metadata": {
    "execution": {
     "iopub.execute_input": "2022-06-15T08:05:36.420308Z",
     "iopub.status.busy": "2022-06-15T08:05:36.419800Z",
     "iopub.status.idle": "2022-06-15T08:05:41.120186Z",
     "shell.execute_reply": "2022-06-15T08:05:41.119571Z"
    }
   },
   "outputs": [
    {
     "data": {
      "text/html": [
       "<div>\n",
       "<style scoped>\n",
       "    .dataframe tbody tr th:only-of-type {\n",
       "        vertical-align: middle;\n",
       "    }\n",
       "\n",
       "    .dataframe tbody tr th {\n",
       "        vertical-align: top;\n",
       "    }\n",
       "\n",
       "    .dataframe thead th {\n",
       "        text-align: right;\n",
       "    }\n",
       "</style>\n",
       "<table border=\"1\" class=\"dataframe\">\n",
       "  <thead>\n",
       "    <tr style=\"text-align: right;\">\n",
       "      <th></th>\n",
       "      <th>coef</th>\n",
       "      <th>std err</th>\n",
       "      <th>t</th>\n",
       "      <th>P&gt;|t|</th>\n",
       "      <th>2.5 %</th>\n",
       "      <th>97.5 %</th>\n",
       "    </tr>\n",
       "  </thead>\n",
       "  <tbody>\n",
       "    <tr>\n",
       "      <th>e401</th>\n",
       "      <td>8974.79122</td>\n",
       "      <td>1324.323622</td>\n",
       "      <td>6.776887</td>\n",
       "      <td>1.227931e-11</td>\n",
       "      <td>6379.164617</td>\n",
       "      <td>11570.417822</td>\n",
       "    </tr>\n",
       "  </tbody>\n",
       "</table>\n",
       "</div>"
      ],
      "text/plain": [
       "            coef      std err         t         P>|t|        2.5 %  \\\n",
       "e401  8974.79122  1324.323622  6.776887  1.227931e-11  6379.164617   \n",
       "\n",
       "            97.5 %  \n",
       "e401  11570.417822  "
      ]
     },
     "execution_count": 18,
     "metadata": {},
     "output_type": "execute_result"
    }
   ],
   "source": [
    "# Estimate the ATE in the flexible model with lasso\n",
    "\n",
    "np.random.seed(123)\n",
    "dml_plr_lasso = dml.DoubleMLPLR(data_dml_flex,\n",
    "                                ml_l = lasso,\n",
    "                                ml_m = lasso_class,\n",
    "                                n_folds = 3)\n",
    "\n",
    "dml_plr_lasso.fit(store_predictions=True)\n",
    "lasso_summary = dml_plr_lasso.summary\n",
    "\n",
    "lasso_summary"
   ]
  },
  {
   "cell_type": "markdown",
   "id": "92407d1e",
   "metadata": {},
   "source": [
    "Alternatively, we can repeat this procedure with other machine learning methods, for example a random forest learner as provided by the [RandomForestRegressor](https://scikit-learn.org/stable/modules/generated/sklearn.ensemble.RandomForestRegressor.html) and [RandomForestClassifier](https://scikit-learn.org/stable/modules/generated/sklearn.ensemble.RandomForestClassifier.html) class in [scikit-learn](https://scikit-learn.org). "
   ]
  },
  {
   "cell_type": "code",
   "execution_count": 19,
   "id": "8462dd26",
   "metadata": {
    "execution": {
     "iopub.execute_input": "2022-06-15T08:05:41.123839Z",
     "iopub.status.busy": "2022-06-15T08:05:41.123367Z",
     "iopub.status.idle": "2022-06-15T08:05:52.408284Z",
     "shell.execute_reply": "2022-06-15T08:05:52.407582Z"
    }
   },
   "outputs": [
    {
     "data": {
      "text/html": [
       "<div>\n",
       "<style scoped>\n",
       "    .dataframe tbody tr th:only-of-type {\n",
       "        vertical-align: middle;\n",
       "    }\n",
       "\n",
       "    .dataframe tbody tr th {\n",
       "        vertical-align: top;\n",
       "    }\n",
       "\n",
       "    .dataframe thead th {\n",
       "        text-align: right;\n",
       "    }\n",
       "</style>\n",
       "<table border=\"1\" class=\"dataframe\">\n",
       "  <thead>\n",
       "    <tr style=\"text-align: right;\">\n",
       "      <th></th>\n",
       "      <th>coef</th>\n",
       "      <th>std err</th>\n",
       "      <th>t</th>\n",
       "      <th>P&gt;|t|</th>\n",
       "      <th>2.5 %</th>\n",
       "      <th>97.5 %</th>\n",
       "    </tr>\n",
       "  </thead>\n",
       "  <tbody>\n",
       "    <tr>\n",
       "      <th>e401</th>\n",
       "      <td>8909.634078</td>\n",
       "      <td>1321.822289</td>\n",
       "      <td>6.740417</td>\n",
       "      <td>1.579322e-11</td>\n",
       "      <td>6318.909997</td>\n",
       "      <td>11500.358158</td>\n",
       "    </tr>\n",
       "  </tbody>\n",
       "</table>\n",
       "</div>"
      ],
      "text/plain": [
       "             coef      std err         t         P>|t|        2.5 %  \\\n",
       "e401  8909.634078  1321.822289  6.740417  1.579322e-11  6318.909997   \n",
       "\n",
       "            97.5 %  \n",
       "e401  11500.358158  "
      ]
     },
     "execution_count": 19,
     "metadata": {},
     "output_type": "execute_result"
    }
   ],
   "source": [
    "# Random Forest\n",
    "randomForest = RandomForestRegressor(\n",
    "    n_estimators=500, max_depth=7, max_features=3, min_samples_leaf=3)\n",
    "randomForest_class = RandomForestClassifier(\n",
    "    n_estimators=500, max_depth=5, max_features=4, min_samples_leaf=7)\n",
    "\n",
    "np.random.seed(123)\n",
    "dml_plr_forest = dml.DoubleMLPLR(data_dml_base,\n",
    "                                 ml_l = randomForest,\n",
    "                                 ml_m = randomForest_class,\n",
    "                                 n_folds = 3)\n",
    "dml_plr_forest.fit(store_predictions=True)\n",
    "forest_summary = dml_plr_forest.summary\n",
    "\n",
    "forest_summary"
   ]
  },
  {
   "cell_type": "markdown",
   "id": "c2e8de45",
   "metadata": {},
   "source": [
    "Now, let's use a regression tree as provided in [scikit-learn](https://scikit-learn.org)'s [DecisionTreeRegressor](https://scikit-learn.org/stable/modules/generated/sklearn.tree.DecisionTreeRegressor.html) and [DecisionTreeClassifier](https://scikit-learn.org/stable/modules/generated/sklearn.tree.DecisionTreeClassifier.html)."
   ]
  },
  {
   "cell_type": "code",
   "execution_count": 20,
   "id": "20957649",
   "metadata": {
    "execution": {
     "iopub.execute_input": "2022-06-15T08:05:52.411799Z",
     "iopub.status.busy": "2022-06-15T08:05:52.411531Z",
     "iopub.status.idle": "2022-06-15T08:05:52.509110Z",
     "shell.execute_reply": "2022-06-15T08:05:52.508344Z"
    }
   },
   "outputs": [
    {
     "data": {
      "text/html": [
       "<div>\n",
       "<style scoped>\n",
       "    .dataframe tbody tr th:only-of-type {\n",
       "        vertical-align: middle;\n",
       "    }\n",
       "\n",
       "    .dataframe tbody tr th {\n",
       "        vertical-align: top;\n",
       "    }\n",
       "\n",
       "    .dataframe thead th {\n",
       "        text-align: right;\n",
       "    }\n",
       "</style>\n",
       "<table border=\"1\" class=\"dataframe\">\n",
       "  <thead>\n",
       "    <tr style=\"text-align: right;\">\n",
       "      <th></th>\n",
       "      <th>coef</th>\n",
       "      <th>std err</th>\n",
       "      <th>t</th>\n",
       "      <th>P&gt;|t|</th>\n",
       "      <th>2.5 %</th>\n",
       "      <th>97.5 %</th>\n",
       "    </tr>\n",
       "  </thead>\n",
       "  <tbody>\n",
       "    <tr>\n",
       "      <th>e401</th>\n",
       "      <td>8260.06428</td>\n",
       "      <td>1348.624798</td>\n",
       "      <td>6.124805</td>\n",
       "      <td>9.079458e-10</td>\n",
       "      <td>5616.808246</td>\n",
       "      <td>10903.320314</td>\n",
       "    </tr>\n",
       "  </tbody>\n",
       "</table>\n",
       "</div>"
      ],
      "text/plain": [
       "            coef      std err         t         P>|t|        2.5 %  \\\n",
       "e401  8260.06428  1348.624798  6.124805  9.079458e-10  5616.808246   \n",
       "\n",
       "            97.5 %  \n",
       "e401  10903.320314  "
      ]
     },
     "execution_count": 20,
     "metadata": {},
     "output_type": "execute_result"
    }
   ],
   "source": [
    "# Trees\n",
    "trees = DecisionTreeRegressor(\n",
    "    max_depth=30, ccp_alpha=0.0047, min_samples_split=203, min_samples_leaf=67)\n",
    "trees_class = DecisionTreeClassifier(\n",
    "    max_depth=30, ccp_alpha=0.0042, min_samples_split=104, min_samples_leaf=34)\n",
    "\n",
    "np.random.seed(123)\n",
    "dml_plr_tree = dml.DoubleMLPLR(data_dml_base,\n",
    "                               ml_l = trees,\n",
    "                               ml_m = trees_class,\n",
    "                               n_folds = 3)\n",
    "dml_plr_tree.fit(store_predictions=True)\n",
    "tree_summary = dml_plr_tree.summary\n",
    "\n",
    "tree_summary"
   ]
  },
  {
   "cell_type": "markdown",
   "id": "a187d938",
   "metadata": {},
   "source": [
    "We can also experiment with extreme gradient boosting as provided by [xgboost](https://xgboost.readthedocs.io/en/latest/)."
   ]
  },
  {
   "cell_type": "code",
   "execution_count": 21,
   "id": "988af9d6",
   "metadata": {
    "execution": {
     "iopub.execute_input": "2022-06-15T08:05:52.512684Z",
     "iopub.status.busy": "2022-06-15T08:05:52.512424Z",
     "iopub.status.idle": "2022-06-15T08:05:54.057928Z",
     "shell.execute_reply": "2022-06-15T08:05:54.057191Z"
    }
   },
   "outputs": [
    {
     "data": {
      "text/html": [
       "<div>\n",
       "<style scoped>\n",
       "    .dataframe tbody tr th:only-of-type {\n",
       "        vertical-align: middle;\n",
       "    }\n",
       "\n",
       "    .dataframe tbody tr th {\n",
       "        vertical-align: top;\n",
       "    }\n",
       "\n",
       "    .dataframe thead th {\n",
       "        text-align: right;\n",
       "    }\n",
       "</style>\n",
       "<table border=\"1\" class=\"dataframe\">\n",
       "  <thead>\n",
       "    <tr style=\"text-align: right;\">\n",
       "      <th></th>\n",
       "      <th>coef</th>\n",
       "      <th>std err</th>\n",
       "      <th>t</th>\n",
       "      <th>P&gt;|t|</th>\n",
       "      <th>2.5 %</th>\n",
       "      <th>97.5 %</th>\n",
       "    </tr>\n",
       "  </thead>\n",
       "  <tbody>\n",
       "    <tr>\n",
       "      <th>e401</th>\n",
       "      <td>8816.895718</td>\n",
       "      <td>1417.488973</td>\n",
       "      <td>6.220081</td>\n",
       "      <td>4.968994e-10</td>\n",
       "      <td>6038.668383</td>\n",
       "      <td>11595.123054</td>\n",
       "    </tr>\n",
       "  </tbody>\n",
       "</table>\n",
       "</div>"
      ],
      "text/plain": [
       "             coef      std err         t         P>|t|        2.5 %  \\\n",
       "e401  8816.895718  1417.488973  6.220081  4.968994e-10  6038.668383   \n",
       "\n",
       "            97.5 %  \n",
       "e401  11595.123054  "
      ]
     },
     "execution_count": 21,
     "metadata": {},
     "output_type": "execute_result"
    }
   ],
   "source": [
    "# Boosted Trees\n",
    "boost = XGBRegressor(n_jobs=1, objective = \"reg:squarederror\",\n",
    "                     eta=0.1, n_estimators=35)\n",
    "boost_class = XGBClassifier(use_label_encoder=False, n_jobs=1,\n",
    "                            objective = \"binary:logistic\", eval_metric = \"logloss\",\n",
    "                            eta=0.1, n_estimators=34)\n",
    "\n",
    "np.random.seed(123)\n",
    "dml_plr_boost = dml.DoubleMLPLR(data_dml_base,\n",
    "                                ml_l = boost,\n",
    "                                ml_m = boost_class,\n",
    "                                n_folds = 3)\n",
    "dml_plr_boost.fit(store_predictions=True)\n",
    "boost_summary = dml_plr_boost.summary\n",
    "\n",
    "boost_summary"
   ]
  },
  {
   "cell_type": "markdown",
   "id": "b57d231e",
   "metadata": {},
   "source": [
    "Let's sum up the results:"
   ]
  },
  {
   "cell_type": "code",
   "execution_count": 22,
   "id": "0cc90651",
   "metadata": {
    "execution": {
     "iopub.execute_input": "2022-06-15T08:05:54.062776Z",
     "iopub.status.busy": "2022-06-15T08:05:54.062329Z",
     "iopub.status.idle": "2022-06-15T08:05:54.075057Z",
     "shell.execute_reply": "2022-06-15T08:05:54.074408Z"
    }
   },
   "outputs": [
    {
     "data": {
      "text/html": [
       "<div>\n",
       "<style scoped>\n",
       "    .dataframe tbody tr th:only-of-type {\n",
       "        vertical-align: middle;\n",
       "    }\n",
       "\n",
       "    .dataframe tbody tr th {\n",
       "        vertical-align: top;\n",
       "    }\n",
       "\n",
       "    .dataframe thead th {\n",
       "        text-align: right;\n",
       "    }\n",
       "</style>\n",
       "<table border=\"1\" class=\"dataframe\">\n",
       "  <thead>\n",
       "    <tr style=\"text-align: right;\">\n",
       "      <th></th>\n",
       "      <th>coef</th>\n",
       "      <th>2.5 %</th>\n",
       "      <th>97.5 %</th>\n",
       "    </tr>\n",
       "  </thead>\n",
       "  <tbody>\n",
       "    <tr>\n",
       "      <th>lasso</th>\n",
       "      <td>8974.791220</td>\n",
       "      <td>6379.164617</td>\n",
       "      <td>11570.417822</td>\n",
       "    </tr>\n",
       "    <tr>\n",
       "      <th>forest</th>\n",
       "      <td>8909.634078</td>\n",
       "      <td>6318.909997</td>\n",
       "      <td>11500.358158</td>\n",
       "    </tr>\n",
       "    <tr>\n",
       "      <th>tree</th>\n",
       "      <td>8260.064280</td>\n",
       "      <td>5616.808246</td>\n",
       "      <td>10903.320314</td>\n",
       "    </tr>\n",
       "    <tr>\n",
       "      <th>xgboost</th>\n",
       "      <td>8816.895718</td>\n",
       "      <td>6038.668383</td>\n",
       "      <td>11595.123054</td>\n",
       "    </tr>\n",
       "  </tbody>\n",
       "</table>\n",
       "</div>"
      ],
      "text/plain": [
       "                coef        2.5 %        97.5 %\n",
       "lasso    8974.791220  6379.164617  11570.417822\n",
       "forest   8909.634078  6318.909997  11500.358158\n",
       "tree     8260.064280  5616.808246  10903.320314\n",
       "xgboost  8816.895718  6038.668383  11595.123054"
      ]
     },
     "execution_count": 22,
     "metadata": {},
     "output_type": "execute_result"
    }
   ],
   "source": [
    "plr_summary = pd.concat((lasso_summary, forest_summary, tree_summary, boost_summary))\n",
    "plr_summary.index = ['lasso', 'forest', 'tree', 'xgboost']\n",
    "plr_summary[['coef', '2.5 %', '97.5 %']]"
   ]
  },
  {
   "cell_type": "code",
   "execution_count": 23,
   "id": "20528edc",
   "metadata": {
    "execution": {
     "iopub.execute_input": "2022-06-15T08:05:54.078685Z",
     "iopub.status.busy": "2022-06-15T08:05:54.078277Z",
     "iopub.status.idle": "2022-06-15T08:05:54.185989Z",
     "shell.execute_reply": "2022-06-15T08:05:54.185271Z"
    }
   },
   "outputs": [
    {
     "data": {
      "image/png": "[encoded data removed]",
      "text/plain": [
       "<Figure size 432x288 with 1 Axes>"
      ]
     },
     "metadata": {
      "needs_background": "light"
     },
     "output_type": "display_data"
    }
   ],
   "source": [
    "errors = np.full((2, plr_summary.shape[0]), np.nan)\n",
    "errors[0, :] = plr_summary['coef'] - plr_summary['2.5 %']\n",
    "errors[1, :] = plr_summary['97.5 %'] - plr_summary['coef']\n",
    "plt.errorbar(plr_summary.index, plr_summary.coef, fmt='o', yerr=errors)\n",
    "plt.ylim([0, 12500])\n",
    "\n",
    "plt.title('Partially Linear Regression Model (PLR)')\n",
    "plt.xlabel('ML method')\n",
    "_ =  plt.ylabel('Coefficients and 95%-CI')"
   ]
  },
  {
   "cell_type": "markdown",
   "id": "446bdae9",
   "metadata": {},
   "source": [
    "### Interactive Regression Model (IRM)"
   ]
  },
  {
   "cell_type": "markdown",
   "id": "aa53e2c6",
   "metadata": {},
   "source": [
    "Next, we consider estimation of average treatment effects when treatment effects are fully heterogeneous:"
   ]
  },
  {
   "cell_type": "markdown",
   "id": "4ca39012",
   "metadata": {},
   "source": [
    "\\begin{eqnarray}\n",
    "& Y = g_0(D,X) + U, &\\quad E[U\\mid X,D] = 0,\\\\\n",
    "& D = m_0(X) + V, &\\quad E[V\\mid X] = 0.\n",
    "\\end{eqnarray}"
   ]
  },
  {
   "cell_type": "markdown",
   "id": "e61aece3",
   "metadata": {},
   "source": [
    "To reduce the disproportionate impact of extreme propensity score weights in the interactive model\n",
    "we trim the propensity scores which are close to the bounds."
   ]
  },
  {
   "cell_type": "code",
   "execution_count": 24,
   "id": "14b79c21",
   "metadata": {
    "execution": {
     "iopub.execute_input": "2022-06-15T08:05:54.190512Z",
     "iopub.status.busy": "2022-06-15T08:05:54.190255Z",
     "iopub.status.idle": "2022-06-15T08:05:58.964110Z",
     "shell.execute_reply": "2022-06-15T08:05:58.963306Z"
    }
   },
   "outputs": [
    {
     "data": {
      "text/html": [
       "<div>\n",
       "<style scoped>\n",
       "    .dataframe tbody tr th:only-of-type {\n",
       "        vertical-align: middle;\n",
       "    }\n",
       "\n",
       "    .dataframe tbody tr th {\n",
       "        vertical-align: top;\n",
       "    }\n",
       "\n",
       "    .dataframe thead th {\n",
       "        text-align: right;\n",
       "    }\n",
       "</style>\n",
       "<table border=\"1\" class=\"dataframe\">\n",
       "  <thead>\n",
       "    <tr style=\"text-align: right;\">\n",
       "      <th></th>\n",
       "      <th>coef</th>\n",
       "      <th>std err</th>\n",
       "      <th>t</th>\n",
       "      <th>P&gt;|t|</th>\n",
       "      <th>2.5 %</th>\n",
       "      <th>97.5 %</th>\n",
       "    </tr>\n",
       "  </thead>\n",
       "  <tbody>\n",
       "    <tr>\n",
       "      <th>e401</th>\n",
       "      <td>7918.27028</td>\n",
       "      <td>1206.438355</td>\n",
       "      <td>6.563344</td>\n",
       "      <td>5.261418e-11</td>\n",
       "      <td>5553.694555</td>\n",
       "      <td>10282.846006</td>\n",
       "    </tr>\n",
       "  </tbody>\n",
       "</table>\n",
       "</div>"
      ],
      "text/plain": [
       "            coef      std err         t         P>|t|        2.5 %  \\\n",
       "e401  7918.27028  1206.438355  6.563344  5.261418e-11  5553.694555   \n",
       "\n",
       "            97.5 %  \n",
       "e401  10282.846006  "
      ]
     },
     "execution_count": 24,
     "metadata": {},
     "output_type": "execute_result"
    }
   ],
   "source": [
    "# Lasso\n",
    "lasso = make_pipeline(StandardScaler(), LassoCV(cv=5, max_iter=20000))\n",
    "\n",
    "# Initialize DoubleMLIRM model\n",
    "np.random.seed(123)\n",
    "dml_irm_lasso = dml.DoubleMLIRM(data_dml_flex,\n",
    "                          ml_g = lasso,\n",
    "                          ml_m = lasso_class,\n",
    "                          trimming_threshold = 0.01,\n",
    "                          n_folds = 3)\n",
    "dml_irm_lasso.fit(store_predictions=True) \n",
    "lasso_summary = dml_irm_lasso.summary\n",
    "\n",
    "lasso_summary"
   ]
  },
  {
   "cell_type": "code",
   "execution_count": 25,
   "id": "6762686f",
   "metadata": {
    "execution": {
     "iopub.execute_input": "2022-06-15T08:05:58.967629Z",
     "iopub.status.busy": "2022-06-15T08:05:58.967290Z",
     "iopub.status.idle": "2022-06-15T08:06:11.879143Z",
     "shell.execute_reply": "2022-06-15T08:06:11.878420Z"
    }
   },
   "outputs": [
    {
     "data": {
      "text/html": [
       "<div>\n",
       "<style scoped>\n",
       "    .dataframe tbody tr th:only-of-type {\n",
       "        vertical-align: middle;\n",
       "    }\n",
       "\n",
       "    .dataframe tbody tr th {\n",
       "        vertical-align: top;\n",
       "    }\n",
       "\n",
       "    .dataframe thead th {\n",
       "        text-align: right;\n",
       "    }\n",
       "</style>\n",
       "<table border=\"1\" class=\"dataframe\">\n",
       "  <thead>\n",
       "    <tr style=\"text-align: right;\">\n",
       "      <th></th>\n",
       "      <th>coef</th>\n",
       "      <th>std err</th>\n",
       "      <th>t</th>\n",
       "      <th>P&gt;|t|</th>\n",
       "      <th>2.5 %</th>\n",
       "      <th>97.5 %</th>\n",
       "    </tr>\n",
       "  </thead>\n",
       "  <tbody>\n",
       "    <tr>\n",
       "      <th>e401</th>\n",
       "      <td>8020.190199</td>\n",
       "      <td>1140.240133</td>\n",
       "      <td>7.033773</td>\n",
       "      <td>2.010222e-12</td>\n",
       "      <td>5785.360605</td>\n",
       "      <td>10255.019793</td>\n",
       "    </tr>\n",
       "  </tbody>\n",
       "</table>\n",
       "</div>"
      ],
      "text/plain": [
       "             coef      std err         t         P>|t|        2.5 %  \\\n",
       "e401  8020.190199  1140.240133  7.033773  2.010222e-12  5785.360605   \n",
       "\n",
       "            97.5 %  \n",
       "e401  10255.019793  "
      ]
     },
     "execution_count": 25,
     "metadata": {},
     "output_type": "execute_result"
    }
   ],
   "source": [
    "# Random Forest\n",
    "randomForest = RandomForestRegressor(n_estimators=500)\n",
    "randomForest_class = RandomForestClassifier(n_estimators=500)\n",
    "\n",
    "np.random.seed(123)\n",
    "dml_irm_forest = dml.DoubleMLIRM(data_dml_base,\n",
    "                                 ml_g = randomForest,\n",
    "                                 ml_m = randomForest_class,\n",
    "                                 trimming_threshold = 0.01,\n",
    "                                 n_folds = 3)\n",
    "\n",
    "# Set nuisance-part specific parameters\n",
    "dml_irm_forest.set_ml_nuisance_params('ml_g0', 'e401', {\n",
    "    'max_depth': 6, 'max_features': 4, 'min_samples_leaf': 7})\n",
    "dml_irm_forest.set_ml_nuisance_params('ml_g1', 'e401', {\n",
    "    'max_depth': 6, 'max_features': 3, 'min_samples_leaf': 5})\n",
    "dml_irm_forest.set_ml_nuisance_params('ml_m', 'e401', {\n",
    "    'max_depth': 6, 'max_features': 3, 'min_samples_leaf': 6})\n",
    "\n",
    "dml_irm_forest.fit(store_predictions=True) \n",
    "forest_summary = dml_irm_forest.summary\n",
    "\n",
    "forest_summary"
   ]
  },
  {
   "cell_type": "code",
   "execution_count": 26,
   "id": "8589ee4d",
   "metadata": {
    "execution": {
     "iopub.execute_input": "2022-06-15T08:06:11.883023Z",
     "iopub.status.busy": "2022-06-15T08:06:11.882328Z",
     "iopub.status.idle": "2022-06-15T08:06:11.984925Z",
     "shell.execute_reply": "2022-06-15T08:06:11.984161Z"
    }
   },
   "outputs": [
    {
     "data": {
      "text/html": [
       "<div>\n",
       "<style scoped>\n",
       "    .dataframe tbody tr th:only-of-type {\n",
       "        vertical-align: middle;\n",
       "    }\n",
       "\n",
       "    .dataframe tbody tr th {\n",
       "        vertical-align: top;\n",
       "    }\n",
       "\n",
       "    .dataframe thead th {\n",
       "        text-align: right;\n",
       "    }\n",
       "</style>\n",
       "<table border=\"1\" class=\"dataframe\">\n",
       "  <thead>\n",
       "    <tr style=\"text-align: right;\">\n",
       "      <th></th>\n",
       "      <th>coef</th>\n",
       "      <th>std err</th>\n",
       "      <th>t</th>\n",
       "      <th>P&gt;|t|</th>\n",
       "      <th>2.5 %</th>\n",
       "      <th>97.5 %</th>\n",
       "    </tr>\n",
       "  </thead>\n",
       "  <tbody>\n",
       "    <tr>\n",
       "      <th>e401</th>\n",
       "      <td>8054.077008</td>\n",
       "      <td>1184.437455</td>\n",
       "      <td>6.799918</td>\n",
       "      <td>1.046791e-11</td>\n",
       "      <td>5732.622255</td>\n",
       "      <td>10375.531761</td>\n",
       "    </tr>\n",
       "  </tbody>\n",
       "</table>\n",
       "</div>"
      ],
      "text/plain": [
       "             coef      std err         t         P>|t|        2.5 %  \\\n",
       "e401  8054.077008  1184.437455  6.799918  1.046791e-11  5732.622255   \n",
       "\n",
       "            97.5 %  \n",
       "e401  10375.531761  "
      ]
     },
     "execution_count": 26,
     "metadata": {},
     "output_type": "execute_result"
    }
   ],
   "source": [
    "# Trees\n",
    "trees = DecisionTreeRegressor(max_depth=30)\n",
    "trees_class = DecisionTreeClassifier(max_depth=30)\n",
    "\n",
    "np.random.seed(123)\n",
    "dml_irm_tree = dml.DoubleMLIRM(data_dml_base,\n",
    "                               ml_g = trees,\n",
    "                               ml_m = trees_class,\n",
    "                               trimming_threshold = 0.01,\n",
    "                               n_folds = 3)\n",
    "\n",
    "# Set nuisance-part specific parameters\n",
    "dml_irm_tree.set_ml_nuisance_params('ml_g0', 'e401', {\n",
    "    'ccp_alpha': 0.0016, 'min_samples_split': 74, 'min_samples_leaf': 24})\n",
    "dml_irm_tree.set_ml_nuisance_params('ml_g1', 'e401', {\n",
    "    'ccp_alpha': 0.0018, 'min_samples_split': 70, 'min_samples_leaf': 23})\n",
    "dml_irm_tree.set_ml_nuisance_params('ml_m', 'e401', {\n",
    "    'ccp_alpha': 0.0028, 'min_samples_split': 167, 'min_samples_leaf': 55})\n",
    "\n",
    "dml_irm_tree.fit(store_predictions=True)\n",
    "tree_summary = dml_irm_tree.summary\n",
    "\n",
    "tree_summary"
   ]
  },
  {
   "cell_type": "code",
   "execution_count": 27,
   "id": "8ab9a005",
   "metadata": {
    "execution": {
     "iopub.execute_input": "2022-06-15T08:06:11.988899Z",
     "iopub.status.busy": "2022-06-15T08:06:11.988175Z",
     "iopub.status.idle": "2022-06-15T08:06:13.129993Z",
     "shell.execute_reply": "2022-06-15T08:06:13.129188Z"
    }
   },
   "outputs": [
    {
     "data": {
      "text/html": [
       "<div>\n",
       "<style scoped>\n",
       "    .dataframe tbody tr th:only-of-type {\n",
       "        vertical-align: middle;\n",
       "    }\n",
       "\n",
       "    .dataframe tbody tr th {\n",
       "        vertical-align: top;\n",
       "    }\n",
       "\n",
       "    .dataframe thead th {\n",
       "        text-align: right;\n",
       "    }\n",
       "</style>\n",
       "<table border=\"1\" class=\"dataframe\">\n",
       "  <thead>\n",
       "    <tr style=\"text-align: right;\">\n",
       "      <th></th>\n",
       "      <th>coef</th>\n",
       "      <th>std err</th>\n",
       "      <th>t</th>\n",
       "      <th>P&gt;|t|</th>\n",
       "      <th>2.5 %</th>\n",
       "      <th>97.5 %</th>\n",
       "    </tr>\n",
       "  </thead>\n",
       "  <tbody>\n",
       "    <tr>\n",
       "      <th>e401</th>\n",
       "      <td>8232.06866</td>\n",
       "      <td>1231.951289</td>\n",
       "      <td>6.682138</td>\n",
       "      <td>2.354809e-11</td>\n",
       "      <td>5817.488503</td>\n",
       "      <td>10646.648817</td>\n",
       "    </tr>\n",
       "  </tbody>\n",
       "</table>\n",
       "</div>"
      ],
      "text/plain": [
       "            coef      std err         t         P>|t|        2.5 %  \\\n",
       "e401  8232.06866  1231.951289  6.682138  2.354809e-11  5817.488503   \n",
       "\n",
       "            97.5 %  \n",
       "e401  10646.648817  "
      ]
     },
     "execution_count": 27,
     "metadata": {},
     "output_type": "execute_result"
    }
   ],
   "source": [
    "# Boosted Trees\n",
    "boost = XGBRegressor(n_jobs=1, objective = \"reg:squarederror\")\n",
    "boost_class = XGBClassifier(use_label_encoder=False, n_jobs=1,\n",
    "                            objective = \"binary:logistic\", eval_metric = \"logloss\")\n",
    "\n",
    "np.random.seed(123)\n",
    "dml_irm_boost = dml.DoubleMLIRM(data_dml_base,\n",
    "                                ml_g = boost,\n",
    "                                ml_m = boost_class,\n",
    "                                trimming_threshold = 0.01,\n",
    "                                n_folds = 3)\n",
    "\n",
    "# Set nuisance-part specific parameters\n",
    "dml_irm_boost.set_ml_nuisance_params('ml_g0', 'e401', {\n",
    "    'eta': 0.1, 'n_estimators': 8})\n",
    "dml_irm_boost.set_ml_nuisance_params('ml_g1', 'e401', {\n",
    "    'eta': 0.1, 'n_estimators': 29})\n",
    "dml_irm_boost.set_ml_nuisance_params('ml_m', 'e401', {\n",
    "    'eta': 0.1, 'n_estimators': 23})\n",
    "\n",
    "dml_irm_boost.fit(store_predictions=True)\n",
    "boost_summary = dml_irm_boost.summary\n",
    "\n",
    "boost_summary"
   ]
  },
  {
   "cell_type": "code",
   "execution_count": 28,
   "id": "83a3293b",
   "metadata": {
    "execution": {
     "iopub.execute_input": "2022-06-15T08:06:13.133543Z",
     "iopub.status.busy": "2022-06-15T08:06:13.133275Z",
     "iopub.status.idle": "2022-06-15T08:06:13.145215Z",
     "shell.execute_reply": "2022-06-15T08:06:13.144558Z"
    }
   },
   "outputs": [
    {
     "data": {
      "text/html": [
       "<div>\n",
       "<style scoped>\n",
       "    .dataframe tbody tr th:only-of-type {\n",
       "        vertical-align: middle;\n",
       "    }\n",
       "\n",
       "    .dataframe tbody tr th {\n",
       "        vertical-align: top;\n",
       "    }\n",
       "\n",
       "    .dataframe thead th {\n",
       "        text-align: right;\n",
       "    }\n",
       "</style>\n",
       "<table border=\"1\" class=\"dataframe\">\n",
       "  <thead>\n",
       "    <tr style=\"text-align: right;\">\n",
       "      <th></th>\n",
       "      <th>coef</th>\n",
       "      <th>2.5 %</th>\n",
       "      <th>97.5 %</th>\n",
       "    </tr>\n",
       "  </thead>\n",
       "  <tbody>\n",
       "    <tr>\n",
       "      <th>lasso</th>\n",
       "      <td>7918.270280</td>\n",
       "      <td>5553.694555</td>\n",
       "      <td>10282.846006</td>\n",
       "    </tr>\n",
       "    <tr>\n",
       "      <th>forest</th>\n",
       "      <td>8020.190199</td>\n",
       "      <td>5785.360605</td>\n",
       "      <td>10255.019793</td>\n",
       "    </tr>\n",
       "    <tr>\n",
       "      <th>tree</th>\n",
       "      <td>8054.077008</td>\n",
       "      <td>5732.622255</td>\n",
       "      <td>10375.531761</td>\n",
       "    </tr>\n",
       "    <tr>\n",
       "      <th>xgboost</th>\n",
       "      <td>8232.068660</td>\n",
       "      <td>5817.488503</td>\n",
       "      <td>10646.648817</td>\n",
       "    </tr>\n",
       "  </tbody>\n",
       "</table>\n",
       "</div>"
      ],
      "text/plain": [
       "                coef        2.5 %        97.5 %\n",
       "lasso    7918.270280  5553.694555  10282.846006\n",
       "forest   8020.190199  5785.360605  10255.019793\n",
       "tree     8054.077008  5732.622255  10375.531761\n",
       "xgboost  8232.068660  5817.488503  10646.648817"
      ]
     },
     "execution_count": 28,
     "metadata": {},
     "output_type": "execute_result"
    }
   ],
   "source": [
    "irm_summary = pd.concat((lasso_summary, forest_summary, tree_summary, boost_summary))\n",
    "irm_summary.index = ['lasso', 'forest', 'tree', 'xgboost']\n",
    "irm_summary[['coef', '2.5 %', '97.5 %']]"
   ]
  },
  {
   "cell_type": "code",
   "execution_count": 29,
   "id": "ddf460d6",
   "metadata": {
    "execution": {
     "iopub.execute_input": "2022-06-15T08:06:13.148711Z",
     "iopub.status.busy": "2022-06-15T08:06:13.148099Z",
     "iopub.status.idle": "2022-06-15T08:06:13.253937Z",
     "shell.execute_reply": "2022-06-15T08:06:13.253203Z"
    }
   },
   "outputs": [
    {
     "data": {
      "image/png": "[encoded data removed]",
      "text/plain": [
       "<Figure size 432x288 with 1 Axes>"
      ]
     },
     "metadata": {
      "needs_background": "light"
     },
     "output_type": "display_data"
    }
   ],
   "source": [
    "errors = np.full((2, irm_summary.shape[0]), np.nan)\n",
    "errors[0, :] = irm_summary['coef'] - irm_summary['2.5 %']\n",
    "errors[1, :] = irm_summary['97.5 %'] - irm_summary['coef']\n",
    "plt.errorbar(irm_summary.index, irm_summary.coef, fmt='o', yerr=errors)\n",
    "plt.ylim([0, 12500])\n",
    "\n",
    "plt.title('Interactive Regression Model (IRM)')\n",
    "plt.xlabel('ML method')\n",
    "_ = plt.ylabel('Coefficients and 95%-CI')"
   ]
  },
  {
   "cell_type": "markdown",
   "id": "541d51d3",
   "metadata": {},
   "source": [
    "These estimates that flexibly account for confounding are\n",
    "substantially attenuated relative to the baseline estimate (*19559*) that does not account for confounding. They suggest much smaller causal effects of 401(k) eligiblity on financial asset holdings. The best model with lowest RMSE in both equations is the PLR model estimated via lasso. It gives the following estimate:"
   ]
  },
  {
   "cell_type": "markdown",
   "id": "a70f729b",
   "metadata": {},
   "source": [
    "## Local Average Treatment Effects of 401(k) Participation on Net Financial Assets"
   ]
  },
  {
   "cell_type": "markdown",
   "id": "f5c32411",
   "metadata": {},
   "source": [
    "### Interactive IV Model (IIVM)"
   ]
  },
  {
   "cell_type": "markdown",
   "id": "9ad4bf98",
   "metadata": {},
   "source": [
    "In the examples above, we estimated the average treatment effect of *eligibility* on financial asset holdings. Now, we consider estimation of local average treatment effects (LATE) of *participation* using eligibility as an instrument for the participation decision. Under appropriate assumptions, the LATE identifies the treatment effect for so-called compliers, i.e., individuals who would only participate if eligible and otherwise not participate in the program. \n",
    "\n",
    "As before, $Y$ denotes the outcome `net_tfa`, and $X$ is the vector of covariates. We use `e401` as a binary instrument for the treatment variable `p401`. Here the structural equation model is:\n",
    "\n",
    "\\begin{eqnarray}\n",
    "& Y = g_0(Z,X) + U, &\\quad E[U\\mid Z,X] = 0,\\\\\n",
    "& D = r_0(Z,X) + V, &\\quad E[V\\mid Z, X] = 0,\\\\\n",
    "& Z = m_0(X) + \\zeta, &\\quad E[\\zeta \\mid X] = 0.\n",
    "\\end{eqnarray}"
   ]
  },
  {
   "cell_type": "code",
   "execution_count": 30,
   "id": "85c3d0fe",
   "metadata": {
    "execution": {
     "iopub.execute_input": "2022-06-15T08:06:13.257594Z",
     "iopub.status.busy": "2022-06-15T08:06:13.257260Z",
     "iopub.status.idle": "2022-06-15T08:06:13.278051Z",
     "shell.execute_reply": "2022-06-15T08:06:13.277256Z"
    }
   },
   "outputs": [
    {
     "name": "stdout",
     "output_type": "stream",
     "text": [
      "================== DoubleMLData Object ==================\n",
      "\n",
      "------------------ Data summary      ------------------\n",
      "Outcome variable: net_tfa\n",
      "Treatment variable(s): ['p401']\n",
      "Covariates: ['age', 'inc', 'educ', 'fsize', 'marr', 'twoearn', 'db', 'pira', 'hown']\n",
      "Instrument variable(s): ['e401']\n",
      "No. Observations: 9915\n",
      "\n",
      "------------------ DataFrame info    ------------------\n",
      "<class 'pandas.core.frame.DataFrame'>\n",
      "Int64Index: 9915 entries, 0 to 9914\n",
      "Columns: 14 entries, nifa to hown\n",
      "dtypes: float64(4), int8(10)\n",
      "memory usage: 742.2 KB\n",
      "\n"
     ]
    }
   ],
   "source": [
    "# Initialize DoubleMLData with an instrument\n",
    "\n",
    "# Basic model\n",
    "data_dml_base_iv = dml.DoubleMLData(data,\n",
    "                                    y_col='net_tfa',\n",
    "                                    d_cols='p401',\n",
    "                                    z_cols='e401',\n",
    "                                    x_cols=features_base)\n",
    "\n",
    "print(data_dml_base_iv)"
   ]
  },
  {
   "cell_type": "code",
   "execution_count": 31,
   "id": "9c6f8fc8",
   "metadata": {
    "execution": {
     "iopub.execute_input": "2022-06-15T08:06:13.281467Z",
     "iopub.status.busy": "2022-06-15T08:06:13.281189Z",
     "iopub.status.idle": "2022-06-15T08:06:13.298765Z",
     "shell.execute_reply": "2022-06-15T08:06:13.298059Z"
    }
   },
   "outputs": [
    {
     "name": "stdout",
     "output_type": "stream",
     "text": [
      "================== DoubleMLData Object ==================\n",
      "\n",
      "------------------ Data summary      ------------------\n",
      "Outcome variable: net_tfa\n",
      "Treatment variable(s): ['p401']\n",
      "Covariates: ['marr', 'twoearn', 'db', 'pira', 'hown', 'age', 'age^2', 'inc', 'inc^2', 'educ', 'educ^2', 'fsize', 'fsize^2']\n",
      "Instrument variable(s): ['e401']\n",
      "No. Observations: 9915\n",
      "\n",
      "------------------ DataFrame info    ------------------\n",
      "<class 'pandas.core.frame.DataFrame'>\n",
      "Int64Index: 9915 entries, 0 to 9914\n",
      "Columns: 16 entries, net_tfa to fsize^2\n",
      "dtypes: float64(9), int8(7)\n",
      "memory usage: 1.1 MB\n",
      "\n"
     ]
    }
   ],
   "source": [
    "# Flexible model\n",
    "model_data = pd.concat((data.copy()[['net_tfa', 'e401', 'p401']], features.copy()),\n",
    "                        axis=1, sort=False)\n",
    "\n",
    "data_dml_iv_flex = dml.DoubleMLData(model_data,\n",
    "                                    y_col='net_tfa',\n",
    "                                    d_cols='p401',\n",
    "                                    z_cols='e401')\n",
    "\n",
    "print(data_dml_iv_flex)"
   ]
  },
  {
   "cell_type": "code",
   "execution_count": 32,
   "id": "c2e0942f",
   "metadata": {
    "execution": {
     "iopub.execute_input": "2022-06-15T08:06:13.302376Z",
     "iopub.status.busy": "2022-06-15T08:06:13.301999Z",
     "iopub.status.idle": "2022-06-15T08:06:18.950366Z",
     "shell.execute_reply": "2022-06-15T08:06:18.949555Z"
    }
   },
   "outputs": [
    {
     "data": {
      "text/html": [
       "<div>\n",
       "<style scoped>\n",
       "    .dataframe tbody tr th:only-of-type {\n",
       "        vertical-align: middle;\n",
       "    }\n",
       "\n",
       "    .dataframe tbody tr th {\n",
       "        vertical-align: top;\n",
       "    }\n",
       "\n",
       "    .dataframe thead th {\n",
       "        text-align: right;\n",
       "    }\n",
       "</style>\n",
       "<table border=\"1\" class=\"dataframe\">\n",
       "  <thead>\n",
       "    <tr style=\"text-align: right;\">\n",
       "      <th></th>\n",
       "      <th>coef</th>\n",
       "      <th>std err</th>\n",
       "      <th>t</th>\n",
       "      <th>P&gt;|t|</th>\n",
       "      <th>2.5 %</th>\n",
       "      <th>97.5 %</th>\n",
       "    </tr>\n",
       "  </thead>\n",
       "  <tbody>\n",
       "    <tr>\n",
       "      <th>p401</th>\n",
       "      <td>11489.25238</td>\n",
       "      <td>1747.417737</td>\n",
       "      <td>6.574989</td>\n",
       "      <td>4.865677e-11</td>\n",
       "      <td>8064.37655</td>\n",
       "      <td>14914.12821</td>\n",
       "    </tr>\n",
       "  </tbody>\n",
       "</table>\n",
       "</div>"
      ],
      "text/plain": [
       "             coef      std err         t         P>|t|       2.5 %  \\\n",
       "p401  11489.25238  1747.417737  6.574989  4.865677e-11  8064.37655   \n",
       "\n",
       "           97.5 %  \n",
       "p401  14914.12821  "
      ]
     },
     "execution_count": 32,
     "metadata": {},
     "output_type": "execute_result"
    }
   ],
   "source": [
    "# Lasso\n",
    "lasso = make_pipeline(StandardScaler(), LassoCV(cv=5, max_iter=20000))\n",
    "\n",
    "# Initialize DoubleMLIRM model\n",
    "np.random.seed(123)\n",
    "dml_iivm_lasso = dml.DoubleMLIIVM(data_dml_iv_flex,\n",
    "                                  ml_g = lasso,\n",
    "                                  ml_m = lasso_class,\n",
    "                                  ml_r = lasso_class,\n",
    "                                  subgroups = {'always_takers': False,\n",
    "                                             'never_takers': True},\n",
    "                                  trimming_threshold = 0.01,\n",
    "                                  n_folds = 3)\n",
    "dml_iivm_lasso.fit(store_predictions=True)\n",
    "lasso_summary = dml_iivm_lasso.summary\n",
    "\n",
    "lasso_summary"
   ]
  },
  {
   "cell_type": "markdown",
   "id": "19ddd6ad",
   "metadata": {},
   "source": [
    "Again, we repeat the procedure for the other machine learning methods:"
   ]
  },
  {
   "cell_type": "code",
   "execution_count": 33,
   "id": "438232b9",
   "metadata": {
    "execution": {
     "iopub.execute_input": "2022-06-15T08:06:18.954043Z",
     "iopub.status.busy": "2022-06-15T08:06:18.953783Z",
     "iopub.status.idle": "2022-06-15T08:06:35.869453Z",
     "shell.execute_reply": "2022-06-15T08:06:35.868720Z"
    }
   },
   "outputs": [
    {
     "data": {
      "text/html": [
       "<div>\n",
       "<style scoped>\n",
       "    .dataframe tbody tr th:only-of-type {\n",
       "        vertical-align: middle;\n",
       "    }\n",
       "\n",
       "    .dataframe tbody tr th {\n",
       "        vertical-align: top;\n",
       "    }\n",
       "\n",
       "    .dataframe thead th {\n",
       "        text-align: right;\n",
       "    }\n",
       "</style>\n",
       "<table border=\"1\" class=\"dataframe\">\n",
       "  <thead>\n",
       "    <tr style=\"text-align: right;\">\n",
       "      <th></th>\n",
       "      <th>coef</th>\n",
       "      <th>std err</th>\n",
       "      <th>t</th>\n",
       "      <th>P&gt;|t|</th>\n",
       "      <th>2.5 %</th>\n",
       "      <th>97.5 %</th>\n",
       "    </tr>\n",
       "  </thead>\n",
       "  <tbody>\n",
       "    <tr>\n",
       "      <th>p401</th>\n",
       "      <td>11550.03435</td>\n",
       "      <td>1638.022642</td>\n",
       "      <td>7.051206</td>\n",
       "      <td>1.773742e-12</td>\n",
       "      <td>8339.568966</td>\n",
       "      <td>14760.499734</td>\n",
       "    </tr>\n",
       "  </tbody>\n",
       "</table>\n",
       "</div>"
      ],
      "text/plain": [
       "             coef      std err         t         P>|t|        2.5 %  \\\n",
       "p401  11550.03435  1638.022642  7.051206  1.773742e-12  8339.568966   \n",
       "\n",
       "            97.5 %  \n",
       "p401  14760.499734  "
      ]
     },
     "execution_count": 33,
     "metadata": {},
     "output_type": "execute_result"
    }
   ],
   "source": [
    "# Random Forest\n",
    "randomForest = RandomForestRegressor(n_estimators=500)\n",
    "randomForest_class = RandomForestClassifier(n_estimators=500)\n",
    "\n",
    "np.random.seed(123)\n",
    "dml_iivm_forest = dml.DoubleMLIIVM(data_dml_base_iv,\n",
    "                                   ml_g = randomForest,\n",
    "                                   ml_m = randomForest_class,\n",
    "                                   ml_r = randomForest_class,\n",
    "                                   subgroups = {'always_takers': False,\n",
    "                                                'never_takers': True},\n",
    "                                   trimming_threshold = 0.01,\n",
    "                                   n_folds = 3)\n",
    "\n",
    "# Set nuisance-part specific parameters\n",
    "dml_iivm_forest.set_ml_nuisance_params('ml_g0', 'p401', {\n",
    "    'max_depth': 6, 'max_features': 4, 'min_samples_leaf': 7})\n",
    "dml_iivm_forest.set_ml_nuisance_params('ml_g1', 'p401', {\n",
    "    'max_depth': 6, 'max_features': 3, 'min_samples_leaf': 5})\n",
    "dml_iivm_forest.set_ml_nuisance_params('ml_m', 'p401', {\n",
    "    'max_depth': 6, 'max_features': 3, 'min_samples_leaf': 6})\n",
    "dml_iivm_forest.set_ml_nuisance_params('ml_r1', 'p401', {\n",
    "    'max_depth': 4, 'max_features': 7, 'min_samples_leaf': 6})\n",
    "\n",
    "dml_iivm_forest.fit(store_predictions=True) \n",
    "forest_summary = dml_iivm_forest.summary\n",
    "\n",
    "forest_summary"
   ]
  },
  {
   "cell_type": "code",
   "execution_count": 34,
   "id": "69630a44",
   "metadata": {
    "execution": {
     "iopub.execute_input": "2022-06-15T08:06:35.873058Z",
     "iopub.status.busy": "2022-06-15T08:06:35.872579Z",
     "iopub.status.idle": "2022-06-15T08:06:35.990006Z",
     "shell.execute_reply": "2022-06-15T08:06:35.989187Z"
    }
   },
   "outputs": [
    {
     "data": {
      "text/html": [
       "<div>\n",
       "<style scoped>\n",
       "    .dataframe tbody tr th:only-of-type {\n",
       "        vertical-align: middle;\n",
       "    }\n",
       "\n",
       "    .dataframe tbody tr th {\n",
       "        vertical-align: top;\n",
       "    }\n",
       "\n",
       "    .dataframe thead th {\n",
       "        text-align: right;\n",
       "    }\n",
       "</style>\n",
       "<table border=\"1\" class=\"dataframe\">\n",
       "  <thead>\n",
       "    <tr style=\"text-align: right;\">\n",
       "      <th></th>\n",
       "      <th>coef</th>\n",
       "      <th>std err</th>\n",
       "      <th>t</th>\n",
       "      <th>P&gt;|t|</th>\n",
       "      <th>2.5 %</th>\n",
       "      <th>97.5 %</th>\n",
       "    </tr>\n",
       "  </thead>\n",
       "  <tbody>\n",
       "    <tr>\n",
       "      <th>p401</th>\n",
       "      <td>11512.640404</td>\n",
       "      <td>1689.239802</td>\n",
       "      <td>6.815279</td>\n",
       "      <td>9.408106e-12</td>\n",
       "      <td>8201.79123</td>\n",
       "      <td>14823.489578</td>\n",
       "    </tr>\n",
       "  </tbody>\n",
       "</table>\n",
       "</div>"
      ],
      "text/plain": [
       "              coef      std err         t         P>|t|       2.5 %  \\\n",
       "p401  11512.640404  1689.239802  6.815279  9.408106e-12  8201.79123   \n",
       "\n",
       "            97.5 %  \n",
       "p401  14823.489578  "
      ]
     },
     "execution_count": 34,
     "metadata": {},
     "output_type": "execute_result"
    }
   ],
   "source": [
    "# Trees\n",
    "trees = DecisionTreeRegressor(max_depth=30)\n",
    "trees_class = DecisionTreeClassifier(max_depth=30)\n",
    "\n",
    "np.random.seed(123)\n",
    "dml_iivm_tree = dml.DoubleMLIIVM(data_dml_base_iv,\n",
    "                                 ml_g = trees,\n",
    "                                 ml_m = trees_class,\n",
    "                                 ml_r = trees_class,\n",
    "                                 subgroups = {'always_takers': False,\n",
    "                                              'never_takers': True},\n",
    "                                 trimming_threshold = 0.01,\n",
    "                                 n_folds = 3)\n",
    "\n",
    "# Set nuisance-part specific parameters\n",
    "dml_iivm_tree.set_ml_nuisance_params('ml_g0', 'p401', {\n",
    "    'ccp_alpha': 0.0016, 'min_samples_split': 74, 'min_samples_leaf': 24})\n",
    "dml_iivm_tree.set_ml_nuisance_params('ml_g1', 'p401', {\n",
    "    'ccp_alpha': 0.0018, 'min_samples_split': 70, 'min_samples_leaf': 23})\n",
    "dml_iivm_tree.set_ml_nuisance_params('ml_m', 'p401', {\n",
    "    'ccp_alpha': 0.0028, 'min_samples_split': 167, 'min_samples_leaf': 55})\n",
    "dml_iivm_tree.set_ml_nuisance_params('ml_r1', 'p401', {\n",
    "    'ccp_alpha': 0.0576, 'min_samples_split': 55, 'min_samples_leaf': 18})\n",
    "\n",
    "dml_iivm_tree.fit(store_predictions=True)\n",
    "tree_summary = dml_iivm_tree.summary\n",
    "\n",
    "tree_summary"
   ]
  },
  {
   "cell_type": "code",
   "execution_count": 35,
   "id": "239364cb",
   "metadata": {
    "execution": {
     "iopub.execute_input": "2022-06-15T08:06:35.994047Z",
     "iopub.status.busy": "2022-06-15T08:06:35.993398Z",
     "iopub.status.idle": "2022-06-15T08:06:37.329964Z",
     "shell.execute_reply": "2022-06-15T08:06:37.329178Z"
    }
   },
   "outputs": [
    {
     "data": {
      "text/html": [
       "<div>\n",
       "<style scoped>\n",
       "    .dataframe tbody tr th:only-of-type {\n",
       "        vertical-align: middle;\n",
       "    }\n",
       "\n",
       "    .dataframe tbody tr th {\n",
       "        vertical-align: top;\n",
       "    }\n",
       "\n",
       "    .dataframe thead th {\n",
       "        text-align: right;\n",
       "    }\n",
       "</style>\n",
       "<table border=\"1\" class=\"dataframe\">\n",
       "  <thead>\n",
       "    <tr style=\"text-align: right;\">\n",
       "      <th></th>\n",
       "      <th>coef</th>\n",
       "      <th>std err</th>\n",
       "      <th>t</th>\n",
       "      <th>P&gt;|t|</th>\n",
       "      <th>2.5 %</th>\n",
       "      <th>97.5 %</th>\n",
       "    </tr>\n",
       "  </thead>\n",
       "  <tbody>\n",
       "    <tr>\n",
       "      <th>p401</th>\n",
       "      <td>12412.530104</td>\n",
       "      <td>1678.83551</td>\n",
       "      <td>7.393536</td>\n",
       "      <td>1.429752e-13</td>\n",
       "      <td>9122.072968</td>\n",
       "      <td>15702.987241</td>\n",
       "    </tr>\n",
       "  </tbody>\n",
       "</table>\n",
       "</div>"
      ],
      "text/plain": [
       "              coef     std err         t         P>|t|        2.5 %  \\\n",
       "p401  12412.530104  1678.83551  7.393536  1.429752e-13  9122.072968   \n",
       "\n",
       "            97.5 %  \n",
       "p401  15702.987241  "
      ]
     },
     "execution_count": 35,
     "metadata": {},
     "output_type": "execute_result"
    }
   ],
   "source": [
    "# Boosted Trees\n",
    "boost = XGBRegressor(n_jobs=1, objective = \"reg:squarederror\")\n",
    "boost_class = XGBClassifier(use_label_encoder=False, n_jobs=1,\n",
    "                            objective = \"binary:logistic\", eval_metric = \"logloss\")\n",
    "\n",
    "np.random.seed(123)\n",
    "dml_iivm_boost = dml.DoubleMLIIVM(data_dml_base_iv,\n",
    "                                  ml_g = boost,\n",
    "                                  ml_m = boost_class,\n",
    "                                  ml_r = boost_class,\n",
    "                                  subgroups = {'always_takers': False,\n",
    "                                               'never_takers': True},\n",
    "                                  trimming_threshold = 0.01,\n",
    "                                  n_folds = 3)\n",
    "\n",
    "# Set nuisance-part specific parameters\n",
    "dml_iivm_boost.set_ml_nuisance_params('ml_g0', 'p401', {\n",
    "    'eta': 0.1, 'n_estimators': 9})\n",
    "dml_iivm_boost.set_ml_nuisance_params('ml_g1', 'p401', {\n",
    "    'eta': 0.1, 'n_estimators': 33})\n",
    "dml_iivm_boost.set_ml_nuisance_params('ml_m', 'p401', {\n",
    "    'eta': 0.1, 'n_estimators': 12})\n",
    "dml_iivm_boost.set_ml_nuisance_params('ml_r1', 'p401', {\n",
    "    'eta': 0.1, 'n_estimators': 25})\n",
    "\n",
    "dml_iivm_boost.fit(store_predictions=True)\n",
    "boost_summary = dml_iivm_boost.summary\n",
    "\n",
    "boost_summary"
   ]
  },
  {
   "cell_type": "code",
   "execution_count": 36,
   "id": "9e20803b",
   "metadata": {
    "execution": {
     "iopub.execute_input": "2022-06-15T08:06:37.333999Z",
     "iopub.status.busy": "2022-06-15T08:06:37.333576Z",
     "iopub.status.idle": "2022-06-15T08:06:37.345842Z",
     "shell.execute_reply": "2022-06-15T08:06:37.345209Z"
    }
   },
   "outputs": [
    {
     "data": {
      "text/html": [
       "<div>\n",
       "<style scoped>\n",
       "    .dataframe tbody tr th:only-of-type {\n",
       "        vertical-align: middle;\n",
       "    }\n",
       "\n",
       "    .dataframe tbody tr th {\n",
       "        vertical-align: top;\n",
       "    }\n",
       "\n",
       "    .dataframe thead th {\n",
       "        text-align: right;\n",
       "    }\n",
       "</style>\n",
       "<table border=\"1\" class=\"dataframe\">\n",
       "  <thead>\n",
       "    <tr style=\"text-align: right;\">\n",
       "      <th></th>\n",
       "      <th>coef</th>\n",
       "      <th>2.5 %</th>\n",
       "      <th>97.5 %</th>\n",
       "    </tr>\n",
       "  </thead>\n",
       "  <tbody>\n",
       "    <tr>\n",
       "      <th>lasso</th>\n",
       "      <td>11489.252380</td>\n",
       "      <td>8064.376550</td>\n",
       "      <td>14914.128210</td>\n",
       "    </tr>\n",
       "    <tr>\n",
       "      <th>forest</th>\n",
       "      <td>11550.034350</td>\n",
       "      <td>8339.568966</td>\n",
       "      <td>14760.499734</td>\n",
       "    </tr>\n",
       "    <tr>\n",
       "      <th>tree</th>\n",
       "      <td>11512.640404</td>\n",
       "      <td>8201.791230</td>\n",
       "      <td>14823.489578</td>\n",
       "    </tr>\n",
       "    <tr>\n",
       "      <th>xgboost</th>\n",
       "      <td>12412.530104</td>\n",
       "      <td>9122.072968</td>\n",
       "      <td>15702.987241</td>\n",
       "    </tr>\n",
       "  </tbody>\n",
       "</table>\n",
       "</div>"
      ],
      "text/plain": [
       "                 coef        2.5 %        97.5 %\n",
       "lasso    11489.252380  8064.376550  14914.128210\n",
       "forest   11550.034350  8339.568966  14760.499734\n",
       "tree     11512.640404  8201.791230  14823.489578\n",
       "xgboost  12412.530104  9122.072968  15702.987241"
      ]
     },
     "execution_count": 36,
     "metadata": {},
     "output_type": "execute_result"
    }
   ],
   "source": [
    "iivm_summary = pd.concat((lasso_summary, forest_summary, tree_summary, boost_summary))\n",
    "iivm_summary.index = ['lasso', 'forest', 'tree', 'xgboost']\n",
    "iivm_summary[['coef', '2.5 %', '97.5 %']]"
   ]
  },
  {
   "cell_type": "code",
   "execution_count": 37,
   "id": "259eb6eb",
   "metadata": {
    "execution": {
     "iopub.execute_input": "2022-06-15T08:06:37.349287Z",
     "iopub.status.busy": "2022-06-15T08:06:37.348654Z",
     "iopub.status.idle": "2022-06-15T08:06:37.352796Z",
     "shell.execute_reply": "2022-06-15T08:06:37.352176Z"
    }
   },
   "outputs": [],
   "source": [
    "colors = sns.color_palette()"
   ]
  },
  {
   "cell_type": "code",
   "execution_count": 38,
   "id": "87a4af31",
   "metadata": {
    "execution": {
     "iopub.execute_input": "2022-06-15T08:06:37.355983Z",
     "iopub.status.busy": "2022-06-15T08:06:37.355356Z",
     "iopub.status.idle": "2022-06-15T08:06:37.455225Z",
     "shell.execute_reply": "2022-06-15T08:06:37.454485Z"
    }
   },
   "outputs": [
    {
     "data": {
      "image/png": "[encoded data removed]",
      "text/plain": [
       "<Figure size 432x288 with 1 Axes>"
      ]
     },
     "metadata": {
      "needs_background": "light"
     },
     "output_type": "display_data"
    }
   ],
   "source": [
    "errors = np.full((2, iivm_summary.shape[0]), np.nan)\n",
    "errors[0, :] = iivm_summary['coef'] - iivm_summary['2.5 %']\n",
    "errors[1, :] = iivm_summary['97.5 %'] - iivm_summary['coef']\n",
    "plt.errorbar(iivm_summary.index, iivm_summary.coef, fmt='o', yerr=errors)\n",
    "plt.ylim([0, 16500])\n",
    "\n",
    "plt.title('Interactive IV Model (IIVM)')\n",
    "plt.xlabel('ML method')\n",
    "_ = plt.ylabel('Coefficients and 95%-CI')"
   ]
  },
  {
   "cell_type": "markdown",
   "id": "f80f1c8c",
   "metadata": {},
   "source": [
    "## Summary of Results"
   ]
  },
  {
   "cell_type": "markdown",
   "id": "1e427295",
   "metadata": {},
   "source": [
    "To sum up, let's merge all our results so far and illustrate them in a plot. "
   ]
  },
  {
   "cell_type": "code",
   "execution_count": 39,
   "id": "75c1862b",
   "metadata": {
    "execution": {
     "iopub.execute_input": "2022-06-15T08:06:37.459992Z",
     "iopub.status.busy": "2022-06-15T08:06:37.458527Z",
     "iopub.status.idle": "2022-06-15T08:06:37.478281Z",
     "shell.execute_reply": "2022-06-15T08:06:37.477694Z"
    }
   },
   "outputs": [
    {
     "data": {
      "text/html": [
       "<div>\n",
       "<style scoped>\n",
       "    .dataframe tbody tr th:only-of-type {\n",
       "        vertical-align: middle;\n",
       "    }\n",
       "\n",
       "    .dataframe tbody tr th {\n",
       "        vertical-align: top;\n",
       "    }\n",
       "\n",
       "    .dataframe thead th {\n",
       "        text-align: right;\n",
       "    }\n",
       "</style>\n",
       "<table border=\"1\" class=\"dataframe\">\n",
       "  <thead>\n",
       "    <tr style=\"text-align: right;\">\n",
       "      <th></th>\n",
       "      <th></th>\n",
       "      <th>coef</th>\n",
       "      <th>std err</th>\n",
       "      <th>t</th>\n",
       "      <th>P&gt;|t|</th>\n",
       "      <th>2.5 %</th>\n",
       "      <th>97.5 %</th>\n",
       "    </tr>\n",
       "    <tr>\n",
       "      <th>Model</th>\n",
       "      <th>ML</th>\n",
       "      <th></th>\n",
       "      <th></th>\n",
       "      <th></th>\n",
       "      <th></th>\n",
       "      <th></th>\n",
       "      <th></th>\n",
       "    </tr>\n",
       "  </thead>\n",
       "  <tbody>\n",
       "    <tr>\n",
       "      <th rowspan=\"4\" valign=\"top\">PLR</th>\n",
       "      <th>lasso</th>\n",
       "      <td>8974.791220</td>\n",
       "      <td>1324.323622</td>\n",
       "      <td>6.776887</td>\n",
       "      <td>1.227931e-11</td>\n",
       "      <td>6379.164617</td>\n",
       "      <td>11570.417822</td>\n",
       "    </tr>\n",
       "    <tr>\n",
       "      <th>forest</th>\n",
       "      <td>8909.634078</td>\n",
       "      <td>1321.822289</td>\n",
       "      <td>6.740417</td>\n",
       "      <td>1.579322e-11</td>\n",
       "      <td>6318.909997</td>\n",
       "      <td>11500.358158</td>\n",
       "    </tr>\n",
       "    <tr>\n",
       "      <th>tree</th>\n",
       "      <td>8260.064280</td>\n",
       "      <td>1348.624798</td>\n",
       "      <td>6.124805</td>\n",
       "      <td>9.079458e-10</td>\n",
       "      <td>5616.808246</td>\n",
       "      <td>10903.320314</td>\n",
       "    </tr>\n",
       "    <tr>\n",
       "      <th>xgboost</th>\n",
       "      <td>8816.895718</td>\n",
       "      <td>1417.488973</td>\n",
       "      <td>6.220081</td>\n",
       "      <td>4.968994e-10</td>\n",
       "      <td>6038.668383</td>\n",
       "      <td>11595.123054</td>\n",
       "    </tr>\n",
       "    <tr>\n",
       "      <th rowspan=\"4\" valign=\"top\">IRM</th>\n",
       "      <th>lasso</th>\n",
       "      <td>7918.270280</td>\n",
       "      <td>1206.438355</td>\n",
       "      <td>6.563344</td>\n",
       "      <td>5.261418e-11</td>\n",
       "      <td>5553.694555</td>\n",
       "      <td>10282.846006</td>\n",
       "    </tr>\n",
       "    <tr>\n",
       "      <th>forest</th>\n",
       "      <td>8020.190199</td>\n",
       "      <td>1140.240133</td>\n",
       "      <td>7.033773</td>\n",
       "      <td>2.010222e-12</td>\n",
       "      <td>5785.360605</td>\n",
       "      <td>10255.019793</td>\n",
       "    </tr>\n",
       "    <tr>\n",
       "      <th>tree</th>\n",
       "      <td>8054.077008</td>\n",
       "      <td>1184.437455</td>\n",
       "      <td>6.799918</td>\n",
       "      <td>1.046791e-11</td>\n",
       "      <td>5732.622255</td>\n",
       "      <td>10375.531761</td>\n",
       "    </tr>\n",
       "    <tr>\n",
       "      <th>xgboost</th>\n",
       "      <td>8232.068660</td>\n",
       "      <td>1231.951289</td>\n",
       "      <td>6.682138</td>\n",
       "      <td>2.354809e-11</td>\n",
       "      <td>5817.488503</td>\n",
       "      <td>10646.648817</td>\n",
       "    </tr>\n",
       "    <tr>\n",
       "      <th rowspan=\"4\" valign=\"top\">IIVM</th>\n",
       "      <th>lasso</th>\n",
       "      <td>11489.252380</td>\n",
       "      <td>1747.417737</td>\n",
       "      <td>6.574989</td>\n",
       "      <td>4.865677e-11</td>\n",
       "      <td>8064.376550</td>\n",
       "      <td>14914.128210</td>\n",
       "    </tr>\n",
       "    <tr>\n",
       "      <th>forest</th>\n",
       "      <td>11550.034350</td>\n",
       "      <td>1638.022642</td>\n",
       "      <td>7.051206</td>\n",
       "      <td>1.773742e-12</td>\n",
       "      <td>8339.568966</td>\n",
       "      <td>14760.499734</td>\n",
       "    </tr>\n",
       "    <tr>\n",
       "      <th>tree</th>\n",
       "      <td>11512.640404</td>\n",
       "      <td>1689.239802</td>\n",
       "      <td>6.815279</td>\n",
       "      <td>9.408106e-12</td>\n",
       "      <td>8201.791230</td>\n",
       "      <td>14823.489578</td>\n",
       "    </tr>\n",
       "    <tr>\n",
       "      <th>xgboost</th>\n",
       "      <td>12412.530104</td>\n",
       "      <td>1678.835510</td>\n",
       "      <td>7.393536</td>\n",
       "      <td>1.429752e-13</td>\n",
       "      <td>9122.072968</td>\n",
       "      <td>15702.987241</td>\n",
       "    </tr>\n",
       "  </tbody>\n",
       "</table>\n",
       "</div>"
      ],
      "text/plain": [
       "                       coef      std err         t         P>|t|        2.5 %  \\\n",
       "Model ML                                                                        \n",
       "PLR   lasso     8974.791220  1324.323622  6.776887  1.227931e-11  6379.164617   \n",
       "      forest    8909.634078  1321.822289  6.740417  1.579322e-11  6318.909997   \n",
       "      tree      8260.064280  1348.624798  6.124805  9.079458e-10  5616.808246   \n",
       "      xgboost   8816.895718  1417.488973  6.220081  4.968994e-10  6038.668383   \n",
       "IRM   lasso     7918.270280  1206.438355  6.563344  5.261418e-11  5553.694555   \n",
       "      forest    8020.190199  1140.240133  7.033773  2.010222e-12  5785.360605   \n",
       "      tree      8054.077008  1184.437455  6.799918  1.046791e-11  5732.622255   \n",
       "      xgboost   8232.068660  1231.951289  6.682138  2.354809e-11  5817.488503   \n",
       "IIVM  lasso    11489.252380  1747.417737  6.574989  4.865677e-11  8064.376550   \n",
       "      forest   11550.034350  1638.022642  7.051206  1.773742e-12  8339.568966   \n",
       "      tree     11512.640404  1689.239802  6.815279  9.408106e-12  8201.791230   \n",
       "      xgboost  12412.530104  1678.835510  7.393536  1.429752e-13  9122.072968   \n",
       "\n",
       "                     97.5 %  \n",
       "Model ML                     \n",
       "PLR   lasso    11570.417822  \n",
       "      forest   11500.358158  \n",
       "      tree     10903.320314  \n",
       "      xgboost  11595.123054  \n",
       "IRM   lasso    10282.846006  \n",
       "      forest   10255.019793  \n",
       "      tree     10375.531761  \n",
       "      xgboost  10646.648817  \n",
       "IIVM  lasso    14914.128210  \n",
       "      forest   14760.499734  \n",
       "      tree     14823.489578  \n",
       "      xgboost  15702.987241  "
      ]
     },
     "execution_count": 39,
     "metadata": {},
     "output_type": "execute_result"
    }
   ],
   "source": [
    "df_summary = pd.concat((plr_summary, irm_summary, iivm_summary)).reset_index().rename(columns={'index': 'ML'})\n",
    "df_summary['Model'] = np.concatenate((np.repeat('PLR', 4), np.repeat('IRM', 4), np.repeat('IIVM', 4)))\n",
    "df_summary.set_index(['Model', 'ML'])"
   ]
  },
  {
   "cell_type": "code",
   "execution_count": 40,
   "id": "dfb07885",
   "metadata": {
    "execution": {
     "iopub.execute_input": "2022-06-15T08:06:37.482217Z",
     "iopub.status.busy": "2022-06-15T08:06:37.481739Z",
     "iopub.status.idle": "2022-06-15T08:06:37.863499Z",
     "shell.execute_reply": "2022-06-15T08:06:37.862587Z"
    },
    "tags": [
     "nbsphinx-thumbnail"
    ]
   },
   "outputs": [
    {
     "data": {
      "image/png": "[encoded data removed]",
      "text/plain": [
       "<Figure size 720x1080 with 3 Axes>"
      ]
     },
     "metadata": {
      "needs_background": "light"
     },
     "output_type": "display_data"
    }
   ],
   "source": [
    "plt.figure(figsize=(10, 15))\n",
    "colors = sns.color_palette()\n",
    "for ind, model in enumerate(['PLR', 'IRM', 'IIVM']):\n",
    "    plt.subplot(3, 1, ind+1)\n",
    "    this_df = df_summary.query('Model == @model')\n",
    "    errors = np.full((2, this_df.shape[0]), np.nan)\n",
    "    errors[0, :] = this_df['coef'] - this_df['2.5 %']\n",
    "    errors[1, :] = this_df['97.5 %'] - this_df['coef']\n",
    "    plt.errorbar(this_df.ML, this_df.coef, fmt='o', yerr=errors,\n",
    "                 color=colors[ind], ecolor=colors[ind])\n",
    "    plt.ylim([0, 16500])\n",
    "    plt.title(model)\n",
    "    plt.ylabel('Coefficients and 95%-CI')\n",
    "\n",
    "_ = plt.xlabel('ML method')"
   ]
  },
  {
   "cell_type": "markdown",
   "id": "4974df69",
   "metadata": {},
   "source": [
    "We report results based on four ML methods for estimating the nuisance functions used in\n",
    "forming the orthogonal estimating equations. We find again that the estimates of the treatment effect are stable across ML methods. The estimates are highly significant, hence we would reject the hypothesis\n",
    "that 401(k) participation has no effect on financial wealth."
   ]
  },
  {
   "cell_type": "markdown",
   "id": "72e515ad",
   "metadata": {},
   "source": [
    "______\n",
    "\n",
    "**Acknowledgement**\n",
    "\n",
    "We would like to thank [Jannis Kueck](https://www.bwl.uni-hamburg.de/en/statistik/team/kueck.html) for sharing [the kaggle notebook](https://www.kaggle.com/janniskueck/pm5-401k). The pension data set has been analyzed in several studies, among others [Chernozhukov et al. (2018)](https://arxiv.org/abs/1608.00060).\n",
    "\n"
   ]
  }
 ],
 "metadata": {
  "kernelspec": {
   "display_name": "Python 3 (ipykernel)",
   "language": "python",
   "name": "python3"
  },
  "language_info": {
   "codemirror_mode": {
    "name": "ipython",
    "version": 3
   },
   "file_extension": ".py",
   "mimetype": "text/x-python",
   "name": "python",
   "nbconvert_exporter": "python",
   "pygments_lexer": "ipython3",
   "version": "3.8.12"
  }
 },
 "nbformat": 4,
 "nbformat_minor": 5
}
