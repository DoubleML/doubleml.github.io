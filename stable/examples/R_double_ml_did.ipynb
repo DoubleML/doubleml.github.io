{
 "cells": [
  {
   "cell_type": "markdown",
   "id": "e401eb2c",
   "metadata": {},
   "source": [
    "# R: DoubleML for Difference-in-Differences"
   ]
  },
  {
   "cell_type": "markdown",
   "id": "2990ecf5",
   "metadata": {},
   "source": [
    "In this example, we demonstrate, how `DoubleML` can be used in combination with the [did package for R](https://bcallaway11.github.io/did/index.html) in order to estimate group-time average treatment effects in difference-in-difference (DiD) models with multiple periods."
   ]
  },
  {
   "cell_type": "code",
   "execution_count": 1,
   "id": "050cfe7e",
   "metadata": {
    "execution": {
     "iopub.execute_input": "2025-07-08T16:07:41.485562Z",
     "iopub.status.busy": "2025-07-08T16:07:41.483654Z",
     "iopub.status.idle": "2025-07-08T16:07:43.305058Z",
     "shell.execute_reply": "2025-07-08T16:07:43.303767Z"
    },
    "vscode": {
     "languageId": "r"
    }
   },
   "outputs": [],
   "source": [
    "library(DoubleML)\n",
    "library(did)\n",
    "library(mlr3)\n",
    "library(mlr3learners)\n",
    "\n",
    "# suppress messages during fitting\n",
    "lgr::get_logger(\"mlr3\")$set_threshold(\"warn\")\n",
    "\n",
    "set.seed(1234)\n"
   ]
  },
  {
   "cell_type": "markdown",
   "id": "19aaa906",
   "metadata": {},
   "source": [
    "# Demo Example from `did`\n",
    "\n",
    "We will demonstrate the use of `DoubleML` for DiD in the [introductory example](https://bcallaway11.github.io/did/articles/did-basics.html) of the `did` package. "
   ]
  },
  {
   "cell_type": "code",
   "execution_count": 2,
   "id": "c5d9b7ac",
   "metadata": {
    "execution": {
     "iopub.execute_input": "2025-07-08T16:07:43.327228Z",
     "iopub.status.busy": "2025-07-08T16:07:43.307570Z",
     "iopub.status.idle": "2025-07-08T16:07:43.465996Z",
     "shell.execute_reply": "2025-07-08T16:07:43.464865Z"
    },
    "vscode": {
     "languageId": "r"
    }
   },
   "outputs": [
    {
     "data": {
      "text/html": [
       "15916"
      ],
      "text/latex": [
       "15916"
      ],
      "text/markdown": [
       "15916"
      ],
      "text/plain": [
       "[1] 15916"
      ]
     },
     "metadata": {},
     "output_type": "display_data"
    },
    {
     "data": {
      "text/html": [
       "<table class=\"dataframe\">\n",
       "<caption>A tibble: 6 × 7</caption>\n",
       "<thead>\n",
       "\t<tr><th scope=col>G</th><th scope=col>X</th><th scope=col>id</th><th scope=col>cluster</th><th scope=col>period</th><th scope=col>Y</th><th scope=col>treat</th></tr>\n",
       "\t<tr><th scope=col>&lt;dbl&gt;</th><th scope=col>&lt;dbl&gt;</th><th scope=col>&lt;int&gt;</th><th scope=col>&lt;int&gt;</th><th scope=col>&lt;dbl&gt;</th><th scope=col>&lt;dbl&gt;</th><th scope=col>&lt;dbl&gt;</th></tr>\n",
       "</thead>\n",
       "<tbody>\n",
       "\t<tr><td>3</td><td>-0.8762330</td><td>1</td><td> 5</td><td>1</td><td> 5.562556</td><td>1</td></tr>\n",
       "\t<tr><td>3</td><td>-0.8762330</td><td>1</td><td> 5</td><td>2</td><td> 4.349213</td><td>1</td></tr>\n",
       "\t<tr><td>3</td><td>-0.8762330</td><td>1</td><td> 5</td><td>3</td><td> 7.134037</td><td>1</td></tr>\n",
       "\t<tr><td>3</td><td>-0.8762330</td><td>1</td><td> 5</td><td>4</td><td> 6.243056</td><td>1</td></tr>\n",
       "\t<tr><td>2</td><td>-0.8738481</td><td>2</td><td>36</td><td>1</td><td>-3.659387</td><td>1</td></tr>\n",
       "\t<tr><td>2</td><td>-0.8738481</td><td>2</td><td>36</td><td>2</td><td>-1.274099</td><td>1</td></tr>\n",
       "</tbody>\n",
       "</table>\n"
      ],
      "text/latex": [
       "A tibble: 6 × 7\n",
       "\\begin{tabular}{lllllll}\n",
       " G & X & id & cluster & period & Y & treat\\\\\n",
       " <dbl> & <dbl> & <int> & <int> & <dbl> & <dbl> & <dbl>\\\\\n",
       "\\hline\n",
       "\t 3 & -0.8762330 & 1 &  5 & 1 &  5.562556 & 1\\\\\n",
       "\t 3 & -0.8762330 & 1 &  5 & 2 &  4.349213 & 1\\\\\n",
       "\t 3 & -0.8762330 & 1 &  5 & 3 &  7.134037 & 1\\\\\n",
       "\t 3 & -0.8762330 & 1 &  5 & 4 &  6.243056 & 1\\\\\n",
       "\t 2 & -0.8738481 & 2 & 36 & 1 & -3.659387 & 1\\\\\n",
       "\t 2 & -0.8738481 & 2 & 36 & 2 & -1.274099 & 1\\\\\n",
       "\\end{tabular}\n"
      ],
      "text/markdown": [
       "\n",
       "A tibble: 6 × 7\n",
       "\n",
       "| G &lt;dbl&gt; | X &lt;dbl&gt; | id &lt;int&gt; | cluster &lt;int&gt; | period &lt;dbl&gt; | Y &lt;dbl&gt; | treat &lt;dbl&gt; |\n",
       "|---|---|---|---|---|---|---|\n",
       "| 3 | -0.8762330 | 1 |  5 | 1 |  5.562556 | 1 |\n",
       "| 3 | -0.8762330 | 1 |  5 | 2 |  4.349213 | 1 |\n",
       "| 3 | -0.8762330 | 1 |  5 | 3 |  7.134037 | 1 |\n",
       "| 3 | -0.8762330 | 1 |  5 | 4 |  6.243056 | 1 |\n",
       "| 2 | -0.8738481 | 2 | 36 | 1 | -3.659387 | 1 |\n",
       "| 2 | -0.8738481 | 2 | 36 | 2 | -1.274099 | 1 |\n",
       "\n"
      ],
      "text/plain": [
       "  G X          id cluster period Y         treat\n",
       "1 3 -0.8762330 1   5      1       5.562556 1    \n",
       "2 3 -0.8762330 1   5      2       4.349213 1    \n",
       "3 3 -0.8762330 1   5      3       7.134037 1    \n",
       "4 3 -0.8762330 1   5      4       6.243056 1    \n",
       "5 2 -0.8738481 2  36      1      -3.659387 1    \n",
       "6 2 -0.8738481 2  36      2      -1.274099 1    "
      ]
     },
     "metadata": {},
     "output_type": "display_data"
    }
   ],
   "source": [
    "# Generate data, original code available at https://github.com/bcallaway11/did/blob/master/vignettes/did-basics.Rmd\n",
    "time.periods <- 4\n",
    "sp <- reset.sim()\n",
    "sp$te <- 0\n",
    "\n",
    "set.seed(1814)\n",
    "\n",
    "# generate dataset with 4 time periods\n",
    "time.periods <- 4\n",
    "\n",
    "# add dynamic effects\n",
    "sp$te.e <- 1:time.periods\n",
    "\n",
    "# generate data set with these parameters\n",
    "# here, we dropped all units who are treated in time period 1 as they do not help us recover ATT(g,t)'s.\n",
    "dta <- build_sim_dataset(sp)\n",
    "\n",
    "# How many observations remained after dropping the ``always-treated'' units\n",
    "nrow(dta)\n",
    "#This is what the data looks like\n",
    "head(dta)"
   ]
  },
  {
   "cell_type": "markdown",
   "id": "f508a08b",
   "metadata": {},
   "source": [
    "### Comparison to `did` package\n",
    "\n",
    "By default, estimation in `did` is based on (unpenalized) linear and logistic regression. Let's start with this default model first."
   ]
  },
  {
   "cell_type": "code",
   "execution_count": 3,
   "id": "945902b5",
   "metadata": {
    "execution": {
     "iopub.execute_input": "2025-07-08T16:07:43.469277Z",
     "iopub.status.busy": "2025-07-08T16:07:43.468393Z",
     "iopub.status.idle": "2025-07-08T16:07:44.073596Z",
     "shell.execute_reply": "2025-07-08T16:07:44.072467Z"
    },
    "vscode": {
     "languageId": "r"
    }
   },
   "outputs": [
    {
     "name": "stdout",
     "output_type": "stream",
     "text": [
      "\n",
      "Call:\n",
      "att_gt(yname = \"Y\", tname = \"period\", idname = \"id\", gname = \"G\", \n",
      "    xformla = ~X, data = dta)\n",
      "\n",
      "Reference: Callaway, Brantly and Pedro H.C. Sant'Anna.  \"Difference-in-Differences with Multiple Time Periods.\" Journal of Econometrics, Vol. 225, No. 2, pp. 200-230, 2021. <https://doi.org/10.1016/j.jeconom.2020.12.001>, <https://arxiv.org/abs/1803.09015> \n",
      "\n",
      "Group-Time Average Treatment Effects:\n",
      " Group Time ATT(g,t) Std. Error [95% Simult.  Conf. Band]  \n",
      "     2    2   0.9209     0.0640        0.7432      1.0986 *\n",
      "     2    3   1.9875     0.0638        1.8102      2.1648 *\n",
      "     2    4   2.9552     0.0636        2.7786      3.1318 *\n",
      "     3    2  -0.0433     0.0659       -0.2264      0.1399  \n",
      "     3    3   1.1080     0.0632        0.9325      1.2836 *\n",
      "     3    4   2.0590     0.0628        1.8845      2.2335 *\n",
      "     4    2   0.0023     0.0647       -0.1774      0.1820  \n",
      "     4    3   0.0615     0.0645       -0.1176      0.2407  \n",
      "     4    4   0.9523     0.0671        0.7660      1.1387 *\n",
      "---\n",
      "Signif. codes: `*' confidence band does not cover 0\n",
      "\n",
      "P-value for pre-test of parallel trends assumption:  0.60857\n",
      "Control Group:  Never Treated,  Anticipation Periods:  0\n",
      "Estimation Method:  Doubly Robust\n"
     ]
    }
   ],
   "source": [
    "# estimate group-time average treatment effects using att_gt method\n",
    "example_attgt <- att_gt(yname = \"Y\",\n",
    "                        tname = \"period\",\n",
    "                        idname = \"id\",\n",
    "                        gname = \"G\",\n",
    "                        xformla = ~X,\n",
    "                        data = dta\n",
    "                        )\n",
    "\n",
    "# summarize the results\n",
    "summary(example_attgt)"
   ]
  },
  {
   "cell_type": "markdown",
   "id": "ed9b4f0e",
   "metadata": {},
   "source": [
    "### Using ML for DiD: Integrating `DoubleML` in `did`\n",
    "\n",
    "As described in our [Section on DiD models in the user guide](https://docs.doubleml.org/stable/guide/models.html#difference-in-differences-models-did), [Sant'Anna and Zhao (2020)](https://linkinghub.elsevier.com/retrieve/pii/S0304407620301901) have developed a doubly robust DiD model which is compatible with ML-based estimation. As this doubly robust model is internally used in `did`, it is possible to use `DoubleML` here to obtain valid point estimates and confidence intervals. For this, we need to write a wrapper around a `DoubleMLIRM` model and pass it to `did` as a custom estimation approach. Once this is implemented, we can use all the nice features and advantages of the `did` package.\n",
    "\n",
    "For now, let's abstract from using fancy ML algorithms to keep the comparison to the classic `did` implementation simple. Hence, we will use linear and logistic regression for the nuisance compontents in the DiD model."
   ]
  },
  {
   "cell_type": "code",
   "execution_count": 4,
   "id": "a0e92c95",
   "metadata": {
    "execution": {
     "iopub.execute_input": "2025-07-08T16:07:44.076838Z",
     "iopub.status.busy": "2025-07-08T16:07:44.075934Z",
     "iopub.status.idle": "2025-07-08T16:07:48.961105Z",
     "shell.execute_reply": "2025-07-08T16:07:48.959993Z"
    },
    "vscode": {
     "languageId": "r"
    }
   },
   "outputs": [
    {
     "name": "stdout",
     "output_type": "stream",
     "text": [
      "\n",
      "Call:\n",
      "att_gt(yname = \"Y\", tname = \"period\", idname = \"id\", gname = \"G\", \n",
      "    xformla = ~X, data = dta, est_method = doubleml_did_linear)\n",
      "\n",
      "Reference: Callaway, Brantly and Pedro H.C. Sant'Anna.  \"Difference-in-Differences with Multiple Time Periods.\" Journal of Econometrics, Vol. 225, No. 2, pp. 200-230, 2021. <https://doi.org/10.1016/j.jeconom.2020.12.001>, <https://arxiv.org/abs/1803.09015> \n",
      "\n",
      "Group-Time Average Treatment Effects:\n",
      " Group Time ATT(g,t) Std. Error [95% Simult.  Conf. Band]  \n",
      "     2    2   0.9145     0.0654        0.7418      1.0872 *\n",
      "     2    3   1.9951     0.0655        1.8221      2.1681 *\n",
      "     2    4   2.9561     0.0653        2.7838      3.1285 *\n",
      "     3    2  -0.0418     0.0704       -0.2276      0.1441  \n",
      "     3    3   1.1041     0.0649        0.9327      1.2754 *\n",
      "     3    4   2.0533     0.0669        1.8768      2.2298 *\n",
      "     4    2  -0.0028     0.0716       -0.1918      0.1862  \n",
      "     4    3   0.0635     0.0675       -0.1147      0.2416  \n",
      "     4    4   0.9609     0.0673        0.7833      1.1386 *\n",
      "---\n",
      "Signif. codes: `*' confidence band does not cover 0\n",
      "\n",
      "P-value for pre-test of parallel trends assumption:  0.64579\n",
      "Control Group:  Never Treated,  Anticipation Periods:  0\n"
     ]
    }
   ],
   "source": [
    "# DoubleML wrapper for did\n",
    "set.seed(1234)\n",
    "doubleml_did_linear <- function(y1, y0, D, covariates,\n",
    "                         ml_g = lrn(\"regr.lm\"),\n",
    "                         ml_m = lrn(\"classif.log_reg\"),\n",
    "                         n_folds = 10, n_rep = 1, ...) {\n",
    "  \n",
    "  # warning if n_rep > 1 to handle mapping from psi to inf.func\n",
    "  if (n_rep > 1) {\n",
    "    warning(\"n_rep > 1 is not supported.\")\n",
    "  }\n",
    "  # Compute difference in outcomes\n",
    "  delta_y <- y1 - y0\n",
    "  # Prepare data backend\n",
    "  dml_data = DoubleML::double_ml_data_from_matrix(X = covariates, y = delta_y, d = D)\n",
    "  # Compute the ATT\n",
    "  dml_obj = DoubleML::DoubleMLIRM$new(dml_data, ml_g = ml_g, ml_m = ml_m, score = \"ATTE\", n_folds = n_folds)\n",
    "  dml_obj$fit()\n",
    "  att = dml_obj$coef[1]\n",
    "  # Return results\n",
    "  inf.func <- dml_obj$psi[, 1, 1]\n",
    "  output <- list(ATT = att, att.inf.func = inf.func)\n",
    "  return(output)\n",
    "}\n",
    "\n",
    "example_attgt_dml_linear <- att_gt(yname = \"Y\",\n",
    "                        tname = \"period\",\n",
    "                        idname = \"id\",\n",
    "                        gname = \"G\",\n",
    "                        xformla = ~X,\n",
    "                        data = dta,\n",
    "                        est_method = doubleml_did_linear)\n",
    "\n",
    "\n",
    "summary(example_attgt_dml_linear)"
   ]
  },
  {
   "cell_type": "markdown",
   "id": "344bfbf4",
   "metadata": {
    "vscode": {
     "languageId": "r"
    }
   },
   "source": [
    "Any differences from the default `did` implementation arise due to sampling randomness, because `DoubleML` uses cross-fitting internally, which is not necessary if classical parametric estimation methods are used.\n",
    "\n",
    "Next, let's demonstrate how we can use more complex ML learners. For this, we just have to pass another `mlr3` learner through the wrapper, for example a random forest. Please note that the original data generating process is linear, such that we don't expect random forest to lead to better results than the linear learners. We provide a variant of the wrapper that includes an evaluation of the nuisance predictions at the end of this notebook."
   ]
  },
  {
   "cell_type": "code",
   "execution_count": 5,
   "id": "23e26476",
   "metadata": {
    "execution": {
     "iopub.execute_input": "2025-07-08T16:07:48.964409Z",
     "iopub.status.busy": "2025-07-08T16:07:48.963531Z",
     "iopub.status.idle": "2025-07-08T16:08:05.697310Z",
     "shell.execute_reply": "2025-07-08T16:08:05.696018Z"
    },
    "vscode": {
     "languageId": "r"
    }
   },
   "outputs": [
    {
     "name": "stdout",
     "output_type": "stream",
     "text": [
      "\n",
      "Call:\n",
      "att_gt(yname = \"Y\", tname = \"period\", idname = \"id\", gname = \"G\", \n",
      "    xformla = ~X, data = dta, est_method = doubleml_did_rf)\n",
      "\n",
      "Reference: Callaway, Brantly and Pedro H.C. Sant'Anna.  \"Difference-in-Differences with Multiple Time Periods.\" Journal of Econometrics, Vol. 225, No. 2, pp. 200-230, 2021. <https://doi.org/10.1016/j.jeconom.2020.12.001>, <https://arxiv.org/abs/1803.09015> \n",
      "\n",
      "Group-Time Average Treatment Effects:\n",
      " Group Time ATT(g,t) Std. Error [95% Simult.  Conf. Band]  \n",
      "     2    2   0.9647     0.0736        0.7603      1.1691 *\n",
      "     2    3   2.1055     0.0894        1.8571      2.3538 *\n",
      "     2    4   3.1295     0.1096        2.8250      3.4339 *\n",
      "     3    2   0.0820     0.0719       -0.1177      0.2818  \n",
      "     3    3   1.2075     0.0707        1.0112      1.4039 *\n",
      "     3    4   2.2865     0.0916        2.0323      2.5408 *\n",
      "     4    2   0.1807     0.0743       -0.0257      0.3871  \n",
      "     4    3   0.2451     0.0662        0.0611      0.4290 *\n",
      "     4    4   1.1401     0.0711        0.9425      1.3376 *\n",
      "---\n",
      "Signif. codes: `*' confidence band does not cover 0\n",
      "\n",
      "P-value for pre-test of parallel trends assumption:  2e-05\n",
      "Control Group:  Never Treated,  Anticipation Periods:  0\n"
     ]
    }
   ],
   "source": [
    "# DoubleML wrapper for did with random forest learner\n",
    "set.seed(1234)\n",
    "\n",
    "doubleml_did_rf <- function(y1, y0, D, covariates,\n",
    "  ml_g = lrn(\"regr.ranger\"),\n",
    "  ml_m = lrn(\"classif.ranger\"),\n",
    "  n_folds = 10, n_rep = 1, ...) {\n",
    "\n",
    "# warning if n_rep > 1 to handle mapping from psi to inf.func\n",
    "if (n_rep > 1) {\n",
    "warning(\"n_rep > 1 is not supported.\")\n",
    "}\n",
    "# Compute difference in outcomes\n",
    "delta_y <- y1 - y0\n",
    "# Prepare data backend\n",
    "dml_data = DoubleML::double_ml_data_from_matrix(X = covariates, y = delta_y, d = D)\n",
    "# Compute the ATT\n",
    "dml_obj = DoubleML::DoubleMLIRM$new(dml_data, ml_g = ml_g, ml_m = ml_m, score = \"ATTE\", n_folds = n_folds)\n",
    "dml_obj$fit()\n",
    "att = dml_obj$coef[1]\n",
    "# Return results\n",
    "inf.func <- dml_obj$psi[, 1, 1]\n",
    "output <- list(ATT = att, att.inf.func = inf.func)\n",
    "return(output)\n",
    "}\n",
    "\n",
    "example_attgt_dml_rf <- att_gt(yname = \"Y\",\n",
    " tname = \"period\",\n",
    " idname = \"id\",\n",
    " gname = \"G\",\n",
    " xformla = ~X,\n",
    " data = dta,\n",
    " est_method = doubleml_did_rf)\n",
    "\n",
    "summary(example_attgt_dml_rf)"
   ]
  },
  {
   "cell_type": "markdown",
   "id": "25d43c1d",
   "metadata": {},
   "source": [
    "We can see that the results are not dramatically different from the results before. We can observe from the larger standard errors that the default random forest learners seems to be a less precise prediction rule."
   ]
  },
  {
   "cell_type": "markdown",
   "id": "676c1a49",
   "metadata": {},
   "source": [
    "### Exploiting the Functionalities of `did`\n",
    "\n",
    "The `did` package offers various tools for multi-period DiD models, for example plotting the group-time average treatment effects, which can be exploited just as in the native `did` usage."
   ]
  },
  {
   "cell_type": "code",
   "execution_count": 6,
   "id": "d8b9596e",
   "metadata": {
    "execution": {
     "iopub.execute_input": "2025-07-08T16:08:05.701558Z",
     "iopub.status.busy": "2025-07-08T16:08:05.700667Z",
     "iopub.status.idle": "2025-07-08T16:08:06.399819Z",
     "shell.execute_reply": "2025-07-08T16:08:06.398719Z"
    },
    "vscode": {
     "languageId": "r"
    }
   },
   "outputs": [
    {
     "data": {
      "image/png": "[encoded data removed]",
      "text/plain": [
       "plot without title"
      ]
     },
     "metadata": {
      "image/png": {
       "height": 420,
       "width": 420
      }
     },
     "output_type": "display_data"
    }
   ],
   "source": [
    "# Plot group-time average treatment effects\n",
    "ggdid(example_attgt_dml_linear)"
   ]
  },
  {
   "cell_type": "markdown",
   "id": "d4e701ec",
   "metadata": {},
   "source": [
    "It's also possible to calculate aggregated effect estimates. Please note that, the results are again very close to those in [the original notebook](https://bcallaway11.github.io/did/articles/did-basics.html#aggregating-group-time-average-treatment-effects)."
   ]
  },
  {
   "cell_type": "code",
   "execution_count": 7,
   "id": "8f163147",
   "metadata": {
    "execution": {
     "iopub.execute_input": "2025-07-08T16:08:06.403067Z",
     "iopub.status.busy": "2025-07-08T16:08:06.402167Z",
     "iopub.status.idle": "2025-07-08T16:08:06.473298Z",
     "shell.execute_reply": "2025-07-08T16:08:06.472190Z"
    },
    "vscode": {
     "languageId": "r"
    }
   },
   "outputs": [
    {
     "name": "stdout",
     "output_type": "stream",
     "text": [
      "\n",
      "Call:\n",
      "aggte(MP = example_attgt_dml_linear, type = \"simple\")\n",
      "\n",
      "Reference: Callaway, Brantly and Pedro H.C. Sant'Anna.  \"Difference-in-Differences with Multiple Time Periods.\" Journal of Econometrics, Vol. 225, No. 2, pp. 200-230, 2021. <https://doi.org/10.1016/j.jeconom.2020.12.001>, <https://arxiv.org/abs/1803.09015> \n",
      "\n",
      "\n",
      "    ATT    Std. Error     [ 95%  Conf. Int.]  \n",
      " 1.6586        0.0368     1.5864      1.7308 *\n",
      "\n",
      "\n",
      "---\n",
      "Signif. codes: `*' confidence band does not cover 0\n",
      "\n",
      "Control Group:  Never Treated,  Anticipation Periods:  0\n"
     ]
    }
   ],
   "source": [
    "agg.simple <- aggte(example_attgt_dml_linear, type = \"simple\")\n",
    "summary(agg.simple)"
   ]
  },
  {
   "cell_type": "markdown",
   "id": "fb050302",
   "metadata": {},
   "source": [
    "### Details on Predictive Performance\n",
    "\n",
    "We can add an evaluation functionality to the wrapper to assess how the predictive performance from the linear and logistic regression differ from that of the random forest learner."
   ]
  },
  {
   "cell_type": "code",
   "execution_count": 8,
   "id": "a8bb468f",
   "metadata": {
    "execution": {
     "iopub.execute_input": "2025-07-08T16:08:06.476664Z",
     "iopub.status.busy": "2025-07-08T16:08:06.475772Z",
     "iopub.status.idle": "2025-07-08T16:08:06.496203Z",
     "shell.execute_reply": "2025-07-08T16:08:06.495105Z"
    },
    "vscode": {
     "languageId": "r"
    }
   },
   "outputs": [
    {
     "name": "stderr",
     "output_type": "stream",
     "text": [
      "In order to avoid name clashes, do not attach 'mlr3measures'. Instead, only load the namespace with `requireNamespace(\"mlrmeasures\")` and access the measures directly via `::`, e.g. `mlr3measures::auc()`.\n",
      "\n"
     ]
    }
   ],
   "source": [
    "library(mlr3measures)\n",
    "\n",
    "# Add a wrapper that computes the RMSE and accuracy for the nuisance components, can be customized by providing custom measures\n",
    "eval_preds = function(y, d, predictions, params_names, custom_measures = NULL) {\n",
    "  measures_res = list()\n",
    "\n",
    "  if (!is.null(custom_measures)) {\n",
    "    # Alternatively provide a named list with custom evaluation functions\n",
    "    measure_funcs = list()\n",
    "  } else {\n",
    "    measure_funcs = list()\n",
    "    measure_funcs[['ml_m']] = mlr3measures::acc\n",
    "    measure_funcs[['ml_g0']] = mlr3measures::rmse\n",
    "  }\n",
    "\n",
    "  for (param_name in params_names) {\n",
    "    preds = predictions[[param_name]][, 1, 1]\n",
    "\n",
    "  if (param_name == \"ml_m\") {\n",
    "    obs = d\n",
    "    # map probability predictions to binary\n",
    "    preds = as.factor(ifelse(preds > 0.5, 1, 0))\n",
    "    obs = as.factor(preds)\n",
    "  }\n",
    "\n",
    "  else if (param_name == \"ml_g0\") {\n",
    "    obs = y[d == 0]\n",
    "    preds = preds[d == 0]\n",
    "  }\n",
    "\n",
    "  if (param_name == \"ml_g1\") {\n",
    "    next\n",
    "  }\n",
    "\n",
    "  else {\n",
    "    measure_func = measure_funcs[[param_name]]\n",
    "    measure_pred = measure_func(obs, preds)\n",
    "\n",
    "    measures_res[[param_name]] = measure_pred\n",
    "  }\n",
    "\n",
    "  }\n",
    "    return(measures_res)\n",
    "}\n",
    "\n",
    "# evaluate learner performance: linear models\n",
    "doubleml_did_eval_linear <- function(y1, y0, D, covariates,\n",
    "  ml_g = lrn(\"regr.lm\"),\n",
    "  ml_m = lrn(\"classif.log_reg\"),\n",
    "  n_folds = 10, n_rep = 1, ...) {\n",
    "\n",
    "  # warning if n_rep > 1 to handle mapping from psi to inf.func\n",
    "  if (n_rep > 1) {\n",
    "    warning(\"n_rep > 1 is not supported.\")\n",
    "  }\n",
    "  # Compute difference in outcomes\n",
    "  delta_y <- y1 - y0\n",
    "  # Prepare data backend\n",
    "  dml_data = DoubleML::double_ml_data_from_matrix(X = covariates, y = delta_y, d = D)\n",
    "  # Compute the ATT\n",
    "  dml_obj = DoubleML::DoubleMLIRM$new(dml_data, ml_g = ml_g, ml_m = ml_m, score = \"ATTE\", n_folds = n_folds)\n",
    "  dml_obj$fit(store_predictions = TRUE)\n",
    "  att = dml_obj$coef[1]\n",
    "  # Return results\n",
    "  inf.func <- dml_obj$psi[, 1, 1]\n",
    "\n",
    "  # Evaluate learner performance\n",
    "  predictions = dml_obj$predictions\n",
    "  params_names = dml_obj$params_names()\n",
    "  eval_predictions = eval_preds(delta_y, D, predictions, params_names)\n",
    "  print(eval_predictions)\n",
    "\n",
    "  output <- list(ATT = att, att.inf.func = inf.func)\n",
    "  return(output)\n",
    "  }\n",
    "\n",
    "  library(mlr3measures)\n",
    "\n",
    "# evaluate learner performance: random forest\n",
    "doubleml_did_eval_rf <- function(y1, y0, D, covariates,\n",
    "  ml_g = lrn(\"regr.ranger\"),\n",
    "  ml_m = lrn(\"classif.ranger\"),\n",
    "  n_folds = 10, n_rep = 1, ...) {\n",
    "\n",
    "  # warning if n_rep > 1 to handle mapping from psi to inf.func\n",
    "  if (n_rep > 1) {\n",
    "    warning(\"n_rep > 1 is not supported.\")\n",
    "  }\n",
    "  # Compute difference in outcomes\n",
    "  delta_y <- y1 - y0\n",
    "  # Prepare data backend\n",
    "  dml_data = DoubleML::double_ml_data_from_matrix(X = covariates, y = delta_y, d = D)\n",
    "  # Compute the ATT\n",
    "  dml_obj = DoubleML::DoubleMLIRM$new(dml_data, ml_g = ml_g, ml_m = ml_m, score = \"ATTE\", n_folds = n_folds)\n",
    "  dml_obj$fit(store_predictions = TRUE)\n",
    "  att = dml_obj$coef[1]\n",
    "  # Return results\n",
    "  inf.func <- dml_obj$psi[, 1, 1]\n",
    "\n",
    "  # Evaluate learner performance\n",
    "  predictions = dml_obj$predictions\n",
    "  params_names = dml_obj$params_names()\n",
    "  eval_predictions = eval_preds(delta_y, D, predictions, params_names)\n",
    "  print(eval_predictions)\n",
    "\n",
    "  output <- list(ATT = att, att.inf.func = inf.func)\n",
    "  return(output)\n",
    "  }\n"
   ]
  },
  {
   "cell_type": "markdown",
   "id": "b0bca913",
   "metadata": {},
   "source": [
    "Running the evaluation wrappers helps to see that the random forest learner has a higher RMSE for predicting the outcome $E[\\Delta Y|D=1,X]$. Both models predict individuals' treatment (group) status with an accuracy of $1$."
   ]
  },
  {
   "cell_type": "code",
   "execution_count": 9,
   "id": "de15e86b",
   "metadata": {
    "execution": {
     "iopub.execute_input": "2025-07-08T16:08:06.499440Z",
     "iopub.status.busy": "2025-07-08T16:08:06.498540Z",
     "iopub.status.idle": "2025-07-08T16:08:11.108169Z",
     "shell.execute_reply": "2025-07-08T16:08:11.107031Z"
    },
    "vscode": {
     "languageId": "r"
    }
   },
   "outputs": [
    {
     "name": "stdout",
     "output_type": "stream",
     "text": [
      "current period: 2 \n",
      "current group: 2 \n",
      "set pretreatment period to be 1 \n",
      "$ml_g0\n",
      "[1] 1.425103\n",
      "\n",
      "$ml_m\n",
      "[1] 1\n",
      "\n",
      "current period: 3 \n",
      "current group: 2 \n",
      "set pretreatment period to be 1 \n",
      "$ml_g0\n",
      "[1] 1.409154\n",
      "\n",
      "$ml_m\n",
      "[1] 1\n",
      "\n",
      "current period: 4 \n",
      "current group: 2 \n",
      "set pretreatment period to be 1 \n",
      "$ml_g0\n",
      "[1] 1.397313\n",
      "\n",
      "$ml_m\n",
      "[1] 1\n",
      "\n",
      "current period: 2 \n",
      "current group: 3 \n",
      "set pretreatment period to be 1 \n",
      "$ml_g0\n",
      "[1] 1.425493\n",
      "\n",
      "$ml_m\n",
      "[1] 1\n",
      "\n",
      "current period: 3 \n",
      "current group: 3 \n",
      "set pretreatment period to be 2 \n",
      "$ml_g0\n",
      "[1] 1.40676\n",
      "\n",
      "$ml_m\n",
      "[1] 1\n",
      "\n",
      "current period: 4 \n",
      "current group: 3 \n",
      "set pretreatment period to be 2 \n",
      "$ml_g0\n",
      "[1] 1.421083\n",
      "\n",
      "$ml_m\n",
      "[1] 1\n",
      "\n",
      "current period: 2 \n",
      "current group: 4 \n",
      "set pretreatment period to be 1 \n",
      "$ml_g0\n",
      "[1] 1.426055\n",
      "\n",
      "$ml_m\n",
      "[1] 1\n",
      "\n",
      "current period: 3 \n",
      "current group: 4 \n",
      "set pretreatment period to be 2 \n",
      "$ml_g0\n",
      "[1] 1.40583\n",
      "\n",
      "$ml_m\n",
      "[1] 1\n",
      "\n",
      "current period: 4 \n",
      "current group: 4 \n",
      "set pretreatment period to be 3 \n",
      "$ml_g0\n",
      "[1] 1.423951\n",
      "\n",
      "$ml_m\n",
      "[1] 1\n",
      "\n"
     ]
    },
    {
     "name": "stdout",
     "output_type": "stream",
     "text": [
      "\n",
      "Call:\n",
      "att_gt(yname = \"Y\", tname = \"period\", idname = \"id\", gname = \"G\", \n",
      "    xformla = ~X, data = dta, est_method = doubleml_did_eval_linear, \n",
      "    print_details = TRUE)\n",
      "\n",
      "Reference: Callaway, Brantly and Pedro H.C. Sant'Anna.  \"Difference-in-Differences with Multiple Time Periods.\" Journal of Econometrics, Vol. 225, No. 2, pp. 200-230, 2021. <https://doi.org/10.1016/j.jeconom.2020.12.001>, <https://arxiv.org/abs/1803.09015> \n",
      "\n",
      "Group-Time Average Treatment Effects:\n",
      " Group Time ATT(g,t) Std. Error [95% Simult.  Conf. Band]  \n",
      "     2    2   0.9145     0.0654        0.7418      1.0872 *\n",
      "     2    3   1.9951     0.0655        1.8221      2.1681 *\n",
      "     2    4   2.9561     0.0653        2.7838      3.1285 *\n",
      "     3    2  -0.0418     0.0704       -0.2276      0.1441  \n",
      "     3    3   1.1041     0.0649        0.9327      1.2754 *\n",
      "     3    4   2.0533     0.0669        1.8768      2.2298 *\n",
      "     4    2  -0.0028     0.0716       -0.1918      0.1862  \n",
      "     4    3   0.0635     0.0675       -0.1147      0.2416  \n",
      "     4    4   0.9609     0.0673        0.7833      1.1386 *\n",
      "---\n",
      "Signif. codes: `*' confidence band does not cover 0\n",
      "\n",
      "P-value for pre-test of parallel trends assumption:  0.64579\n",
      "Control Group:  Never Treated,  Anticipation Periods:  0\n"
     ]
    }
   ],
   "source": [
    "# Run estimation with evaluation: Linear model\n",
    "set.seed(1234)\n",
    "example_attgt_dml_eval_linear <- att_gt(yname = \"Y\",\n",
    "                      tname = \"period\",\n",
    "                      idname = \"id\",\n",
    "                      gname = \"G\",\n",
    "                      xformla = ~X,\n",
    "                      data = dta,\n",
    "                      est_method = doubleml_did_eval_linear,\n",
    "                      print_details = TRUE)\n",
    "\n",
    "\n",
    "summary(example_attgt_dml_eval_linear)\n"
   ]
  },
  {
   "cell_type": "code",
   "execution_count": 10,
   "id": "13fe0be0",
   "metadata": {
    "execution": {
     "iopub.execute_input": "2025-07-08T16:08:11.111558Z",
     "iopub.status.busy": "2025-07-08T16:08:11.110677Z",
     "iopub.status.idle": "2025-07-08T16:08:28.093308Z",
     "shell.execute_reply": "2025-07-08T16:08:28.092180Z"
    },
    "vscode": {
     "languageId": "r"
    }
   },
   "outputs": [
    {
     "name": "stdout",
     "output_type": "stream",
     "text": [
      "current period: 2 \n",
      "current group: 2 \n",
      "set pretreatment period to be 1 \n",
      "$ml_g0\n",
      "[1] 1.571778\n",
      "\n",
      "$ml_m\n",
      "[1] 1\n",
      "\n",
      "current period: 3 \n",
      "current group: 2 \n",
      "set pretreatment period to be 1 \n",
      "$ml_g0\n",
      "[1] 1.916236\n",
      "\n",
      "$ml_m\n",
      "[1] 1\n",
      "\n",
      "current period: 4 \n",
      "current group: 2 \n",
      "set pretreatment period to be 1 \n",
      "$ml_g0\n",
      "[1] 2.404318\n",
      "\n",
      "$ml_m\n",
      "[1] 1\n",
      "\n",
      "current period: 2 \n",
      "current group: 3 \n",
      "set pretreatment period to be 1 \n",
      "$ml_g0\n",
      "[1] 1.570486\n",
      "\n",
      "$ml_m\n",
      "[1] 1\n",
      "\n",
      "current period: 3 \n",
      "current group: 3 \n",
      "set pretreatment period to be 2 \n",
      "$ml_g0\n",
      "[1] 1.529782\n",
      "\n",
      "$ml_m\n",
      "[1] 1\n",
      "\n",
      "current period: 4 \n",
      "current group: 3 \n",
      "set pretreatment period to be 2 \n",
      "$ml_g0\n",
      "[1] 1.88629\n",
      "\n",
      "$ml_m\n",
      "[1] 1\n",
      "\n",
      "current period: 2 \n",
      "current group: 4 \n",
      "set pretreatment period to be 1 \n",
      "$ml_g0\n",
      "[1] 1.570562\n",
      "\n",
      "$ml_m\n",
      "[1] 1\n",
      "\n",
      "current period: 3 \n",
      "current group: 4 \n",
      "set pretreatment period to be 2 \n",
      "$ml_g0\n",
      "[1] 1.529405\n",
      "\n",
      "$ml_m\n",
      "[1] 1\n",
      "\n",
      "current period: 4 \n",
      "current group: 4 \n",
      "set pretreatment period to be 3 \n",
      "$ml_g0\n",
      "[1] 1.560689\n",
      "\n",
      "$ml_m\n",
      "[1] 1\n",
      "\n"
     ]
    },
    {
     "name": "stdout",
     "output_type": "stream",
     "text": [
      "\n",
      "Call:\n",
      "att_gt(yname = \"Y\", tname = \"period\", idname = \"id\", gname = \"G\", \n",
      "    xformla = ~X, data = dta, est_method = doubleml_did_eval_rf, \n",
      "    print_details = TRUE)\n",
      "\n",
      "Reference: Callaway, Brantly and Pedro H.C. Sant'Anna.  \"Difference-in-Differences with Multiple Time Periods.\" Journal of Econometrics, Vol. 225, No. 2, pp. 200-230, 2021. <https://doi.org/10.1016/j.jeconom.2020.12.001>, <https://arxiv.org/abs/1803.09015> \n",
      "\n",
      "Group-Time Average Treatment Effects:\n",
      " Group Time ATT(g,t) Std. Error [95% Simult.  Conf. Band]  \n",
      "     2    2   0.9647     0.0736        0.7603      1.1691 *\n",
      "     2    3   2.1055     0.0894        1.8571      2.3538 *\n",
      "     2    4   3.1295     0.1096        2.8250      3.4339 *\n",
      "     3    2   0.0820     0.0719       -0.1177      0.2818  \n",
      "     3    3   1.2075     0.0707        1.0112      1.4039 *\n",
      "     3    4   2.2865     0.0916        2.0323      2.5408 *\n",
      "     4    2   0.1807     0.0743       -0.0257      0.3871  \n",
      "     4    3   0.2451     0.0662        0.0611      0.4290 *\n",
      "     4    4   1.1401     0.0711        0.9425      1.3376 *\n",
      "---\n",
      "Signif. codes: `*' confidence band does not cover 0\n",
      "\n",
      "P-value for pre-test of parallel trends assumption:  2e-05\n",
      "Control Group:  Never Treated,  Anticipation Periods:  0\n"
     ]
    }
   ],
   "source": [
    "# Run estimation with evaluation: Linear model\n",
    "set.seed(1234)\n",
    "example_attgt_dml_eval_rf <- att_gt(yname = \"Y\",\n",
    "                      tname = \"period\",\n",
    "                      idname = \"id\",\n",
    "                      gname = \"G\",\n",
    "                      xformla = ~X,\n",
    "                      data = dta,\n",
    "                      est_method = doubleml_did_eval_rf,\n",
    "                      print_details = TRUE)\n",
    "\n",
    "\n",
    "summary(example_attgt_dml_eval_rf)"
   ]
  },
  {
   "cell_type": "markdown",
   "id": "c5734056",
   "metadata": {},
   "source": [
    "### Acknowledgements and Final Remarks\n",
    "\n",
    "We'd like to thank the authors of the `did` package for R for maintaining a flexible interface for multi-period DiD models.\n",
    "\n",
    "We'd like to note that the implementation presented is here is very similar to the one implemented in the Python package. For more details, we would like to reference to the [DiD](https://docs.doubleml.org/stable/examples/index.html#difference-in-differences) examples in Python."
   ]
  },
  {
   "cell_type": "markdown",
   "id": "76593791",
   "metadata": {},
   "source": [
    "### References\n",
    "\n",
    "Callaway, Brantly, and Pedro HC Sant’Anna. \"Difference-in-differences with multiple time periods.\" Journal of Econometrics 225.2 (2021): 200-230.\n",
    "\n",
    "Sant’Anna, Pedro HC, and Jun Zhao. \"Doubly robust difference-in-differences estimators.\" Journal of Econometrics 219.1 (2020): 101-122."
   ]
  }
 ],
 "metadata": {
  "kernelspec": {
   "display_name": "R",
   "language": "R",
   "name": "ir"
  },
  "language_info": {
   "codemirror_mode": "r",
   "file_extension": ".r",
   "mimetype": "text/x-r-source",
   "name": "R",
   "pygments_lexer": "r",
   "version": "4.5.1"
  }
 },
 "nbformat": 4,
 "nbformat_minor": 5
}
