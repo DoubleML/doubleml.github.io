{
  "cells": [
    {
      "cell_type": "code",
      "execution_count": null,
      "metadata": {
        "collapsed": false
      },
      "outputs": [],
      "source": [
        "%matplotlib inline"
      ]
    },
    {
      "cell_type": "markdown",
      "metadata": {},
      "source": [
        "\n# Multiway Cluster Robust DML\n\nThis example shows how the multiway cluster roboust DML (Chiang et al. 2020) can be implemented with the DoubleML\npackage.\nChiang et al. (2020) consider double-indexed data\n\n\\begin{align}\\lbrace W_{ij}: i \\in \\lbrace 1, \\ldots, N \\rbrace, j \\in \\lbrace 1, \\ldots, M \\rbrace \\rbrace\\end{align}\n\nand the partially linear IV regression model (PLIV)\n\n\\begin{align}Y_{ij} = D_{ij} \\theta_0 +  g_0(X_{ij}) + \\epsilon_{ij}, & &\\mathbb{E}(\\epsilon_{ij} | X_{ij}, Z_{ij}) = 0,\n\n    Z_{ij} = m_0(X_{ij}) + v_{ij}, & &\\mathbb{E}(v_{ij} | X_{ij}) = 0.\\end{align}\n\nTODO: Add a few more details and the reference!\nhttps://arxiv.org/pdf/1909.03489.pdf\n"
      ]
    },
    {
      "cell_type": "code",
      "execution_count": null,
      "metadata": {
        "collapsed": false
      },
      "outputs": [],
      "source": [
        "print(__doc__)"
      ]
    },
    {
      "cell_type": "code",
      "execution_count": null,
      "metadata": {
        "collapsed": false
      },
      "outputs": [],
      "source": [
        "import numpy as np\nimport pandas as pd\n\nimport matplotlib.pyplot as plt\nfrom matplotlib.colors import ListedColormap\nimport seaborn as sns\n\nfrom sklearn.model_selection import KFold, RepeatedKFold\nfrom sklearn.base import clone\n\nfrom sklearn.ensemble import RandomForestRegressor\nfrom sklearn.linear_model import LinearRegression\n\nfrom doubleml import DoubleMLData, DoubleMLPLIV\nfrom doubleml.double_ml_resampling import DoubleMLMultiwayResampling\n\nfrom doubleml.datasets import make_pliv_multiway_cluster_CKMS2019"
      ]
    },
    {
      "cell_type": "markdown",
      "metadata": {},
      "source": [
        "## Simulate multiway cluster data\n\nWe use the PLIV data generating process described in Section 4.1 of Chiang et al. (2020).\n\n"
      ]
    },
    {
      "cell_type": "code",
      "execution_count": null,
      "metadata": {
        "collapsed": false
      },
      "outputs": [],
      "source": [
        "# Set the simulation parameters\nN = 25  # number of observations (first dimension)\nM = 25  # number of observations (second dimension)\ndim_X = 100  # dimension of X\n\nobj_dml_data = make_pliv_multiway_cluster_CKMS2019(N, M, dim_X)"
      ]
    },
    {
      "cell_type": "code",
      "execution_count": null,
      "metadata": {
        "collapsed": false
      },
      "outputs": [],
      "source": [
        "# The data comes with multi index for rows (tuples with two entries)\nobj_dml_data.data.head(30)"
      ]
    },
    {
      "cell_type": "markdown",
      "metadata": {},
      "source": [
        "## Initialize the objects of class DoubleMLData and DoubleMLPLIV\n\n"
      ]
    },
    {
      "cell_type": "code",
      "execution_count": null,
      "metadata": {
        "collapsed": false
      },
      "outputs": [],
      "source": [
        "# Set machine learning methods for m & g\nlearner = RandomForestRegressor(max_depth=2, n_estimators=10)\nml_g = clone(learner)\nml_m = clone(learner)\nml_r = clone(learner)\n\n# initialize the DoubleMLPLIV object\ndml_pliv_obj = DoubleMLPLIV(obj_dml_data,\n                            ml_g,\n                            ml_m,\n                            ml_r,\n                            score='partialling out',\n                            dml_procedure='dml1',\n                            draw_sample_splitting=False)"
      ]
    },
    {
      "cell_type": "markdown",
      "metadata": {},
      "source": [
        "## Split samples and transfer the sample splitting to the object\n\n"
      ]
    },
    {
      "cell_type": "code",
      "execution_count": null,
      "metadata": {
        "collapsed": false
      },
      "outputs": [],
      "source": [
        "K = 3  # number of folds\nsmpl_sizes = [N, M]\nobj_dml_multiway_resampling = DoubleMLMultiwayResampling(K, smpl_sizes)\nsmpls_multi_ind, smpls_lin_ind = obj_dml_multiway_resampling.split_samples()\n\ndml_pliv_obj.set_sample_splitting([smpls_lin_ind])"
      ]
    },
    {
      "cell_type": "markdown",
      "metadata": {},
      "source": [
        "## Fit the model and show a summary\n\n"
      ]
    },
    {
      "cell_type": "code",
      "execution_count": null,
      "metadata": {
        "collapsed": false
      },
      "outputs": [],
      "source": [
        "dml_pliv_obj.fit()\nprint(dml_pliv_obj.summary)"
      ]
    },
    {
      "cell_type": "markdown",
      "metadata": {},
      "source": [
        "## Visualization of sample splitting with tuple and linear indexing\n\n"
      ]
    },
    {
      "cell_type": "code",
      "execution_count": null,
      "metadata": {
        "collapsed": false
      },
      "outputs": [],
      "source": [
        "#discrete color scheme\nx = sns.color_palette(\"RdBu_r\", 7)\ncMap = ListedColormap([x[0], x[3], x[6]])\nplt.rcParams['figure.figsize'] = 15, 12\nsns.set(font_scale=1.3)"
      ]
    },
    {
      "cell_type": "markdown",
      "metadata": {},
      "source": [
        "### Visualize sample splitting with tuples (one plot per fold)\n\n"
      ]
    },
    {
      "cell_type": "code",
      "execution_count": null,
      "metadata": {
        "collapsed": false
      },
      "outputs": [],
      "source": [
        "for i_split, this_split_ind in enumerate(smpls_multi_ind):\n    plt.subplot(K, K, i_split + 1)\n    df = pd.DataFrame(np.zeros([N, M]))\n    ind_array_train = np.array([*this_split_ind[0]])\n    ind_array_test = np.array([*this_split_ind[1]])\n    df.loc[ind_array_train[:, 0], ind_array_train[:, 1]] = -1.\n    df.loc[ind_array_test[:, 0], ind_array_test[:, 1]] = 1.\n\n    ax = sns.heatmap(df, cmap=cMap);\n    ax.invert_yaxis();\n    ax.set_ylim([0, M]);\n    colorbar = ax.collections[0].colorbar\n    colorbar.set_ticks([-0.667, 0, 0.667])\n    if i_split % K == (K - 1):\n        colorbar.set_ticklabels(['Nuisance', '', 'Score'])\n    else:\n        colorbar.set_ticklabels(['', '', ''])"
      ]
    },
    {
      "cell_type": "markdown",
      "metadata": {},
      "source": [
        "### Visualize sample splitting with linear indexing (one column per fold)\n\n"
      ]
    },
    {
      "cell_type": "code",
      "execution_count": null,
      "metadata": {
        "collapsed": false
      },
      "outputs": [],
      "source": [
        "df = pd.DataFrame(np.zeros([N*M, K*K]))\nfor i_split, this_split_ind in enumerate(smpls_lin_ind):\n    df.loc[this_split_ind[0], i_split] = -1.\n    df.loc[this_split_ind[1], i_split] = 1.\n\nax = sns.heatmap(df, cmap=cMap);\nax.invert_yaxis();\nax.set_ylim([0, N*M]);\ncolorbar = ax.collections[0].colorbar\ncolorbar.set_ticks([-0.667, 0, 0.667])\ncolorbar.set_ticklabels(['Nuisance', '', 'Score'])"
      ]
    }
  ],
  "metadata": {
    "kernelspec": {
      "display_name": "Python 3",
      "language": "python",
      "name": "python3"
    },
    "language_info": {
      "codemirror_mode": {
        "name": "ipython",
        "version": 3
      },
      "file_extension": ".py",
      "mimetype": "text/x-python",
      "name": "python",
      "nbconvert_exporter": "python",
      "pygments_lexer": "ipython3",
      "version": "3.8.6"
    }
  },
  "nbformat": 4,
  "nbformat_minor": 0
}