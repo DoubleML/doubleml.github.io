{
 "cells": [
  {
   "cell_type": "markdown",
   "id": "e401eb2c",
   "metadata": {},
   "source": [
    "# R: Basic Instrumental Variables Calculation"
   ]
  },
  {
   "cell_type": "markdown",
   "id": "002505df",
   "metadata": {},
   "source": [
    "In this example we show how to use the DoubleML functionality of Instrumental Variables (IVs) in the basic setting shown in the graph below, where:\n",
    "\n",
    "- Z is the instrument\n",
    "- C is a vector of unobserved confounders\n",
    "- D is the decision or treatment variable\n",
    "- Y is the outcome\n",
    "\n",
    "So, we will first generate synthetic data using linear models compatible with the diagram, and then use the DoubleML package to estimate the causal effect from D to Y. \n",
    "\n",
    "We assume that you have basic knowledge of instrumental variables and linear regression."
   ]
  },
  {
   "cell_type": "code",
   "execution_count": 1,
   "id": "da6b104b",
   "metadata": {
    "execution": {
     "iopub.execute_input": "2025-08-11T16:22:30.668924Z",
     "iopub.status.busy": "2025-08-11T16:22:30.667021Z",
     "iopub.status.idle": "2025-08-11T16:22:31.115144Z",
     "shell.execute_reply": "2025-08-11T16:22:31.113987Z"
    },
    "vscode": {
     "languageId": "r"
    }
   },
   "outputs": [
    {
     "name": "stderr",
     "output_type": "stream",
     "text": [
      "Loading required package: mlr3\n",
      "\n"
     ]
    }
   ],
   "source": [
    "library(DoubleML)\n",
    "library(mlr3learners)\n",
    "\n",
    "set.seed(1234)\n",
    "options(warn=-1)"
   ]
  },
  {
   "cell_type": "markdown",
   "id": "c30aefa5",
   "metadata": {},
   "source": [
    "## Instrumental Variables Directed Acyclic Graph (IV - DAG)"
   ]
  },
  {
   "cell_type": "markdown",
   "id": "a3250ef4",
   "metadata": {},
   "source": [
    "![basic_iv_example_nb.png](../_static/basic_iv_example_nb.png)"
   ]
  },
  {
   "cell_type": "markdown",
   "id": "fd938467",
   "metadata": {},
   "source": [
    "## Data Simulation"
   ]
  },
  {
   "cell_type": "markdown",
   "id": "6139b877",
   "metadata": {},
   "source": [
    "This code generates `n` samples in which there is a unique binary confounder. The treatment is also a binary variable, while the outcome is a continuous linear model. \n",
    "\n",
    "The quantity we want to recover using IVs is the `decision_impact`, which is the impact of the decision variable into the outcome. "
   ]
  },
  {
   "cell_type": "code",
   "execution_count": 2,
   "id": "5f8b1555",
   "metadata": {
    "execution": {
     "iopub.execute_input": "2025-08-11T16:22:31.137464Z",
     "iopub.status.busy": "2025-08-11T16:22:31.117848Z",
     "iopub.status.idle": "2025-08-11T16:22:31.240391Z",
     "shell.execute_reply": "2025-08-11T16:22:31.239144Z"
    },
    "vscode": {
     "languageId": "r"
    }
   },
   "outputs": [],
   "source": [
    "n <- 10000\n",
    "decision_effect <- -2\n",
    "instrument_effect <- 0.7\n",
    "\n",
    "confounder <- rbinom(n, 1, 0.3)\n",
    "instrument <- rbinom(n, 1, 0.5)\n",
    "decision <- as.numeric(runif(n) <= instrument_effect*instrument + 0.4*confounder)\n",
    "outcome <- 30 + decision_effect*decision + 10 * confounder + rnorm(n, sd=2)\n",
    "df <- data.frame(instrument, decision, outcome)"
   ]
  },
  {
   "cell_type": "markdown",
   "id": "4efe1a5a",
   "metadata": {},
   "source": [
    "## Naive estimation"
   ]
  },
  {
   "cell_type": "markdown",
   "id": "ecbf091a",
   "metadata": {},
   "source": [
    "We can see that if we make a direct estimation of the impact of the `decision` into the `outcome`, though the difference of the averages of outcomes between the two decision groups, we obtain a biased estimate. "
   ]
  },
  {
   "cell_type": "code",
   "execution_count": 3,
   "id": "2d00221a",
   "metadata": {
    "execution": {
     "iopub.execute_input": "2025-08-11T16:22:31.243758Z",
     "iopub.status.busy": "2025-08-11T16:22:31.242858Z",
     "iopub.status.idle": "2025-08-11T16:22:31.255445Z",
     "shell.execute_reply": "2025-08-11T16:22:31.254372Z"
    },
    "vscode": {
     "languageId": "r"
    }
   },
   "outputs": [
    {
     "data": {
      "text/html": [
       "1.00047580260495"
      ],
      "text/latex": [
       "1.00047580260495"
      ],
      "text/markdown": [
       "1.00047580260495"
      ],
      "text/plain": [
       "[1] 1.000476"
      ]
     },
     "metadata": {},
     "output_type": "display_data"
    }
   ],
   "source": [
    "mean(df[df$decision==1, 'outcome']) - mean(df[df$decision==0, 'outcome'])"
   ]
  },
  {
   "cell_type": "markdown",
   "id": "d96222f6",
   "metadata": {},
   "source": [
    "## Using DoubleML"
   ]
  },
  {
   "cell_type": "markdown",
   "id": "eb4bcdc4",
   "metadata": {},
   "source": [
    "DoubleML assumes that there is at least one observed confounder. For this reason, we create a fake variable that doesn't bring any kind of information to the model, called `obs_confounder`."
   ]
  },
  {
   "cell_type": "markdown",
   "id": "5acc1ca8",
   "metadata": {},
   "source": [
    "To use the DoubleML we need to specify the Machine Learning methods we want to use to estimate the different relationships between variables:\n",
    "\n",
    "- `ml_g` models the functional relationship betwen the `outcome` and the pair `instrument` and observed confounders `obs_confounders`. In this case we choose a `LinearRegression` because the outcome is continuous. \n",
    "- `ml_m` models the functional relationship betwen the `obs_confounders` and the `instrument`. In this case we choose a `LogisticRegression` because the outcome is dichotomic.\n",
    "- `ml_r` models the functional relationship betwen the `decision` and the pair `instrument` and observed confounders `obs_confounders`. In this case we choose a `LogisticRegression` because the outcome is dichotomic.\n",
    "\n",
    "\n",
    "Notice that instead of using linear and logistic regression, we could use more flexible models capable of dealing with non-linearities such as random forests, boosting, ... "
   ]
  },
  {
   "cell_type": "code",
   "execution_count": 4,
   "id": "600b8196",
   "metadata": {
    "execution": {
     "iopub.execute_input": "2025-08-11T16:22:31.258609Z",
     "iopub.status.busy": "2025-08-11T16:22:31.257691Z",
     "iopub.status.idle": "2025-08-11T16:22:32.754327Z",
     "shell.execute_reply": "2025-08-11T16:22:32.753214Z"
    },
    "vscode": {
     "languageId": "r"
    }
   },
   "outputs": [
    {
     "name": "stdout",
     "output_type": "stream",
     "text": [
      "INFO  [16:22:31.506] [mlr3] Applying learner 'classif.log_reg' on task 'nuis_m' (iter 1/5)\n",
      "INFO  [16:22:31.764] [mlr3] Applying learner 'classif.log_reg' on task 'nuis_m' (iter 2/5)\n",
      "INFO  [16:22:31.814] [mlr3] Applying learner 'classif.log_reg' on task 'nuis_m' (iter 3/5)\n",
      "INFO  [16:22:31.857] [mlr3] Applying learner 'classif.log_reg' on task 'nuis_m' (iter 4/5)\n",
      "INFO  [16:22:31.900] [mlr3] Applying learner 'classif.log_reg' on task 'nuis_m' (iter 5/5)\n",
      "INFO  [16:22:32.017] [mlr3] Applying learner 'regr.lm' on task 'nuis_g0' (iter 1/5)\n",
      "INFO  [16:22:32.037] [mlr3] Applying learner 'regr.lm' on task 'nuis_g0' (iter 2/5)\n",
      "INFO  [16:22:32.056] [mlr3] Applying learner 'regr.lm' on task 'nuis_g0' (iter 3/5)\n",
      "INFO  [16:22:32.081] [mlr3] Applying learner 'regr.lm' on task 'nuis_g0' (iter 4/5)\n",
      "INFO  [16:22:32.100] [mlr3] Applying learner 'regr.lm' on task 'nuis_g0' (iter 5/5)\n",
      "INFO  [16:22:32.177] [mlr3] Applying learner 'regr.lm' on task 'nuis_g1' (iter 1/5)\n",
      "INFO  [16:22:32.196] [mlr3] Applying learner 'regr.lm' on task 'nuis_g1' (iter 2/5)\n",
      "INFO  [16:22:32.219] [mlr3] Applying learner 'regr.lm' on task 'nuis_g1' (iter 3/5)\n",
      "INFO  [16:22:32.239] [mlr3] Applying learner 'regr.lm' on task 'nuis_g1' (iter 4/5)\n",
      "INFO  [16:22:32.258] [mlr3] Applying learner 'regr.lm' on task 'nuis_g1' (iter 5/5)\n",
      "INFO  [16:22:32.339] [mlr3] Applying learner 'classif.log_reg' on task 'nuis_r0' (iter 1/5)\n",
      "INFO  [16:22:32.371] [mlr3] Applying learner 'classif.log_reg' on task 'nuis_r0' (iter 2/5)\n",
      "INFO  [16:22:32.399] [mlr3] Applying learner 'classif.log_reg' on task 'nuis_r0' (iter 3/5)\n",
      "INFO  [16:22:32.428] [mlr3] Applying learner 'classif.log_reg' on task 'nuis_r0' (iter 4/5)\n",
      "INFO  [16:22:32.470] [mlr3] Applying learner 'classif.log_reg' on task 'nuis_r0' (iter 5/5)\n",
      "INFO  [16:22:32.559] [mlr3] Applying learner 'classif.log_reg' on task 'nuis_r1' (iter 1/5)\n",
      "INFO  [16:22:32.593] [mlr3] Applying learner 'classif.log_reg' on task 'nuis_r1' (iter 2/5)\n",
      "INFO  [16:22:32.621] [mlr3] Applying learner 'classif.log_reg' on task 'nuis_r1' (iter 3/5)\n",
      "INFO  [16:22:32.653] [mlr3] Applying learner 'classif.log_reg' on task 'nuis_r1' (iter 4/5)\n",
      "INFO  [16:22:32.682] [mlr3] Applying learner 'classif.log_reg' on task 'nuis_r1' (iter 5/5)\n"
     ]
    }
   ],
   "source": [
    "df['obs_confounders'] <- 1\n",
    "\n",
    "obj_dml_data = DoubleMLData$new(\n",
    "  df, y_col=\"outcome\", d_col = \"decision\", \n",
    "  z_cols= \"instrument\", x_cols = \"obs_confounders\"\n",
    ")\n",
    "\n",
    "ml_g = lrn(\"regr.lm\")\n",
    "ml_m = lrn(\"classif.log_reg\")\n",
    "ml_r = ml_m$clone()\n",
    "\n",
    "iv_2 = DoubleMLIIVM$new(obj_dml_data, ml_g, ml_m, ml_r)\n",
    "result <- iv_2$fit()\n"
   ]
  },
  {
   "cell_type": "code",
   "execution_count": 5,
   "id": "1e395bf4",
   "metadata": {
    "execution": {
     "iopub.execute_input": "2025-08-11T16:22:32.757444Z",
     "iopub.status.busy": "2025-08-11T16:22:32.756569Z",
     "iopub.status.idle": "2025-08-11T16:22:32.769236Z",
     "shell.execute_reply": "2025-08-11T16:22:32.768194Z"
    },
    "vscode": {
     "languageId": "r"
    }
   },
   "outputs": [
    {
     "data": {
      "text/plain": [
       "================= DoubleMLIIVM Object ==================\n",
       "\n",
       "\n",
       "------------------ Data summary      ------------------\n",
       "Outcome variable: outcome\n",
       "Treatment variable(s): decision\n",
       "Covariates: obs_confounders\n",
       "Instrument(s): instrument\n",
       "Selection variable: \n",
       "No. Observations: 10000\n",
       "\n",
       "------------------ Score & algorithm ------------------\n",
       "Score function: LATE\n",
       "DML algorithm: dml2\n",
       "\n",
       "------------------ Machine learner   ------------------\n",
       "ml_g: regr.lm\n",
       "ml_m: classif.log_reg\n",
       "ml_r: classif.log_reg\n",
       "\n",
       "------------------ Resampling        ------------------\n",
       "No. folds: 5\n",
       "No. repeated sample splits: 1\n",
       "Apply cross-fitting: TRUE\n",
       "\n",
       "------------------ Fit summary       ------------------\n",
       " Estimates and significance testing of the effect of target variables\n",
       "         Estimate. Std. Error t value Pr(>|t|)    \n",
       "decision   -1.8904     0.1492  -12.67   <2e-16 ***\n",
       "---\n",
       "Signif. codes:  0 ‘***’ 0.001 ‘**’ 0.01 ‘*’ 0.05 ‘.’ 0.1 ‘ ’ 1\n",
       "\n"
      ]
     },
     "metadata": {},
     "output_type": "display_data"
    }
   ],
   "source": [
    "result"
   ]
  },
  {
   "cell_type": "markdown",
   "id": "dc0f2994",
   "metadata": {},
   "source": [
    "We can see that the causal effect is estimated without bias."
   ]
  },
  {
   "cell_type": "markdown",
   "id": "bc9390cd",
   "metadata": {},
   "source": [
    "## References\n",
    "\n",
    "Ruiz de Villa, A. Causal Inference for Data Science, Manning Publications, 2024."
   ]
  }
 ],
 "metadata": {
  "kernelspec": {
   "display_name": "R",
   "language": "R",
   "name": "ir"
  },
  "language_info": {
   "codemirror_mode": "r",
   "file_extension": ".r",
   "mimetype": "text/x-r-source",
   "name": "R",
   "pygments_lexer": "r",
   "version": "4.5.1"
  }
 },
 "nbformat": 4,
 "nbformat_minor": 5
}
