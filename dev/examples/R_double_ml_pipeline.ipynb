{
 "cells": [
  {
   "cell_type": "markdown",
   "id": "126e2f75",
   "metadata": {},
   "source": [
    "# R: Ensemble Learners and More with `mlr3pipelines`"
   ]
  },
  {
   "cell_type": "markdown",
   "id": "aa30571a",
   "metadata": {},
   "source": [
    "This notebook illustrates how to exploit the powerful tools provided by the [mlr3pipelines](https://mlr3pipelines.mlr-org.com/) package (Binder et al. 2021). For example, [mlr3pipelines](https://mlr3pipelines.mlr-org.com/) can be used in combination with [DoubleML](https://docs.doubleml.org/stable/index.html) for feature engineering, combination of learners (ensemble learners, stacking), subsampling and hyperparameter tuning. The underlying idea of [mlr3pipelines](https://mlr3pipelines.mlr-org.com/) is to define a pipeline that incorporates a user's desired operations. As a result, the pipeline returns an object of class [Learner](https://mlr3.mlr-org.com/reference/Learner.html) which can easily be passed to [DoubleML](https://docs.doubleml.org/stable/index.html). For an introduction to [mlr3pipelines](https://mlr3pipelines.mlr-org.com/), we refer to the [Pipelines Chapter](https://mlr3book.mlr-org.com/pipelines.html) in the [mlr3book](https://mlr3book.mlr-org.com) (Becker et al. 2020) and to the [package website](https://mlr3pipelines.mlr-org.com/).\n",
    "\n",
    "\n",
    "We intend to illustrate the major idea of how to use [mlr3pipelines](https://mlr3pipelines.mlr-org.com/) in combination with [DoubleML](https://docs.doubleml.org/stable/index.html) in very simple examples. We use pipelines that are identical or very similar to the ones in the [Pipelines Chapter](https://mlr3book.mlr-org.com/pipelines.html) in the [mlr3book](https://mlr3book.mlr-org.com). Hence, we do not claim that the proposed learners are optimal in terms of their performance.\n",
    "\n",
    "We start with the simple simulated data example and the [Bonus data set](https://docs.doubleml.org/r/stable/reference/fetch_bonus.html) from the [Getting Started Section in the DoubleML user guide](https://docs.doubleml.org/dev/intro/intro.html)."
   ]
  },
  {
   "cell_type": "code",
   "execution_count": 1,
   "id": "fc314dcf",
   "metadata": {
    "execution": {
     "iopub.execute_input": "2021-12-13T09:38:07.785426Z",
     "iopub.status.busy": "2021-12-13T09:38:07.783920Z",
     "iopub.status.idle": "2021-12-13T09:38:08.181058Z",
     "shell.execute_reply": "2021-12-13T09:38:08.179916Z"
    }
   },
   "outputs": [
    {
     "data": {
      "text/plain": [
       "================= DoubleMLData Object ==================\n",
       "\n",
       "\n",
       "------------------ Data summary      ------------------\n",
       "Outcome variable: y\n",
       "Treatment variable(s): d\n",
       "Covariates: X1, X2, X3, X4, X5, X6, X7, X8, X9, X10, X11, X12, X13, X14, X15, X16, X17, X18, X19, X20, X21, X22, X23, X24, X25, X26, X27, X28, X29, X30, X31, X32, X33, X34, X35, X36, X37, X38, X39, X40, X41, X42, X43, X44, X45, X46, X47, X48, X49, X50, X51, X52, X53, X54, X55, X56, X57, X58, X59, X60, X61, X62, X63, X64, X65, X66, X67, X68, X69, X70, X71, X72, X73, X74, X75, X76, X77, X78, X79, X80, X81, X82, X83, X84, X85, X86, X87, X88, X89, X90, X91, X92, X93, X94, X95, X96, X97, X98, X99, X100\n",
       "Instrument(s): \n",
       "No. Observations: 500"
      ]
     },
     "metadata": {},
     "output_type": "display_data"
    }
   ],
   "source": [
    "library(DoubleML)\n",
    "\n",
    "# Simulate data\n",
    "set.seed(3141)\n",
    "n_obs = 500\n",
    "n_vars = 100\n",
    "theta = 3\n",
    "X = matrix(rnorm(n_obs*n_vars), nrow=n_obs, ncol=n_vars)\n",
    "d = X[,1:3]%*%c(5,5,5) + rnorm(n_obs)\n",
    "y = theta*d + X[, 1:3]%*%c(5,5,5) + rnorm(n_obs)\n",
    "\n",
    "\n",
    "# Specify the data and variables for the causal model\n",
    "# matrix interface to DoubleMLData\n",
    "dml_data_sim = double_ml_data_from_matrix(X=X, y=y, d=d)\n",
    "dml_data_sim"
   ]
  },
  {
   "cell_type": "markdown",
   "id": "5913f88c",
   "metadata": {},
   "source": [
    "To have an example with a classification learner, we load the [Bonus data set](https://docs.doubleml.org/r/stable/reference/fetch_bonus.html)."
   ]
  },
  {
   "cell_type": "code",
   "execution_count": 2,
   "id": "dea5e13a",
   "metadata": {
    "execution": {
     "iopub.execute_input": "2021-12-13T09:38:08.213654Z",
     "iopub.status.busy": "2021-12-13T09:38:08.184604Z",
     "iopub.status.idle": "2021-12-13T09:38:08.614149Z",
     "shell.execute_reply": "2021-12-13T09:38:08.613057Z"
    }
   },
   "outputs": [
    {
     "data": {
      "text/html": [
       "<table class=\"dataframe\">\n",
       "<caption>A data.table: 6 × 17</caption>\n",
       "<thead>\n",
       "\t<tr><th scope=col>inuidur1</th><th scope=col>female</th><th scope=col>black</th><th scope=col>othrace</th><th scope=col>dep1</th><th scope=col>dep2</th><th scope=col>q2</th><th scope=col>q3</th><th scope=col>q4</th><th scope=col>q5</th><th scope=col>q6</th><th scope=col>agelt35</th><th scope=col>agegt54</th><th scope=col>durable</th><th scope=col>lusd</th><th scope=col>husd</th><th scope=col>tg</th></tr>\n",
       "\t<tr><th scope=col>&lt;dbl&gt;</th><th scope=col>&lt;dbl&gt;</th><th scope=col>&lt;dbl&gt;</th><th scope=col>&lt;dbl&gt;</th><th scope=col>&lt;dbl&gt;</th><th scope=col>&lt;dbl&gt;</th><th scope=col>&lt;dbl&gt;</th><th scope=col>&lt;dbl&gt;</th><th scope=col>&lt;dbl&gt;</th><th scope=col>&lt;dbl&gt;</th><th scope=col>&lt;dbl&gt;</th><th scope=col>&lt;dbl&gt;</th><th scope=col>&lt;dbl&gt;</th><th scope=col>&lt;dbl&gt;</th><th scope=col>&lt;dbl&gt;</th><th scope=col>&lt;dbl&gt;</th><th scope=col>&lt;dbl&gt;</th></tr>\n",
       "</thead>\n",
       "<tbody>\n",
       "\t<tr><td>2.890372</td><td>0</td><td>0</td><td>0</td><td>0</td><td>1</td><td>0</td><td>0</td><td>0</td><td>1</td><td>0</td><td>0</td><td>0</td><td>0</td><td>0</td><td>1</td><td>0</td></tr>\n",
       "\t<tr><td>0.000000</td><td>0</td><td>0</td><td>0</td><td>0</td><td>0</td><td>0</td><td>0</td><td>0</td><td>1</td><td>0</td><td>0</td><td>0</td><td>0</td><td>1</td><td>0</td><td>0</td></tr>\n",
       "\t<tr><td>3.295837</td><td>0</td><td>0</td><td>0</td><td>0</td><td>0</td><td>0</td><td>0</td><td>1</td><td>0</td><td>0</td><td>0</td><td>0</td><td>0</td><td>1</td><td>0</td><td>0</td></tr>\n",
       "\t<tr><td>2.197225</td><td>0</td><td>0</td><td>0</td><td>0</td><td>0</td><td>0</td><td>1</td><td>0</td><td>0</td><td>0</td><td>1</td><td>0</td><td>0</td><td>0</td><td>0</td><td>1</td></tr>\n",
       "\t<tr><td>3.295837</td><td>0</td><td>0</td><td>0</td><td>1</td><td>0</td><td>0</td><td>0</td><td>0</td><td>1</td><td>0</td><td>0</td><td>1</td><td>1</td><td>1</td><td>0</td><td>0</td></tr>\n",
       "\t<tr><td>3.295837</td><td>1</td><td>0</td><td>0</td><td>0</td><td>0</td><td>0</td><td>0</td><td>0</td><td>1</td><td>0</td><td>0</td><td>1</td><td>0</td><td>1</td><td>0</td><td>0</td></tr>\n",
       "</tbody>\n",
       "</table>\n"
      ],
      "text/latex": [
       "A data.table: 6 × 17\n",
       "\\begin{tabular}{lllllllllllllllll}\n",
       " inuidur1 & female & black & othrace & dep1 & dep2 & q2 & q3 & q4 & q5 & q6 & agelt35 & agegt54 & durable & lusd & husd & tg\\\\\n",
       " <dbl> & <dbl> & <dbl> & <dbl> & <dbl> & <dbl> & <dbl> & <dbl> & <dbl> & <dbl> & <dbl> & <dbl> & <dbl> & <dbl> & <dbl> & <dbl> & <dbl>\\\\\n",
       "\\hline\n",
       "\t 2.890372 & 0 & 0 & 0 & 0 & 1 & 0 & 0 & 0 & 1 & 0 & 0 & 0 & 0 & 0 & 1 & 0\\\\\n",
       "\t 0.000000 & 0 & 0 & 0 & 0 & 0 & 0 & 0 & 0 & 1 & 0 & 0 & 0 & 0 & 1 & 0 & 0\\\\\n",
       "\t 3.295837 & 0 & 0 & 0 & 0 & 0 & 0 & 0 & 1 & 0 & 0 & 0 & 0 & 0 & 1 & 0 & 0\\\\\n",
       "\t 2.197225 & 0 & 0 & 0 & 0 & 0 & 0 & 1 & 0 & 0 & 0 & 1 & 0 & 0 & 0 & 0 & 1\\\\\n",
       "\t 3.295837 & 0 & 0 & 0 & 1 & 0 & 0 & 0 & 0 & 1 & 0 & 0 & 1 & 1 & 1 & 0 & 0\\\\\n",
       "\t 3.295837 & 1 & 0 & 0 & 0 & 0 & 0 & 0 & 0 & 1 & 0 & 0 & 1 & 0 & 1 & 0 & 0\\\\\n",
       "\\end{tabular}\n"
      ],
      "text/markdown": [
       "\n",
       "A data.table: 6 × 17\n",
       "\n",
       "| inuidur1 &lt;dbl&gt; | female &lt;dbl&gt; | black &lt;dbl&gt; | othrace &lt;dbl&gt; | dep1 &lt;dbl&gt; | dep2 &lt;dbl&gt; | q2 &lt;dbl&gt; | q3 &lt;dbl&gt; | q4 &lt;dbl&gt; | q5 &lt;dbl&gt; | q6 &lt;dbl&gt; | agelt35 &lt;dbl&gt; | agegt54 &lt;dbl&gt; | durable &lt;dbl&gt; | lusd &lt;dbl&gt; | husd &lt;dbl&gt; | tg &lt;dbl&gt; |\n",
       "|---|---|---|---|---|---|---|---|---|---|---|---|---|---|---|---|---|\n",
       "| 2.890372 | 0 | 0 | 0 | 0 | 1 | 0 | 0 | 0 | 1 | 0 | 0 | 0 | 0 | 0 | 1 | 0 |\n",
       "| 0.000000 | 0 | 0 | 0 | 0 | 0 | 0 | 0 | 0 | 1 | 0 | 0 | 0 | 0 | 1 | 0 | 0 |\n",
       "| 3.295837 | 0 | 0 | 0 | 0 | 0 | 0 | 0 | 1 | 0 | 0 | 0 | 0 | 0 | 1 | 0 | 0 |\n",
       "| 2.197225 | 0 | 0 | 0 | 0 | 0 | 0 | 1 | 0 | 0 | 0 | 1 | 0 | 0 | 0 | 0 | 1 |\n",
       "| 3.295837 | 0 | 0 | 0 | 1 | 0 | 0 | 0 | 0 | 1 | 0 | 0 | 1 | 1 | 1 | 0 | 0 |\n",
       "| 3.295837 | 1 | 0 | 0 | 0 | 0 | 0 | 0 | 0 | 1 | 0 | 0 | 1 | 0 | 1 | 0 | 0 |\n",
       "\n"
      ],
      "text/plain": [
       "  inuidur1 female black othrace dep1 dep2 q2 q3 q4 q5 q6 agelt35 agegt54\n",
       "1 2.890372 0      0     0       0    1    0  0  0  1  0  0       0      \n",
       "2 0.000000 0      0     0       0    0    0  0  0  1  0  0       0      \n",
       "3 3.295837 0      0     0       0    0    0  0  1  0  0  0       0      \n",
       "4 2.197225 0      0     0       0    0    0  1  0  0  0  1       0      \n",
       "5 3.295837 0      0     0       1    0    0  0  0  1  0  0       1      \n",
       "6 3.295837 1      0     0       0    0    0  0  0  1  0  0       1      \n",
       "  durable lusd husd tg\n",
       "1 0       0    1    0 \n",
       "2 0       1    0    0 \n",
       "3 0       1    0    0 \n",
       "4 0       0    0    1 \n",
       "5 1       1    0    0 \n",
       "6 0       1    0    0 "
      ]
     },
     "metadata": {},
     "output_type": "display_data"
    },
    {
     "name": "stdout",
     "output_type": "stream",
     "text": [
      "================= DoubleMLData Object ==================\n",
      "\n",
      "\n",
      "------------------ Data summary      ------------------\n",
      "Outcome variable: inuidur1\n",
      "Treatment variable(s): tg\n",
      "Covariates: female, black, othrace, dep1, dep2, q2, q3, q4, q5, q6, agelt35, agegt54, durable, lusd, husd\n",
      "Instrument(s): \n",
      "No. Observations: 5099\n"
     ]
    }
   ],
   "source": [
    "# Load bonus data\n",
    "df_bonus = fetch_bonus(return_type=\"data.table\")\n",
    "head(df_bonus)\n",
    "\n",
    "# Specify the data and variables for the causal model\n",
    "x_vars = c(\"female\", \"black\", \"othrace\", \"dep1\", \"dep2\",\n",
    "           \"q2\", \"q3\", \"q4\", \"q5\", \"q6\", \"agelt35\", \"agegt54\",\n",
    "           \"durable\", \"lusd\", \"husd\")\n",
    "dim_x = length(x_vars)\n",
    "dml_data_bonus = DoubleMLData$new(df_bonus,\n",
    "                             y_col = \"inuidur1\",\n",
    "                             d_cols = \"tg\",\n",
    "                             x_cols = x_vars)\n",
    "print(dml_data_bonus)"
   ]
  },
  {
   "cell_type": "markdown",
   "id": "1bfd66c6",
   "metadata": {},
   "source": [
    "To specify a learner for the nuisance part in a causal model, we can either use [mlr3](https://mlr3.mlr-org.com/)'s [LearnerRegr](https://mlr3.mlr-org.com/reference/LearnerRegr.html) for a model's nuisance part with a continuous dependent variable or a [LearnerClassif](https://mlr3.mlr-org.com/reference/LearnerClassif.html) if the corresponding outcome variable is binary. \n",
    "\n",
    "Moreover, it's possible to create a learner based on a pipeline. For example, we could think of [ensemble learners](https://mlr3book.mlr-org.com/pipelines.html#pipe-model-ensembles) which combine several estimators."
   ]
  },
  {
   "cell_type": "markdown",
   "id": "5e23aab7",
   "metadata": {},
   "source": [
    "## Using learners from `mlr3`, `mlr3learners` and `mlr3extralearners`\n",
    "\n",
    "Let's begin with a \"standard\" example on how to use any of the learners provided by [mlr3](https://mlr3.mlr-org.com/) (Lang et al. 2020), [mlr3learners](https://mlr3learners.mlr-org.com/) (Lang et al. 2021) and [mlr3extralearners](https://mlr3extralearners.mlr-org.com/) (Sonabend and Schratz 2021) in [DoubleML](https://docs.doubleml.org/stable/index.html): We create an object of the class [Learner](https://mlr3.mlr-org.com/reference/Learner.html) which [DoubleML](https://docs.doubleml.org/stable/index.html) internally uses for model training and generation of predictions. \n",
    "\n",
    "In the simulated example, we will use a lasso estimator for the continuous treatment variable, which is based on the [glmnet package](https://glmnet.stanford.edu/index.html).  For the binary treatment variable in the Bonus data example, we use a random forest classifier as provided by [ranger](https://github.com/imbs-hl/ranger)."
   ]
  },
  {
   "cell_type": "code",
   "execution_count": 3,
   "id": "c0260edd",
   "metadata": {
    "execution": {
     "iopub.execute_input": "2021-12-13T09:38:08.618600Z",
     "iopub.status.busy": "2021-12-13T09:38:08.617459Z",
     "iopub.status.idle": "2021-12-13T09:38:08.930068Z",
     "shell.execute_reply": "2021-12-13T09:38:08.928981Z"
    }
   },
   "outputs": [
    {
     "data": {
      "text/html": [
       "<style>\n",
       ".list-inline {list-style: none; margin:0; padding: 0}\n",
       ".list-inline>li {display: inline-block}\n",
       ".list-inline>li:not(:last-child)::after {content: \"\\00b7\"; padding: 0 .5ex}\n",
       "</style>\n",
       "<ol class=list-inline><li>'LearnerRegrCVGlmnet'</li><li>'LearnerRegr'</li><li>'Learner'</li><li>'R6'</li></ol>\n"
      ],
      "text/latex": [
       "\\begin{enumerate*}\n",
       "\\item 'LearnerRegrCVGlmnet'\n",
       "\\item 'LearnerRegr'\n",
       "\\item 'Learner'\n",
       "\\item 'R6'\n",
       "\\end{enumerate*}\n"
      ],
      "text/markdown": [
       "1. 'LearnerRegrCVGlmnet'\n",
       "2. 'LearnerRegr'\n",
       "3. 'Learner'\n",
       "4. 'R6'\n",
       "\n",
       "\n"
      ],
      "text/plain": [
       "[1] \"LearnerRegrCVGlmnet\" \"LearnerRegr\"         \"Learner\"            \n",
       "[4] \"R6\"                 "
      ]
     },
     "metadata": {},
     "output_type": "display_data"
    }
   ],
   "source": [
    "library(mlr3)\n",
    "library(mlr3learners)\n",
    "\n",
    "# suppress messages during fitting\n",
    "lgr::get_logger(\"mlr3\")$set_threshold(\"warn\")\n",
    "\n",
    "learner_lasso = lrn(\"regr.cv_glmnet\", s=\"lambda.min\")\n",
    "ml_g_lasso = learner_lasso$clone()\n",
    "ml_m_lasso = learner_lasso$clone()\n",
    "class(ml_g_lasso)"
   ]
  },
  {
   "cell_type": "code",
   "execution_count": 4,
   "id": "51ae80df",
   "metadata": {
    "execution": {
     "iopub.execute_input": "2021-12-13T09:38:08.934323Z",
     "iopub.status.busy": "2021-12-13T09:38:08.933397Z",
     "iopub.status.idle": "2021-12-13T09:38:09.088833Z",
     "shell.execute_reply": "2021-12-13T09:38:09.089603Z"
    }
   },
   "outputs": [
    {
     "data": {
      "text/html": [
       "<style>\n",
       ".list-inline {list-style: none; margin:0; padding: 0}\n",
       ".list-inline>li {display: inline-block}\n",
       ".list-inline>li:not(:last-child)::after {content: \"\\00b7\"; padding: 0 .5ex}\n",
       "</style>\n",
       "<ol class=list-inline><li>'LearnerRegrRanger'</li><li>'LearnerRegr'</li><li>'Learner'</li><li>'R6'</li></ol>\n"
      ],
      "text/latex": [
       "\\begin{enumerate*}\n",
       "\\item 'LearnerRegrRanger'\n",
       "\\item 'LearnerRegr'\n",
       "\\item 'Learner'\n",
       "\\item 'R6'\n",
       "\\end{enumerate*}\n"
      ],
      "text/markdown": [
       "1. 'LearnerRegrRanger'\n",
       "2. 'LearnerRegr'\n",
       "3. 'Learner'\n",
       "4. 'R6'\n",
       "\n",
       "\n"
      ],
      "text/plain": [
       "[1] \"LearnerRegrRanger\" \"LearnerRegr\"       \"Learner\"          \n",
       "[4] \"R6\"               "
      ]
     },
     "metadata": {},
     "output_type": "display_data"
    }
   ],
   "source": [
    "# Random forest learner for nuisance part ml_g\n",
    "learner_forest_regr = lrn(\"regr.ranger\",\n",
    "                          num.trees=500, mtry=floor(sqrt(dim_x)),\n",
    "                          max.depth=5, min.node.size=2)\n",
    "\n",
    "# Random forest learner for nuisance part ml_m (binary outcome)\n",
    "learner_forest_classif = lrn(\"classif.ranger\",\n",
    "                             num.trees=500,\n",
    "                             mtry=floor(sqrt(dim_x)),\n",
    "                             max.depth=5, min.node.size=2)\n",
    "\n",
    "ml_g_forest = learner_forest_regr$clone()\n",
    "ml_m_forest = learner_forest_classif$clone()\n",
    "class(ml_g_forest)"
   ]
  },
  {
   "cell_type": "markdown",
   "id": "28795baa",
   "metadata": {},
   "source": [
    "We set up a causal model, here we specify a partially linear model and thereby pass the learner as an input. Let's fit the models."
   ]
  },
  {
   "cell_type": "code",
   "execution_count": 5,
   "id": "2a231d42",
   "metadata": {
    "execution": {
     "iopub.execute_input": "2021-12-13T09:38:09.094409Z",
     "iopub.status.busy": "2021-12-13T09:38:09.093269Z",
     "iopub.status.idle": "2021-12-13T09:38:11.399100Z",
     "shell.execute_reply": "2021-12-13T09:38:11.398507Z"
    }
   },
   "outputs": [
    {
     "name": "stdout",
     "output_type": "stream",
     "text": [
      "================= DoubleMLPLR Object ==================\n",
      "\n",
      "\n",
      "------------------ Data summary      ------------------\n",
      "Outcome variable: y\n",
      "Treatment variable(s): d\n",
      "Covariates: X1, X2, X3, X4, X5, X6, X7, X8, X9, X10, X11, X12, X13, X14, X15, X16, X17, X18, X19, X20, X21, X22, X23, X24, X25, X26, X27, X28, X29, X30, X31, X32, X33, X34, X35, X36, X37, X38, X39, X40, X41, X42, X43, X44, X45, X46, X47, X48, X49, X50, X51, X52, X53, X54, X55, X56, X57, X58, X59, X60, X61, X62, X63, X64, X65, X66, X67, X68, X69, X70, X71, X72, X73, X74, X75, X76, X77, X78, X79, X80, X81, X82, X83, X84, X85, X86, X87, X88, X89, X90, X91, X92, X93, X94, X95, X96, X97, X98, X99, X100\n",
      "Instrument(s): \n",
      "No. Observations: 500\n",
      "\n",
      "------------------ Score & algorithm ------------------\n",
      "Score function: partialling out\n",
      "DML algorithm: dml2\n",
      "\n",
      "------------------ Machine learner   ------------------\n",
      "ml_g: regr.cv_glmnet\n",
      "ml_m: regr.cv_glmnet\n",
      "\n",
      "------------------ Resampling        ------------------\n",
      "No. folds: 5\n",
      "No. repeated sample splits: 1\n",
      "Apply cross-fitting: TRUE\n",
      "\n",
      "------------------ Fit summary       ------------------\n",
      " Estimates and significance testing of the effect of target variables\n",
      "  Estimate. Std. Error t value Pr(>|t|)    \n",
      "d   3.01219    0.04415   68.22   <2e-16 ***\n",
      "---\n",
      "Signif. codes:  0 ‘***’ 0.001 ‘**’ 0.01 ‘*’ 0.05 ‘.’ 0.1 ‘ ’ 1\n",
      "\n",
      "\n"
     ]
    }
   ],
   "source": [
    "set.seed(123)\n",
    "obj_dml_plr_sim = DoubleMLPLR$new(dml_data_sim,\n",
    "                                  ml_g=ml_g_lasso,\n",
    "                                  ml_m=ml_m_lasso)\n",
    "obj_dml_plr_sim$fit()\n",
    "print(obj_dml_plr_sim)"
   ]
  },
  {
   "cell_type": "code",
   "execution_count": 6,
   "id": "fdd9e0f8",
   "metadata": {
    "execution": {
     "iopub.execute_input": "2021-12-13T09:38:11.403427Z",
     "iopub.status.busy": "2021-12-13T09:38:11.402251Z",
     "iopub.status.idle": "2021-12-13T09:38:16.598812Z",
     "shell.execute_reply": "2021-12-13T09:38:16.597424Z"
    }
   },
   "outputs": [
    {
     "name": "stdout",
     "output_type": "stream",
     "text": [
      "================= DoubleMLPLR Object ==================\n",
      "\n",
      "\n",
      "------------------ Data summary      ------------------\n",
      "Outcome variable: inuidur1\n",
      "Treatment variable(s): tg\n",
      "Covariates: female, black, othrace, dep1, dep2, q2, q3, q4, q5, q6, agelt35, agegt54, durable, lusd, husd\n",
      "Instrument(s): \n",
      "No. Observations: 5099\n",
      "\n",
      "------------------ Score & algorithm ------------------\n",
      "Score function: partialling out\n",
      "DML algorithm: dml2\n",
      "\n",
      "------------------ Machine learner   ------------------\n",
      "ml_g: regr.ranger\n",
      "ml_m: classif.ranger\n",
      "\n",
      "------------------ Resampling        ------------------\n",
      "No. folds: 5\n",
      "No. repeated sample splits: 1\n",
      "Apply cross-fitting: TRUE\n",
      "\n",
      "------------------ Fit summary       ------------------\n",
      " Estimates and significance testing of the effect of target variables\n",
      "   Estimate. Std. Error t value Pr(>|t|)  \n",
      "tg   -0.0765     0.0354  -2.161   0.0307 *\n",
      "---\n",
      "Signif. codes:  0 ‘***’ 0.001 ‘**’ 0.01 ‘*’ 0.05 ‘.’ 0.1 ‘ ’ 1\n",
      "\n",
      "\n"
     ]
    }
   ],
   "source": [
    "set.seed(123)\n",
    "obj_dml_plr_bonus = DoubleMLPLR$new(dml_data_bonus,\n",
    "                                    ml_g=ml_g_forest,\n",
    "                                    ml_m=ml_m_forest)\n",
    "obj_dml_plr_bonus$fit()\n",
    "print(obj_dml_plr_bonus)"
   ]
  },
  {
   "cell_type": "markdown",
   "id": "4da0184d",
   "metadata": {},
   "source": [
    "## Set up learners based on `mlr3pipelines`"
   ]
  },
  {
   "cell_type": "markdown",
   "id": "c26bbf84",
   "metadata": {},
   "source": [
    "These learners can also be constructed using [mlr3pipelines](https://mlr3pipelines.mlr-org.com/). We'll first use the PipeOp constructor [po()](https://mlr3pipelines.mlr-org.com/reference/po.html) to define the learner construction and then initiate a new instance of the [Learner](https://mlr3.mlr-org.com/reference/Learner.html) class. [po()](https://mlr3pipelines.mlr-org.com/reference/po.html) implements a computational step in a pipeline. For more information, we refer to the [Pipelines Chapter in the mlr3book](https://mlr3book.mlr-org.com/pipelines.html#pipelines)."
   ]
  },
  {
   "cell_type": "code",
   "execution_count": 7,
   "id": "4b09ebeb",
   "metadata": {
    "execution": {
     "iopub.execute_input": "2021-12-13T09:38:16.604021Z",
     "iopub.status.busy": "2021-12-13T09:38:16.602829Z",
     "iopub.status.idle": "2021-12-13T09:38:16.951047Z",
     "shell.execute_reply": "2021-12-13T09:38:16.950423Z"
    }
   },
   "outputs": [
    {
     "data": {
      "text/html": [
       "<style>\n",
       ".list-inline {list-style: none; margin:0; padding: 0}\n",
       ".list-inline>li {display: inline-block}\n",
       ".list-inline>li:not(:last-child)::after {content: \"\\00b7\"; padding: 0 .5ex}\n",
       "</style>\n",
       "<ol class=list-inline><li>'GraphLearner'</li><li>'Learner'</li><li>'R6'</li></ol>\n"
      ],
      "text/latex": [
       "\\begin{enumerate*}\n",
       "\\item 'GraphLearner'\n",
       "\\item 'Learner'\n",
       "\\item 'R6'\n",
       "\\end{enumerate*}\n"
      ],
      "text/markdown": [
       "1. 'GraphLearner'\n",
       "2. 'Learner'\n",
       "3. 'R6'\n",
       "\n",
       "\n"
      ],
      "text/plain": [
       "[1] \"GraphLearner\" \"Learner\"      \"R6\"          "
      ]
     },
     "metadata": {},
     "output_type": "display_data"
    }
   ],
   "source": [
    "# Lasso learner\n",
    "library(mlr3pipelines)\n",
    "pipe_lasso = po(lrn(\"regr.cv_glmnet\"), s = \"lambda.min\")\n",
    "ml_g_lasso_pipe = as_learner(pipe_lasso)\n",
    "ml_m_lasso_pipe = as_learner(pipe_lasso)\n",
    "\n",
    "# Class of the lasso learner\n",
    "class(ml_g_lasso_pipe)"
   ]
  },
  {
   "cell_type": "code",
   "execution_count": 8,
   "id": "52e41460",
   "metadata": {
    "execution": {
     "iopub.execute_input": "2021-12-13T09:38:16.955176Z",
     "iopub.status.busy": "2021-12-13T09:38:16.954172Z",
     "iopub.status.idle": "2021-12-13T09:38:17.229308Z",
     "shell.execute_reply": "2021-12-13T09:38:17.228224Z"
    }
   },
   "outputs": [
    {
     "data": {
      "text/html": [
       "<style>\n",
       ".list-inline {list-style: none; margin:0; padding: 0}\n",
       ".list-inline>li {display: inline-block}\n",
       ".list-inline>li:not(:last-child)::after {content: \"\\00b7\"; padding: 0 .5ex}\n",
       "</style>\n",
       "<ol class=list-inline><li>'GraphLearner'</li><li>'Learner'</li><li>'R6'</li></ol>\n"
      ],
      "text/latex": [
       "\\begin{enumerate*}\n",
       "\\item 'GraphLearner'\n",
       "\\item 'Learner'\n",
       "\\item 'R6'\n",
       "\\end{enumerate*}\n"
      ],
      "text/markdown": [
       "1. 'GraphLearner'\n",
       "2. 'Learner'\n",
       "3. 'R6'\n",
       "\n",
       "\n"
      ],
      "text/plain": [
       "[1] \"GraphLearner\" \"Learner\"      \"R6\"          "
      ]
     },
     "metadata": {},
     "output_type": "display_data"
    },
    {
     "data": {
      "text/html": [
       "<style>\n",
       ".list-inline {list-style: none; margin:0; padding: 0}\n",
       ".list-inline>li {display: inline-block}\n",
       ".list-inline>li:not(:last-child)::after {content: \"\\00b7\"; padding: 0 .5ex}\n",
       "</style>\n",
       "<ol class=list-inline><li>'GraphLearner'</li><li>'Learner'</li><li>'R6'</li></ol>\n"
      ],
      "text/latex": [
       "\\begin{enumerate*}\n",
       "\\item 'GraphLearner'\n",
       "\\item 'Learner'\n",
       "\\item 'R6'\n",
       "\\end{enumerate*}\n"
      ],
      "text/markdown": [
       "1. 'GraphLearner'\n",
       "2. 'Learner'\n",
       "3. 'R6'\n",
       "\n",
       "\n"
      ],
      "text/plain": [
       "[1] \"GraphLearner\" \"Learner\"      \"R6\"          "
      ]
     },
     "metadata": {},
     "output_type": "display_data"
    }
   ],
   "source": [
    "# Random forest learner for nuisance part ml_g\n",
    "pipe_forest_regr = po(lrn(\"regr.ranger\"),\n",
    "                      num.trees=500, mtry=floor(sqrt(dim_x)),\n",
    "                      max.depth=5, min.node.size=2)\n",
    "\n",
    "# Random forest learner for nuisance part ml_m (binary outcome)\n",
    "pipe_forest_classif = po(lrn(\"classif.ranger\"),\n",
    "                             num.trees=500,\n",
    "                             mtry=floor(sqrt(dim_x)),\n",
    "                             max.depth=5, min.node.size=2)\n",
    "\n",
    "ml_g_forest_pipe = as_learner(pipe_forest_regr)\n",
    "ml_m_forest_pipe = as_learner(pipe_forest_classif)\n",
    "\n",
    "# Class of the random forest learners\n",
    "class(ml_g_forest_pipe)\n",
    "class(ml_m_forest_pipe)"
   ]
  },
  {
   "cell_type": "markdown",
   "id": "14a6bfb6",
   "metadata": {},
   "source": [
    "Let's use these learners to fit the PLR in both examples."
   ]
  },
  {
   "cell_type": "code",
   "execution_count": 9,
   "id": "bcf86234",
   "metadata": {
    "execution": {
     "iopub.execute_input": "2021-12-13T09:38:17.234039Z",
     "iopub.status.busy": "2021-12-13T09:38:17.233037Z",
     "iopub.status.idle": "2021-12-13T09:38:18.895910Z",
     "shell.execute_reply": "2021-12-13T09:38:18.895303Z"
    }
   },
   "outputs": [
    {
     "name": "stdout",
     "output_type": "stream",
     "text": [
      "================= DoubleMLPLR Object ==================\n",
      "\n",
      "\n",
      "------------------ Data summary      ------------------\n",
      "Outcome variable: y\n",
      "Treatment variable(s): d\n",
      "Covariates: X1, X2, X3, X4, X5, X6, X7, X8, X9, X10, X11, X12, X13, X14, X15, X16, X17, X18, X19, X20, X21, X22, X23, X24, X25, X26, X27, X28, X29, X30, X31, X32, X33, X34, X35, X36, X37, X38, X39, X40, X41, X42, X43, X44, X45, X46, X47, X48, X49, X50, X51, X52, X53, X54, X55, X56, X57, X58, X59, X60, X61, X62, X63, X64, X65, X66, X67, X68, X69, X70, X71, X72, X73, X74, X75, X76, X77, X78, X79, X80, X81, X82, X83, X84, X85, X86, X87, X88, X89, X90, X91, X92, X93, X94, X95, X96, X97, X98, X99, X100\n",
      "Instrument(s): \n",
      "No. Observations: 500\n",
      "\n",
      "------------------ Score & algorithm ------------------\n",
      "Score function: partialling out\n",
      "DML algorithm: dml2\n",
      "\n",
      "------------------ Machine learner   ------------------\n",
      "ml_g: regr.cv_glmnet\n",
      "ml_m: regr.cv_glmnet\n",
      "\n",
      "------------------ Resampling        ------------------\n",
      "No. folds: 5\n",
      "No. repeated sample splits: 1\n",
      "Apply cross-fitting: TRUE\n",
      "\n",
      "------------------ Fit summary       ------------------\n",
      " Estimates and significance testing of the effect of target variables\n",
      "  Estimate. Std. Error t value Pr(>|t|)    \n",
      "d   3.01219    0.04415   68.22   <2e-16 ***\n",
      "---\n",
      "Signif. codes:  0 ‘***’ 0.001 ‘**’ 0.01 ‘*’ 0.05 ‘.’ 0.1 ‘ ’ 1\n",
      "\n",
      "\n"
     ]
    }
   ],
   "source": [
    "set.seed(123)\n",
    "obj_dml_plr_sim_pipe = DoubleMLPLR$new(dml_data_sim,\n",
    "                                       ml_g=ml_g_lasso_pipe,\n",
    "                                       ml_m=ml_m_lasso_pipe)\n",
    "obj_dml_plr_sim_pipe$fit()\n",
    "print(obj_dml_plr_sim_pipe)"
   ]
  },
  {
   "cell_type": "code",
   "execution_count": 10,
   "id": "b9decfad",
   "metadata": {
    "execution": {
     "iopub.execute_input": "2021-12-13T09:38:18.900046Z",
     "iopub.status.busy": "2021-12-13T09:38:18.898961Z",
     "iopub.status.idle": "2021-12-13T09:38:24.597442Z",
     "shell.execute_reply": "2021-12-13T09:38:24.595504Z"
    }
   },
   "outputs": [
    {
     "name": "stdout",
     "output_type": "stream",
     "text": [
      "================= DoubleMLPLR Object ==================\n",
      "\n",
      "\n",
      "------------------ Data summary      ------------------\n",
      "Outcome variable: inuidur1\n",
      "Treatment variable(s): tg\n",
      "Covariates: female, black, othrace, dep1, dep2, q2, q3, q4, q5, q6, agelt35, agegt54, durable, lusd, husd\n",
      "Instrument(s): \n",
      "No. Observations: 5099\n",
      "\n",
      "------------------ Score & algorithm ------------------\n",
      "Score function: partialling out\n",
      "DML algorithm: dml2\n",
      "\n",
      "------------------ Machine learner   ------------------\n",
      "ml_g: regr.ranger\n",
      "ml_m: classif.ranger\n",
      "\n",
      "------------------ Resampling        ------------------\n",
      "No. folds: 5\n",
      "No. repeated sample splits: 1\n",
      "Apply cross-fitting: TRUE\n",
      "\n",
      "------------------ Fit summary       ------------------\n",
      " Estimates and significance testing of the effect of target variables\n",
      "   Estimate. Std. Error t value Pr(>|t|)  \n",
      "tg   -0.0765     0.0354  -2.161   0.0307 *\n",
      "---\n",
      "Signif. codes:  0 ‘***’ 0.001 ‘**’ 0.01 ‘*’ 0.05 ‘.’ 0.1 ‘ ’ 1\n",
      "\n",
      "\n"
     ]
    }
   ],
   "source": [
    "set.seed(123)\n",
    "obj_dml_plr_bonus_pipe = DoubleMLPLR$new(dml_data_bonus,\n",
    "                                    ml_g=ml_g_forest_pipe,\n",
    "                                    ml_m=ml_m_forest_pipe)\n",
    "obj_dml_plr_bonus_pipe$fit()\n",
    "print(obj_dml_plr_bonus_pipe)"
   ]
  },
  {
   "cell_type": "markdown",
   "id": "952de1c7",
   "metadata": {},
   "source": [
    "## Use ensemble learners based on `mlr3pipelines`\n"
   ]
  },
  {
   "cell_type": "markdown",
   "id": "e0ad79d6",
   "metadata": {},
   "source": [
    "First, let's see how we can use more complicated [GraphLearner](https://mlr3pipelines.mlr-org.com/reference/mlr_learners_graph.html)s like ensemble learners in [DoubleML](https://docs.doubleml.org/). For example, we want to create a learner with predictions that are generated as an average from three different learners. In the first step, we split up the pipeline into three branches. In our example, the learners estimate the nuisance parts independently of each other. In the last step, we average the predictions. Thereby we will use the pipe operator `%>>%`. For more details, we refer to the [Pipelines Chapter in the mlr3book](https://mlr3book.mlr-org.com/pipelines.html)."
   ]
  },
  {
   "cell_type": "code",
   "execution_count": 11,
   "id": "bae2d6ca",
   "metadata": {
    "execution": {
     "iopub.execute_input": "2021-12-13T09:38:24.601949Z",
     "iopub.status.busy": "2021-12-13T09:38:24.600487Z",
     "iopub.status.idle": "2021-12-13T09:38:25.148956Z",
     "shell.execute_reply": "2021-12-13T09:38:25.147908Z"
    }
   },
   "outputs": [],
   "source": [
    "graph_ensemble = po(\"branch\", c(\"lasso\", \"forest\", \"tree\")) %>>%\n",
    "  gunion(list(\n",
    "    po(\"learner\", lrn(\"regr.cv_glmnet\", s = \"lambda.min\")),\n",
    "    po(\"learner\", lrn(\"regr.ranger\")),\n",
    "    po(\"learner\", lrn(\"regr.rpart\", cp = 0.01))\n",
    "  )) %>>%\n",
    "    po(\"unbranch\", c(\"lasso\", \"forest\", \"tree\")) %>>%\n",
    "    po(\"regravg\", 3)"
   ]
  },
  {
   "cell_type": "code",
   "execution_count": 12,
   "id": "dd0a7ab6",
   "metadata": {
    "execution": {
     "iopub.execute_input": "2021-12-13T09:38:25.154413Z",
     "iopub.status.busy": "2021-12-13T09:38:25.153060Z",
     "iopub.status.idle": "2021-12-13T09:38:25.559990Z",
     "shell.execute_reply": "2021-12-13T09:38:25.559308Z"
    }
   },
   "outputs": [
    {
     "data": {
      "text/html": [
       "<style>\n",
       ".list-inline {list-style: none; margin:0; padding: 0}\n",
       ".list-inline>li {display: inline-block}\n",
       ".list-inline>li:not(:last-child)::after {content: \"\\00b7\"; padding: 0 .5ex}\n",
       "</style>\n",
       "<ol class=list-inline><li>'Graph'</li><li>'R6'</li></ol>\n"
      ],
      "text/latex": [
       "\\begin{enumerate*}\n",
       "\\item 'Graph'\n",
       "\\item 'R6'\n",
       "\\end{enumerate*}\n"
      ],
      "text/markdown": [
       "1. 'Graph'\n",
       "2. 'R6'\n",
       "\n",
       "\n"
      ],
      "text/plain": [
       "[1] \"Graph\" \"R6\"   "
      ]
     },
     "metadata": {},
     "output_type": "display_data"
    }
   ],
   "source": [
    "# For regression (nuisance parts with continuous outcome)\n",
    "graph_ensemble_regr = gunion(list(\n",
    "    po(\"learner\", lrn(\"regr.cv_glmnet\", s = \"lambda.min\")),\n",
    "    po(\"learner\", lrn(\"regr.ranger\")),\n",
    "    po(\"learner\", lrn(\"regr.rpart\", cp = 0.01))\n",
    "  )) %>>%\n",
    "    po(\"regravg\", 3)\n",
    "\n",
    "# Class of ' graph_ensemble'\n",
    "class(graph_ensemble)"
   ]
  },
  {
   "cell_type": "code",
   "execution_count": 13,
   "id": "d931817d",
   "metadata": {
    "execution": {
     "iopub.execute_input": "2021-12-13T09:38:25.564532Z",
     "iopub.status.busy": "2021-12-13T09:38:25.563303Z",
     "iopub.status.idle": "2021-12-13T09:38:25.696847Z",
     "shell.execute_reply": "2021-12-13T09:38:25.697617Z"
    },
    "tags": [
     "nbsphinx-thumbnail"
    ]
   },
   "outputs": [
    {
     "data": {
      "image/png": "[encoded data removed]",
      "text/plain": [
       "Plot with title “”"
      ]
     },
     "metadata": {
      "image/png": {
       "height": 420,
       "width": 420
      }
     },
     "output_type": "display_data"
    }
   ],
   "source": [
    "# Plot the graph\n",
    "graph_ensemble_regr$plot()"
   ]
  },
  {
   "cell_type": "code",
   "execution_count": 14,
   "id": "94f8e41b",
   "metadata": {
    "execution": {
     "iopub.execute_input": "2021-12-13T09:38:25.702332Z",
     "iopub.status.busy": "2021-12-13T09:38:25.701496Z",
     "iopub.status.idle": "2021-12-13T09:38:26.105595Z",
     "shell.execute_reply": "2021-12-13T09:38:26.104541Z"
    }
   },
   "outputs": [
    {
     "data": {
      "text/html": [
       "<style>\n",
       ".list-inline {list-style: none; margin:0; padding: 0}\n",
       ".list-inline>li {display: inline-block}\n",
       ".list-inline>li:not(:last-child)::after {content: \"\\00b7\"; padding: 0 .5ex}\n",
       "</style>\n",
       "<ol class=list-inline><li>'Graph'</li><li>'R6'</li></ol>\n"
      ],
      "text/latex": [
       "\\begin{enumerate*}\n",
       "\\item 'Graph'\n",
       "\\item 'R6'\n",
       "\\end{enumerate*}\n"
      ],
      "text/markdown": [
       "1. 'Graph'\n",
       "2. 'R6'\n",
       "\n",
       "\n"
      ],
      "text/plain": [
       "[1] \"Graph\" \"R6\"   "
      ]
     },
     "metadata": {},
     "output_type": "display_data"
    }
   ],
   "source": [
    "# For classification (nuisance part ml_m in the Bonus example)\n",
    "graph_ensemble_classif = gunion(list(\n",
    "    po(\"learner\", lrn(\"classif.cv_glmnet\", s = \"lambda.min\")),\n",
    "    po(\"learner\", lrn(\"classif.ranger\")),\n",
    "    po(\"learner\", lrn(\"classif.rpart\", cp = 0.01))\n",
    "  )) %>>%\n",
    "    po(\"classifavg\", 3)\n",
    "\n",
    "# Class of 'graph_ensemble'\n",
    "class(graph_ensemble_classif)"
   ]
  },
  {
   "cell_type": "code",
   "execution_count": 15,
   "id": "34c3e25a",
   "metadata": {
    "execution": {
     "iopub.execute_input": "2021-12-13T09:38:26.110369Z",
     "iopub.status.busy": "2021-12-13T09:38:26.109175Z",
     "iopub.status.idle": "2021-12-13T09:38:26.204042Z",
     "shell.execute_reply": "2021-12-13T09:38:26.204824Z"
    }
   },
   "outputs": [
    {
     "data": {
      "image/png": "[encoded data removed]",
      "text/plain": [
       "Plot with title “”"
      ]
     },
     "metadata": {
      "image/png": {
       "height": 420,
       "width": 420
      }
     },
     "output_type": "display_data"
    }
   ],
   "source": [
    "# Plot the graph\n",
    "graph_ensemble_classif$plot()"
   ]
  },
  {
   "cell_type": "markdown",
   "id": "ac7308a1",
   "metadata": {},
   "source": [
    "We create a new instance of a [GraphLearner](https://mlr3pipelines.mlr-org.com/reference/mlr_learners_graph.html) which is later used in [DoubleML](https://docs.doubleml.org)."
   ]
  },
  {
   "cell_type": "code",
   "execution_count": 16,
   "id": "e15ae052",
   "metadata": {
    "execution": {
     "iopub.execute_input": "2021-12-13T09:38:26.209789Z",
     "iopub.status.busy": "2021-12-13T09:38:26.208472Z",
     "iopub.status.idle": "2021-12-13T09:38:26.361168Z",
     "shell.execute_reply": "2021-12-13T09:38:26.360171Z"
    }
   },
   "outputs": [],
   "source": [
    "ensemble_pipe_regr = as_learner(graph_ensemble_regr)\n",
    "ensemble_pipe_classif = as_learner(graph_ensemble_classif)"
   ]
  },
  {
   "cell_type": "markdown",
   "id": "32724fc8",
   "metadata": {},
   "source": [
    "Let's estimate the two PLR examples with the ensemble learner."
   ]
  },
  {
   "cell_type": "code",
   "execution_count": 17,
   "id": "4cfdd413",
   "metadata": {
    "execution": {
     "iopub.execute_input": "2021-12-13T09:38:26.366235Z",
     "iopub.status.busy": "2021-12-13T09:38:26.364995Z",
     "iopub.status.idle": "2021-12-13T09:38:38.157393Z",
     "shell.execute_reply": "2021-12-13T09:38:38.156708Z"
    }
   },
   "outputs": [
    {
     "name": "stdout",
     "output_type": "stream",
     "text": [
      "================= DoubleMLPLR Object ==================\n",
      "\n",
      "\n",
      "------------------ Data summary      ------------------\n",
      "Outcome variable: y\n",
      "Treatment variable(s): d\n",
      "Covariates: X1, X2, X3, X4, X5, X6, X7, X8, X9, X10, X11, X12, X13, X14, X15, X16, X17, X18, X19, X20, X21, X22, X23, X24, X25, X26, X27, X28, X29, X30, X31, X32, X33, X34, X35, X36, X37, X38, X39, X40, X41, X42, X43, X44, X45, X46, X47, X48, X49, X50, X51, X52, X53, X54, X55, X56, X57, X58, X59, X60, X61, X62, X63, X64, X65, X66, X67, X68, X69, X70, X71, X72, X73, X74, X75, X76, X77, X78, X79, X80, X81, X82, X83, X84, X85, X86, X87, X88, X89, X90, X91, X92, X93, X94, X95, X96, X97, X98, X99, X100\n",
      "Instrument(s): \n",
      "No. Observations: 500\n",
      "\n",
      "------------------ Score & algorithm ------------------\n",
      "Score function: partialling out\n",
      "DML algorithm: dml2\n",
      "\n",
      "------------------ Machine learner   ------------------\n",
      "ml_g: regr.cv_glmnet.regr.ranger.regr.rpart.regravg\n",
      "ml_m: regr.cv_glmnet.regr.ranger.regr.rpart.regravg\n",
      "\n",
      "------------------ Resampling        ------------------\n",
      "No. folds: 5\n",
      "No. repeated sample splits: 1\n",
      "Apply cross-fitting: TRUE\n",
      "\n",
      "------------------ Fit summary       ------------------\n",
      " Estimates and significance testing of the effect of target variables\n",
      "  Estimate. Std. Error t value Pr(>|t|)    \n",
      "d   3.88664    0.02584   150.4   <2e-16 ***\n",
      "---\n",
      "Signif. codes:  0 ‘***’ 0.001 ‘**’ 0.01 ‘*’ 0.05 ‘.’ 0.1 ‘ ’ 1\n",
      "\n",
      "\n"
     ]
    }
   ],
   "source": [
    "# Initiate new DoubleML object and estimate with graph learner\n",
    "set.seed(123)\n",
    "obj_dml_plr_sim_pipe_ensemble = DoubleMLPLR$new(dml_data_sim,\n",
    "                                                ml_g = ensemble_pipe_regr,\n",
    "                                                ml_m = ensemble_pipe_regr)\n",
    "obj_dml_plr_sim_pipe_ensemble$fit()\n",
    "print(obj_dml_plr_sim_pipe_ensemble)"
   ]
  },
  {
   "cell_type": "code",
   "execution_count": 18,
   "id": "876aee8e",
   "metadata": {
    "execution": {
     "iopub.execute_input": "2021-12-13T09:38:38.162237Z",
     "iopub.status.busy": "2021-12-13T09:38:38.160908Z",
     "iopub.status.idle": "2021-12-13T09:38:52.512962Z",
     "shell.execute_reply": "2021-12-13T09:38:52.511735Z"
    }
   },
   "outputs": [
    {
     "name": "stdout",
     "output_type": "stream",
     "text": [
      "================= DoubleMLPLR Object ==================\n",
      "\n",
      "\n",
      "------------------ Data summary      ------------------\n",
      "Outcome variable: inuidur1\n",
      "Treatment variable(s): tg\n",
      "Covariates: female, black, othrace, dep1, dep2, q2, q3, q4, q5, q6, agelt35, agegt54, durable, lusd, husd\n",
      "Instrument(s): \n",
      "No. Observations: 5099\n",
      "\n",
      "------------------ Score & algorithm ------------------\n",
      "Score function: partialling out\n",
      "DML algorithm: dml2\n",
      "\n",
      "------------------ Machine learner   ------------------\n",
      "ml_g: regr.cv_glmnet.regr.ranger.regr.rpart.regravg\n",
      "ml_m: classif.cv_glmnet.classif.ranger.classif.rpart.classifavg\n",
      "\n",
      "------------------ Resampling        ------------------\n",
      "No. folds: 5\n",
      "No. repeated sample splits: 1\n",
      "Apply cross-fitting: TRUE\n",
      "\n",
      "------------------ Fit summary       ------------------\n",
      " Estimates and significance testing of the effect of target variables\n",
      "   Estimate. Std. Error t value Pr(>|t|)  \n",
      "tg  -0.07689    0.03545  -2.169   0.0301 *\n",
      "---\n",
      "Signif. codes:  0 ‘***’ 0.001 ‘**’ 0.01 ‘*’ 0.05 ‘.’ 0.1 ‘ ’ 1\n",
      "\n",
      "\n"
     ]
    }
   ],
   "source": [
    "set.seed(123)\n",
    "obj_dml_plr_bonus_pipe_ensemble = DoubleMLPLR$new(dml_data_bonus,\n",
    "                                    ml_g = ensemble_pipe_regr,\n",
    "                                    ml_m = ensemble_pipe_classif)\n",
    "obj_dml_plr_bonus_pipe_ensemble$fit()\n",
    "print(obj_dml_plr_bonus_pipe_ensemble)"
   ]
  },
  {
   "cell_type": "markdown",
   "id": "e4ddb48a",
   "metadata": {},
   "source": [
    "Alternatively, different learners could also be stacked. Here we simply repeat the example from the [Pipelines Chapter in the mlr3book](https://mlr3book.mlr-org.com/pipelines.html#pipe-model-ensembles-stacking) in our Bonus data example."
   ]
  },
  {
   "cell_type": "code",
   "execution_count": 19,
   "id": "25dc9006",
   "metadata": {
    "execution": {
     "iopub.execute_input": "2021-12-13T09:38:52.524983Z",
     "iopub.status.busy": "2021-12-13T09:38:52.516573Z",
     "iopub.status.idle": "2021-12-13T09:38:52.589225Z",
     "shell.execute_reply": "2021-12-13T09:38:52.588167Z"
    }
   },
   "outputs": [],
   "source": [
    "lrn = lrn(\"classif.rpart\")\n",
    "lrn_0 = po(\"learner_cv\", lrn$clone())\n",
    "lrn_0$id = \"rpart_cv\""
   ]
  },
  {
   "cell_type": "code",
   "execution_count": 20,
   "id": "2555c7a5",
   "metadata": {
    "execution": {
     "iopub.execute_input": "2021-12-13T09:38:52.594557Z",
     "iopub.status.busy": "2021-12-13T09:38:52.593270Z",
     "iopub.status.idle": "2021-12-13T09:38:52.626044Z",
     "shell.execute_reply": "2021-12-13T09:38:52.624981Z"
    }
   },
   "outputs": [],
   "source": [
    "# Pass original features to final estimation step\n",
    "level_0 = gunion(list(lrn_0, po(\"nop\")))"
   ]
  },
  {
   "cell_type": "code",
   "execution_count": 21,
   "id": "99422ee6",
   "metadata": {
    "execution": {
     "iopub.execute_input": "2021-12-13T09:38:52.631382Z",
     "iopub.status.busy": "2021-12-13T09:38:52.630115Z",
     "iopub.status.idle": "2021-12-13T09:38:52.675567Z",
     "shell.execute_reply": "2021-12-13T09:38:52.674622Z"
    }
   },
   "outputs": [],
   "source": [
    "combined = level_0 %>>% po(\"featureunion\", 2)"
   ]
  },
  {
   "cell_type": "code",
   "execution_count": 22,
   "id": "bd7357b2",
   "metadata": {
    "execution": {
     "iopub.execute_input": "2021-12-13T09:38:52.680322Z",
     "iopub.status.busy": "2021-12-13T09:38:52.679014Z",
     "iopub.status.idle": "2021-12-13T09:38:52.799608Z",
     "shell.execute_reply": "2021-12-13T09:38:52.799095Z"
    }
   },
   "outputs": [
    {
     "data": {
      "image/png": "[encoded data removed]",
      "text/plain": [
       "Plot with title “”"
      ]
     },
     "metadata": {
      "image/png": {
       "height": 420,
       "width": 420
      }
     },
     "output_type": "display_data"
    }
   ],
   "source": [
    "stack = combined %>>% po(\"learner\", lrn$clone())\n",
    "stack$plot(html = FALSE)"
   ]
  },
  {
   "cell_type": "code",
   "execution_count": 23,
   "id": "d0d13d0c",
   "metadata": {
    "execution": {
     "iopub.execute_input": "2021-12-13T09:38:52.812013Z",
     "iopub.status.busy": "2021-12-13T09:38:52.803057Z",
     "iopub.status.idle": "2021-12-13T09:38:58.089741Z",
     "shell.execute_reply": "2021-12-13T09:38:58.088625Z"
    }
   },
   "outputs": [
    {
     "name": "stdout",
     "output_type": "stream",
     "text": [
      "================= DoubleMLPLR Object ==================\n",
      "\n",
      "\n",
      "------------------ Data summary      ------------------\n",
      "Outcome variable: inuidur1\n",
      "Treatment variable(s): tg\n",
      "Covariates: female, black, othrace, dep1, dep2, q2, q3, q4, q5, q6, agelt35, agegt54, durable, lusd, husd\n",
      "Instrument(s): \n",
      "No. Observations: 5099\n",
      "\n",
      "------------------ Score & algorithm ------------------\n",
      "Score function: partialling out\n",
      "DML algorithm: dml2\n",
      "\n",
      "------------------ Machine learner   ------------------\n",
      "ml_g: regr.ranger\n",
      "ml_m: rpart_cv.nop.featureunion.classif.rpart\n",
      "\n",
      "------------------ Resampling        ------------------\n",
      "No. folds: 5\n",
      "No. repeated sample splits: 1\n",
      "Apply cross-fitting: TRUE\n",
      "\n",
      "------------------ Fit summary       ------------------\n",
      " Estimates and significance testing of the effect of target variables\n",
      "   Estimate. Std. Error t value Pr(>|t|)  \n",
      "tg  -0.07915    0.03538  -2.237   0.0253 *\n",
      "---\n",
      "Signif. codes:  0 ‘***’ 0.001 ‘**’ 0.01 ‘*’ 0.05 ‘.’ 0.1 ‘ ’ 1\n",
      "\n",
      "\n"
     ]
    }
   ],
   "source": [
    "# Create a stacked learner and pass it to a DoubleML object\n",
    "stacklrn = as_learner(stack)\n",
    "\n",
    "set.seed(123)\n",
    "obj_dml_plr_bonus_pipe = DoubleMLPLR$new(dml_data_bonus,\n",
    "                                         ml_g=ml_g_forest,\n",
    "                                         ml_m=stacklrn)\n",
    "obj_dml_plr_bonus_pipe$fit()\n",
    "print(obj_dml_plr_bonus_pipe)"
   ]
  },
  {
   "cell_type": "markdown",
   "id": "6f99764a",
   "metadata": {},
   "source": [
    "## How to exploit more features of `mlr3pipelines` in `DoubleML`\n",
    "\n",
    "[mlr3pipelines](https://mlr3pipelines.mlr-org.com/reference/Graph.html) can do much more. For example, we could use it to perform some [feature engineering](https://mlr3book.mlr-org.com/pipelines.html#pipe-modeling) and even perform pipeline-based [parameter tuning](https://mlr3book.mlr-org.com/pipelines.html#pipe-tuning). We just have to define the steps we want to have in our pipeline by using the PipeOps.\n",
    "\n",
    "Let's have a look at two more examples from the [Pipelines Chapter in the mlr3book](https://mlr3book.mlr-org.com/pipelines.html). In the first one, we will do some data manipulation. The second example illustrate how we could use [mlr3pipelines](https://mlr3pipelines.mlr-org.com/reference/Graph.html) for parameter tuning."
   ]
  },
  {
   "cell_type": "markdown",
   "id": "347a53d1",
   "metadata": {},
   "source": [
    "### Data preprocessing\n",
    "\n",
    "Let's perform some data preprocessing and then use a regression tree for prediction."
   ]
  },
  {
   "cell_type": "code",
   "execution_count": 24,
   "id": "2f425d59",
   "metadata": {
    "execution": {
     "iopub.execute_input": "2021-12-13T09:38:58.095296Z",
     "iopub.status.busy": "2021-12-13T09:38:58.093879Z",
     "iopub.status.idle": "2021-12-13T09:38:58.157228Z",
     "shell.execute_reply": "2021-12-13T09:38:58.156176Z"
    }
   },
   "outputs": [],
   "source": [
    "mutate = po(\"mutate\")\n",
    "filter = po(\"filter\",\n",
    "    filter = mlr3filters::flt(\"variance\"),\n",
    "    param_vals = list(filter.frac = 0.5))"
   ]
  },
  {
   "cell_type": "markdown",
   "id": "5a162782",
   "metadata": {},
   "source": [
    "Collect them in a graph and plot it."
   ]
  },
  {
   "cell_type": "code",
   "execution_count": 25,
   "id": "a795412a",
   "metadata": {
    "execution": {
     "iopub.execute_input": "2021-12-13T09:38:58.162574Z",
     "iopub.status.busy": "2021-12-13T09:38:58.161235Z",
     "iopub.status.idle": "2021-12-13T09:38:58.257923Z",
     "shell.execute_reply": "2021-12-13T09:38:58.257300Z"
    }
   },
   "outputs": [
    {
     "data": {
      "text/html": [
       "<style>\n",
       ".list-inline {list-style: none; margin:0; padding: 0}\n",
       ".list-inline>li {display: inline-block}\n",
       ".list-inline>li:not(:last-child)::after {content: \"\\00b7\"; padding: 0 .5ex}\n",
       "</style>\n",
       "<ol class=list-inline><li>'Graph'</li><li>'R6'</li></ol>\n"
      ],
      "text/latex": [
       "\\begin{enumerate*}\n",
       "\\item 'Graph'\n",
       "\\item 'R6'\n",
       "\\end{enumerate*}\n"
      ],
      "text/markdown": [
       "1. 'Graph'\n",
       "2. 'R6'\n",
       "\n",
       "\n"
      ],
      "text/plain": [
       "[1] \"Graph\" \"R6\"   "
      ]
     },
     "metadata": {},
     "output_type": "display_data"
    }
   ],
   "source": [
    "graph = mutate %>>%\n",
    "  filter %>>%\n",
    "  po(\"learner\",\n",
    "    learner = lrn(\"classif.rpart\"))\n",
    "\n",
    "class(graph)"
   ]
  },
  {
   "cell_type": "code",
   "execution_count": 26,
   "id": "d2ce3898",
   "metadata": {
    "execution": {
     "iopub.execute_input": "2021-12-13T09:38:58.262474Z",
     "iopub.status.busy": "2021-12-13T09:38:58.261213Z",
     "iopub.status.idle": "2021-12-13T09:38:58.332262Z",
     "shell.execute_reply": "2021-12-13T09:38:58.333033Z"
    }
   },
   "outputs": [
    {
     "data": {
      "image/png": "[encoded data removed]",
      "text/plain": [
       "Plot with title “”"
      ]
     },
     "metadata": {
      "image/png": {
       "height": 420,
       "width": 420
      }
     },
     "output_type": "display_data"
    }
   ],
   "source": [
    "graph$plot()"
   ]
  },
  {
   "cell_type": "markdown",
   "id": "11860a7e",
   "metadata": {},
   "source": [
    "Create a new learner."
   ]
  },
  {
   "cell_type": "code",
   "execution_count": 27,
   "id": "5e449f23",
   "metadata": {
    "execution": {
     "iopub.execute_input": "2021-12-13T09:38:58.338050Z",
     "iopub.status.busy": "2021-12-13T09:38:58.337054Z",
     "iopub.status.idle": "2021-12-13T09:38:58.387190Z",
     "shell.execute_reply": "2021-12-13T09:38:58.386214Z"
    }
   },
   "outputs": [],
   "source": [
    "glrn = as_learner(graph)"
   ]
  },
  {
   "cell_type": "code",
   "execution_count": 28,
   "id": "909193b3",
   "metadata": {
    "execution": {
     "iopub.execute_input": "2021-12-13T09:38:58.391712Z",
     "iopub.status.busy": "2021-12-13T09:38:58.390595Z",
     "iopub.status.idle": "2021-12-13T09:38:58.412752Z",
     "shell.execute_reply": "2021-12-13T09:38:58.411604Z"
    }
   },
   "outputs": [
    {
     "data": {
      "text/plain": [
       "<GraphLearner:mutate.variance.classif.rpart>\n",
       "* Model: -\n",
       "* Parameters: mutate.mutation=<list>, mutate.delete_originals=FALSE,\n",
       "  variance.filter.frac=0.5, classif.rpart.xval=0\n",
       "* Packages: mlr3, mlr3pipelines\n",
       "* Predict Type: response\n",
       "* Feature types: logical, integer, numeric, character, factor, ordered,\n",
       "  POSIXct\n",
       "* Properties: featureless, hotstart_backward, hotstart_forward,\n",
       "  importance, loglik, missings, multiclass, oob_error,\n",
       "  selected_features, twoclass, weights"
      ]
     },
     "metadata": {},
     "output_type": "display_data"
    },
    {
     "data": {
      "text/html": [
       "<style>\n",
       ".list-inline {list-style: none; margin:0; padding: 0}\n",
       ".list-inline>li {display: inline-block}\n",
       ".list-inline>li:not(:last-child)::after {content: \"\\00b7\"; padding: 0 .5ex}\n",
       "</style>\n",
       "<ol class=list-inline><li>'GraphLearner'</li><li>'Learner'</li><li>'R6'</li></ol>\n"
      ],
      "text/latex": [
       "\\begin{enumerate*}\n",
       "\\item 'GraphLearner'\n",
       "\\item 'Learner'\n",
       "\\item 'R6'\n",
       "\\end{enumerate*}\n"
      ],
      "text/markdown": [
       "1. 'GraphLearner'\n",
       "2. 'Learner'\n",
       "3. 'R6'\n",
       "\n",
       "\n"
      ],
      "text/plain": [
       "[1] \"GraphLearner\" \"Learner\"      \"R6\"          "
      ]
     },
     "metadata": {},
     "output_type": "display_data"
    }
   ],
   "source": [
    "glrn\n",
    "class(glrn)"
   ]
  },
  {
   "cell_type": "code",
   "execution_count": 29,
   "id": "96a281d1",
   "metadata": {
    "execution": {
     "iopub.execute_input": "2021-12-13T09:38:58.417029Z",
     "iopub.status.busy": "2021-12-13T09:38:58.415886Z",
     "iopub.status.idle": "2021-12-13T09:39:00.159162Z",
     "shell.execute_reply": "2021-12-13T09:39:00.158103Z"
    }
   },
   "outputs": [
    {
     "name": "stdout",
     "output_type": "stream",
     "text": [
      "================= DoubleMLPLR Object ==================\n",
      "\n",
      "\n",
      "------------------ Data summary      ------------------\n",
      "Outcome variable: inuidur1\n",
      "Treatment variable(s): tg\n",
      "Covariates: female, black, othrace, dep1, dep2, q2, q3, q4, q5, q6, agelt35, agegt54, durable, lusd, husd\n",
      "Instrument(s): \n",
      "No. Observations: 5099\n",
      "\n",
      "------------------ Score & algorithm ------------------\n",
      "Score function: partialling out\n",
      "DML algorithm: dml2\n",
      "\n",
      "------------------ Machine learner   ------------------\n",
      "ml_g: regr.cv_glmnet\n",
      "ml_m: mutate.variance.classif.rpart\n",
      "\n",
      "------------------ Resampling        ------------------\n",
      "No. folds: 5\n",
      "No. repeated sample splits: 1\n",
      "Apply cross-fitting: TRUE\n",
      "\n",
      "------------------ Fit summary       ------------------\n",
      " Estimates and significance testing of the effect of target variables\n",
      "   Estimate. Std. Error t value Pr(>|t|)  \n",
      "tg  -0.07366    0.03539  -2.081   0.0374 *\n",
      "---\n",
      "Signif. codes:  0 ‘***’ 0.001 ‘**’ 0.01 ‘*’ 0.05 ‘.’ 0.1 ‘ ’ 1\n",
      "\n",
      "\n"
     ]
    }
   ],
   "source": [
    "set.seed(123)\n",
    "obj_dml_plr_bonus_pipe2 = DoubleMLPLR$new(dml_data_bonus,\n",
    "                                          ml_g=ml_g_lasso,\n",
    "                                          ml_m=glrn)\n",
    "obj_dml_plr_bonus_pipe2$fit()\n",
    "print(obj_dml_plr_bonus_pipe2)"
   ]
  },
  {
   "cell_type": "markdown",
   "id": "1d552c2f",
   "metadata": {},
   "source": [
    "Let's see how to set hyperparameters with a pipeline."
   ]
  },
  {
   "cell_type": "code",
   "execution_count": 30,
   "id": "27513f2e",
   "metadata": {
    "execution": {
     "iopub.execute_input": "2021-12-13T09:39:00.164203Z",
     "iopub.status.busy": "2021-12-13T09:39:00.162857Z",
     "iopub.status.idle": "2021-12-13T09:39:00.183215Z",
     "shell.execute_reply": "2021-12-13T09:39:00.182148Z"
    }
   },
   "outputs": [],
   "source": [
    "glrn$param_set$values$variance.filter.frac = 0.25"
   ]
  },
  {
   "cell_type": "code",
   "execution_count": 31,
   "id": "3f35dca9",
   "metadata": {
    "execution": {
     "iopub.execute_input": "2021-12-13T09:39:00.188279Z",
     "iopub.status.busy": "2021-12-13T09:39:00.187001Z",
     "iopub.status.idle": "2021-12-13T09:39:01.684454Z",
     "shell.execute_reply": "2021-12-13T09:39:01.683397Z"
    }
   },
   "outputs": [
    {
     "name": "stdout",
     "output_type": "stream",
     "text": [
      "================= DoubleMLPLR Object ==================\n",
      "\n",
      "\n",
      "------------------ Data summary      ------------------\n",
      "Outcome variable: inuidur1\n",
      "Treatment variable(s): tg\n",
      "Covariates: female, black, othrace, dep1, dep2, q2, q3, q4, q5, q6, agelt35, agegt54, durable, lusd, husd\n",
      "Instrument(s): \n",
      "No. Observations: 5099\n",
      "\n",
      "------------------ Score & algorithm ------------------\n",
      "Score function: partialling out\n",
      "DML algorithm: dml2\n",
      "\n",
      "------------------ Machine learner   ------------------\n",
      "ml_g: regr.cv_glmnet\n",
      "ml_m: mutate.variance.classif.rpart\n",
      "\n",
      "------------------ Resampling        ------------------\n",
      "No. folds: 5\n",
      "No. repeated sample splits: 1\n",
      "Apply cross-fitting: TRUE\n",
      "\n",
      "------------------ Fit summary       ------------------\n",
      " Estimates and significance testing of the effect of target variables\n",
      "   Estimate. Std. Error t value Pr(>|t|)  \n",
      "tg  -0.07366    0.03539  -2.081   0.0374 *\n",
      "---\n",
      "Signif. codes:  0 ‘***’ 0.001 ‘**’ 0.01 ‘*’ 0.05 ‘.’ 0.1 ‘ ’ 1\n",
      "\n",
      "\n"
     ]
    }
   ],
   "source": [
    "set.seed(123)\n",
    "obj_dml_plr_bonus_pipe3 = DoubleMLPLR$new(dml_data_bonus,\n",
    "                                          ml_g=ml_g_lasso,\n",
    "                                          ml_m=glrn)\n",
    "obj_dml_plr_bonus_pipe3$fit()\n",
    "print(obj_dml_plr_bonus_pipe3)"
   ]
  },
  {
   "cell_type": "markdown",
   "id": "2f90db3e",
   "metadata": {},
   "source": [
    "### Parameter tuning\n",
    "\n",
    "Next, we will shortly illustrate how to perform parameter tuning in the simulated data example. Here, we use a pipeline to tune the penalty of the lasso. To do so, we generate a [GraphLearner](https://mlr3pipelines.mlr-org.com/reference/mlr_learners_graph.html) and then call [DoubleML](https://docs.doubleml.org)'s [tune()](https://docs.doubleml.org/r/stable/reference/DoubleML.html#method-tune) method."
   ]
  },
  {
   "cell_type": "markdown",
   "id": "e1cf206d",
   "metadata": {},
   "source": [
    "Let's define a [GraphLearner](https://mlr3pipelines.mlr-org.com/reference/mlr_learners_graph.html) based on the lasso."
   ]
  },
  {
   "cell_type": "code",
   "execution_count": 32,
   "id": "935daf2f",
   "metadata": {
    "execution": {
     "iopub.execute_input": "2021-12-13T09:39:01.689659Z",
     "iopub.status.busy": "2021-12-13T09:39:01.688635Z",
     "iopub.status.idle": "2021-12-13T09:39:01.949874Z",
     "shell.execute_reply": "2021-12-13T09:39:01.948759Z"
    }
   },
   "outputs": [],
   "source": [
    "lasso_pipe = mutate %>>%\n",
    "  filter %>>%\n",
    "  po(\"learner\",\n",
    "    learner = lrn(\"regr.glmnet\"))\n",
    "glrn_lasso = as_learner(lasso_pipe)"
   ]
  },
  {
   "cell_type": "markdown",
   "id": "4690daa8",
   "metadata": {},
   "source": [
    "Let's specify the parameter grid and more settings that are required for the parameter tuning. For more details, we refer to [the DoubleML user guide](https://docs.doubleml.org/stable/guide/learners.html#r-learners-and-hyperparameters). "
   ]
  },
  {
   "cell_type": "code",
   "execution_count": 33,
   "id": "b9a50aa8",
   "metadata": {
    "execution": {
     "iopub.execute_input": "2021-12-13T09:39:01.955007Z",
     "iopub.status.busy": "2021-12-13T09:39:01.953763Z",
     "iopub.status.idle": "2021-12-13T09:39:01.980489Z",
     "shell.execute_reply": "2021-12-13T09:39:01.979615Z"
    }
   },
   "outputs": [],
   "source": [
    "# Parameter grid for lambda and for optimal variance filter fraction\n",
    "library(paradox)\n",
    "par_grids = ps(regr.glmnet.lambda = p_dbl(lower = 0.05, upper = 0.1),\n",
    "               variance.filter.frac = p_dbl(lower = 0.25, upper = 1))"
   ]
  },
  {
   "cell_type": "code",
   "execution_count": 34,
   "id": "4ec8264d",
   "metadata": {
    "execution": {
     "iopub.execute_input": "2021-12-13T09:39:01.985026Z",
     "iopub.status.busy": "2021-12-13T09:39:01.983855Z",
     "iopub.status.idle": "2021-12-13T09:39:02.065975Z",
     "shell.execute_reply": "2021-12-13T09:39:02.064924Z"
    }
   },
   "outputs": [],
   "source": [
    "# Specify further tune settings\n",
    "library(mlr3tuning)\n",
    "tune_settings = list(terminator = trm(\"evals\", n_evals = 10),\n",
    "                      algorithm = tnr(\"grid_search\", resolution = 10),\n",
    "                      rsmp_tune = rsmp(\"cv\", folds = 5),\n",
    "                      measure = list(\"ml_g\" = msr(\"regr.mse\"),\n",
    "                                     \"ml_m\" = msr(\"regr.mse\")))"
   ]
  },
  {
   "cell_type": "code",
   "execution_count": 35,
   "id": "4885bebd",
   "metadata": {
    "execution": {
     "iopub.execute_input": "2021-12-13T09:39:02.071035Z",
     "iopub.status.busy": "2021-12-13T09:39:02.070001Z",
     "iopub.status.idle": "2021-12-13T09:39:22.178963Z",
     "shell.execute_reply": "2021-12-13T09:39:22.176909Z"
    }
   },
   "outputs": [
    {
     "name": "stdout",
     "output_type": "stream",
     "text": [
      "INFO  [09:39:02.284] [bbotk] Starting to optimize 2 parameter(s) with '<OptimizerGridSearch>' and '<TerminatorEvals> [n_evals=10, k=0]' \n",
      "INFO  [09:39:02.322] [bbotk] Evaluating 1 configuration(s) \n",
      "INFO  [09:39:03.233] [bbotk] Result of batch 1: \n",
      "INFO  [09:39:03.237] [bbotk]  regr.glmnet.lambda variance.filter.frac regr.mse runtime_learners \n",
      "INFO  [09:39:03.237] [bbotk]          0.07222222            0.6666667 107.2925            0.536 \n",
      "INFO  [09:39:03.237] [bbotk]                                 uhash \n",
      "INFO  [09:39:03.237] [bbotk]  22e65ed8-7e85-4cd7-959a-35a59eb531f3 \n",
      "INFO  [09:39:03.239] [bbotk] Evaluating 1 configuration(s) \n",
      "INFO  [09:39:04.129] [bbotk] Result of batch 2: \n",
      "INFO  [09:39:04.132] [bbotk]  regr.glmnet.lambda variance.filter.frac regr.mse runtime_learners \n",
      "INFO  [09:39:04.132] [bbotk]                 0.1            0.6666667 106.2652            0.527 \n",
      "INFO  [09:39:04.132] [bbotk]                                 uhash \n",
      "INFO  [09:39:04.132] [bbotk]  178d0058-36ff-47fe-a20e-9d436b297975 \n",
      "INFO  [09:39:04.135] [bbotk] Evaluating 1 configuration(s) \n",
      "INFO  [09:39:05.086] [bbotk] Result of batch 3: \n",
      "INFO  [09:39:05.089] [bbotk]  regr.glmnet.lambda variance.filter.frac regr.mse runtime_learners \n",
      "INFO  [09:39:05.089] [bbotk]                 0.1            0.4166667 482.9753            0.578 \n",
      "INFO  [09:39:05.089] [bbotk]                                 uhash \n",
      "INFO  [09:39:05.089] [bbotk]  2a27b41b-f51f-420c-a04f-d3270746f47d \n",
      "INFO  [09:39:05.092] [bbotk] Evaluating 1 configuration(s) \n",
      "INFO  [09:39:05.958] [bbotk] Result of batch 4: \n",
      "INFO  [09:39:05.961] [bbotk]  regr.glmnet.lambda variance.filter.frac regr.mse runtime_learners \n",
      "INFO  [09:39:05.961] [bbotk]          0.09444444                 0.75 112.1054            0.515 \n",
      "INFO  [09:39:05.961] [bbotk]                                 uhash \n",
      "INFO  [09:39:05.961] [bbotk]  dd85d75f-ae38-47ca-b0a9-ecf93def162a \n",
      "INFO  [09:39:05.963] [bbotk] Evaluating 1 configuration(s) \n",
      "INFO  [09:39:06.882] [bbotk] Result of batch 5: \n",
      "INFO  [09:39:06.884] [bbotk]  regr.glmnet.lambda variance.filter.frac regr.mse runtime_learners \n",
      "INFO  [09:39:06.884] [bbotk]          0.08333333            0.9166667 10.81856            0.544 \n",
      "INFO  [09:39:06.884] [bbotk]                                 uhash \n",
      "INFO  [09:39:06.884] [bbotk]  1bdeddc5-c670-4c97-9c45-54308eed0f0b \n",
      "INFO  [09:39:06.887] [bbotk] Evaluating 1 configuration(s) \n",
      "INFO  [09:39:07.778] [bbotk] Result of batch 6: \n",
      "INFO  [09:39:07.781] [bbotk]  regr.glmnet.lambda variance.filter.frac regr.mse runtime_learners \n",
      "INFO  [09:39:07.781] [bbotk]          0.08888889            0.9166667 10.74189            0.524 \n",
      "INFO  [09:39:07.781] [bbotk]                                 uhash \n",
      "INFO  [09:39:07.781] [bbotk]  f6cc97c9-c2f5-409c-b1b3-4802fc551d77 \n",
      "INFO  [09:39:07.784] [bbotk] Evaluating 1 configuration(s) \n",
      "INFO  [09:39:08.706] [bbotk] Result of batch 7: \n",
      "INFO  [09:39:08.709] [bbotk]  regr.glmnet.lambda variance.filter.frac regr.mse runtime_learners \n",
      "INFO  [09:39:08.709] [bbotk]          0.07777778            0.5833333 201.8513            0.537 \n",
      "INFO  [09:39:08.709] [bbotk]                                 uhash \n",
      "INFO  [09:39:08.709] [bbotk]  af039c19-6e5b-4cf2-831a-8c6ce200c9d2 \n",
      "INFO  [09:39:08.711] [bbotk] Evaluating 1 configuration(s) \n",
      "INFO  [09:39:09.607] [bbotk] Result of batch 8: \n",
      "INFO  [09:39:09.610] [bbotk]  regr.glmnet.lambda variance.filter.frac regr.mse runtime_learners \n",
      "INFO  [09:39:09.610] [bbotk]          0.07222222            0.3333333 531.5255            0.532 \n",
      "INFO  [09:39:09.610] [bbotk]                                 uhash \n",
      "INFO  [09:39:09.610] [bbotk]  2cadd394-2811-4219-a1f6-f1b016c9e563 \n",
      "INFO  [09:39:09.612] [bbotk] Evaluating 1 configuration(s) \n",
      "INFO  [09:39:10.523] [bbotk] Result of batch 9: \n",
      "INFO  [09:39:10.526] [bbotk]  regr.glmnet.lambda variance.filter.frac regr.mse runtime_learners \n",
      "INFO  [09:39:10.526] [bbotk]          0.06111111            0.9166667 11.17823            0.543 \n",
      "INFO  [09:39:10.526] [bbotk]                                 uhash \n",
      "INFO  [09:39:10.526] [bbotk]  fd2ccd80-bab8-4489-be72-400c8f2632ef \n",
      "INFO  [09:39:10.528] [bbotk] Evaluating 1 configuration(s) \n",
      "INFO  [09:39:11.440] [bbotk] Result of batch 10: \n",
      "INFO  [09:39:11.443] [bbotk]  regr.glmnet.lambda variance.filter.frac regr.mse runtime_learners \n",
      "INFO  [09:39:11.443] [bbotk]          0.08888889                 0.25  538.991            0.541 \n",
      "INFO  [09:39:11.443] [bbotk]                                 uhash \n",
      "INFO  [09:39:11.443] [bbotk]  077daf1c-5c86-44f8-b4c6-686eaf5711be \n",
      "INFO  [09:39:11.452] [bbotk] Finished optimizing after 10 evaluation(s) \n",
      "INFO  [09:39:11.454] [bbotk] Result: \n",
      "INFO  [09:39:11.456] [bbotk]  regr.glmnet.lambda variance.filter.frac learner_param_vals  x_domain regr.mse \n",
      "INFO  [09:39:11.456] [bbotk]          0.08888889            0.9166667          <list[5]> <list[2]> 10.74189 \n",
      "INFO  [09:39:11.679] [bbotk] Starting to optimize 2 parameter(s) with '<OptimizerGridSearch>' and '<TerminatorEvals> [n_evals=10, k=0]' \n",
      "INFO  [09:39:11.685] [bbotk] Evaluating 1 configuration(s) \n",
      "INFO  [09:39:12.691] [bbotk] Result of batch 1: \n",
      "INFO  [09:39:12.694] [bbotk]  regr.glmnet.lambda variance.filter.frac regr.mse runtime_learners \n",
      "INFO  [09:39:12.694] [bbotk]          0.08888889            0.5833333  12.6173            0.557 \n",
      "INFO  [09:39:12.694] [bbotk]                                 uhash \n",
      "INFO  [09:39:12.694] [bbotk]  fd7d479f-136a-4d5b-bfde-8b4d7a7e5896 \n",
      "INFO  [09:39:12.697] [bbotk] Evaluating 1 configuration(s) \n",
      "INFO  [09:39:13.694] [bbotk] Result of batch 2: \n",
      "INFO  [09:39:13.698] [bbotk]  regr.glmnet.lambda variance.filter.frac regr.mse runtime_learners \n",
      "INFO  [09:39:13.698] [bbotk]                 0.1            0.5833333  12.5155            0.576 \n",
      "INFO  [09:39:13.698] [bbotk]                                 uhash \n",
      "INFO  [09:39:13.698] [bbotk]  aee7f519-f16f-4d13-bba1-53bf80b31855 \n",
      "INFO  [09:39:13.701] [bbotk] Evaluating 1 configuration(s) \n",
      "INFO  [09:39:14.708] [bbotk] Result of batch 3: \n",
      "INFO  [09:39:14.710] [bbotk]  regr.glmnet.lambda variance.filter.frac  regr.mse runtime_learners \n",
      "INFO  [09:39:14.710] [bbotk]          0.08333333                 0.75 0.9870004             0.56 \n",
      "INFO  [09:39:14.710] [bbotk]                                 uhash \n",
      "INFO  [09:39:14.710] [bbotk]  52872960-d2e6-41dc-90b9-6ea9644af362 \n",
      "INFO  [09:39:14.713] [bbotk] Evaluating 1 configuration(s) \n",
      "INFO  [09:39:15.734] [bbotk] Result of batch 4: \n",
      "INFO  [09:39:15.737] [bbotk]  regr.glmnet.lambda variance.filter.frac regr.mse runtime_learners \n",
      "INFO  [09:39:15.737] [bbotk]          0.07222222                  0.5 17.75887            0.606 \n",
      "INFO  [09:39:15.737] [bbotk]                                 uhash \n",
      "INFO  [09:39:15.737] [bbotk]  c62ec10e-5197-4ee3-b68e-790e71b50a39 \n",
      "INFO  [09:39:15.739] [bbotk] Evaluating 1 configuration(s) \n",
      "INFO  [09:39:16.745] [bbotk] Result of batch 5: \n",
      "INFO  [09:39:16.749] [bbotk]  regr.glmnet.lambda variance.filter.frac regr.mse runtime_learners \n",
      "INFO  [09:39:16.749] [bbotk]          0.08333333            0.5833333  12.6722            0.589 \n",
      "INFO  [09:39:16.749] [bbotk]                                 uhash \n",
      "INFO  [09:39:16.749] [bbotk]  174c3070-cf43-4f06-b125-81371b2e343e \n",
      "INFO  [09:39:16.752] [bbotk] Evaluating 1 configuration(s) \n",
      "INFO  [09:39:17.769] [bbotk] Result of batch 6: \n",
      "INFO  [09:39:17.772] [bbotk]  regr.glmnet.lambda variance.filter.frac regr.mse runtime_learners \n",
      "INFO  [09:39:17.772] [bbotk]          0.07222222            0.5833333 12.78818            0.576 \n",
      "INFO  [09:39:17.772] [bbotk]                                 uhash \n",
      "INFO  [09:39:17.772] [bbotk]  b28a7a87-99f9-4a66-be1e-f360b35deb60 \n",
      "INFO  [09:39:17.776] [bbotk] Evaluating 1 configuration(s) \n",
      "INFO  [09:39:18.788] [bbotk] Result of batch 7: \n",
      "INFO  [09:39:18.792] [bbotk]  regr.glmnet.lambda variance.filter.frac regr.mse runtime_learners \n",
      "INFO  [09:39:18.792] [bbotk]          0.07777778                  0.5 17.69921            0.558 \n",
      "INFO  [09:39:18.792] [bbotk]                                 uhash \n",
      "INFO  [09:39:18.792] [bbotk]  c0e4f3ca-83e2-435d-bd16-1c88a87c80ac \n",
      "INFO  [09:39:18.795] [bbotk] Evaluating 1 configuration(s) \n",
      "INFO  [09:39:19.897] [bbotk] Result of batch 8: \n",
      "INFO  [09:39:19.900] [bbotk]  regr.glmnet.lambda variance.filter.frac  regr.mse runtime_learners \n",
      "INFO  [09:39:19.900] [bbotk]          0.07777778            0.9166667 0.9880384            0.654 \n",
      "INFO  [09:39:19.900] [bbotk]                                 uhash \n",
      "INFO  [09:39:19.900] [bbotk]  b7c985fa-c6ee-482b-aa64-14bacb8424f0 \n",
      "INFO  [09:39:19.902] [bbotk] Evaluating 1 configuration(s) \n",
      "INFO  [09:39:21.047] [bbotk] Result of batch 9: \n",
      "INFO  [09:39:21.050] [bbotk]  regr.glmnet.lambda variance.filter.frac regr.mse runtime_learners \n",
      "INFO  [09:39:21.050] [bbotk]          0.07777778            0.4166667 22.43294            0.643 \n",
      "INFO  [09:39:21.050] [bbotk]                                 uhash \n",
      "INFO  [09:39:21.050] [bbotk]  7a8210bc-8399-4155-bcd9-77a4c94c6980 \n",
      "INFO  [09:39:21.053] [bbotk] Evaluating 1 configuration(s) \n",
      "INFO  [09:39:22.141] [bbotk] Result of batch 10: \n",
      "INFO  [09:39:22.146] [bbotk]  regr.glmnet.lambda variance.filter.frac regr.mse runtime_learners \n",
      "INFO  [09:39:22.146] [bbotk]          0.07222222            0.3333333 27.31378            0.632 \n",
      "INFO  [09:39:22.146] [bbotk]                                 uhash \n",
      "INFO  [09:39:22.146] [bbotk]  eb24fb46-974d-4ad7-9dbf-f76f4ddeea70 \n",
      "INFO  [09:39:22.159] [bbotk] Finished optimizing after 10 evaluation(s) \n",
      "INFO  [09:39:22.161] [bbotk] Result: \n",
      "INFO  [09:39:22.165] [bbotk]  regr.glmnet.lambda variance.filter.frac learner_param_vals  x_domain  regr.mse \n",
      "INFO  [09:39:22.165] [bbotk]          0.08333333                 0.75          <list[5]> <list[2]> 0.9870004 \n"
     ]
    }
   ],
   "source": [
    "# Initiate new DoubleML object and execute tuning with graph learner\n",
    "set.seed(123)\n",
    "obj_dml_plr_sim_pipe_tune = DoubleMLPLR$new(dml_data_sim,\n",
    "                                            ml_g=glrn_lasso,\n",
    "                                            ml_m=glrn_lasso)\n",
    "obj_dml_plr_sim_pipe_tune$tune(param_set = list(\"ml_g\" = par_grids,\n",
    "                                                \"ml_m\" = par_grids),\n",
    "                               tune_settings=tune_settings)"
   ]
  },
  {
   "cell_type": "code",
   "execution_count": 36,
   "id": "839a8c99",
   "metadata": {
    "execution": {
     "iopub.execute_input": "2021-12-13T09:39:22.187396Z",
     "iopub.status.busy": "2021-12-13T09:39:22.185309Z",
     "iopub.status.idle": "2021-12-13T09:39:24.238791Z",
     "shell.execute_reply": "2021-12-13T09:39:24.237004Z"
    }
   },
   "outputs": [
    {
     "name": "stdout",
     "output_type": "stream",
     "text": [
      "================= DoubleMLPLR Object ==================\n",
      "\n",
      "\n",
      "------------------ Data summary      ------------------\n",
      "Outcome variable: y\n",
      "Treatment variable(s): d\n",
      "Covariates: X1, X2, X3, X4, X5, X6, X7, X8, X9, X10, X11, X12, X13, X14, X15, X16, X17, X18, X19, X20, X21, X22, X23, X24, X25, X26, X27, X28, X29, X30, X31, X32, X33, X34, X35, X36, X37, X38, X39, X40, X41, X42, X43, X44, X45, X46, X47, X48, X49, X50, X51, X52, X53, X54, X55, X56, X57, X58, X59, X60, X61, X62, X63, X64, X65, X66, X67, X68, X69, X70, X71, X72, X73, X74, X75, X76, X77, X78, X79, X80, X81, X82, X83, X84, X85, X86, X87, X88, X89, X90, X91, X92, X93, X94, X95, X96, X97, X98, X99, X100\n",
      "Instrument(s): \n",
      "No. Observations: 500\n",
      "\n",
      "------------------ Score & algorithm ------------------\n",
      "Score function: partialling out\n",
      "DML algorithm: dml2\n",
      "\n",
      "------------------ Machine learner   ------------------\n",
      "ml_g: regr.cv_glmnet\n",
      "ml_m: regr.cv_glmnet\n",
      "\n",
      "------------------ Resampling        ------------------\n",
      "No. folds: 5\n",
      "No. repeated sample splits: 1\n",
      "Apply cross-fitting: TRUE\n",
      "\n",
      "------------------ Fit summary       ------------------\n",
      " Estimates and significance testing of the effect of target variables\n",
      "  Estimate. Std. Error t value Pr(>|t|)    \n",
      "d   3.00133    0.04424   67.84   <2e-16 ***\n",
      "---\n",
      "Signif. codes:  0 ‘***’ 0.001 ‘**’ 0.01 ‘*’ 0.05 ‘.’ 0.1 ‘ ’ 1\n",
      "\n",
      "\n"
     ]
    }
   ],
   "source": [
    "obj_dml_plr_sim_pipe$fit()\n",
    "print(obj_dml_plr_sim_pipe)"
   ]
  },
  {
   "cell_type": "markdown",
   "id": "b562abbe",
   "metadata": {},
   "source": [
    "## References\n",
    "\n",
    "Becker, M., Binder, M., Bischl, B., Lang, M., Pfisterer, F., Reich, N.G., Richter, J., Schratz, P., Sonabend, R. (2020), mlr3 book, available at https://mlr3book.mlr-org.com.\n",
    "\n",
    "Binder, M., Pfisterer, F., Lang, M., Schneider, L., Kotthof, L., and Bischl, B. (2021), mlr3pipelines - flexible machine learning pipelines in R, Journal of Machine Learning Research, 22(184): 1-7, https://jmlr.org/papers/v22/21-0281.html.\n",
    "\n",
    "Lang, M., Binder, M., Richter, J., Schratz, P., Pfisterer, F., Coors, S., Au, Q., Casalicchio, G., Kotthoff, L., Bischl, B. (2019), mlr3: A modern object-oriented machine learing framework in R. Journal of Open Source Software, [doi:10.21105/joss.01903](https://doi.org/10.21105/joss.01903).\n",
    "\n",
    "Lang, M., Au, Q., Coors, S., and Schratz, P. (2021), mlr3learners: Recommended learners for mlr3, R package, https://CRAN.R-project.org/package=mlr3learners.\n",
    "\n",
    "Sonabend, R., and Schratz, P. (2021), extralearners: Extra learners for mlr3. R package, https://mlr3extralearners.mlr-org.com/."
   ]
  },
  {
   "cell_type": "markdown",
   "id": "0ba7fae8",
   "metadata": {},
   "source": [
    "______\n",
    "\n",
    "**Acknowledgement**\n",
    "\n",
    "We would like to thank the developers of the [mlr3pipelines](https://mlr3pipelines.mlr-org.com/) package for providing such a powerful and easy-to-use implementation of many important ML tools."
   ]
  }
 ],
 "metadata": {
  "kernelspec": {
   "display_name": "R",
   "language": "R",
   "name": "ir"
  },
  "language_info": {
   "codemirror_mode": "r",
   "file_extension": ".r",
   "mimetype": "text/x-r-source",
   "name": "R",
   "pygments_lexer": "r",
   "version": "4.1.2"
  }
 },
 "nbformat": 4,
 "nbformat_minor": 5
}
