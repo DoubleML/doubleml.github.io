{
 "cells": [
  {
   "cell_type": "markdown",
   "metadata": {},
   "source": [
    "# Python: Panel Data Introduction\n",
    "\n",
    "In this example, we replicate the results from the guide [Getting Started with the did Package](https://bcallaway11.github.io/did/articles/did-basics.html) of the [did-R-package](https://bcallaway11.github.io/did/index.html).\n",
    "\n",
    "As the [did-R-package](https://bcallaway11.github.io/did/index.html) the implementation of [DoubleML](https://docs.doubleml.org/stable/index.html) is based on [Callaway and Sant'Anna(2021)](https://doi.org/10.1016/j.jeconom.2020.12.001).\n",
    "\n",
    "The notebook requires the following packages:"
   ]
  },
  {
   "cell_type": "code",
   "execution_count": 1,
   "metadata": {
    "execution": {
     "iopub.execute_input": "2025-05-23T06:44:08.460874Z",
     "iopub.status.busy": "2025-05-23T06:44:08.460394Z",
     "iopub.status.idle": "2025-05-23T06:44:10.072378Z",
     "shell.execute_reply": "2025-05-23T06:44:10.071735Z"
    }
   },
   "outputs": [],
   "source": [
    "import pandas as pd\n",
    "import numpy as np\n",
    "\n",
    "from sklearn.linear_model import LinearRegression, LogisticRegression\n",
    "\n",
    "from doubleml.data import DoubleMLPanelData\n",
    "from doubleml.did import DoubleMLDIDMulti"
   ]
  },
  {
   "cell_type": "markdown",
   "metadata": {},
   "source": [
    "## Data\n",
    "\n",
    "The data we will use is simulated and part of the [CSDID-Python-Package](https://d2cml-ai.github.io/csdid/index.html).\n",
    "\n",
    "A description of the data generating process can be found at the [CSDID-documentation](https://d2cml-ai.github.io/csdid/examples/csdid_basic.html#Examples-with-simulated-data).\n"
   ]
  },
  {
   "cell_type": "code",
   "execution_count": 2,
   "metadata": {
    "execution": {
     "iopub.execute_input": "2025-05-23T06:44:10.075149Z",
     "iopub.status.busy": "2025-05-23T06:44:10.074503Z",
     "iopub.status.idle": "2025-05-23T06:44:10.366512Z",
     "shell.execute_reply": "2025-05-23T06:44:10.365856Z"
    }
   },
   "outputs": [
    {
     "data": {
      "text/html": [
       "<div>\n",
       "<style scoped>\n",
       "    .dataframe tbody tr th:only-of-type {\n",
       "        vertical-align: middle;\n",
       "    }\n",
       "\n",
       "    .dataframe tbody tr th {\n",
       "        vertical-align: top;\n",
       "    }\n",
       "\n",
       "    .dataframe thead th {\n",
       "        text-align: right;\n",
       "    }\n",
       "</style>\n",
       "<table border=\"1\" class=\"dataframe\">\n",
       "  <thead>\n",
       "    <tr style=\"text-align: right;\">\n",
       "      <th></th>\n",
       "      <th>G</th>\n",
       "      <th>X</th>\n",
       "      <th>id</th>\n",
       "      <th>cluster</th>\n",
       "      <th>period</th>\n",
       "      <th>Y</th>\n",
       "      <th>treat</th>\n",
       "    </tr>\n",
       "  </thead>\n",
       "  <tbody>\n",
       "    <tr>\n",
       "      <th>0</th>\n",
       "      <td>3</td>\n",
       "      <td>-0.876233</td>\n",
       "      <td>1</td>\n",
       "      <td>5</td>\n",
       "      <td>1</td>\n",
       "      <td>5.562556</td>\n",
       "      <td>1</td>\n",
       "    </tr>\n",
       "    <tr>\n",
       "      <th>1</th>\n",
       "      <td>3</td>\n",
       "      <td>-0.876233</td>\n",
       "      <td>1</td>\n",
       "      <td>5</td>\n",
       "      <td>2</td>\n",
       "      <td>4.349213</td>\n",
       "      <td>1</td>\n",
       "    </tr>\n",
       "    <tr>\n",
       "      <th>2</th>\n",
       "      <td>3</td>\n",
       "      <td>-0.876233</td>\n",
       "      <td>1</td>\n",
       "      <td>5</td>\n",
       "      <td>3</td>\n",
       "      <td>7.134037</td>\n",
       "      <td>1</td>\n",
       "    </tr>\n",
       "    <tr>\n",
       "      <th>3</th>\n",
       "      <td>3</td>\n",
       "      <td>-0.876233</td>\n",
       "      <td>1</td>\n",
       "      <td>5</td>\n",
       "      <td>4</td>\n",
       "      <td>6.243056</td>\n",
       "      <td>1</td>\n",
       "    </tr>\n",
       "    <tr>\n",
       "      <th>4</th>\n",
       "      <td>2</td>\n",
       "      <td>-0.873848</td>\n",
       "      <td>2</td>\n",
       "      <td>36</td>\n",
       "      <td>1</td>\n",
       "      <td>-3.659387</td>\n",
       "      <td>1</td>\n",
       "    </tr>\n",
       "  </tbody>\n",
       "</table>\n",
       "</div>"
      ],
      "text/plain": [
       "   G         X  id  cluster  period         Y  treat\n",
       "0  3 -0.876233   1        5       1  5.562556      1\n",
       "1  3 -0.876233   1        5       2  4.349213      1\n",
       "2  3 -0.876233   1        5       3  7.134037      1\n",
       "3  3 -0.876233   1        5       4  6.243056      1\n",
       "4  2 -0.873848   2       36       1 -3.659387      1"
      ]
     },
     "execution_count": 2,
     "metadata": {},
     "output_type": "execute_result"
    }
   ],
   "source": [
    "dta = pd.read_csv(\"https://raw.githubusercontent.com/d2cml-ai/csdid/main/data/sim_data.csv\")\n",
    "dta.head()"
   ]
  },
  {
   "cell_type": "markdown",
   "metadata": {},
   "source": [
    "To work with the [DoubleML-package](https://docs.doubleml.org/stable/index.html), we initialize a ``DoubleMLPanelData`` object.\n",
    "\n",
    "Therefore, we set the *never-treated* units in group column `G` to `np.inf` (we have to change the datatype to `float`)."
   ]
  },
  {
   "cell_type": "code",
   "execution_count": 3,
   "metadata": {
    "execution": {
     "iopub.execute_input": "2025-05-23T06:44:10.368575Z",
     "iopub.status.busy": "2025-05-23T06:44:10.368205Z",
     "iopub.status.idle": "2025-05-23T06:44:10.378718Z",
     "shell.execute_reply": "2025-05-23T06:44:10.378059Z"
    }
   },
   "outputs": [
    {
     "data": {
      "text/html": [
       "<div>\n",
       "<style scoped>\n",
       "    .dataframe tbody tr th:only-of-type {\n",
       "        vertical-align: middle;\n",
       "    }\n",
       "\n",
       "    .dataframe tbody tr th {\n",
       "        vertical-align: top;\n",
       "    }\n",
       "\n",
       "    .dataframe thead th {\n",
       "        text-align: right;\n",
       "    }\n",
       "</style>\n",
       "<table border=\"1\" class=\"dataframe\">\n",
       "  <thead>\n",
       "    <tr style=\"text-align: right;\">\n",
       "      <th></th>\n",
       "      <th>G</th>\n",
       "      <th>X</th>\n",
       "      <th>id</th>\n",
       "      <th>cluster</th>\n",
       "      <th>period</th>\n",
       "      <th>Y</th>\n",
       "      <th>treat</th>\n",
       "    </tr>\n",
       "  </thead>\n",
       "  <tbody>\n",
       "    <tr>\n",
       "      <th>0</th>\n",
       "      <td>3.0</td>\n",
       "      <td>-0.876233</td>\n",
       "      <td>1</td>\n",
       "      <td>5</td>\n",
       "      <td>1</td>\n",
       "      <td>5.562556</td>\n",
       "      <td>1</td>\n",
       "    </tr>\n",
       "    <tr>\n",
       "      <th>1</th>\n",
       "      <td>3.0</td>\n",
       "      <td>-0.876233</td>\n",
       "      <td>1</td>\n",
       "      <td>5</td>\n",
       "      <td>2</td>\n",
       "      <td>4.349213</td>\n",
       "      <td>1</td>\n",
       "    </tr>\n",
       "    <tr>\n",
       "      <th>2</th>\n",
       "      <td>3.0</td>\n",
       "      <td>-0.876233</td>\n",
       "      <td>1</td>\n",
       "      <td>5</td>\n",
       "      <td>3</td>\n",
       "      <td>7.134037</td>\n",
       "      <td>1</td>\n",
       "    </tr>\n",
       "    <tr>\n",
       "      <th>3</th>\n",
       "      <td>3.0</td>\n",
       "      <td>-0.876233</td>\n",
       "      <td>1</td>\n",
       "      <td>5</td>\n",
       "      <td>4</td>\n",
       "      <td>6.243056</td>\n",
       "      <td>1</td>\n",
       "    </tr>\n",
       "    <tr>\n",
       "      <th>4</th>\n",
       "      <td>2.0</td>\n",
       "      <td>-0.873848</td>\n",
       "      <td>2</td>\n",
       "      <td>36</td>\n",
       "      <td>1</td>\n",
       "      <td>-3.659387</td>\n",
       "      <td>1</td>\n",
       "    </tr>\n",
       "  </tbody>\n",
       "</table>\n",
       "</div>"
      ],
      "text/plain": [
       "     G         X  id  cluster  period         Y  treat\n",
       "0  3.0 -0.876233   1        5       1  5.562556      1\n",
       "1  3.0 -0.876233   1        5       2  4.349213      1\n",
       "2  3.0 -0.876233   1        5       3  7.134037      1\n",
       "3  3.0 -0.876233   1        5       4  6.243056      1\n",
       "4  2.0 -0.873848   2       36       1 -3.659387      1"
      ]
     },
     "execution_count": 3,
     "metadata": {},
     "output_type": "execute_result"
    }
   ],
   "source": [
    "# set dtype for G to float\n",
    "dta[\"G\"] = dta[\"G\"].astype(float)\n",
    "dta.loc[dta[\"G\"] == 0, \"G\"] = np.inf\n",
    "dta.head()"
   ]
  },
  {
   "cell_type": "markdown",
   "metadata": {},
   "source": [
    "Now, we can initialize the ``DoubleMLPanelData`` object, specifying\n",
    "\n",
    " - `y_col` : the outcome\n",
    " - `d_cols`: the group variable indicating the first treated period for each unit\n",
    " - `id_col`: the unique identification column for each unit\n",
    " - `t_col` : the time column\n",
    " - `x_cols`: the additional pre-treatment controls\n"
   ]
  },
  {
   "cell_type": "code",
   "execution_count": 4,
   "metadata": {
    "execution": {
     "iopub.execute_input": "2025-05-23T06:44:10.380716Z",
     "iopub.status.busy": "2025-05-23T06:44:10.380332Z",
     "iopub.status.idle": "2025-05-23T06:44:10.391036Z",
     "shell.execute_reply": "2025-05-23T06:44:10.390359Z"
    }
   },
   "outputs": [
    {
     "name": "stdout",
     "output_type": "stream",
     "text": [
      "================== DoubleMLPanelData Object ==================\n",
      "\n",
      "------------------ Data summary      ------------------\n",
      "Outcome variable: Y\n",
      "Treatment variable(s): ['G']\n",
      "Covariates: ['X']\n",
      "Instrument variable(s): None\n",
      "Time variable: period\n",
      "Id variable: id\n",
      "No. Observations: 3979\n",
      "\n",
      "------------------ DataFrame info    ------------------\n",
      "<class 'pandas.core.frame.DataFrame'>\n",
      "RangeIndex: 15916 entries, 0 to 15915\n",
      "Columns: 7 entries, G to treat\n",
      "dtypes: float64(3), int64(4)\n",
      "memory usage: 870.5 KB\n",
      "\n"
     ]
    }
   ],
   "source": [
    "dml_data = DoubleMLPanelData(\n",
    "    data=dta,\n",
    "    y_col=\"Y\",\n",
    "    d_cols=\"G\",\n",
    "    id_col=\"id\",\n",
    "    t_col=\"period\",\n",
    "    x_cols=[\"X\"]\n",
    ")\n",
    "print(dml_data)"
   ]
  },
  {
   "cell_type": "markdown",
   "metadata": {},
   "source": [
    "## ATT Estimation\n",
    "\n",
    "The [DoubleML-package](https://docs.doubleml.org/stable/index.html) implements estimation of group-time average treatment effect via the `DoubleMLDIDMulti` class (see [model documentation](https://docs.doubleml.org/stable/guide/models.html#difference-in-differences-models-did)).\n",
    "\n",
    "The class basically behaves like other `DoubleML` classes and requires the specification of two learners (for more details on the regression elements, see [score documentation](https://docs.doubleml.org/stable/guide/scores.html#difference-in-differences-models)). The model will be estimated using the `fit()` method."
   ]
  },
  {
   "cell_type": "code",
   "execution_count": 5,
   "metadata": {
    "execution": {
     "iopub.execute_input": "2025-05-23T06:44:10.392915Z",
     "iopub.status.busy": "2025-05-23T06:44:10.392713Z",
     "iopub.status.idle": "2025-05-23T06:44:10.685193Z",
     "shell.execute_reply": "2025-05-23T06:44:10.684031Z"
    }
   },
   "outputs": [
    {
     "name": "stdout",
     "output_type": "stream",
     "text": [
      "================== DoubleMLDIDMulti Object ==================\n",
      "\n",
      "------------------ Data summary      ------------------\n",
      "Outcome variable: Y\n",
      "Treatment variable(s): ['G']\n",
      "Covariates: ['X']\n",
      "Instrument variable(s): None\n",
      "Time variable: period\n",
      "Id variable: id\n",
      "No. Observations: 3979\n",
      "\n",
      "------------------ Score & algorithm ------------------\n",
      "Score function: observational\n",
      "Control group: never_treated\n",
      "Anticipation periods: 0\n",
      "\n",
      "------------------ Machine learner   ------------------\n",
      "Learner ml_g: LinearRegression()\n",
      "Learner ml_m: LogisticRegression()\n",
      "Out-of-sample Performance:\n",
      "Regression:\n",
      "Learner ml_g0 RMSE: [[1.4255399  1.41109585 1.39599637 1.42731007 1.4065355  1.41875502\n",
      "  1.42534124 1.40526596 1.4233679 ]]\n",
      "Learner ml_g1 RMSE: [[1.40598114 1.437574   1.39538407 1.41815924 1.42473044 1.38479095\n",
      "  1.45717357 1.41478372 1.4078404 ]]\n",
      "Classification:\n",
      "Learner ml_m Log Loss: [[0.69128669 0.69047583 0.69094613 0.6794507  0.68026674 0.67932131\n",
      "  0.66232697 0.66204922 0.66297304]]\n",
      "\n",
      "------------------ Resampling        ------------------\n",
      "No. folds: 5\n",
      "No. repeated sample splits: 1\n",
      "\n",
      "------------------ Fit summary       ------------------\n",
      "                  coef   std err          t     P>|t|     2.5 %    97.5 %\n",
      "ATT(2.0,1,2)  0.920392  0.063990  14.383341  0.000000  0.794973  1.045810\n",
      "ATT(2.0,1,3)  1.986655  0.064640  30.734279  0.000000  1.859964  2.113347\n",
      "ATT(2.0,1,4)  2.956393  0.063200  46.778624  0.000000  2.832524  3.080262\n",
      "ATT(3.0,1,2) -0.044345  0.065898  -0.672931  0.500991 -0.173502  0.084813\n",
      "ATT(3.0,2,3)  1.107807  0.065400  16.938888  0.000000  0.979625  1.235989\n",
      "ATT(3.0,2,4)  2.058126  0.065458  31.442085  0.000000  1.929831  2.186421\n",
      "ATT(4.0,1,2) -0.001322  0.068577  -0.019277  0.984620 -0.135730  0.133086\n",
      "ATT(4.0,2,3)  0.065294  0.066492   0.981983  0.326108 -0.065028  0.195617\n",
      "ATT(4.0,3,4)  0.951477  0.067406  14.115651  0.000000  0.819364  1.083590\n"
     ]
    }
   ],
   "source": [
    "dml_obj = DoubleMLDIDMulti(\n",
    "    obj_dml_data=dml_data,\n",
    "    ml_g=LinearRegression(),\n",
    "    ml_m=LogisticRegression(),\n",
    "    control_group=\"never_treated\",\n",
    ")\n",
    "\n",
    "dml_obj.fit()\n",
    "print(dml_obj)"
   ]
  },
  {
   "cell_type": "markdown",
   "metadata": {},
   "source": [
    "The summary displays estimates of the $ATT(g,t_\\text{eval})$ effects for different combinations of $(g,t_\\text{eval})$ via $\\widehat{ATT}(\\mathrm{g},t_\\text{pre},t_\\text{eval})$, where\n",
    " - $\\mathrm{g}$ specifies the group\n",
    " - $t_\\text{pre}$ specifies the corresponding pre-treatment period\n",
    " - $t_\\text{eval}$ specifies the evaluation period\n",
    "\n",
    "This corresponds to the estimates given in `att_gt` function in the [did-R-package](https://bcallaway11.github.io/did/index.html), where the standard choice is $t_\\text{pre} = \\min(\\mathrm{g}, t_\\text{eval}) - 1$ (without anticipation).\n",
    "\n",
    "Remark that this includes pre-tests effects if $\\mathrm{g} > t_{eval}$, e.g. $ATT(4,2)$."
   ]
  },
  {
   "cell_type": "markdown",
   "metadata": {},
   "source": [
    "As usual for the DoubleML-package, you can obtain joint confidence intervals via bootstrap."
   ]
  },
  {
   "cell_type": "code",
   "execution_count": 6,
   "metadata": {
    "execution": {
     "iopub.execute_input": "2025-05-23T06:44:10.687807Z",
     "iopub.status.busy": "2025-05-23T06:44:10.687551Z",
     "iopub.status.idle": "2025-05-23T06:44:11.179169Z",
     "shell.execute_reply": "2025-05-23T06:44:11.178638Z"
    }
   },
   "outputs": [
    {
     "data": {
      "text/html": [
       "<div>\n",
       "<style scoped>\n",
       "    .dataframe tbody tr th:only-of-type {\n",
       "        vertical-align: middle;\n",
       "    }\n",
       "\n",
       "    .dataframe tbody tr th {\n",
       "        vertical-align: top;\n",
       "    }\n",
       "\n",
       "    .dataframe thead th {\n",
       "        text-align: right;\n",
       "    }\n",
       "</style>\n",
       "<table border=\"1\" class=\"dataframe\">\n",
       "  <thead>\n",
       "    <tr style=\"text-align: right;\">\n",
       "      <th></th>\n",
       "      <th>2.5 %</th>\n",
       "      <th>97.5 %</th>\n",
       "    </tr>\n",
       "  </thead>\n",
       "  <tbody>\n",
       "    <tr>\n",
       "      <th>ATT(2.0,1,2)</th>\n",
       "      <td>0.746345</td>\n",
       "      <td>1.094438</td>\n",
       "    </tr>\n",
       "    <tr>\n",
       "      <th>ATT(2.0,1,3)</th>\n",
       "      <td>1.810842</td>\n",
       "      <td>2.162468</td>\n",
       "    </tr>\n",
       "    <tr>\n",
       "      <th>ATT(2.0,1,4)</th>\n",
       "      <td>2.784497</td>\n",
       "      <td>3.128290</td>\n",
       "    </tr>\n",
       "    <tr>\n",
       "      <th>ATT(3.0,1,2)</th>\n",
       "      <td>-0.223580</td>\n",
       "      <td>0.134891</td>\n",
       "    </tr>\n",
       "    <tr>\n",
       "      <th>ATT(3.0,2,3)</th>\n",
       "      <td>0.929925</td>\n",
       "      <td>1.285689</td>\n",
       "    </tr>\n",
       "    <tr>\n",
       "      <th>ATT(3.0,2,4)</th>\n",
       "      <td>1.880088</td>\n",
       "      <td>2.236164</td>\n",
       "    </tr>\n",
       "    <tr>\n",
       "      <th>ATT(4.0,1,2)</th>\n",
       "      <td>-0.187843</td>\n",
       "      <td>0.185199</td>\n",
       "    </tr>\n",
       "    <tr>\n",
       "      <th>ATT(4.0,2,3)</th>\n",
       "      <td>-0.115558</td>\n",
       "      <td>0.246147</td>\n",
       "    </tr>\n",
       "    <tr>\n",
       "      <th>ATT(4.0,3,4)</th>\n",
       "      <td>0.768140</td>\n",
       "      <td>1.134813</td>\n",
       "    </tr>\n",
       "  </tbody>\n",
       "</table>\n",
       "</div>"
      ],
      "text/plain": [
       "                 2.5 %    97.5 %\n",
       "ATT(2.0,1,2)  0.746345  1.094438\n",
       "ATT(2.0,1,3)  1.810842  2.162468\n",
       "ATT(2.0,1,4)  2.784497  3.128290\n",
       "ATT(3.0,1,2) -0.223580  0.134891\n",
       "ATT(3.0,2,3)  0.929925  1.285689\n",
       "ATT(3.0,2,4)  1.880088  2.236164\n",
       "ATT(4.0,1,2) -0.187843  0.185199\n",
       "ATT(4.0,2,3) -0.115558  0.246147\n",
       "ATT(4.0,3,4)  0.768140  1.134813"
      ]
     },
     "execution_count": 6,
     "metadata": {},
     "output_type": "execute_result"
    }
   ],
   "source": [
    "level = 0.95\n",
    "\n",
    "ci = dml_obj.confint(level=level)\n",
    "dml_obj.bootstrap(n_rep_boot=5000)\n",
    "ci_joint = dml_obj.confint(level=level, joint=True)\n",
    "ci_joint"
   ]
  },
  {
   "cell_type": "markdown",
   "metadata": {},
   "source": [
    "A visualization of the effects can be obtained via the `plot_effects()` method.\n",
    "\n",
    "Remark that the plot used joint confidence intervals per default. "
   ]
  },
  {
   "cell_type": "code",
   "execution_count": 7,
   "metadata": {
    "execution": {
     "iopub.execute_input": "2025-05-23T06:44:11.182840Z",
     "iopub.status.busy": "2025-05-23T06:44:11.182408Z",
     "iopub.status.idle": "2025-05-23T06:44:11.778071Z",
     "shell.execute_reply": "2025-05-23T06:44:11.777529Z"
    },
    "tags": [
     "nbsphinx-thumbnail"
    ]
   },
   "outputs": [
    {
     "name": "stderr",
     "output_type": "stream",
     "text": [
      "/opt/hostedtoolcache/Python/3.12.10/x64/lib/python3.12/site-packages/matplotlib/cbook.py:1719: FutureWarning: Calling float on a single element Series is deprecated and will raise a TypeError in the future. Use float(ser.iloc[0]) instead\n",
      "  return math.isfinite(val)\n",
      "/opt/hostedtoolcache/Python/3.12.10/x64/lib/python3.12/site-packages/matplotlib/cbook.py:1719: FutureWarning: Calling float on a single element Series is deprecated and will raise a TypeError in the future. Use float(ser.iloc[0]) instead\n",
      "  return math.isfinite(val)\n"
     ]
    },
    {
     "data": {
      "image/png": "[encoded data removed]",
      "text/plain": [
       "<Figure size 1200x800 with 4 Axes>"
      ]
     },
     "metadata": {},
     "output_type": "display_data"
    }
   ],
   "source": [
    "fig, ax = dml_obj.plot_effects()"
   ]
  },
  {
   "cell_type": "markdown",
   "metadata": {},
   "source": [
    "## Effect Aggregation\n",
    "\n",
    "As the [did-R-package](https://bcallaway11.github.io/did/index.html), the $ATT$'s can be aggregated to summarize multiple effects.\n",
    "For details on different aggregations and details on their interpretations see [Callaway and Sant'Anna(2021)](https://doi.org/10.1016/j.jeconom.2020.12.001).\n",
    "\n",
    "The aggregations are implemented via the `aggregate()` method."
   ]
  },
  {
   "cell_type": "markdown",
   "metadata": {},
   "source": [
    "### Group Aggregation\n",
    "\n",
    "To obtain group-specific effects it is possible to aggregate several $\\widehat{ATT}(\\mathrm{g},t_\\text{pre},t_\\text{eval})$ values based on the group $\\mathrm{g}$ by setting the `aggregation=\"group\"` argument."
   ]
  },
  {
   "cell_type": "code",
   "execution_count": 8,
   "metadata": {
    "execution": {
     "iopub.execute_input": "2025-05-23T06:44:11.780350Z",
     "iopub.status.busy": "2025-05-23T06:44:11.779872Z",
     "iopub.status.idle": "2025-05-23T06:44:12.003642Z",
     "shell.execute_reply": "2025-05-23T06:44:12.003086Z"
    }
   },
   "outputs": [
    {
     "name": "stdout",
     "output_type": "stream",
     "text": [
      "================== DoubleMLDIDAggregation Object ==================\n",
      " Group Aggregation \n",
      "\n",
      "------------------ Overall Aggregated Effects ------------------\n",
      "    coef  std err         t  P>|t|    2.5 %   97.5 %\n",
      "1.487552 0.034226 43.463201    0.0 1.420471 1.554633\n",
      "------------------ Aggregated Effects         ------------------\n",
      "         coef   std err          t  P>|t|     2.5 %    97.5 %\n",
      "2.0  1.954480  0.052192  37.447733    0.0  1.852185  2.056775\n",
      "3.0  1.582966  0.056262  28.135737    0.0  1.472695  1.693237\n",
      "4.0  0.951477  0.067406  14.115651    0.0  0.819364  1.083590\n",
      "------------------ Additional Information     ------------------\n",
      "Score function: observational\n",
      "Control group: never_treated\n",
      "Anticipation periods: 0\n",
      "\n"
     ]
    },
    {
     "name": "stderr",
     "output_type": "stream",
     "text": [
      "/home/runner/work/doubleml-docs/doubleml-docs/doubleml-for-py/doubleml/did/did_aggregation.py:368: UserWarning: Joint confidence intervals require bootstrapping which hasn't been performed yet. Automatically applying '.aggregated_frameworks.bootstrap(method=\"normal\", n_rep_boot=500)' with default values. For different bootstrap settings, call bootstrap() explicitly before plotting.\n",
      "  warnings.warn(\n"
     ]
    },
    {
     "data": {
      "image/png": "[encoded data removed]",
      "text/plain": [
       "<Figure size 1200x600 with 1 Axes>"
      ]
     },
     "metadata": {},
     "output_type": "display_data"
    }
   ],
   "source": [
    "aggregated = dml_obj.aggregate(aggregation=\"group\")\n",
    "print(aggregated)\n",
    "_ = aggregated.plot_effects()"
   ]
  },
  {
   "cell_type": "markdown",
   "metadata": {},
   "source": [
    "The output is a `DoubleMLDIDAggregation` object which includes an overall aggregation summary based on group size."
   ]
  },
  {
   "cell_type": "markdown",
   "metadata": {},
   "source": [
    "### Time Aggregation\n",
    "\n",
    "This aggregates $\\widehat{ATT}(\\mathrm{g},t_\\text{pre},t_\\text{eval})$, based on $t_\\text{eval}$, but weighted with respect to group size. Corresponds to *Calendar Time Effects* from the [did-R-package](https://bcallaway11.github.io/did/index.html).\n",
    "\n",
    "For calendar time effects set `aggregation=\"time\"`."
   ]
  },
  {
   "cell_type": "code",
   "execution_count": 9,
   "metadata": {
    "execution": {
     "iopub.execute_input": "2025-05-23T06:44:12.005895Z",
     "iopub.status.busy": "2025-05-23T06:44:12.005435Z",
     "iopub.status.idle": "2025-05-23T06:44:12.228226Z",
     "shell.execute_reply": "2025-05-23T06:44:12.227544Z"
    }
   },
   "outputs": [
    {
     "name": "stdout",
     "output_type": "stream",
     "text": [
      "================== DoubleMLDIDAggregation Object ==================\n",
      " Time Aggregation \n",
      "\n",
      "------------------ Overall Aggregated Effects ------------------\n",
      "    coef  std err         t  P>|t|    2.5 %   97.5 %\n",
      "1.480387 0.035066 42.217036    0.0 1.411658 1.549115\n",
      "------------------ Aggregated Effects         ------------------\n",
      "       coef   std err          t  P>|t|     2.5 %    97.5 %\n",
      "2  0.920392  0.063990  14.383341    0.0  0.794973  1.045810\n",
      "3  1.548579  0.051356  30.153953    0.0  1.447923  1.649234\n",
      "4  1.972189  0.046577  42.342646    0.0  1.880900  2.063478\n",
      "------------------ Additional Information     ------------------\n",
      "Score function: observational\n",
      "Control group: never_treated\n",
      "Anticipation periods: 0\n",
      "\n"
     ]
    },
    {
     "name": "stderr",
     "output_type": "stream",
     "text": [
      "/home/runner/work/doubleml-docs/doubleml-docs/doubleml-for-py/doubleml/did/did_aggregation.py:368: UserWarning: Joint confidence intervals require bootstrapping which hasn't been performed yet. Automatically applying '.aggregated_frameworks.bootstrap(method=\"normal\", n_rep_boot=500)' with default values. For different bootstrap settings, call bootstrap() explicitly before plotting.\n",
      "  warnings.warn(\n"
     ]
    },
    {
     "data": {
      "image/png": "[encoded data removed]",
      "text/plain": [
       "<Figure size 1200x600 with 1 Axes>"
      ]
     },
     "metadata": {},
     "output_type": "display_data"
    }
   ],
   "source": [
    "aggregated_time = dml_obj.aggregate(\"time\")\n",
    "print(aggregated_time)\n",
    "fig, ax = aggregated_time.plot_effects()"
   ]
  },
  {
   "cell_type": "markdown",
   "metadata": {},
   "source": [
    "## Event Study Aggregation\n",
    "\n",
    "Finally, `aggregation=\"eventstudy\"` aggregates $\\widehat{ATT}(\\mathrm{g},t_\\text{pre},t_\\text{eval})$ based on exposure time $e = t_\\text{eval} - \\mathrm{g}$ (respecting group size)."
   ]
  },
  {
   "cell_type": "code",
   "execution_count": 10,
   "metadata": {
    "execution": {
     "iopub.execute_input": "2025-05-23T06:44:12.230341Z",
     "iopub.status.busy": "2025-05-23T06:44:12.229951Z",
     "iopub.status.idle": "2025-05-23T06:44:12.478978Z",
     "shell.execute_reply": "2025-05-23T06:44:12.478412Z"
    }
   },
   "outputs": [
    {
     "name": "stdout",
     "output_type": "stream",
     "text": [
      "================== DoubleMLDIDAggregation Object ==================\n",
      " Event Study Aggregation \n",
      "\n",
      "------------------ Overall Aggregated Effects ------------------\n",
      "    coef  std err         t  P>|t|    2.5 %   97.5 %\n",
      "1.990337 0.038717 51.407596    0.0 1.914454 2.066221\n",
      "------------------ Aggregated Effects         ------------------\n",
      "          coef   std err          t     P>|t|     2.5 %    97.5 %\n",
      "-2.0 -0.001322  0.068577  -0.019277  0.984620 -0.135730  0.133086\n",
      "-1.0  0.011925  0.040504   0.294426  0.768432 -0.067460  0.091311\n",
      "0.0   0.992337  0.030736  32.285580  0.000000  0.932095  1.052579\n",
      "1.0   2.022281  0.045688  44.262804  0.000000  1.932734  2.111828\n",
      "2.0   2.956393  0.063200  46.778624  0.000000  2.832524  3.080262\n",
      "------------------ Additional Information     ------------------\n",
      "Score function: observational\n",
      "Control group: never_treated\n",
      "Anticipation periods: 0\n",
      "\n"
     ]
    },
    {
     "name": "stderr",
     "output_type": "stream",
     "text": [
      "/home/runner/work/doubleml-docs/doubleml-docs/doubleml-for-py/doubleml/did/did_aggregation.py:368: UserWarning: Joint confidence intervals require bootstrapping which hasn't been performed yet. Automatically applying '.aggregated_frameworks.bootstrap(method=\"normal\", n_rep_boot=500)' with default values. For different bootstrap settings, call bootstrap() explicitly before plotting.\n",
      "  warnings.warn(\n"
     ]
    },
    {
     "data": {
      "image/png": "[encoded data removed]",
      "text/plain": [
       "<Figure size 1200x600 with 1 Axes>"
      ]
     },
     "metadata": {},
     "output_type": "display_data"
    }
   ],
   "source": [
    "aggregated_eventstudy = dml_obj.aggregate(\"eventstudy\")\n",
    "print(aggregated_eventstudy)\n",
    "fig, ax = aggregated_eventstudy.plot_effects()"
   ]
  },
  {
   "cell_type": "markdown",
   "metadata": {},
   "source": [
    "### Aggregation Details\n",
    "\n",
    "The `DoubleMLDIDAggregation` objects include several `DoubleMLFrameworks` which support methods like `bootstrap()` or `confint()`.\n",
    "Further, the weights can be accessed via the properties\n",
    "\n",
    " - ``overall_aggregation_weights``: weights for the overall aggregation\n",
    " - ``aggregation_weights``: weights for the aggregation\n",
    "\n",
    "To clarify, e.g. for the eventstudy aggregation"
   ]
  },
  {
   "cell_type": "code",
   "execution_count": 11,
   "metadata": {
    "execution": {
     "iopub.execute_input": "2025-05-23T06:44:12.480891Z",
     "iopub.status.busy": "2025-05-23T06:44:12.480702Z",
     "iopub.status.idle": "2025-05-23T06:44:12.490905Z",
     "shell.execute_reply": "2025-05-23T06:44:12.490388Z"
    }
   },
   "outputs": [
    {
     "name": "stdout",
     "output_type": "stream",
     "text": [
      "================== DoubleMLDIDAggregation Object ==================\n",
      " Event Study Aggregation \n",
      "\n",
      "------------------ Overall Aggregated Effects ------------------\n",
      "    coef  std err         t  P>|t|    2.5 %   97.5 %\n",
      "1.990337 0.038717 51.407596    0.0 1.914454 2.066221\n",
      "------------------ Aggregated Effects         ------------------\n",
      "          coef   std err          t     P>|t|     2.5 %    97.5 %\n",
      "-2.0 -0.001322  0.068577  -0.019277  0.984620 -0.135730  0.133086\n",
      "-1.0  0.011925  0.040504   0.294426  0.768432 -0.067460  0.091311\n",
      "0.0   0.992337  0.030736  32.285580  0.000000  0.932095  1.052579\n",
      "1.0   2.022281  0.045688  44.262804  0.000000  1.932734  2.111828\n",
      "2.0   2.956393  0.063200  46.778624  0.000000  2.832524  3.080262\n",
      "------------------ Additional Information     ------------------\n",
      "Score function: observational\n",
      "Control group: never_treated\n",
      "Anticipation periods: 0\n",
      "\n"
     ]
    }
   ],
   "source": [
    "print(aggregated_eventstudy)"
   ]
  },
  {
   "cell_type": "markdown",
   "metadata": {},
   "source": [
    "Here, the overall effect aggregation aggregates each effect with positive exposure"
   ]
  },
  {
   "cell_type": "code",
   "execution_count": 12,
   "metadata": {
    "execution": {
     "iopub.execute_input": "2025-05-23T06:44:12.492629Z",
     "iopub.status.busy": "2025-05-23T06:44:12.492436Z",
     "iopub.status.idle": "2025-05-23T06:44:12.495874Z",
     "shell.execute_reply": "2025-05-23T06:44:12.495391Z"
    }
   },
   "outputs": [
    {
     "name": "stdout",
     "output_type": "stream",
     "text": [
      "[0.         0.         0.33333333 0.33333333 0.33333333]\n"
     ]
    }
   ],
   "source": [
    "print(aggregated_eventstudy.overall_aggregation_weights)"
   ]
  },
  {
   "cell_type": "markdown",
   "metadata": {},
   "source": [
    "If one would like to consider how the aggregated effect with $e=0$ is computed, one would have to look at the third set of weights within the ``aggregation_weights`` property"
   ]
  },
  {
   "cell_type": "code",
   "execution_count": 13,
   "metadata": {
    "execution": {
     "iopub.execute_input": "2025-05-23T06:44:12.497570Z",
     "iopub.status.busy": "2025-05-23T06:44:12.497401Z",
     "iopub.status.idle": "2025-05-23T06:44:12.501660Z",
     "shell.execute_reply": "2025-05-23T06:44:12.501042Z"
    }
   },
   "outputs": [
    {
     "data": {
      "text/plain": [
       "array([0.32875335, 0.        , 0.        , 0.        , 0.32674263,\n",
       "       0.        , 0.        , 0.        , 0.34450402])"
      ]
     },
     "execution_count": 13,
     "metadata": {},
     "output_type": "execute_result"
    }
   ],
   "source": [
    "aggregated_eventstudy.aggregation_weights[2]"
   ]
  },
  {
   "cell_type": "markdown",
   "metadata": {},
   "source": [
    "Taking a look at the original `dml_obj`, one can see that this combines the following estimates:\n",
    "\n",
    " - $\\widehat{ATT}(2,1,2)$\n",
    " - $\\widehat{ATT}(3,2,3)$\n",
    " - $\\widehat{ATT}(4,3,4)$"
   ]
  },
  {
   "cell_type": "code",
   "execution_count": 14,
   "metadata": {
    "execution": {
     "iopub.execute_input": "2025-05-23T06:44:12.503396Z",
     "iopub.status.busy": "2025-05-23T06:44:12.503229Z",
     "iopub.status.idle": "2025-05-23T06:44:12.510756Z",
     "shell.execute_reply": "2025-05-23T06:44:12.510111Z"
    }
   },
   "outputs": [
    {
     "name": "stdout",
     "output_type": "stream",
     "text": [
      "                  coef   std err          t     P>|t|     2.5 %    97.5 %\n",
      "ATT(2.0,1,2)  0.920392  0.063990  14.383341  0.000000  0.794973  1.045810\n",
      "ATT(2.0,1,3)  1.986655  0.064640  30.734279  0.000000  1.859964  2.113347\n",
      "ATT(2.0,1,4)  2.956393  0.063200  46.778624  0.000000  2.832524  3.080262\n",
      "ATT(3.0,1,2) -0.044345  0.065898  -0.672931  0.500991 -0.173502  0.084813\n",
      "ATT(3.0,2,3)  1.107807  0.065400  16.938888  0.000000  0.979625  1.235989\n",
      "ATT(3.0,2,4)  2.058126  0.065458  31.442085  0.000000  1.929831  2.186421\n",
      "ATT(4.0,1,2) -0.001322  0.068577  -0.019277  0.984620 -0.135730  0.133086\n",
      "ATT(4.0,2,3)  0.065294  0.066492   0.981983  0.326108 -0.065028  0.195617\n",
      "ATT(4.0,3,4)  0.951477  0.067406  14.115651  0.000000  0.819364  1.083590\n"
     ]
    }
   ],
   "source": [
    "print(dml_obj.summary)"
   ]
  }
 ],
 "metadata": {
  "kernelspec": {
   "display_name": ".venv",
   "language": "python",
   "name": "python3"
  },
  "language_info": {
   "codemirror_mode": {
    "name": "ipython",
    "version": 3
   },
   "file_extension": ".py",
   "mimetype": "text/x-python",
   "name": "python",
   "nbconvert_exporter": "python",
   "pygments_lexer": "ipython3",
   "version": "3.12.10"
  }
 },
 "nbformat": 4,
 "nbformat_minor": 2
}
