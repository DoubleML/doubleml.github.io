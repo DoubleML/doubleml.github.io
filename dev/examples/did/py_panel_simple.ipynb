{
 "cells": [
  {
   "cell_type": "markdown",
   "metadata": {},
   "source": [
    "# Python: Panel Data Introduction\n",
    "\n",
    "In this example, we replicate the results from the guide [Getting Started with the did Package](https://bcallaway11.github.io/did/articles/did-basics.html) of the [did-R-package](https://bcallaway11.github.io/did/index.html).\n",
    "\n",
    "As the [did-R-package](https://bcallaway11.github.io/did/index.html) the implementation of [DoubleML](https://docs.doubleml.org/stable/index.html) is based on [Callaway and Sant'Anna(2021)](https://doi.org/10.1016/j.jeconom.2020.12.001).\n",
    "\n",
    "The notebook requires the following packages:"
   ]
  },
  {
   "cell_type": "code",
   "execution_count": 1,
   "metadata": {
    "execution": {
     "iopub.execute_input": "2025-05-15T17:15:20.617606Z",
     "iopub.status.busy": "2025-05-15T17:15:20.617420Z",
     "iopub.status.idle": "2025-05-15T17:15:22.114405Z",
     "shell.execute_reply": "2025-05-15T17:15:22.113827Z"
    }
   },
   "outputs": [],
   "source": [
    "import pandas as pd\n",
    "import numpy as np\n",
    "\n",
    "from sklearn.linear_model import LinearRegression, LogisticRegression\n",
    "\n",
    "from doubleml.data import DoubleMLPanelData\n",
    "from doubleml.did import DoubleMLDIDMulti"
   ]
  },
  {
   "cell_type": "markdown",
   "metadata": {},
   "source": [
    "## Data\n",
    "\n",
    "The data we will use is simulated and part of the [CSDID-Python-Package](https://d2cml-ai.github.io/csdid/index.html).\n",
    "\n",
    "A description of the data generating process can be found at the [CSDID-documentation](https://d2cml-ai.github.io/csdid/examples/csdid_basic.html#Examples-with-simulated-data).\n"
   ]
  },
  {
   "cell_type": "code",
   "execution_count": 2,
   "metadata": {
    "execution": {
     "iopub.execute_input": "2025-05-15T17:15:22.116709Z",
     "iopub.status.busy": "2025-05-15T17:15:22.116400Z",
     "iopub.status.idle": "2025-05-15T17:15:22.379549Z",
     "shell.execute_reply": "2025-05-15T17:15:22.379013Z"
    }
   },
   "outputs": [
    {
     "data": {
      "text/html": [
       "<div>\n",
       "<style scoped>\n",
       "    .dataframe tbody tr th:only-of-type {\n",
       "        vertical-align: middle;\n",
       "    }\n",
       "\n",
       "    .dataframe tbody tr th {\n",
       "        vertical-align: top;\n",
       "    }\n",
       "\n",
       "    .dataframe thead th {\n",
       "        text-align: right;\n",
       "    }\n",
       "</style>\n",
       "<table border=\"1\" class=\"dataframe\">\n",
       "  <thead>\n",
       "    <tr style=\"text-align: right;\">\n",
       "      <th></th>\n",
       "      <th>G</th>\n",
       "      <th>X</th>\n",
       "      <th>id</th>\n",
       "      <th>cluster</th>\n",
       "      <th>period</th>\n",
       "      <th>Y</th>\n",
       "      <th>treat</th>\n",
       "    </tr>\n",
       "  </thead>\n",
       "  <tbody>\n",
       "    <tr>\n",
       "      <th>0</th>\n",
       "      <td>3</td>\n",
       "      <td>-0.876233</td>\n",
       "      <td>1</td>\n",
       "      <td>5</td>\n",
       "      <td>1</td>\n",
       "      <td>5.562556</td>\n",
       "      <td>1</td>\n",
       "    </tr>\n",
       "    <tr>\n",
       "      <th>1</th>\n",
       "      <td>3</td>\n",
       "      <td>-0.876233</td>\n",
       "      <td>1</td>\n",
       "      <td>5</td>\n",
       "      <td>2</td>\n",
       "      <td>4.349213</td>\n",
       "      <td>1</td>\n",
       "    </tr>\n",
       "    <tr>\n",
       "      <th>2</th>\n",
       "      <td>3</td>\n",
       "      <td>-0.876233</td>\n",
       "      <td>1</td>\n",
       "      <td>5</td>\n",
       "      <td>3</td>\n",
       "      <td>7.134037</td>\n",
       "      <td>1</td>\n",
       "    </tr>\n",
       "    <tr>\n",
       "      <th>3</th>\n",
       "      <td>3</td>\n",
       "      <td>-0.876233</td>\n",
       "      <td>1</td>\n",
       "      <td>5</td>\n",
       "      <td>4</td>\n",
       "      <td>6.243056</td>\n",
       "      <td>1</td>\n",
       "    </tr>\n",
       "    <tr>\n",
       "      <th>4</th>\n",
       "      <td>2</td>\n",
       "      <td>-0.873848</td>\n",
       "      <td>2</td>\n",
       "      <td>36</td>\n",
       "      <td>1</td>\n",
       "      <td>-3.659387</td>\n",
       "      <td>1</td>\n",
       "    </tr>\n",
       "  </tbody>\n",
       "</table>\n",
       "</div>"
      ],
      "text/plain": [
       "   G         X  id  cluster  period         Y  treat\n",
       "0  3 -0.876233   1        5       1  5.562556      1\n",
       "1  3 -0.876233   1        5       2  4.349213      1\n",
       "2  3 -0.876233   1        5       3  7.134037      1\n",
       "3  3 -0.876233   1        5       4  6.243056      1\n",
       "4  2 -0.873848   2       36       1 -3.659387      1"
      ]
     },
     "execution_count": 2,
     "metadata": {},
     "output_type": "execute_result"
    }
   ],
   "source": [
    "dta = pd.read_csv(\"https://raw.githubusercontent.com/d2cml-ai/csdid/main/data/sim_data.csv\")\n",
    "dta.head()"
   ]
  },
  {
   "cell_type": "markdown",
   "metadata": {},
   "source": [
    "To work with the [DoubleML-package](https://docs.doubleml.org/stable/index.html), we initialize a ``DoubleMLPanelData`` object.\n",
    "\n",
    "Therefore, we set the *never-treated* units in group column `G` to `np.inf` (we have to change the datatype to `float`)."
   ]
  },
  {
   "cell_type": "code",
   "execution_count": 3,
   "metadata": {
    "execution": {
     "iopub.execute_input": "2025-05-15T17:15:22.381412Z",
     "iopub.status.busy": "2025-05-15T17:15:22.381210Z",
     "iopub.status.idle": "2025-05-15T17:15:22.390818Z",
     "shell.execute_reply": "2025-05-15T17:15:22.390210Z"
    }
   },
   "outputs": [
    {
     "data": {
      "text/html": [
       "<div>\n",
       "<style scoped>\n",
       "    .dataframe tbody tr th:only-of-type {\n",
       "        vertical-align: middle;\n",
       "    }\n",
       "\n",
       "    .dataframe tbody tr th {\n",
       "        vertical-align: top;\n",
       "    }\n",
       "\n",
       "    .dataframe thead th {\n",
       "        text-align: right;\n",
       "    }\n",
       "</style>\n",
       "<table border=\"1\" class=\"dataframe\">\n",
       "  <thead>\n",
       "    <tr style=\"text-align: right;\">\n",
       "      <th></th>\n",
       "      <th>G</th>\n",
       "      <th>X</th>\n",
       "      <th>id</th>\n",
       "      <th>cluster</th>\n",
       "      <th>period</th>\n",
       "      <th>Y</th>\n",
       "      <th>treat</th>\n",
       "    </tr>\n",
       "  </thead>\n",
       "  <tbody>\n",
       "    <tr>\n",
       "      <th>0</th>\n",
       "      <td>3.0</td>\n",
       "      <td>-0.876233</td>\n",
       "      <td>1</td>\n",
       "      <td>5</td>\n",
       "      <td>1</td>\n",
       "      <td>5.562556</td>\n",
       "      <td>1</td>\n",
       "    </tr>\n",
       "    <tr>\n",
       "      <th>1</th>\n",
       "      <td>3.0</td>\n",
       "      <td>-0.876233</td>\n",
       "      <td>1</td>\n",
       "      <td>5</td>\n",
       "      <td>2</td>\n",
       "      <td>4.349213</td>\n",
       "      <td>1</td>\n",
       "    </tr>\n",
       "    <tr>\n",
       "      <th>2</th>\n",
       "      <td>3.0</td>\n",
       "      <td>-0.876233</td>\n",
       "      <td>1</td>\n",
       "      <td>5</td>\n",
       "      <td>3</td>\n",
       "      <td>7.134037</td>\n",
       "      <td>1</td>\n",
       "    </tr>\n",
       "    <tr>\n",
       "      <th>3</th>\n",
       "      <td>3.0</td>\n",
       "      <td>-0.876233</td>\n",
       "      <td>1</td>\n",
       "      <td>5</td>\n",
       "      <td>4</td>\n",
       "      <td>6.243056</td>\n",
       "      <td>1</td>\n",
       "    </tr>\n",
       "    <tr>\n",
       "      <th>4</th>\n",
       "      <td>2.0</td>\n",
       "      <td>-0.873848</td>\n",
       "      <td>2</td>\n",
       "      <td>36</td>\n",
       "      <td>1</td>\n",
       "      <td>-3.659387</td>\n",
       "      <td>1</td>\n",
       "    </tr>\n",
       "  </tbody>\n",
       "</table>\n",
       "</div>"
      ],
      "text/plain": [
       "     G         X  id  cluster  period         Y  treat\n",
       "0  3.0 -0.876233   1        5       1  5.562556      1\n",
       "1  3.0 -0.876233   1        5       2  4.349213      1\n",
       "2  3.0 -0.876233   1        5       3  7.134037      1\n",
       "3  3.0 -0.876233   1        5       4  6.243056      1\n",
       "4  2.0 -0.873848   2       36       1 -3.659387      1"
      ]
     },
     "execution_count": 3,
     "metadata": {},
     "output_type": "execute_result"
    }
   ],
   "source": [
    "# set dtype for G to float\n",
    "dta[\"G\"] = dta[\"G\"].astype(float)\n",
    "dta.loc[dta[\"G\"] == 0, \"G\"] = np.inf\n",
    "dta.head()"
   ]
  },
  {
   "cell_type": "markdown",
   "metadata": {},
   "source": [
    "Now, we can initialize the ``DoubleMLPanelData`` object, specifying\n",
    "\n",
    " - `y_col` : the outcome\n",
    " - `d_cols`: the group variable indicating the first treated period for each unit\n",
    " - `id_col`: the unique identification column for each unit\n",
    " - `t_col` : the time column\n",
    " - `x_cols`: the additional pre-treatment controls\n"
   ]
  },
  {
   "cell_type": "code",
   "execution_count": 4,
   "metadata": {
    "execution": {
     "iopub.execute_input": "2025-05-15T17:15:22.392904Z",
     "iopub.status.busy": "2025-05-15T17:15:22.392439Z",
     "iopub.status.idle": "2025-05-15T17:15:22.402116Z",
     "shell.execute_reply": "2025-05-15T17:15:22.401518Z"
    }
   },
   "outputs": [
    {
     "name": "stdout",
     "output_type": "stream",
     "text": [
      "================== DoubleMLPanelData Object ==================\n",
      "\n",
      "------------------ Data summary      ------------------\n",
      "Outcome variable: Y\n",
      "Treatment variable(s): ['G']\n",
      "Covariates: ['X']\n",
      "Instrument variable(s): None\n",
      "Time variable: period\n",
      "Id variable: id\n",
      "No. Observations: 3979\n",
      "\n",
      "------------------ DataFrame info    ------------------\n",
      "<class 'pandas.core.frame.DataFrame'>\n",
      "RangeIndex: 15916 entries, 0 to 15915\n",
      "Columns: 7 entries, G to treat\n",
      "dtypes: float64(3), int64(4)\n",
      "memory usage: 870.5 KB\n",
      "\n"
     ]
    }
   ],
   "source": [
    "dml_data = DoubleMLPanelData(\n",
    "    data=dta,\n",
    "    y_col=\"Y\",\n",
    "    d_cols=\"G\",\n",
    "    id_col=\"id\",\n",
    "    t_col=\"period\",\n",
    "    x_cols=[\"X\"]\n",
    ")\n",
    "print(dml_data)"
   ]
  },
  {
   "cell_type": "markdown",
   "metadata": {},
   "source": [
    "## ATT Estimation\n",
    "\n",
    "The [DoubleML-package](https://docs.doubleml.org/stable/index.html) implements estimation of group-time average treatment effect via the `DoubleMLDIDMulti` class (see [model documentation](https://docs.doubleml.org/stable/guide/models.html#difference-in-differences-models-did)).\n",
    "\n",
    "The class basically behaves like other `DoubleML` classes and requires the specification of two learners (for more details on the regression elements, see [score documentation](https://docs.doubleml.org/stable/guide/scores.html#difference-in-differences-models)). The model will be estimated using the `fit()` method."
   ]
  },
  {
   "cell_type": "code",
   "execution_count": 5,
   "metadata": {
    "execution": {
     "iopub.execute_input": "2025-05-15T17:15:22.404094Z",
     "iopub.status.busy": "2025-05-15T17:15:22.403763Z",
     "iopub.status.idle": "2025-05-15T17:15:22.686037Z",
     "shell.execute_reply": "2025-05-15T17:15:22.684832Z"
    }
   },
   "outputs": [
    {
     "name": "stdout",
     "output_type": "stream",
     "text": [
      "================== DoubleMLDIDMulti Object ==================\n",
      "\n",
      "------------------ Data summary      ------------------\n",
      "Outcome variable: Y\n",
      "Treatment variable(s): ['G']\n",
      "Covariates: ['X']\n",
      "Instrument variable(s): None\n",
      "Time variable: period\n",
      "Id variable: id\n",
      "No. Observations: 3979\n",
      "\n",
      "------------------ Score & algorithm ------------------\n",
      "Score function: observational\n",
      "Control group: never_treated\n",
      "Anticipation periods: 0\n",
      "\n",
      "------------------ Machine learner   ------------------\n",
      "Learner ml_g: LinearRegression()\n",
      "Learner ml_m: LogisticRegression()\n",
      "Out-of-sample Performance:\n",
      "Regression:\n",
      "Learner ml_g0 RMSE: [[1.42563329 1.41168096 1.3997933  1.42386701 1.40402068 1.41926412\n",
      "  1.42350776 1.40403239 1.42367981]]\n",
      "Learner ml_g1 RMSE: [[1.40391239 1.43991427 1.3975933  1.41520223 1.42848993 1.38292749\n",
      "  1.45922123 1.41546114 1.41143808]]\n",
      "Classification:\n",
      "Learner ml_m Log Loss: [[0.69067067 0.69079098 0.69074566 0.67956273 0.67934627 0.67990691\n",
      "  0.66255828 0.66268609 0.66242782]]\n",
      "\n",
      "------------------ Resampling        ------------------\n",
      "No. folds: 5\n",
      "No. repeated sample splits: 1\n",
      "\n",
      "------------------ Fit summary       ------------------\n",
      "                  coef   std err          t     P>|t|     2.5 %    97.5 %\n",
      "ATT(2.0,1,2)  0.919228  0.064007  14.361274  0.000000  0.793776  1.044680\n",
      "ATT(2.0,1,3)  1.984971  0.064615  30.720153  0.000000  1.858329  2.111614\n",
      "ATT(2.0,1,4)  2.955526  0.063253  46.725427  0.000000  2.831553  3.079500\n",
      "ATT(3.0,1,2) -0.044205  0.065790  -0.671914  0.501638 -0.173150  0.084740\n",
      "ATT(3.0,2,3)  1.105869  0.065455  16.895201  0.000000  0.977580  1.234157\n",
      "ATT(3.0,2,4)  2.057865  0.065409  31.461314  0.000000  1.929665  2.186066\n",
      "ATT(4.0,1,2)  0.005556  0.068655   0.080930  0.935498 -0.129005  0.140118\n",
      "ATT(4.0,2,3)  0.060179  0.066374   0.906653  0.364591 -0.069913  0.190270\n",
      "ATT(4.0,3,4)  0.956830  0.067444  14.187019  0.000000  0.824643  1.089018\n"
     ]
    }
   ],
   "source": [
    "dml_obj = DoubleMLDIDMulti(\n",
    "    obj_dml_data=dml_data,\n",
    "    ml_g=LinearRegression(),\n",
    "    ml_m=LogisticRegression(),\n",
    "    control_group=\"never_treated\",\n",
    ")\n",
    "\n",
    "dml_obj.fit()\n",
    "print(dml_obj)"
   ]
  },
  {
   "cell_type": "markdown",
   "metadata": {},
   "source": [
    "The summary displays estimates of the $ATT(g,t_\\text{eval})$ effects for different combinations of $(g,t_\\text{eval})$ via $\\widehat{ATT}(\\mathrm{g},t_\\text{pre},t_\\text{eval})$, where\n",
    " - $\\mathrm{g}$ specifies the group\n",
    " - $t_\\text{pre}$ specifies the corresponding pre-treatment period\n",
    " - $t_\\text{eval}$ specifies the evaluation period\n",
    "\n",
    "This corresponds to the estimates given in `att_gt` function in the [did-R-package](https://bcallaway11.github.io/did/index.html), where the standard choice is $t_\\text{pre} = \\min(\\mathrm{g}, t_\\text{eval}) - 1$ (without anticipation).\n",
    "\n",
    "Remark that this includes pre-tests effects if $\\mathrm{g} > t_{eval}$, e.g. $ATT(4,2)$."
   ]
  },
  {
   "cell_type": "markdown",
   "metadata": {},
   "source": [
    "As usual for the DoubleML-package, you can obtain joint confidence intervals via bootstrap."
   ]
  },
  {
   "cell_type": "code",
   "execution_count": 6,
   "metadata": {
    "execution": {
     "iopub.execute_input": "2025-05-15T17:15:22.688739Z",
     "iopub.status.busy": "2025-05-15T17:15:22.688489Z",
     "iopub.status.idle": "2025-05-15T17:15:23.174148Z",
     "shell.execute_reply": "2025-05-15T17:15:23.173583Z"
    }
   },
   "outputs": [
    {
     "data": {
      "text/html": [
       "<div>\n",
       "<style scoped>\n",
       "    .dataframe tbody tr th:only-of-type {\n",
       "        vertical-align: middle;\n",
       "    }\n",
       "\n",
       "    .dataframe tbody tr th {\n",
       "        vertical-align: top;\n",
       "    }\n",
       "\n",
       "    .dataframe thead th {\n",
       "        text-align: right;\n",
       "    }\n",
       "</style>\n",
       "<table border=\"1\" class=\"dataframe\">\n",
       "  <thead>\n",
       "    <tr style=\"text-align: right;\">\n",
       "      <th></th>\n",
       "      <th>2.5 %</th>\n",
       "      <th>97.5 %</th>\n",
       "    </tr>\n",
       "  </thead>\n",
       "  <tbody>\n",
       "    <tr>\n",
       "      <th>ATT(2.0,1,2)</th>\n",
       "      <td>0.745493</td>\n",
       "      <td>1.092963</td>\n",
       "    </tr>\n",
       "    <tr>\n",
       "      <th>ATT(2.0,1,3)</th>\n",
       "      <td>1.809589</td>\n",
       "      <td>2.160354</td>\n",
       "    </tr>\n",
       "    <tr>\n",
       "      <th>ATT(2.0,1,4)</th>\n",
       "      <td>2.783839</td>\n",
       "      <td>3.127214</td>\n",
       "    </tr>\n",
       "    <tr>\n",
       "      <th>ATT(3.0,1,2)</th>\n",
       "      <td>-0.222777</td>\n",
       "      <td>0.134367</td>\n",
       "    </tr>\n",
       "    <tr>\n",
       "      <th>ATT(3.0,2,3)</th>\n",
       "      <td>0.928206</td>\n",
       "      <td>1.283532</td>\n",
       "    </tr>\n",
       "    <tr>\n",
       "      <th>ATT(3.0,2,4)</th>\n",
       "      <td>1.880325</td>\n",
       "      <td>2.235406</td>\n",
       "    </tr>\n",
       "    <tr>\n",
       "      <th>ATT(4.0,1,2)</th>\n",
       "      <td>-0.180794</td>\n",
       "      <td>0.191906</td>\n",
       "    </tr>\n",
       "    <tr>\n",
       "      <th>ATT(4.0,2,3)</th>\n",
       "      <td>-0.119981</td>\n",
       "      <td>0.240338</td>\n",
       "    </tr>\n",
       "    <tr>\n",
       "      <th>ATT(4.0,3,4)</th>\n",
       "      <td>0.773768</td>\n",
       "      <td>1.139893</td>\n",
       "    </tr>\n",
       "  </tbody>\n",
       "</table>\n",
       "</div>"
      ],
      "text/plain": [
       "                 2.5 %    97.5 %\n",
       "ATT(2.0,1,2)  0.745493  1.092963\n",
       "ATT(2.0,1,3)  1.809589  2.160354\n",
       "ATT(2.0,1,4)  2.783839  3.127214\n",
       "ATT(3.0,1,2) -0.222777  0.134367\n",
       "ATT(3.0,2,3)  0.928206  1.283532\n",
       "ATT(3.0,2,4)  1.880325  2.235406\n",
       "ATT(4.0,1,2) -0.180794  0.191906\n",
       "ATT(4.0,2,3) -0.119981  0.240338\n",
       "ATT(4.0,3,4)  0.773768  1.139893"
      ]
     },
     "execution_count": 6,
     "metadata": {},
     "output_type": "execute_result"
    }
   ],
   "source": [
    "level = 0.95\n",
    "\n",
    "ci = dml_obj.confint(level=level)\n",
    "dml_obj.bootstrap(n_rep_boot=5000)\n",
    "ci_joint = dml_obj.confint(level=level, joint=True)\n",
    "ci_joint"
   ]
  },
  {
   "cell_type": "markdown",
   "metadata": {},
   "source": [
    "A visualization of the effects can be obtained via the `plot_effects()` method.\n",
    "\n",
    "Remark that the plot used joint confidence intervals per default. "
   ]
  },
  {
   "cell_type": "code",
   "execution_count": 7,
   "metadata": {
    "execution": {
     "iopub.execute_input": "2025-05-15T17:15:23.176814Z",
     "iopub.status.busy": "2025-05-15T17:15:23.176575Z",
     "iopub.status.idle": "2025-05-15T17:15:23.748714Z",
     "shell.execute_reply": "2025-05-15T17:15:23.748140Z"
    },
    "tags": [
     "nbsphinx-thumbnail"
    ]
   },
   "outputs": [
    {
     "name": "stderr",
     "output_type": "stream",
     "text": [
      "/opt/hostedtoolcache/Python/3.12.10/x64/lib/python3.12/site-packages/matplotlib/cbook.py:1719: FutureWarning: Calling float on a single element Series is deprecated and will raise a TypeError in the future. Use float(ser.iloc[0]) instead\n",
      "  return math.isfinite(val)\n",
      "/opt/hostedtoolcache/Python/3.12.10/x64/lib/python3.12/site-packages/matplotlib/cbook.py:1719: FutureWarning: Calling float on a single element Series is deprecated and will raise a TypeError in the future. Use float(ser.iloc[0]) instead\n",
      "  return math.isfinite(val)\n"
     ]
    },
    {
     "data": {
      "image/png": "[encoded data removed]",
      "text/plain": [
       "<Figure size 1200x800 with 4 Axes>"
      ]
     },
     "metadata": {},
     "output_type": "display_data"
    }
   ],
   "source": [
    "fig, ax = dml_obj.plot_effects()"
   ]
  },
  {
   "cell_type": "markdown",
   "metadata": {},
   "source": [
    "## Effect Aggregation\n",
    "\n",
    "As the [did-R-package](https://bcallaway11.github.io/did/index.html), the $ATT$'s can be aggregated to summarize multiple effects.\n",
    "For details on different aggregations and details on their interpretations see [Callaway and Sant'Anna(2021)](https://doi.org/10.1016/j.jeconom.2020.12.001).\n",
    "\n",
    "The aggregations are implemented via the `aggregate()` method."
   ]
  },
  {
   "cell_type": "markdown",
   "metadata": {},
   "source": [
    "### Group Aggregation\n",
    "\n",
    "To obtain group-specific effects it is possible to aggregate several $\\widehat{ATT}(\\mathrm{g},t_\\text{pre},t_\\text{eval})$ values based on the group $\\mathrm{g}$ by setting the `aggregation=\"group\"` argument."
   ]
  },
  {
   "cell_type": "code",
   "execution_count": 8,
   "metadata": {
    "execution": {
     "iopub.execute_input": "2025-05-15T17:15:23.750754Z",
     "iopub.status.busy": "2025-05-15T17:15:23.750371Z",
     "iopub.status.idle": "2025-05-15T17:15:23.969547Z",
     "shell.execute_reply": "2025-05-15T17:15:23.969010Z"
    }
   },
   "outputs": [
    {
     "name": "stdout",
     "output_type": "stream",
     "text": [
      "================== DoubleMLDIDAggregation Object ==================\n",
      " Group Aggregation \n",
      "\n",
      "------------------ Overall Aggregated Effects ------------------\n",
      "   coef  std err         t  P>|t|    2.5 %  97.5 %\n",
      "1.48863  0.03421 43.515106    0.0 1.421581 1.55568\n",
      "------------------ Aggregated Effects         ------------------\n",
      "         coef   std err          t  P>|t|     2.5 %    97.5 %\n",
      "2.0  1.953242  0.052212  37.409592    0.0  1.850908  2.055576\n",
      "3.0  1.581867  0.056294  28.099965    0.0  1.471532  1.692202\n",
      "4.0  0.956830  0.067444  14.187019    0.0  0.824643  1.089018\n",
      "------------------ Additional Information     ------------------\n",
      "Score function: observational\n",
      "Control group: never_treated\n",
      "Anticipation periods: 0\n",
      "\n"
     ]
    },
    {
     "name": "stderr",
     "output_type": "stream",
     "text": [
      "/home/runner/work/doubleml-docs/doubleml-docs/doubleml-for-py/doubleml/did/did_aggregation.py:368: UserWarning: Joint confidence intervals require bootstrapping which hasn't been performed yet. Automatically applying '.aggregated_frameworks.bootstrap(method=\"normal\", n_rep_boot=500)' with default values. For different bootstrap settings, call bootstrap() explicitly before plotting.\n",
      "  warnings.warn(\n"
     ]
    },
    {
     "data": {
      "image/png": "[encoded data removed]",
      "text/plain": [
       "<Figure size 1200x600 with 1 Axes>"
      ]
     },
     "metadata": {},
     "output_type": "display_data"
    }
   ],
   "source": [
    "aggregated = dml_obj.aggregate(aggregation=\"group\")\n",
    "print(aggregated)\n",
    "_ = aggregated.plot_effects()"
   ]
  },
  {
   "cell_type": "markdown",
   "metadata": {},
   "source": [
    "The output is a `DoubleMLDIDAggregation` object which includes an overall aggregation summary based on group size."
   ]
  },
  {
   "cell_type": "markdown",
   "metadata": {},
   "source": [
    "### Time Aggregation\n",
    "\n",
    "This aggregates $\\widehat{ATT}(\\mathrm{g},t_\\text{pre},t_\\text{eval})$, based on $t_\\text{eval}$, but weighted with respect to group size. Corresponds to *Calendar Time Effects* from the [did-R-package](https://bcallaway11.github.io/did/index.html).\n",
    "\n",
    "For calendar time effects set `aggregation=\"time\"`."
   ]
  },
  {
   "cell_type": "code",
   "execution_count": 9,
   "metadata": {
    "execution": {
     "iopub.execute_input": "2025-05-15T17:15:23.971529Z",
     "iopub.status.busy": "2025-05-15T17:15:23.971333Z",
     "iopub.status.idle": "2025-05-15T17:15:24.188458Z",
     "shell.execute_reply": "2025-05-15T17:15:24.187939Z"
    }
   },
   "outputs": [
    {
     "name": "stdout",
     "output_type": "stream",
     "text": [
      "================== DoubleMLDIDAggregation Object ==================\n",
      " Time Aggregation \n",
      "\n",
      "------------------ Overall Aggregated Effects ------------------\n",
      "    coef  std err         t  P>|t|    2.5 %   97.5 %\n",
      "1.479887 0.035083 42.182528    0.0 1.411125 1.548648\n",
      "------------------ Aggregated Effects         ------------------\n",
      "       coef   std err          t  P>|t|     2.5 %    97.5 %\n",
      "2  0.919228  0.064007  14.361274    0.0  0.793776  1.044680\n",
      "3  1.546768  0.051355  30.119028    0.0  1.446114  1.647423\n",
      "4  1.973664  0.046579  42.372487    0.0  1.882371  2.064957\n",
      "------------------ Additional Information     ------------------\n",
      "Score function: observational\n",
      "Control group: never_treated\n",
      "Anticipation periods: 0\n",
      "\n"
     ]
    },
    {
     "name": "stderr",
     "output_type": "stream",
     "text": [
      "/home/runner/work/doubleml-docs/doubleml-docs/doubleml-for-py/doubleml/did/did_aggregation.py:368: UserWarning: Joint confidence intervals require bootstrapping which hasn't been performed yet. Automatically applying '.aggregated_frameworks.bootstrap(method=\"normal\", n_rep_boot=500)' with default values. For different bootstrap settings, call bootstrap() explicitly before plotting.\n",
      "  warnings.warn(\n"
     ]
    },
    {
     "data": {
      "image/png": "[encoded data removed]",
      "text/plain": [
       "<Figure size 1200x600 with 1 Axes>"
      ]
     },
     "metadata": {},
     "output_type": "display_data"
    }
   ],
   "source": [
    "aggregated_time = dml_obj.aggregate(\"time\")\n",
    "print(aggregated_time)\n",
    "fig, ax = aggregated_time.plot_effects()"
   ]
  },
  {
   "cell_type": "markdown",
   "metadata": {},
   "source": [
    "## Event Study Aggregation\n",
    "\n",
    "Finally, `aggregation=\"eventstudy\"` aggregates $\\widehat{ATT}(\\mathrm{g},t_\\text{pre},t_\\text{eval})$ based on exposure time $e = t_\\text{eval} - \\mathrm{g}$ (respecting group size)."
   ]
  },
  {
   "cell_type": "code",
   "execution_count": 10,
   "metadata": {
    "execution": {
     "iopub.execute_input": "2025-05-15T17:15:24.190332Z",
     "iopub.status.busy": "2025-05-15T17:15:24.190138Z",
     "iopub.status.idle": "2025-05-15T17:15:24.436016Z",
     "shell.execute_reply": "2025-05-15T17:15:24.435490Z"
    }
   },
   "outputs": [
    {
     "name": "stdout",
     "output_type": "stream",
     "text": [
      "================== DoubleMLDIDAggregation Object ==================\n",
      " Event Study Aggregation \n",
      "\n",
      "------------------ Overall Aggregated Effects ------------------\n",
      " coef  std err         t  P>|t|    2.5 %  97.5 %\n",
      " 1.99 0.038725 51.387374    0.0 1.914099  2.0659\n",
      "------------------ Aggregated Effects         ------------------\n",
      "          coef   std err          t     P>|t|     2.5 %    97.5 %\n",
      "-2.0  0.005556  0.068655   0.080930  0.935498 -0.129005  0.140118\n",
      "-1.0  0.009368  0.040449   0.231598  0.816850 -0.069910  0.088646\n",
      "0.0   0.993166  0.030720  32.329964  0.000000  0.932956  1.053375\n",
      "1.0   2.021307  0.045690  44.239571  0.000000  1.931756  2.110857\n",
      "2.0   2.955526  0.063253  46.725427  0.000000  2.831553  3.079500\n",
      "------------------ Additional Information     ------------------\n",
      "Score function: observational\n",
      "Control group: never_treated\n",
      "Anticipation periods: 0\n",
      "\n"
     ]
    },
    {
     "name": "stderr",
     "output_type": "stream",
     "text": [
      "/home/runner/work/doubleml-docs/doubleml-docs/doubleml-for-py/doubleml/did/did_aggregation.py:368: UserWarning: Joint confidence intervals require bootstrapping which hasn't been performed yet. Automatically applying '.aggregated_frameworks.bootstrap(method=\"normal\", n_rep_boot=500)' with default values. For different bootstrap settings, call bootstrap() explicitly before plotting.\n",
      "  warnings.warn(\n"
     ]
    },
    {
     "data": {
      "image/png": "[encoded data removed]",
      "text/plain": [
       "<Figure size 1200x600 with 1 Axes>"
      ]
     },
     "metadata": {},
     "output_type": "display_data"
    }
   ],
   "source": [
    "aggregated_eventstudy = dml_obj.aggregate(\"eventstudy\")\n",
    "print(aggregated_eventstudy)\n",
    "fig, ax = aggregated_eventstudy.plot_effects()"
   ]
  },
  {
   "cell_type": "markdown",
   "metadata": {},
   "source": [
    "### Aggregation Details\n",
    "\n",
    "The `DoubleMLDIDAggregation` objects include several `DoubleMLFrameworks` which support methods like `bootstrap()` or `confint()`.\n",
    "Further, the weights can be accessed via the properties\n",
    "\n",
    " - ``overall_aggregation_weights``: weights for the overall aggregation\n",
    " - ``aggregation_weights``: weights for the aggregation\n",
    "\n",
    "To clarify, e.g. for the eventstudy aggregation"
   ]
  },
  {
   "cell_type": "code",
   "execution_count": 11,
   "metadata": {
    "execution": {
     "iopub.execute_input": "2025-05-15T17:15:24.438026Z",
     "iopub.status.busy": "2025-05-15T17:15:24.437672Z",
     "iopub.status.idle": "2025-05-15T17:15:24.447854Z",
     "shell.execute_reply": "2025-05-15T17:15:24.447252Z"
    }
   },
   "outputs": [
    {
     "name": "stdout",
     "output_type": "stream",
     "text": [
      "================== DoubleMLDIDAggregation Object ==================\n",
      " Event Study Aggregation \n",
      "\n",
      "------------------ Overall Aggregated Effects ------------------\n",
      " coef  std err         t  P>|t|    2.5 %  97.5 %\n",
      " 1.99 0.038725 51.387374    0.0 1.914099  2.0659\n",
      "------------------ Aggregated Effects         ------------------\n",
      "          coef   std err          t     P>|t|     2.5 %    97.5 %\n",
      "-2.0  0.005556  0.068655   0.080930  0.935498 -0.129005  0.140118\n",
      "-1.0  0.009368  0.040449   0.231598  0.816850 -0.069910  0.088646\n",
      "0.0   0.993166  0.030720  32.329964  0.000000  0.932956  1.053375\n",
      "1.0   2.021307  0.045690  44.239571  0.000000  1.931756  2.110857\n",
      "2.0   2.955526  0.063253  46.725427  0.000000  2.831553  3.079500\n",
      "------------------ Additional Information     ------------------\n",
      "Score function: observational\n",
      "Control group: never_treated\n",
      "Anticipation periods: 0\n",
      "\n"
     ]
    }
   ],
   "source": [
    "print(aggregated_eventstudy)"
   ]
  },
  {
   "cell_type": "markdown",
   "metadata": {},
   "source": [
    "Here, the overall effect aggregation aggregates each effect with positive exposure"
   ]
  },
  {
   "cell_type": "code",
   "execution_count": 12,
   "metadata": {
    "execution": {
     "iopub.execute_input": "2025-05-15T17:15:24.449780Z",
     "iopub.status.busy": "2025-05-15T17:15:24.449421Z",
     "iopub.status.idle": "2025-05-15T17:15:24.452976Z",
     "shell.execute_reply": "2025-05-15T17:15:24.452378Z"
    }
   },
   "outputs": [
    {
     "name": "stdout",
     "output_type": "stream",
     "text": [
      "[0.         0.         0.33333333 0.33333333 0.33333333]\n"
     ]
    }
   ],
   "source": [
    "print(aggregated_eventstudy.overall_aggregation_weights)"
   ]
  },
  {
   "cell_type": "markdown",
   "metadata": {},
   "source": [
    "If one would like to consider how the aggregated effect with $e=0$ is computed, one would have to look at the third set of weights within the ``aggregation_weights`` property"
   ]
  },
  {
   "cell_type": "code",
   "execution_count": 13,
   "metadata": {
    "execution": {
     "iopub.execute_input": "2025-05-15T17:15:24.454843Z",
     "iopub.status.busy": "2025-05-15T17:15:24.454479Z",
     "iopub.status.idle": "2025-05-15T17:15:24.458755Z",
     "shell.execute_reply": "2025-05-15T17:15:24.458256Z"
    }
   },
   "outputs": [
    {
     "data": {
      "text/plain": [
       "array([0.32875335, 0.        , 0.        , 0.        , 0.32674263,\n",
       "       0.        , 0.        , 0.        , 0.34450402])"
      ]
     },
     "execution_count": 13,
     "metadata": {},
     "output_type": "execute_result"
    }
   ],
   "source": [
    "aggregated_eventstudy.aggregation_weights[2]"
   ]
  },
  {
   "cell_type": "markdown",
   "metadata": {},
   "source": [
    "Taking a look at the original `dml_obj`, one can see that this combines the following estimates:\n",
    "\n",
    " - $\\widehat{ATT}(2,1,2)$\n",
    " - $\\widehat{ATT}(3,2,3)$\n",
    " - $\\widehat{ATT}(4,3,4)$"
   ]
  },
  {
   "cell_type": "code",
   "execution_count": 14,
   "metadata": {
    "execution": {
     "iopub.execute_input": "2025-05-15T17:15:24.460600Z",
     "iopub.status.busy": "2025-05-15T17:15:24.460264Z",
     "iopub.status.idle": "2025-05-15T17:15:24.467565Z",
     "shell.execute_reply": "2025-05-15T17:15:24.466982Z"
    }
   },
   "outputs": [
    {
     "name": "stdout",
     "output_type": "stream",
     "text": [
      "                  coef   std err          t     P>|t|     2.5 %    97.5 %\n",
      "ATT(2.0,1,2)  0.919228  0.064007  14.361274  0.000000  0.793776  1.044680\n",
      "ATT(2.0,1,3)  1.984971  0.064615  30.720153  0.000000  1.858329  2.111614\n",
      "ATT(2.0,1,4)  2.955526  0.063253  46.725427  0.000000  2.831553  3.079500\n",
      "ATT(3.0,1,2) -0.044205  0.065790  -0.671914  0.501638 -0.173150  0.084740\n",
      "ATT(3.0,2,3)  1.105869  0.065455  16.895201  0.000000  0.977580  1.234157\n",
      "ATT(3.0,2,4)  2.057865  0.065409  31.461314  0.000000  1.929665  2.186066\n",
      "ATT(4.0,1,2)  0.005556  0.068655   0.080930  0.935498 -0.129005  0.140118\n",
      "ATT(4.0,2,3)  0.060179  0.066374   0.906653  0.364591 -0.069913  0.190270\n",
      "ATT(4.0,3,4)  0.956830  0.067444  14.187019  0.000000  0.824643  1.089018\n"
     ]
    }
   ],
   "source": [
    "print(dml_obj.summary)"
   ]
  }
 ],
 "metadata": {
  "kernelspec": {
   "display_name": ".venv",
   "language": "python",
   "name": "python3"
  },
  "language_info": {
   "codemirror_mode": {
    "name": "ipython",
    "version": 3
   },
   "file_extension": ".py",
   "mimetype": "text/x-python",
   "name": "python",
   "nbconvert_exporter": "python",
   "pygments_lexer": "ipython3",
   "version": "3.12.10"
  }
 },
 "nbformat": 4,
 "nbformat_minor": 2
}
