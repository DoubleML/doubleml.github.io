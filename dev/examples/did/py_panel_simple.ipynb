{
 "cells": [
  {
   "cell_type": "markdown",
   "metadata": {},
   "source": [
    "# Python: Panel Data Introduction\n",
    "\n",
    "In this example, we replicate the results from the guide [Getting Started with the did Package](https://bcallaway11.github.io/did/articles/did-basics.html) of the [did-R-package](https://bcallaway11.github.io/did/index.html).\n",
    "\n",
    "As the [did-R-package](https://bcallaway11.github.io/did/index.html) the implementation of [DoubleML](https://docs.doubleml.org/stable/index.html) is based on [Callaway and Sant'Anna(2021)](https://doi.org/10.1016/j.jeconom.2020.12.001).\n",
    "\n",
    "The notebook requires the following packages:"
   ]
  },
  {
   "cell_type": "code",
   "execution_count": 1,
   "metadata": {
    "execution": {
     "iopub.execute_input": "2025-06-17T15:45:06.459038Z",
     "iopub.status.busy": "2025-06-17T15:45:06.458856Z",
     "iopub.status.idle": "2025-06-17T15:45:07.982633Z",
     "shell.execute_reply": "2025-06-17T15:45:07.981826Z"
    }
   },
   "outputs": [],
   "source": [
    "import pandas as pd\n",
    "import numpy as np\n",
    "\n",
    "from sklearn.linear_model import LinearRegression, LogisticRegression\n",
    "\n",
    "from doubleml.data import DoubleMLPanelData\n",
    "from doubleml.did import DoubleMLDIDMulti"
   ]
  },
  {
   "cell_type": "markdown",
   "metadata": {},
   "source": [
    "## Data\n",
    "\n",
    "The data we will use is simulated and part of the [CSDID-Python-Package](https://d2cml-ai.github.io/csdid/index.html).\n",
    "\n",
    "A description of the data generating process can be found at the [CSDID-documentation](https://d2cml-ai.github.io/csdid/examples/csdid_basic.html#Examples-with-simulated-data).\n"
   ]
  },
  {
   "cell_type": "code",
   "execution_count": 2,
   "metadata": {
    "execution": {
     "iopub.execute_input": "2025-06-17T15:45:07.985206Z",
     "iopub.status.busy": "2025-06-17T15:45:07.984866Z",
     "iopub.status.idle": "2025-06-17T15:45:08.364592Z",
     "shell.execute_reply": "2025-06-17T15:45:08.363986Z"
    }
   },
   "outputs": [
    {
     "data": {
      "text/html": [
       "<div>\n",
       "<style scoped>\n",
       "    .dataframe tbody tr th:only-of-type {\n",
       "        vertical-align: middle;\n",
       "    }\n",
       "\n",
       "    .dataframe tbody tr th {\n",
       "        vertical-align: top;\n",
       "    }\n",
       "\n",
       "    .dataframe thead th {\n",
       "        text-align: right;\n",
       "    }\n",
       "</style>\n",
       "<table border=\"1\" class=\"dataframe\">\n",
       "  <thead>\n",
       "    <tr style=\"text-align: right;\">\n",
       "      <th></th>\n",
       "      <th>G</th>\n",
       "      <th>X</th>\n",
       "      <th>id</th>\n",
       "      <th>cluster</th>\n",
       "      <th>period</th>\n",
       "      <th>Y</th>\n",
       "      <th>treat</th>\n",
       "    </tr>\n",
       "  </thead>\n",
       "  <tbody>\n",
       "    <tr>\n",
       "      <th>0</th>\n",
       "      <td>3</td>\n",
       "      <td>-0.876233</td>\n",
       "      <td>1</td>\n",
       "      <td>5</td>\n",
       "      <td>1</td>\n",
       "      <td>5.562556</td>\n",
       "      <td>1</td>\n",
       "    </tr>\n",
       "    <tr>\n",
       "      <th>1</th>\n",
       "      <td>3</td>\n",
       "      <td>-0.876233</td>\n",
       "      <td>1</td>\n",
       "      <td>5</td>\n",
       "      <td>2</td>\n",
       "      <td>4.349213</td>\n",
       "      <td>1</td>\n",
       "    </tr>\n",
       "    <tr>\n",
       "      <th>2</th>\n",
       "      <td>3</td>\n",
       "      <td>-0.876233</td>\n",
       "      <td>1</td>\n",
       "      <td>5</td>\n",
       "      <td>3</td>\n",
       "      <td>7.134037</td>\n",
       "      <td>1</td>\n",
       "    </tr>\n",
       "    <tr>\n",
       "      <th>3</th>\n",
       "      <td>3</td>\n",
       "      <td>-0.876233</td>\n",
       "      <td>1</td>\n",
       "      <td>5</td>\n",
       "      <td>4</td>\n",
       "      <td>6.243056</td>\n",
       "      <td>1</td>\n",
       "    </tr>\n",
       "    <tr>\n",
       "      <th>4</th>\n",
       "      <td>2</td>\n",
       "      <td>-0.873848</td>\n",
       "      <td>2</td>\n",
       "      <td>36</td>\n",
       "      <td>1</td>\n",
       "      <td>-3.659387</td>\n",
       "      <td>1</td>\n",
       "    </tr>\n",
       "  </tbody>\n",
       "</table>\n",
       "</div>"
      ],
      "text/plain": [
       "   G         X  id  cluster  period         Y  treat\n",
       "0  3 -0.876233   1        5       1  5.562556      1\n",
       "1  3 -0.876233   1        5       2  4.349213      1\n",
       "2  3 -0.876233   1        5       3  7.134037      1\n",
       "3  3 -0.876233   1        5       4  6.243056      1\n",
       "4  2 -0.873848   2       36       1 -3.659387      1"
      ]
     },
     "execution_count": 2,
     "metadata": {},
     "output_type": "execute_result"
    }
   ],
   "source": [
    "dta = pd.read_csv(\"https://raw.githubusercontent.com/d2cml-ai/csdid/main/data/sim_data.csv\")\n",
    "dta.head()"
   ]
  },
  {
   "cell_type": "markdown",
   "metadata": {},
   "source": [
    "To work with the [DoubleML-package](https://docs.doubleml.org/stable/index.html), we initialize a ``DoubleMLPanelData`` object.\n",
    "\n",
    "Therefore, we set the *never-treated* units in group column `G` to `np.inf` (we have to change the datatype to `float`)."
   ]
  },
  {
   "cell_type": "code",
   "execution_count": 3,
   "metadata": {
    "execution": {
     "iopub.execute_input": "2025-06-17T15:45:08.366676Z",
     "iopub.status.busy": "2025-06-17T15:45:08.366310Z",
     "iopub.status.idle": "2025-06-17T15:45:08.375978Z",
     "shell.execute_reply": "2025-06-17T15:45:08.375340Z"
    }
   },
   "outputs": [
    {
     "data": {
      "text/html": [
       "<div>\n",
       "<style scoped>\n",
       "    .dataframe tbody tr th:only-of-type {\n",
       "        vertical-align: middle;\n",
       "    }\n",
       "\n",
       "    .dataframe tbody tr th {\n",
       "        vertical-align: top;\n",
       "    }\n",
       "\n",
       "    .dataframe thead th {\n",
       "        text-align: right;\n",
       "    }\n",
       "</style>\n",
       "<table border=\"1\" class=\"dataframe\">\n",
       "  <thead>\n",
       "    <tr style=\"text-align: right;\">\n",
       "      <th></th>\n",
       "      <th>G</th>\n",
       "      <th>X</th>\n",
       "      <th>id</th>\n",
       "      <th>cluster</th>\n",
       "      <th>period</th>\n",
       "      <th>Y</th>\n",
       "      <th>treat</th>\n",
       "    </tr>\n",
       "  </thead>\n",
       "  <tbody>\n",
       "    <tr>\n",
       "      <th>0</th>\n",
       "      <td>3.0</td>\n",
       "      <td>-0.876233</td>\n",
       "      <td>1</td>\n",
       "      <td>5</td>\n",
       "      <td>1</td>\n",
       "      <td>5.562556</td>\n",
       "      <td>1</td>\n",
       "    </tr>\n",
       "    <tr>\n",
       "      <th>1</th>\n",
       "      <td>3.0</td>\n",
       "      <td>-0.876233</td>\n",
       "      <td>1</td>\n",
       "      <td>5</td>\n",
       "      <td>2</td>\n",
       "      <td>4.349213</td>\n",
       "      <td>1</td>\n",
       "    </tr>\n",
       "    <tr>\n",
       "      <th>2</th>\n",
       "      <td>3.0</td>\n",
       "      <td>-0.876233</td>\n",
       "      <td>1</td>\n",
       "      <td>5</td>\n",
       "      <td>3</td>\n",
       "      <td>7.134037</td>\n",
       "      <td>1</td>\n",
       "    </tr>\n",
       "    <tr>\n",
       "      <th>3</th>\n",
       "      <td>3.0</td>\n",
       "      <td>-0.876233</td>\n",
       "      <td>1</td>\n",
       "      <td>5</td>\n",
       "      <td>4</td>\n",
       "      <td>6.243056</td>\n",
       "      <td>1</td>\n",
       "    </tr>\n",
       "    <tr>\n",
       "      <th>4</th>\n",
       "      <td>2.0</td>\n",
       "      <td>-0.873848</td>\n",
       "      <td>2</td>\n",
       "      <td>36</td>\n",
       "      <td>1</td>\n",
       "      <td>-3.659387</td>\n",
       "      <td>1</td>\n",
       "    </tr>\n",
       "  </tbody>\n",
       "</table>\n",
       "</div>"
      ],
      "text/plain": [
       "     G         X  id  cluster  period         Y  treat\n",
       "0  3.0 -0.876233   1        5       1  5.562556      1\n",
       "1  3.0 -0.876233   1        5       2  4.349213      1\n",
       "2  3.0 -0.876233   1        5       3  7.134037      1\n",
       "3  3.0 -0.876233   1        5       4  6.243056      1\n",
       "4  2.0 -0.873848   2       36       1 -3.659387      1"
      ]
     },
     "execution_count": 3,
     "metadata": {},
     "output_type": "execute_result"
    }
   ],
   "source": [
    "# set dtype for G to float\n",
    "dta[\"G\"] = dta[\"G\"].astype(float)\n",
    "dta.loc[dta[\"G\"] == 0, \"G\"] = np.inf\n",
    "dta.head()"
   ]
  },
  {
   "cell_type": "markdown",
   "metadata": {},
   "source": [
    "Now, we can initialize the ``DoubleMLPanelData`` object, specifying\n",
    "\n",
    " - `y_col` : the outcome\n",
    " - `d_cols`: the group variable indicating the first treated period for each unit\n",
    " - `id_col`: the unique identification column for each unit\n",
    " - `t_col` : the time column\n",
    " - `x_cols`: the additional pre-treatment controls\n"
   ]
  },
  {
   "cell_type": "code",
   "execution_count": 4,
   "metadata": {
    "execution": {
     "iopub.execute_input": "2025-06-17T15:45:08.378034Z",
     "iopub.status.busy": "2025-06-17T15:45:08.377660Z",
     "iopub.status.idle": "2025-06-17T15:45:08.388139Z",
     "shell.execute_reply": "2025-06-17T15:45:08.387482Z"
    }
   },
   "outputs": [
    {
     "name": "stdout",
     "output_type": "stream",
     "text": [
      "================== DoubleMLPanelData Object ==================\n",
      "\n",
      "------------------ Data summary      ------------------\n",
      "Outcome variable: Y\n",
      "Treatment variable(s): ['G']\n",
      "Covariates: ['X']\n",
      "Instrument variable(s): None\n",
      "Time variable: period\n",
      "Id variable: id\n",
      "No. Observations: 3979\n",
      "\n",
      "------------------ DataFrame info    ------------------\n",
      "<class 'pandas.core.frame.DataFrame'>\n",
      "RangeIndex: 15916 entries, 0 to 15915\n",
      "Columns: 7 entries, G to treat\n",
      "dtypes: float64(3), int64(4)\n",
      "memory usage: 870.5 KB\n",
      "\n"
     ]
    }
   ],
   "source": [
    "dml_data = DoubleMLPanelData(\n",
    "    data=dta,\n",
    "    y_col=\"Y\",\n",
    "    d_cols=\"G\",\n",
    "    id_col=\"id\",\n",
    "    t_col=\"period\",\n",
    "    x_cols=[\"X\"]\n",
    ")\n",
    "print(dml_data)"
   ]
  },
  {
   "cell_type": "markdown",
   "metadata": {},
   "source": [
    "## ATT Estimation\n",
    "\n",
    "The [DoubleML-package](https://docs.doubleml.org/stable/index.html) implements estimation of group-time average treatment effect via the `DoubleMLDIDMulti` class (see [model documentation](https://docs.doubleml.org/stable/guide/models.html#difference-in-differences-models-did)).\n",
    "\n",
    "The class basically behaves like other `DoubleML` classes and requires the specification of two learners (for more details on the regression elements, see [score documentation](https://docs.doubleml.org/stable/guide/scores.html#difference-in-differences-models)). The model will be estimated using the `fit()` method."
   ]
  },
  {
   "cell_type": "code",
   "execution_count": 5,
   "metadata": {
    "execution": {
     "iopub.execute_input": "2025-06-17T15:45:08.390046Z",
     "iopub.status.busy": "2025-06-17T15:45:08.389853Z",
     "iopub.status.idle": "2025-06-17T15:45:08.681397Z",
     "shell.execute_reply": "2025-06-17T15:45:08.680271Z"
    }
   },
   "outputs": [
    {
     "name": "stdout",
     "output_type": "stream",
     "text": [
      "================== DoubleMLDIDMulti Object ==================\n",
      "\n",
      "------------------ Data summary      ------------------\n",
      "Outcome variable: Y\n",
      "Treatment variable(s): ['G']\n",
      "Covariates: ['X']\n",
      "Instrument variable(s): None\n",
      "Time variable: period\n",
      "Id variable: id\n",
      "No. Observations: 3979\n",
      "\n",
      "------------------ Score & algorithm ------------------\n",
      "Score function: observational\n",
      "Control group: never_treated\n",
      "Anticipation periods: 0\n",
      "\n",
      "------------------ Machine learner   ------------------\n",
      "Learner ml_g: LinearRegression()\n",
      "Learner ml_m: LogisticRegression()\n",
      "Out-of-sample Performance:\n",
      "Regression:\n",
      "Learner ml_g0 RMSE: [[1.42678857 1.41105876 1.39964177 1.42370668 1.40545308 1.42080852\n",
      "  1.42614717 1.40588911 1.42655345]]\n",
      "Learner ml_g1 RMSE: [[1.40419923 1.44314571 1.39733801 1.41561734 1.42613025 1.38443674\n",
      "  1.45822063 1.41596625 1.41050544]]\n",
      "Classification:\n",
      "Learner ml_m Log Loss: [[0.69164712 0.69111563 0.69114127 0.67964762 0.67971718 0.67916456\n",
      "  0.66246105 0.66214172 0.66226846]]\n",
      "\n",
      "------------------ Resampling        ------------------\n",
      "No. folds: 5\n",
      "No. repeated sample splits: 1\n",
      "\n",
      "------------------ Fit summary       ------------------\n",
      "                  coef   std err          t     P>|t|     2.5 %    97.5 %\n",
      "ATT(2.0,1,2)  0.929571  0.064140  14.492851  0.000000  0.803859  1.055283\n",
      "ATT(2.0,1,3)  1.987361  0.064664  30.733516  0.000000  1.860622  2.114101\n",
      "ATT(2.0,1,4)  2.960873  0.063318  46.761823  0.000000  2.836772  3.084975\n",
      "ATT(3.0,1,2) -0.040986  0.065825  -0.622652  0.533513 -0.170002  0.088029\n",
      "ATT(3.0,2,3)  1.107537  0.065484  16.913042  0.000000  0.979190  1.235884\n",
      "ATT(3.0,2,4)  2.059419  0.065459  31.461228  0.000000  1.931122  2.187717\n",
      "ATT(4.0,1,2)  0.004583  0.068378   0.067031  0.946557 -0.129436  0.138603\n",
      "ATT(4.0,2,3)  0.064018  0.066526   0.962292  0.335903 -0.066371  0.194407\n",
      "ATT(4.0,3,4)  0.958275  0.067627  14.169957  0.000000  0.825728  1.090822\n"
     ]
    }
   ],
   "source": [
    "dml_obj = DoubleMLDIDMulti(\n",
    "    obj_dml_data=dml_data,\n",
    "    ml_g=LinearRegression(),\n",
    "    ml_m=LogisticRegression(),\n",
    "    control_group=\"never_treated\",\n",
    ")\n",
    "\n",
    "dml_obj.fit()\n",
    "print(dml_obj)"
   ]
  },
  {
   "cell_type": "markdown",
   "metadata": {},
   "source": [
    "The summary displays estimates of the $ATT(g,t_\\text{eval})$ effects for different combinations of $(g,t_\\text{eval})$ via $\\widehat{ATT}(\\mathrm{g},t_\\text{pre},t_\\text{eval})$, where\n",
    " - $\\mathrm{g}$ specifies the group\n",
    " - $t_\\text{pre}$ specifies the corresponding pre-treatment period\n",
    " - $t_\\text{eval}$ specifies the evaluation period\n",
    "\n",
    "This corresponds to the estimates given in `att_gt` function in the [did-R-package](https://bcallaway11.github.io/did/index.html), where the standard choice is $t_\\text{pre} = \\min(\\mathrm{g}, t_\\text{eval}) - 1$ (without anticipation).\n",
    "\n",
    "Remark that this includes pre-tests effects if $\\mathrm{g} > t_{eval}$, e.g. $ATT(4,2)$."
   ]
  },
  {
   "cell_type": "markdown",
   "metadata": {},
   "source": [
    "As usual for the DoubleML-package, you can obtain joint confidence intervals via bootstrap."
   ]
  },
  {
   "cell_type": "code",
   "execution_count": 6,
   "metadata": {
    "execution": {
     "iopub.execute_input": "2025-06-17T15:45:08.684126Z",
     "iopub.status.busy": "2025-06-17T15:45:08.683904Z",
     "iopub.status.idle": "2025-06-17T15:45:09.181339Z",
     "shell.execute_reply": "2025-06-17T15:45:09.180748Z"
    }
   },
   "outputs": [
    {
     "data": {
      "text/html": [
       "<div>\n",
       "<style scoped>\n",
       "    .dataframe tbody tr th:only-of-type {\n",
       "        vertical-align: middle;\n",
       "    }\n",
       "\n",
       "    .dataframe tbody tr th {\n",
       "        vertical-align: top;\n",
       "    }\n",
       "\n",
       "    .dataframe thead th {\n",
       "        text-align: right;\n",
       "    }\n",
       "</style>\n",
       "<table border=\"1\" class=\"dataframe\">\n",
       "  <thead>\n",
       "    <tr style=\"text-align: right;\">\n",
       "      <th></th>\n",
       "      <th>2.5 %</th>\n",
       "      <th>97.5 %</th>\n",
       "    </tr>\n",
       "  </thead>\n",
       "  <tbody>\n",
       "    <tr>\n",
       "      <th>ATT(2.0,1,2)</th>\n",
       "      <td>0.755117</td>\n",
       "      <td>1.104025</td>\n",
       "    </tr>\n",
       "    <tr>\n",
       "      <th>ATT(2.0,1,3)</th>\n",
       "      <td>1.811481</td>\n",
       "      <td>2.163242</td>\n",
       "    </tr>\n",
       "    <tr>\n",
       "      <th>ATT(2.0,1,4)</th>\n",
       "      <td>2.788654</td>\n",
       "      <td>3.133092</td>\n",
       "    </tr>\n",
       "    <tr>\n",
       "      <th>ATT(3.0,1,2)</th>\n",
       "      <td>-0.220025</td>\n",
       "      <td>0.138052</td>\n",
       "    </tr>\n",
       "    <tr>\n",
       "      <th>ATT(3.0,2,3)</th>\n",
       "      <td>0.929427</td>\n",
       "      <td>1.285647</td>\n",
       "    </tr>\n",
       "    <tr>\n",
       "      <th>ATT(3.0,2,4)</th>\n",
       "      <td>1.881378</td>\n",
       "      <td>2.237461</td>\n",
       "    </tr>\n",
       "    <tr>\n",
       "      <th>ATT(4.0,1,2)</th>\n",
       "      <td>-0.181399</td>\n",
       "      <td>0.190566</td>\n",
       "    </tr>\n",
       "    <tr>\n",
       "      <th>ATT(4.0,2,3)</th>\n",
       "      <td>-0.116927</td>\n",
       "      <td>0.244962</td>\n",
       "    </tr>\n",
       "    <tr>\n",
       "      <th>ATT(4.0,3,4)</th>\n",
       "      <td>0.774336</td>\n",
       "      <td>1.142215</td>\n",
       "    </tr>\n",
       "  </tbody>\n",
       "</table>\n",
       "</div>"
      ],
      "text/plain": [
       "                 2.5 %    97.5 %\n",
       "ATT(2.0,1,2)  0.755117  1.104025\n",
       "ATT(2.0,1,3)  1.811481  2.163242\n",
       "ATT(2.0,1,4)  2.788654  3.133092\n",
       "ATT(3.0,1,2) -0.220025  0.138052\n",
       "ATT(3.0,2,3)  0.929427  1.285647\n",
       "ATT(3.0,2,4)  1.881378  2.237461\n",
       "ATT(4.0,1,2) -0.181399  0.190566\n",
       "ATT(4.0,2,3) -0.116927  0.244962\n",
       "ATT(4.0,3,4)  0.774336  1.142215"
      ]
     },
     "execution_count": 6,
     "metadata": {},
     "output_type": "execute_result"
    }
   ],
   "source": [
    "level = 0.95\n",
    "\n",
    "ci = dml_obj.confint(level=level)\n",
    "dml_obj.bootstrap(n_rep_boot=5000)\n",
    "ci_joint = dml_obj.confint(level=level, joint=True)\n",
    "ci_joint"
   ]
  },
  {
   "cell_type": "markdown",
   "metadata": {},
   "source": [
    "A visualization of the effects can be obtained via the `plot_effects()` method.\n",
    "\n",
    "Remark that the plot used joint confidence intervals per default. "
   ]
  },
  {
   "cell_type": "code",
   "execution_count": 7,
   "metadata": {
    "execution": {
     "iopub.execute_input": "2025-06-17T15:45:09.184819Z",
     "iopub.status.busy": "2025-06-17T15:45:09.183970Z",
     "iopub.status.idle": "2025-06-17T15:45:09.777483Z",
     "shell.execute_reply": "2025-06-17T15:45:09.776804Z"
    },
    "tags": [
     "nbsphinx-thumbnail"
    ]
   },
   "outputs": [
    {
     "name": "stderr",
     "output_type": "stream",
     "text": [
      "/opt/hostedtoolcache/Python/3.12.10/x64/lib/python3.12/site-packages/matplotlib/cbook.py:1719: FutureWarning: Calling float on a single element Series is deprecated and will raise a TypeError in the future. Use float(ser.iloc[0]) instead\n",
      "  return math.isfinite(val)\n",
      "/opt/hostedtoolcache/Python/3.12.10/x64/lib/python3.12/site-packages/matplotlib/cbook.py:1719: FutureWarning: Calling float on a single element Series is deprecated and will raise a TypeError in the future. Use float(ser.iloc[0]) instead\n",
      "  return math.isfinite(val)\n"
     ]
    },
    {
     "data": {
      "image/png": "[encoded data removed]",
      "text/plain": [
       "<Figure size 1200x800 with 4 Axes>"
      ]
     },
     "metadata": {},
     "output_type": "display_data"
    }
   ],
   "source": [
    "fig, ax = dml_obj.plot_effects()"
   ]
  },
  {
   "cell_type": "markdown",
   "metadata": {},
   "source": [
    "## Effect Aggregation\n",
    "\n",
    "As the [did-R-package](https://bcallaway11.github.io/did/index.html), the $ATT$'s can be aggregated to summarize multiple effects.\n",
    "For details on different aggregations and details on their interpretations see [Callaway and Sant'Anna(2021)](https://doi.org/10.1016/j.jeconom.2020.12.001).\n",
    "\n",
    "The aggregations are implemented via the `aggregate()` method."
   ]
  },
  {
   "cell_type": "markdown",
   "metadata": {},
   "source": [
    "### Group Aggregation\n",
    "\n",
    "To obtain group-specific effects it is possible to aggregate several $\\widehat{ATT}(\\mathrm{g},t_\\text{pre},t_\\text{eval})$ values based on the group $\\mathrm{g}$ by setting the `aggregation=\"group\"` argument."
   ]
  },
  {
   "cell_type": "code",
   "execution_count": 8,
   "metadata": {
    "execution": {
     "iopub.execute_input": "2025-06-17T15:45:09.779872Z",
     "iopub.status.busy": "2025-06-17T15:45:09.779403Z",
     "iopub.status.idle": "2025-06-17T15:45:10.007996Z",
     "shell.execute_reply": "2025-06-17T15:45:10.007332Z"
    }
   },
   "outputs": [
    {
     "name": "stdout",
     "output_type": "stream",
     "text": [
      "================== DoubleMLDIDAggregation Object ==================\n",
      " Group Aggregation \n",
      "\n",
      "------------------ Overall Aggregated Effects ------------------\n",
      "    coef  std err         t  P>|t|   2.5 %   97.5 %\n",
      "1.491636 0.034289 43.501799    0.0 1.42443 1.558841\n",
      "------------------ Aggregated Effects         ------------------\n",
      "         coef   std err          t  P>|t|     2.5 %    97.5 %\n",
      "2.0  1.959268  0.052322  37.446488    0.0  1.856720  2.061817\n",
      "3.0  1.583478  0.056275  28.138425    0.0  1.473182  1.693774\n",
      "4.0  0.958275  0.067627  14.169957    0.0  0.825728  1.090822\n",
      "------------------ Additional Information     ------------------\n",
      "Score function: observational\n",
      "Control group: never_treated\n",
      "Anticipation periods: 0\n",
      "\n"
     ]
    },
    {
     "name": "stderr",
     "output_type": "stream",
     "text": [
      "/home/runner/work/doubleml-docs/doubleml-docs/doubleml-for-py/doubleml/did/did_aggregation.py:368: UserWarning: Joint confidence intervals require bootstrapping which hasn't been performed yet. Automatically applying '.aggregated_frameworks.bootstrap(method=\"normal\", n_rep_boot=500)' with default values. For different bootstrap settings, call bootstrap() explicitly before plotting.\n",
      "  warnings.warn(\n"
     ]
    },
    {
     "data": {
      "image/png": "[encoded data removed]",
      "text/plain": [
       "<Figure size 1200x600 with 1 Axes>"
      ]
     },
     "metadata": {},
     "output_type": "display_data"
    }
   ],
   "source": [
    "aggregated = dml_obj.aggregate(aggregation=\"group\")\n",
    "print(aggregated)\n",
    "_ = aggregated.plot_effects()"
   ]
  },
  {
   "cell_type": "markdown",
   "metadata": {},
   "source": [
    "The output is a `DoubleMLDIDAggregation` object which includes an overall aggregation summary based on group size."
   ]
  },
  {
   "cell_type": "markdown",
   "metadata": {},
   "source": [
    "### Time Aggregation\n",
    "\n",
    "This aggregates $\\widehat{ATT}(\\mathrm{g},t_\\text{pre},t_\\text{eval})$, based on $t_\\text{eval}$, but weighted with respect to group size. Corresponds to *Calendar Time Effects* from the [did-R-package](https://bcallaway11.github.io/did/index.html).\n",
    "\n",
    "For calendar time effects set `aggregation=\"time\"`."
   ]
  },
  {
   "cell_type": "code",
   "execution_count": 9,
   "metadata": {
    "execution": {
     "iopub.execute_input": "2025-06-17T15:45:10.010096Z",
     "iopub.status.busy": "2025-06-17T15:45:10.009731Z",
     "iopub.status.idle": "2025-06-17T15:45:10.231594Z",
     "shell.execute_reply": "2025-06-17T15:45:10.231049Z"
    }
   },
   "outputs": [
    {
     "name": "stdout",
     "output_type": "stream",
     "text": [
      "================== DoubleMLDIDAggregation Object ==================\n",
      " Time Aggregation \n",
      "\n",
      "------------------ Overall Aggregated Effects ------------------\n",
      "    coef  std err         t  P>|t|    2.5 %  97.5 %\n",
      "1.484932 0.035137 42.260957    0.0 1.416064  1.5538\n",
      "------------------ Aggregated Effects         ------------------\n",
      "       coef   std err          t  P>|t|     2.5 %    97.5 %\n",
      "2  0.929571  0.064140  14.492851    0.0  0.803859  1.055283\n",
      "3  1.548799  0.051388  30.139393    0.0  1.448080  1.649517\n",
      "4  1.976427  0.046698  42.323949    0.0  1.884901  2.067952\n",
      "------------------ Additional Information     ------------------\n",
      "Score function: observational\n",
      "Control group: never_treated\n",
      "Anticipation periods: 0\n",
      "\n"
     ]
    },
    {
     "name": "stderr",
     "output_type": "stream",
     "text": [
      "/home/runner/work/doubleml-docs/doubleml-docs/doubleml-for-py/doubleml/did/did_aggregation.py:368: UserWarning: Joint confidence intervals require bootstrapping which hasn't been performed yet. Automatically applying '.aggregated_frameworks.bootstrap(method=\"normal\", n_rep_boot=500)' with default values. For different bootstrap settings, call bootstrap() explicitly before plotting.\n",
      "  warnings.warn(\n"
     ]
    },
    {
     "data": {
      "image/png": "[encoded data removed]",
      "text/plain": [
       "<Figure size 1200x600 with 1 Axes>"
      ]
     },
     "metadata": {},
     "output_type": "display_data"
    }
   ],
   "source": [
    "aggregated_time = dml_obj.aggregate(\"time\")\n",
    "print(aggregated_time)\n",
    "fig, ax = aggregated_time.plot_effects()"
   ]
  },
  {
   "cell_type": "markdown",
   "metadata": {},
   "source": [
    "## Event Study Aggregation\n",
    "\n",
    "Finally, `aggregation=\"eventstudy\"` aggregates $\\widehat{ATT}(\\mathrm{g},t_\\text{pre},t_\\text{eval})$ based on exposure time $e = t_\\text{eval} - \\mathrm{g}$ (respecting group size)."
   ]
  },
  {
   "cell_type": "code",
   "execution_count": 10,
   "metadata": {
    "execution": {
     "iopub.execute_input": "2025-06-17T15:45:10.233550Z",
     "iopub.status.busy": "2025-06-17T15:45:10.233195Z",
     "iopub.status.idle": "2025-06-17T15:45:10.486650Z",
     "shell.execute_reply": "2025-06-17T15:45:10.486031Z"
    }
   },
   "outputs": [
    {
     "name": "stdout",
     "output_type": "stream",
     "text": [
      "================== DoubleMLDIDAggregation Object ==================\n",
      " Event Study Aggregation \n",
      "\n",
      "------------------ Overall Aggregated Effects ------------------\n",
      "    coef  std err         t  P>|t|    2.5 %  97.5 %\n",
      "1.993921 0.038802 51.387502    0.0 1.917871 2.06997\n",
      "------------------ Aggregated Effects         ------------------\n",
      "          coef   std err          t     P>|t|     2.5 %    97.5 %\n",
      "-2.0  0.004583  0.068378   0.067031  0.946557 -0.129436  0.138603\n",
      "-1.0  0.012905  0.040510   0.318561  0.750060 -0.066493  0.092303\n",
      "0.0   0.997609  0.030741  32.451700  0.000000  0.937357  1.057861\n",
      "1.0   2.023280  0.045723  44.250470  0.000000  1.933664  2.112896\n",
      "2.0   2.960873  0.063318  46.761823  0.000000  2.836772  3.084975\n",
      "------------------ Additional Information     ------------------\n",
      "Score function: observational\n",
      "Control group: never_treated\n",
      "Anticipation periods: 0\n",
      "\n"
     ]
    },
    {
     "name": "stderr",
     "output_type": "stream",
     "text": [
      "/home/runner/work/doubleml-docs/doubleml-docs/doubleml-for-py/doubleml/did/did_aggregation.py:368: UserWarning: Joint confidence intervals require bootstrapping which hasn't been performed yet. Automatically applying '.aggregated_frameworks.bootstrap(method=\"normal\", n_rep_boot=500)' with default values. For different bootstrap settings, call bootstrap() explicitly before plotting.\n",
      "  warnings.warn(\n"
     ]
    },
    {
     "data": {
      "image/png": "[encoded data removed]",
      "text/plain": [
       "<Figure size 1200x600 with 1 Axes>"
      ]
     },
     "metadata": {},
     "output_type": "display_data"
    }
   ],
   "source": [
    "aggregated_eventstudy = dml_obj.aggregate(\"eventstudy\")\n",
    "print(aggregated_eventstudy)\n",
    "fig, ax = aggregated_eventstudy.plot_effects()"
   ]
  },
  {
   "cell_type": "markdown",
   "metadata": {},
   "source": [
    "### Aggregation Details\n",
    "\n",
    "The `DoubleMLDIDAggregation` objects include several `DoubleMLFrameworks` which support methods like `bootstrap()` or `confint()`.\n",
    "Further, the weights can be accessed via the properties\n",
    "\n",
    " - ``overall_aggregation_weights``: weights for the overall aggregation\n",
    " - ``aggregation_weights``: weights for the aggregation\n",
    "\n",
    "To clarify, e.g. for the eventstudy aggregation"
   ]
  },
  {
   "cell_type": "code",
   "execution_count": 11,
   "metadata": {
    "execution": {
     "iopub.execute_input": "2025-06-17T15:45:10.488836Z",
     "iopub.status.busy": "2025-06-17T15:45:10.488387Z",
     "iopub.status.idle": "2025-06-17T15:45:10.499321Z",
     "shell.execute_reply": "2025-06-17T15:45:10.498759Z"
    }
   },
   "outputs": [
    {
     "name": "stdout",
     "output_type": "stream",
     "text": [
      "================== DoubleMLDIDAggregation Object ==================\n",
      " Event Study Aggregation \n",
      "\n",
      "------------------ Overall Aggregated Effects ------------------\n",
      "    coef  std err         t  P>|t|    2.5 %  97.5 %\n",
      "1.993921 0.038802 51.387502    0.0 1.917871 2.06997\n",
      "------------------ Aggregated Effects         ------------------\n",
      "          coef   std err          t     P>|t|     2.5 %    97.5 %\n",
      "-2.0  0.004583  0.068378   0.067031  0.946557 -0.129436  0.138603\n",
      "-1.0  0.012905  0.040510   0.318561  0.750060 -0.066493  0.092303\n",
      "0.0   0.997609  0.030741  32.451700  0.000000  0.937357  1.057861\n",
      "1.0   2.023280  0.045723  44.250470  0.000000  1.933664  2.112896\n",
      "2.0   2.960873  0.063318  46.761823  0.000000  2.836772  3.084975\n",
      "------------------ Additional Information     ------------------\n",
      "Score function: observational\n",
      "Control group: never_treated\n",
      "Anticipation periods: 0\n",
      "\n"
     ]
    }
   ],
   "source": [
    "print(aggregated_eventstudy)"
   ]
  },
  {
   "cell_type": "markdown",
   "metadata": {},
   "source": [
    "Here, the overall effect aggregation aggregates each effect with positive exposure"
   ]
  },
  {
   "cell_type": "code",
   "execution_count": 12,
   "metadata": {
    "execution": {
     "iopub.execute_input": "2025-06-17T15:45:10.501286Z",
     "iopub.status.busy": "2025-06-17T15:45:10.501092Z",
     "iopub.status.idle": "2025-06-17T15:45:10.504924Z",
     "shell.execute_reply": "2025-06-17T15:45:10.504377Z"
    }
   },
   "outputs": [
    {
     "name": "stdout",
     "output_type": "stream",
     "text": [
      "[0.         0.         0.33333333 0.33333333 0.33333333]\n"
     ]
    }
   ],
   "source": [
    "print(aggregated_eventstudy.overall_aggregation_weights)"
   ]
  },
  {
   "cell_type": "markdown",
   "metadata": {},
   "source": [
    "If one would like to consider how the aggregated effect with $e=0$ is computed, one would have to look at the third set of weights within the ``aggregation_weights`` property"
   ]
  },
  {
   "cell_type": "code",
   "execution_count": 13,
   "metadata": {
    "execution": {
     "iopub.execute_input": "2025-06-17T15:45:10.506853Z",
     "iopub.status.busy": "2025-06-17T15:45:10.506514Z",
     "iopub.status.idle": "2025-06-17T15:45:10.511159Z",
     "shell.execute_reply": "2025-06-17T15:45:10.510532Z"
    }
   },
   "outputs": [
    {
     "data": {
      "text/plain": [
       "array([0.32875335, 0.        , 0.        , 0.        , 0.32674263,\n",
       "       0.        , 0.        , 0.        , 0.34450402])"
      ]
     },
     "execution_count": 13,
     "metadata": {},
     "output_type": "execute_result"
    }
   ],
   "source": [
    "aggregated_eventstudy.aggregation_weights[2]"
   ]
  },
  {
   "cell_type": "markdown",
   "metadata": {},
   "source": [
    "Taking a look at the original `dml_obj`, one can see that this combines the following estimates:\n",
    "\n",
    " - $\\widehat{ATT}(2,1,2)$\n",
    " - $\\widehat{ATT}(3,2,3)$\n",
    " - $\\widehat{ATT}(4,3,4)$"
   ]
  },
  {
   "cell_type": "code",
   "execution_count": 14,
   "metadata": {
    "execution": {
     "iopub.execute_input": "2025-06-17T15:45:10.513123Z",
     "iopub.status.busy": "2025-06-17T15:45:10.512806Z",
     "iopub.status.idle": "2025-06-17T15:45:10.520749Z",
     "shell.execute_reply": "2025-06-17T15:45:10.520109Z"
    }
   },
   "outputs": [
    {
     "name": "stdout",
     "output_type": "stream",
     "text": [
      "                  coef   std err          t     P>|t|     2.5 %    97.5 %\n",
      "ATT(2.0,1,2)  0.929571  0.064140  14.492851  0.000000  0.803859  1.055283\n",
      "ATT(2.0,1,3)  1.987361  0.064664  30.733516  0.000000  1.860622  2.114101\n",
      "ATT(2.0,1,4)  2.960873  0.063318  46.761823  0.000000  2.836772  3.084975\n",
      "ATT(3.0,1,2) -0.040986  0.065825  -0.622652  0.533513 -0.170002  0.088029\n",
      "ATT(3.0,2,3)  1.107537  0.065484  16.913042  0.000000  0.979190  1.235884\n",
      "ATT(3.0,2,4)  2.059419  0.065459  31.461228  0.000000  1.931122  2.187717\n",
      "ATT(4.0,1,2)  0.004583  0.068378   0.067031  0.946557 -0.129436  0.138603\n",
      "ATT(4.0,2,3)  0.064018  0.066526   0.962292  0.335903 -0.066371  0.194407\n",
      "ATT(4.0,3,4)  0.958275  0.067627  14.169957  0.000000  0.825728  1.090822\n"
     ]
    }
   ],
   "source": [
    "print(dml_obj.summary)"
   ]
  }
 ],
 "metadata": {
  "kernelspec": {
   "display_name": ".venv",
   "language": "python",
   "name": "python3"
  },
  "language_info": {
   "codemirror_mode": {
    "name": "ipython",
    "version": 3
   },
   "file_extension": ".py",
   "mimetype": "text/x-python",
   "name": "python",
   "nbconvert_exporter": "python",
   "pygments_lexer": "ipython3",
   "version": "3.12.10"
  }
 },
 "nbformat": 4,
 "nbformat_minor": 2
}
