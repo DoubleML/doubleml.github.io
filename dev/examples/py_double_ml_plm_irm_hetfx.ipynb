{
 "cells": [
  {
   "cell_type": "markdown",
   "metadata": {},
   "source": [
    "# Python: PLM and IRM for Multiple Treatments\n",
    "\n",
    "In this example, we show the behavior of the PLM and IRM estimators when the treatment effect is heterogeneous across different treatments. We show that since the PLM estimates a convex-weighted average of treatment effects, it is not able to recover the true treatment effects when they are heterogeneous. On the other hand, the IRM estimator is able to recover the true treatment effects when they are heterogeneous. This is shown to matter substantially when ranking treatments by their estimated treatment effects.\n",
    "\n",
    "\n",
    "We assume basic knowledge of the potential outcomes framework and the assumptions of the PLM and IRM estimators. "
   ]
  },
  {
   "cell_type": "code",
   "execution_count": 1,
   "metadata": {
    "execution": {
     "iopub.execute_input": "2025-02-04T16:28:39.004232Z",
     "iopub.status.busy": "2025-02-04T16:28:39.004042Z",
     "iopub.status.idle": "2025-02-04T16:28:40.530220Z",
     "shell.execute_reply": "2025-02-04T16:28:40.529634Z"
    }
   },
   "outputs": [],
   "source": [
    "import numpy as np\n",
    "import pandas as pd\n",
    "import matplotlib.pyplot as plt\n",
    "\n",
    "from doubleml import DoubleMLData, DoubleMLPLR, DoubleMLIRM\n",
    "from xgboost import XGBRegressor, XGBClassifier\n",
    "\n",
    "%matplotlib inline\n",
    "%config InlineBackend.figure_format = 'retina'\n"
   ]
  },
  {
   "cell_type": "markdown",
   "metadata": {},
   "source": [
    "## Ranking Treatment Effects under Treatment Propensity and Treatment Effect Heterogeneity\n",
    "\n",
    "We consider a setting with two treatments $D_1$ and $D_2$, a single binary covariate $X$ (with $p=0.5$), and a continuous outcome $Y$. The propensity scores for the two treatments are given by:\n",
    "\n",
    "| X \\ D | $D_1$ = 1 | $D_2$ = 1 |\n",
    "|-------|--------|--------|\n",
    "| X = 0 |  0.01  |  0.5   |\n",
    "| X = 1 |  0.5   |  0.01  |\n",
    "\n",
    "And the underlying heterogeneous treatment effects are given by:\n",
    "\n",
    "| X \\ $\\tau$ | $\\tau_1$ | $\\tau_2$  |\n",
    "|-------|----|----|\n",
    "| X = 0 | -3 | -2 |\n",
    "| X = 1 |  3 |  3 |\n",
    "| ATE   |  0 | 0.5|\n",
    "\n",
    "The researcher seeks to rank the two treatments based on their average treatment effects. We compare the behavior of the PLM and IRM estimators in this setting.\n",
    "\n",
    "We implement the DGP below."
   ]
  },
  {
   "cell_type": "code",
   "execution_count": 2,
   "metadata": {
    "execution": {
     "iopub.execute_input": "2025-02-04T16:28:40.532658Z",
     "iopub.status.busy": "2025-02-04T16:28:40.532185Z",
     "iopub.status.idle": "2025-02-04T16:28:40.575816Z",
     "shell.execute_reply": "2025-02-04T16:28:40.575268Z"
    }
   },
   "outputs": [
    {
     "data": {
      "text/html": [
       "<div>\n",
       "<style scoped>\n",
       "    .dataframe tbody tr th:only-of-type {\n",
       "        vertical-align: middle;\n",
       "    }\n",
       "\n",
       "    .dataframe tbody tr th {\n",
       "        vertical-align: top;\n",
       "    }\n",
       "\n",
       "    .dataframe thead th {\n",
       "        text-align: right;\n",
       "    }\n",
       "</style>\n",
       "<table border=\"1\" class=\"dataframe\">\n",
       "  <thead>\n",
       "    <tr style=\"text-align: right;\">\n",
       "      <th></th>\n",
       "      <th>x</th>\n",
       "      <th>d1</th>\n",
       "      <th>d2</th>\n",
       "      <th>y</th>\n",
       "    </tr>\n",
       "  </thead>\n",
       "  <tbody>\n",
       "    <tr>\n",
       "      <th>0</th>\n",
       "      <td>1</td>\n",
       "      <td>0</td>\n",
       "      <td>0</td>\n",
       "      <td>-3.040528</td>\n",
       "    </tr>\n",
       "    <tr>\n",
       "      <th>1</th>\n",
       "      <td>0</td>\n",
       "      <td>0</td>\n",
       "      <td>1</td>\n",
       "      <td>2.164911</td>\n",
       "    </tr>\n",
       "    <tr>\n",
       "      <th>2</th>\n",
       "      <td>1</td>\n",
       "      <td>1</td>\n",
       "      <td>0</td>\n",
       "      <td>-1.349293</td>\n",
       "    </tr>\n",
       "    <tr>\n",
       "      <th>3</th>\n",
       "      <td>0</td>\n",
       "      <td>0</td>\n",
       "      <td>1</td>\n",
       "      <td>0.992346</td>\n",
       "    </tr>\n",
       "    <tr>\n",
       "      <th>4</th>\n",
       "      <td>0</td>\n",
       "      <td>0</td>\n",
       "      <td>0</td>\n",
       "      <td>0.755260</td>\n",
       "    </tr>\n",
       "  </tbody>\n",
       "</table>\n",
       "</div>"
      ],
      "text/plain": [
       "   x  d1  d2         y\n",
       "0  1   0   0 -3.040528\n",
       "1  0   0   1  2.164911\n",
       "2  1   1   0 -1.349293\n",
       "3  0   0   1  0.992346\n",
       "4  0   0   0  0.755260"
      ]
     },
     "execution_count": 2,
     "metadata": {},
     "output_type": "execute_result"
    }
   ],
   "source": [
    "\n",
    "def dgp(\n",
    "    n = 100_000,\n",
    "    treat1_params = {\n",
    "        \"p_x0\": 0.01, \"p_x1\": 0.50, \"τ_x0\": -3, \"τ_x1\": 3,\n",
    "    },\n",
    "    treat2_params = {\n",
    "        \"p_x0\": 0.5, \"p_x1\": 0.01, \"τ_x0\": -2, \"τ_x1\": 3,\n",
    "    },\n",
    "    ):\n",
    "    # utility functions to transform between the probability scale and the logit scale\n",
    "    sigmoid = lambda x: 1 / (1 + np.exp(-x))\n",
    "    inv_sigmoid = lambda p: np.log(p / (1 - p))\n",
    "\n",
    "    df = pd.DataFrame()\n",
    "    # noise terms\n",
    "    eta1 = np.random.normal(0, 0.1, size=n)\n",
    "    eta2 = np.random.normal(0, 0.1, size=n)\n",
    "    eps = np.random.normal(0, 1, size=n)\n",
    "    # binary covariate\n",
    "    df[\"x\"] = np.random.randint(2, size=n)  # half and half\n",
    "    df[[\"x0\", \"x1\"]] = pd.get_dummies(df.x)\n",
    "    # treatment 1 propensity score\n",
    "    pscore1 = df.x0 * (inv_sigmoid(treat1_params[\"p_x0\"]) + eta1) + df.x1 * (\n",
    "        inv_sigmoid(treat1_params[\"p_x1\"]) + eta2\n",
    "    )\n",
    "    # treatment 2 propensity score\n",
    "    pscore2= df.x0 * (inv_sigmoid(treat2_params[\"p_x0\"]) + eta2) + df.x1 * (\n",
    "        inv_sigmoid(treat2_params[\"p_x1\"]) + eta2\n",
    "    )\n",
    "    df['d1'] = np.random.binomial(1, sigmoid(pscore1))\n",
    "    df['d2'] = np.random.binomial(1, sigmoid(pscore2))\n",
    "    # outcome 1\n",
    "    df[\"y\"] = (\n",
    "        0\n",
    "        + 1 * df.x0 # arbitrary covariate coefs\n",
    "        - 2 * df.x1\n",
    "        + df.x0 * df.d1 * (treat1_params[\"τ_x0\"])\n",
    "        + df.x1 * df.d1 * (treat1_params[\"τ_x1\"])\n",
    "        + df.x0 * df.d2 * (treat2_params[\"τ_x0\"])\n",
    "        + df.x1 * df.d2 * (treat2_params[\"τ_x1\"])\n",
    "        + eps\n",
    "    )\n",
    "    return df.drop([\"x0\", \"x1\"], axis=1)\n",
    "df = dgp()\n",
    "df.head()"
   ]
  },
  {
   "cell_type": "code",
   "execution_count": 3,
   "metadata": {
    "execution": {
     "iopub.execute_input": "2025-02-04T16:28:40.577694Z",
     "iopub.status.busy": "2025-02-04T16:28:40.577504Z",
     "iopub.status.idle": "2025-02-04T16:28:40.599883Z",
     "shell.execute_reply": "2025-02-04T16:28:40.599237Z"
    }
   },
   "outputs": [
    {
     "name": "stdout",
     "output_type": "stream",
     "text": [
      "d1         0         1\n",
      "x                     \n",
      "0   0.989723  0.010277\n",
      "1   0.499557  0.500443\n",
      "d2         0         1\n",
      "x                     \n",
      "0   0.498887  0.501113\n",
      "1   0.989576  0.010424\n"
     ]
    }
   ],
   "source": [
    "print(pd.crosstab(df.x, df.d1, normalize='index'))\n",
    "print(pd.crosstab(df.x, df.d2, normalize='index'))"
   ]
  },
  {
   "cell_type": "markdown",
   "metadata": {},
   "source": [
    "### The Partially Linear Model performs overlap weighting\n",
    "\n",
    "The partially linear model inherits the properties of linear regression under treatment effect heterogeneity (Angrist (1998), Angrist and Krueger(1999), Aronow and Samii (2016)). The probability limit of the treatment coefficient in the partially linear model $Y_i = \\tau D_i + g(X_i) + \\epsilon_i$ is given by:\n",
    "\n",
    "$$\n",
    "p\\!\\!-\\!\\!\\lim \\hat{\\tau} = \\mathbb{E} [\\gamma(X) \\tau(X)]\n",
    "$$\n",
    "\n",
    "where \n",
    "\n",
    "$$\n",
    "\\gamma(X) = \\frac{\\mathbb{V}(D \\mid X)}{\\mathbb{E} [\\mathbb{V}(D \\mid X)]}\n",
    "$$\n",
    "\n",
    "This simplifies to \n",
    "\n",
    "$$\n",
    "\\gamma(X) = \\frac{p(X)(1-p(X))}{\\mathbb{E}[p(X)(1-p(X))]}\n",
    "$$\n",
    "\n",
    "when $D$ is binary.\n",
    "\n",
    "We have deliberately generated a dataset with varying propensity scores across treatments and covariates. Since we have a single binary covariate, we can analytically estimate the plim of the above estimator. The regression coefficients are equal to:\n",
    "\n",
    "$$\n",
    "\\begin{align*}\n",
    "\\tilde{\\tau}_1 & = \\frac{-3 \\cdot 0.01 \\cdot 0.99 + 3 \\cdot 0.5 \\cdot 0.5}{\n",
    "  0.01 \\cdot 0.99 + 0.5 \\cdot 0.5\n",
    "} = 2.7714 \\\\\n",
    "\\tilde{\\tau}_2 & = \\frac{-2 \\cdot 0.5 \\cdot 0.5 + 3 \\cdot 0.01 \\cdot 0.99}{0.01 \\cdot 0.99 + 0.5 \\cdot 0.5} = -1.8095\n",
    "\\end{align*}\n",
    "$$\n",
    "\n",
    "So, we see that the PLM gets the ranking wrong; even though the treatment effect of $D_1$ (0) is lower than that of $D_2$ (0.5), the PLM estimates the treatment effect of $D_1$ to be higher than that of $D_2$ because it upweights the stratum with large positive effects when estimating the effect for $D_1$ and vice versa for $D_2$.\n",
    "\n",
    "We verify this numerically with the `DoubleML`."
   ]
  },
  {
   "cell_type": "code",
   "execution_count": 4,
   "metadata": {
    "execution": {
     "iopub.execute_input": "2025-02-04T16:28:40.601832Z",
     "iopub.status.busy": "2025-02-04T16:28:40.601529Z",
     "iopub.status.idle": "2025-02-04T16:28:42.163031Z",
     "shell.execute_reply": "2025-02-04T16:28:42.162412Z"
    }
   },
   "outputs": [
    {
     "name": "stdout",
     "output_type": "stream",
     "text": [
      "        coef   std err           t  P>|t|     2.5 %    97.5 %\n",
      "d1  2.777699  0.013274  209.261843    0.0  2.751683  2.803715\n",
      "d2 -1.799725  0.012013 -149.811843    0.0 -1.823270 -1.776179\n"
     ]
    }
   ],
   "source": [
    "df = dgp()\n",
    "dml_data = DoubleMLData(df, 'y', ['d1', 'd2'], 'x')\n",
    "plr_obj = DoubleMLPLR(dml_data,\n",
    "                      ml_l =  XGBRegressor(),\n",
    "                      ml_m = XGBClassifier(),\n",
    "                      n_folds=5)\n",
    "plr_obj.fit()\n",
    "plr_est = plr_obj.summary\n",
    "print(plr_est)"
   ]
  },
  {
   "cell_type": "markdown",
   "metadata": {},
   "source": [
    "###  The Augmented Inverse Propensity Weighting Model estimates the ATE under arbitrary effect and propensity score heterogeneity\n",
    "\n",
    "The AIPW estimator is given by:\n",
    "\n",
    "$$\n",
    "\\tau_{\\text{AIPW}} = \\frac{1}{n} \\sum_i \\left( \\left[ \\hat{g}(1, X_i) - \\hat{g}(0, X_i) \\right] + \n",
    "\\frac{D_i(Y_i - \\hat{g}(1, X_i))}{\\hat{m}(X_i)} - \\frac{(1-D_i)(Y_i - \\hat{g}(0, X_i))}{1 - \\hat{m}(X_i)}\n",
    "\\right)\n",
    "$$\n",
    "\n",
    "and estimates the ATE consistently under arbitrary treatment effect and propensity score heterogeneity, and therefore ranks the two treatments correctly (i.e. $D_2$ has a higher treatment effect than $D_1$).\n"
   ]
  },
  {
   "cell_type": "code",
   "execution_count": 5,
   "metadata": {
    "execution": {
     "iopub.execute_input": "2025-02-04T16:28:42.165082Z",
     "iopub.status.busy": "2025-02-04T16:28:42.164748Z",
     "iopub.status.idle": "2025-02-04T16:28:43.732427Z",
     "shell.execute_reply": "2025-02-04T16:28:43.731802Z"
    }
   },
   "outputs": [
    {
     "name": "stdout",
     "output_type": "stream",
     "text": [
      "        coef   std err         t     P>|t|     2.5 %    97.5 %\n",
      "d1 -0.019241  0.033739 -0.570295  0.568478 -0.085369  0.046886\n",
      "        coef   std err         t         P>|t|     2.5 %   97.5 %\n",
      "d2  0.479112  0.041056  11.66962  1.822352e-31  0.398643  0.55958\n"
     ]
    }
   ],
   "source": [
    "df = dgp()\n",
    "aipw_obj_1 = DoubleMLIRM(DoubleMLData(df, 'y', ['d1'], 'x'),\n",
    "                      ml_g = XGBRegressor(),\n",
    "                      ml_m = XGBClassifier(),\n",
    "                      n_folds=5)\n",
    "aipw_obj_1.fit()\n",
    "aipw_obj_2 = DoubleMLIRM(DoubleMLData(df, 'y', ['d2'], 'x'),\n",
    "                      ml_g = XGBRegressor(),\n",
    "                      ml_m = XGBClassifier(),\n",
    "                      n_folds=5)\n",
    "aipw_obj_2.fit()\n",
    "aipw_est_1, aipw_est_2 = aipw_obj_1.summary, aipw_obj_2.summary\n",
    "print(aipw_est_1)\n",
    "print(aipw_est_2)"
   ]
  },
  {
   "cell_type": "markdown",
   "metadata": {},
   "source": [
    "## Summary Figure\n",
    "\n",
    "We summarize the true treatment effects, the PLM estimates, and the IRM estimates in a figure."
   ]
  },
  {
   "cell_type": "code",
   "execution_count": 6,
   "metadata": {
    "execution": {
     "iopub.execute_input": "2025-02-04T16:28:43.734617Z",
     "iopub.status.busy": "2025-02-04T16:28:43.734128Z",
     "iopub.status.idle": "2025-02-04T16:28:43.978840Z",
     "shell.execute_reply": "2025-02-04T16:28:43.978216Z"
    }
   },
   "outputs": [
    {
     "data": {
      "image/png": "[encoded data removed]",
      "text/plain": [
       "<Figure size 600x400 with 1 Axes>"
      ]
     },
     "metadata": {
      "image/png": {
       "height": 392,
       "width": 534
      }
     },
     "output_type": "display_data"
    }
   ],
   "source": [
    "\n",
    "colors = ['#da1440', '#e45228', '#ec973f', '#a4a147', '#008e80', '#008dbd',\n",
    "          '#f6ebce', '#838235', '#3f5d93', '#50768b', '#133f5a', '#afd9e4']\n",
    "\n",
    "# Plot the data\n",
    "x = np.array([1, 2])\n",
    "y = [(-3+3)/2, (-2+3)/2]\n",
    "fig, ax = plt.subplots(dpi = 100, figsize = (6, 4))\n",
    "# plm\n",
    "plt.errorbar(x,\n",
    "    plr_est.coef,\n",
    "    yerr=1.96 * plr_est['std err'], markersize = 1,\n",
    "    fmt='o', color=colors[0], ecolor=colors[0], capsize=5, label = 'PLM Estimate')\n",
    "plt.errorbar(x+.05,\n",
    "    np.array([aipw_est_1.coef, aipw_est_2.coef]).flatten(),\n",
    "    yerr = 1.96 * np.array([aipw_est_1.iloc[:,1].values[0],\n",
    "                            aipw_est_2.iloc[:,1].values[0]]),\n",
    "    markersize = 3,\n",
    "    fmt='o', color=colors[8], ecolor=colors[8], capsize=5, label = 'AIPW Estimate'\n",
    "    )\n",
    "# true values\n",
    "plt.scatter(x-.05, y,       color = colors[2], label = 'ATE')\n",
    "plt.scatter(x-.1, [-3, -2], color = colors[5], label=r\"CATE: $x=0$\")\n",
    "plt.scatter(x-.12, [3, 3],  color = colors[4], label=r\"CATE: $x=1$\")\n",
    "plt.legend(loc = 0)\n",
    "plt.title(\"PLMs do not estimate ATEs \\n This is bad for ranking treatments\")\n",
    "plt.axis((.5, 3, -3.5, 4))\n",
    "ax.set_xticks([])\n",
    "string_labels = ['Treatment 1', 'Treatment 2']\n",
    "ax.set_xticks(x)\n",
    "ax.set_xticklabels(string_labels)\n",
    "ax.grid(True)\n",
    "ax.set_ylabel(\"Treatment Effect\")\n",
    "plt.show()"
   ]
  },
  {
   "cell_type": "markdown",
   "metadata": {},
   "source": [
    "## Additional Results: CATE estimates\n",
    "\n",
    "As an additional comparison, we can add the CATE estimates based on the previous PLR and IRM examples."
   ]
  },
  {
   "cell_type": "code",
   "execution_count": 7,
   "metadata": {
    "execution": {
     "iopub.execute_input": "2025-02-04T16:28:43.981041Z",
     "iopub.status.busy": "2025-02-04T16:28:43.980572Z",
     "iopub.status.idle": "2025-02-04T16:28:43.985633Z",
     "shell.execute_reply": "2025-02-04T16:28:43.985055Z"
    }
   },
   "outputs": [],
   "source": [
    "# pandas data frame with one-hot encoded values for x\n",
    "groups = pd.get_dummies(df.x)"
   ]
  },
  {
   "cell_type": "code",
   "execution_count": 8,
   "metadata": {
    "execution": {
     "iopub.execute_input": "2025-02-04T16:28:43.987767Z",
     "iopub.status.busy": "2025-02-04T16:28:43.987409Z",
     "iopub.status.idle": "2025-02-04T16:28:44.767877Z",
     "shell.execute_reply": "2025-02-04T16:28:44.767278Z"
    }
   },
   "outputs": [
    {
     "data": {
      "text/html": [
       "<div>\n",
       "<style scoped>\n",
       "    .dataframe tbody tr th:only-of-type {\n",
       "        vertical-align: middle;\n",
       "    }\n",
       "\n",
       "    .dataframe tbody tr th {\n",
       "        vertical-align: top;\n",
       "    }\n",
       "\n",
       "    .dataframe thead th {\n",
       "        text-align: right;\n",
       "    }\n",
       "</style>\n",
       "<table border=\"1\" class=\"dataframe\">\n",
       "  <thead>\n",
       "    <tr style=\"text-align: right;\">\n",
       "      <th></th>\n",
       "      <th>coef</th>\n",
       "      <th>std err</th>\n",
       "      <th>t</th>\n",
       "      <th>P&gt;|t|</th>\n",
       "      <th>[0.025</th>\n",
       "      <th>0.975]</th>\n",
       "    </tr>\n",
       "  </thead>\n",
       "  <tbody>\n",
       "    <tr>\n",
       "      <th>0</th>\n",
       "      <td>-2.988</td>\n",
       "      <td>0.045</td>\n",
       "      <td>-66.548</td>\n",
       "      <td>0.0</td>\n",
       "      <td>-3.076</td>\n",
       "      <td>-2.900</td>\n",
       "    </tr>\n",
       "    <tr>\n",
       "      <th>1</th>\n",
       "      <td>2.999</td>\n",
       "      <td>0.009</td>\n",
       "      <td>334.420</td>\n",
       "      <td>0.0</td>\n",
       "      <td>2.982</td>\n",
       "      <td>3.017</td>\n",
       "    </tr>\n",
       "  </tbody>\n",
       "</table>\n",
       "</div>"
      ],
      "text/plain": [
       "    coef  std err        t  P>|t|  [0.025  0.975]\n",
       "0 -2.988    0.045  -66.548    0.0  -3.076  -2.900\n",
       "1  2.999    0.009  334.420    0.0   2.982   3.017"
      ]
     },
     "execution_count": 8,
     "metadata": {},
     "output_type": "execute_result"
    }
   ],
   "source": [
    "# Repeat estimation for each treatment var separately\n",
    "# d1\n",
    "dml_data = DoubleMLData(df, 'y', 'd1', ['d2', 'x'])\n",
    "plr_obj_1 = DoubleMLPLR(dml_data,\n",
    "                      ml_l =  XGBRegressor(),\n",
    "                      ml_m = XGBClassifier(),\n",
    "                      n_folds=5)\n",
    "plr_obj_1.fit()\n",
    "plr_est1 = plr_obj_1.summary\n",
    "plr_obj_1.gate(groups=groups).summary.round(3)\n"
   ]
  },
  {
   "cell_type": "code",
   "execution_count": 9,
   "metadata": {
    "execution": {
     "iopub.execute_input": "2025-02-04T16:28:44.769978Z",
     "iopub.status.busy": "2025-02-04T16:28:44.769619Z",
     "iopub.status.idle": "2025-02-04T16:28:45.561210Z",
     "shell.execute_reply": "2025-02-04T16:28:45.560607Z"
    }
   },
   "outputs": [
    {
     "data": {
      "text/html": [
       "<div>\n",
       "<style scoped>\n",
       "    .dataframe tbody tr th:only-of-type {\n",
       "        vertical-align: middle;\n",
       "    }\n",
       "\n",
       "    .dataframe tbody tr th {\n",
       "        vertical-align: top;\n",
       "    }\n",
       "\n",
       "    .dataframe thead th {\n",
       "        text-align: right;\n",
       "    }\n",
       "</style>\n",
       "<table border=\"1\" class=\"dataframe\">\n",
       "  <thead>\n",
       "    <tr style=\"text-align: right;\">\n",
       "      <th></th>\n",
       "      <th>coef</th>\n",
       "      <th>std err</th>\n",
       "      <th>t</th>\n",
       "      <th>P&gt;|t|</th>\n",
       "      <th>[0.025</th>\n",
       "      <th>0.975]</th>\n",
       "    </tr>\n",
       "  </thead>\n",
       "  <tbody>\n",
       "    <tr>\n",
       "      <th>0</th>\n",
       "      <td>-2.002</td>\n",
       "      <td>0.009</td>\n",
       "      <td>-223.724</td>\n",
       "      <td>0.0</td>\n",
       "      <td>-2.019</td>\n",
       "      <td>-1.984</td>\n",
       "    </tr>\n",
       "    <tr>\n",
       "      <th>1</th>\n",
       "      <td>2.968</td>\n",
       "      <td>0.044</td>\n",
       "      <td>66.944</td>\n",
       "      <td>0.0</td>\n",
       "      <td>2.881</td>\n",
       "      <td>3.055</td>\n",
       "    </tr>\n",
       "  </tbody>\n",
       "</table>\n",
       "</div>"
      ],
      "text/plain": [
       "    coef  std err        t  P>|t|  [0.025  0.975]\n",
       "0 -2.002    0.009 -223.724    0.0  -2.019  -1.984\n",
       "1  2.968    0.044   66.944    0.0   2.881   3.055"
      ]
     },
     "execution_count": 9,
     "metadata": {},
     "output_type": "execute_result"
    }
   ],
   "source": [
    "# d2\n",
    "dml_data = DoubleMLData(df, 'y', 'd2', ['d1', 'x'])\n",
    "plr_obj_2 = DoubleMLPLR(dml_data,\n",
    "                      ml_l =  XGBRegressor(),\n",
    "                      ml_m = XGBClassifier(),\n",
    "                      n_folds=5)\n",
    "plr_obj_2.fit()\n",
    "plr_est2 = plr_obj_2.summary\n",
    "plr_obj_2.gate(groups=groups).summary.round(3)"
   ]
  },
  {
   "cell_type": "code",
   "execution_count": 10,
   "metadata": {
    "execution": {
     "iopub.execute_input": "2025-02-04T16:28:45.563241Z",
     "iopub.status.busy": "2025-02-04T16:28:45.562890Z",
     "iopub.status.idle": "2025-02-04T16:28:45.585325Z",
     "shell.execute_reply": "2025-02-04T16:28:45.584682Z"
    }
   },
   "outputs": [
    {
     "data": {
      "text/html": [
       "<div>\n",
       "<style scoped>\n",
       "    .dataframe tbody tr th:only-of-type {\n",
       "        vertical-align: middle;\n",
       "    }\n",
       "\n",
       "    .dataframe tbody tr th {\n",
       "        vertical-align: top;\n",
       "    }\n",
       "\n",
       "    .dataframe thead th {\n",
       "        text-align: right;\n",
       "    }\n",
       "</style>\n",
       "<table border=\"1\" class=\"dataframe\">\n",
       "  <thead>\n",
       "    <tr style=\"text-align: right;\">\n",
       "      <th></th>\n",
       "      <th>coef</th>\n",
       "      <th>std err</th>\n",
       "      <th>t</th>\n",
       "      <th>P&gt;|t|</th>\n",
       "      <th>[0.025</th>\n",
       "      <th>0.975]</th>\n",
       "    </tr>\n",
       "  </thead>\n",
       "  <tbody>\n",
       "    <tr>\n",
       "      <th>0</th>\n",
       "      <td>-3.028</td>\n",
       "      <td>0.064</td>\n",
       "      <td>-47.348</td>\n",
       "      <td>0.0</td>\n",
       "      <td>-3.153</td>\n",
       "      <td>-2.902</td>\n",
       "    </tr>\n",
       "    <tr>\n",
       "      <th>1</th>\n",
       "      <td>3.000</td>\n",
       "      <td>0.009</td>\n",
       "      <td>320.714</td>\n",
       "      <td>0.0</td>\n",
       "      <td>2.981</td>\n",
       "      <td>3.018</td>\n",
       "    </tr>\n",
       "  </tbody>\n",
       "</table>\n",
       "</div>"
      ],
      "text/plain": [
       "    coef  std err        t  P>|t|  [0.025  0.975]\n",
       "0 -3.028    0.064  -47.348    0.0  -3.153  -2.902\n",
       "1  3.000    0.009  320.714    0.0   2.981   3.018"
      ]
     },
     "execution_count": 10,
     "metadata": {},
     "output_type": "execute_result"
    }
   ],
   "source": [
    "# IRM models\n",
    "# d1\n",
    "aipw_obj_1.gate(groups=groups).summary.round(3)"
   ]
  },
  {
   "cell_type": "code",
   "execution_count": 11,
   "metadata": {
    "execution": {
     "iopub.execute_input": "2025-02-04T16:28:45.587510Z",
     "iopub.status.busy": "2025-02-04T16:28:45.587092Z",
     "iopub.status.idle": "2025-02-04T16:28:45.607682Z",
     "shell.execute_reply": "2025-02-04T16:28:45.607053Z"
    }
   },
   "outputs": [
    {
     "data": {
      "text/html": [
       "<div>\n",
       "<style scoped>\n",
       "    .dataframe tbody tr th:only-of-type {\n",
       "        vertical-align: middle;\n",
       "    }\n",
       "\n",
       "    .dataframe tbody tr th {\n",
       "        vertical-align: top;\n",
       "    }\n",
       "\n",
       "    .dataframe thead th {\n",
       "        text-align: right;\n",
       "    }\n",
       "</style>\n",
       "<table border=\"1\" class=\"dataframe\">\n",
       "  <thead>\n",
       "    <tr style=\"text-align: right;\">\n",
       "      <th></th>\n",
       "      <th>coef</th>\n",
       "      <th>std err</th>\n",
       "      <th>t</th>\n",
       "      <th>P&gt;|t|</th>\n",
       "      <th>[0.025</th>\n",
       "      <th>0.975]</th>\n",
       "    </tr>\n",
       "  </thead>\n",
       "  <tbody>\n",
       "    <tr>\n",
       "      <th>0</th>\n",
       "      <td>-2.004</td>\n",
       "      <td>0.009</td>\n",
       "      <td>-214.561</td>\n",
       "      <td>0.0</td>\n",
       "      <td>-2.022</td>\n",
       "      <td>-1.986</td>\n",
       "    </tr>\n",
       "    <tr>\n",
       "      <th>1</th>\n",
       "      <td>2.971</td>\n",
       "      <td>0.080</td>\n",
       "      <td>37.050</td>\n",
       "      <td>0.0</td>\n",
       "      <td>2.814</td>\n",
       "      <td>3.128</td>\n",
       "    </tr>\n",
       "  </tbody>\n",
       "</table>\n",
       "</div>"
      ],
      "text/plain": [
       "    coef  std err        t  P>|t|  [0.025  0.975]\n",
       "0 -2.004    0.009 -214.561    0.0  -2.022  -1.986\n",
       "1  2.971    0.080   37.050    0.0   2.814   3.128"
      ]
     },
     "execution_count": 11,
     "metadata": {},
     "output_type": "execute_result"
    }
   ],
   "source": [
    "# IRM models\n",
    "# d2\n",
    "aipw_obj_2.gate(groups=groups).summary.round(3)"
   ]
  },
  {
   "cell_type": "markdown",
   "metadata": {},
   "source": [
    "## References\n",
    "\n",
    "- Lal, A., Chou, W., & Schaefer, J. (2024). Using Double Machine Learning to Rank Treatments, Working Paper. Poster available at [https://apoorvalal.github.io/files/slides/acic_2024_poster.pdf](https://apoorvalal.github.io/files/slides/acic_2024_poster.pdf). Thread available at [https://x.com/Apoorva__Lal/status/1798913180930109556](https://x.com/Apoorva__Lal/status/1798913180930109556).\n",
    "- Angrist, J. D. (1998). Estimating the labor market impact of voluntary military service using social security data on military applicants. Econometrica, 66(2), 249-288.\n",
    "- Angrist, J. D., & Krueger, A. B. (1999). Empirical strategies in labor economics. Handbook of labor economics, 3, 1277-1366.\n",
    "- Aronow, P. M., & Samii, C. (2016). Does regression produce representative estimates of causal effects?. American Journal of Political Science, 60(1), 250-267.\n"
   ]
  }
 ],
 "metadata": {
  "kernelspec": {
   "display_name": "metrics",
   "language": "python",
   "name": "python3"
  },
  "language_info": {
   "codemirror_mode": {
    "name": "ipython",
    "version": 3
   },
   "file_extension": ".py",
   "mimetype": "text/x-python",
   "name": "python",
   "nbconvert_exporter": "python",
   "pygments_lexer": "ipython3",
   "version": "3.12.8"
  }
 },
 "nbformat": 4,
 "nbformat_minor": 2
}
