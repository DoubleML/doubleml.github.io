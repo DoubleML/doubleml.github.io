{
 "cells": [
  {
   "cell_type": "code",
   "execution_count": 1,
   "metadata": {
    "execution": {
     "iopub.execute_input": "2022-10-10T14:20:04.103944Z",
     "iopub.status.busy": "2022-10-10T14:20:04.103615Z",
     "iopub.status.idle": "2022-10-10T14:20:04.542955Z",
     "shell.execute_reply": "2022-10-10T14:20:04.542161Z"
    }
   },
   "outputs": [],
   "source": [
    "%matplotlib inline"
   ]
  },
  {
   "cell_type": "markdown",
   "metadata": {},
   "source": [
    "\n",
    "# DML: Bonus Data\n",
    "This example shows\n",
    "TODO: Add a general description!\n"
   ]
  },
  {
   "cell_type": "code",
   "execution_count": 2,
   "metadata": {
    "execution": {
     "iopub.execute_input": "2022-10-10T14:20:04.547448Z",
     "iopub.status.busy": "2022-10-10T14:20:04.547089Z",
     "iopub.status.idle": "2022-10-10T14:20:05.315294Z",
     "shell.execute_reply": "2022-10-10T14:20:05.314515Z"
    }
   },
   "outputs": [],
   "source": [
    "import numpy as np\n",
    "import doubleml as dml\n",
    "from doubleml.datasets import fetch_bonus\n",
    "\n",
    "from sklearn.linear_model import Lasso, LogisticRegression\n",
    "from sklearn.ensemble import RandomForestClassifier, RandomForestRegressor\n",
    "\n",
    "import matplotlib.pyplot as plt\n",
    "import seaborn as sns"
   ]
  },
  {
   "cell_type": "code",
   "execution_count": 3,
   "metadata": {
    "execution": {
     "iopub.execute_input": "2022-10-10T14:20:05.319632Z",
     "iopub.status.busy": "2022-10-10T14:20:05.319370Z",
     "iopub.status.idle": "2022-10-10T14:20:05.324572Z",
     "shell.execute_reply": "2022-10-10T14:20:05.323953Z"
    }
   },
   "outputs": [],
   "source": [
    "plt.rcParams['figure.figsize'] = 14, 6\n",
    "sns.set()"
   ]
  },
  {
   "cell_type": "markdown",
   "metadata": {},
   "source": [
    "## Load bonus data using the dml datasets module\n",
    "\n"
   ]
  },
  {
   "cell_type": "code",
   "execution_count": 4,
   "metadata": {
    "execution": {
     "iopub.execute_input": "2022-10-10T14:20:05.327743Z",
     "iopub.status.busy": "2022-10-10T14:20:05.327515Z",
     "iopub.status.idle": "2022-10-10T14:20:05.433484Z",
     "shell.execute_reply": "2022-10-10T14:20:05.432633Z"
    }
   },
   "outputs": [
    {
     "data": {
      "text/html": [
       "<div>\n",
       "<style scoped>\n",
       "    .dataframe tbody tr th:only-of-type {\n",
       "        vertical-align: middle;\n",
       "    }\n",
       "\n",
       "    .dataframe tbody tr th {\n",
       "        vertical-align: top;\n",
       "    }\n",
       "\n",
       "    .dataframe thead th {\n",
       "        text-align: right;\n",
       "    }\n",
       "</style>\n",
       "<table border=\"1\" class=\"dataframe\">\n",
       "  <thead>\n",
       "    <tr style=\"text-align: right;\">\n",
       "      <th></th>\n",
       "      <th>index</th>\n",
       "      <th>abdt</th>\n",
       "      <th>tg</th>\n",
       "      <th>inuidur1</th>\n",
       "      <th>inuidur2</th>\n",
       "      <th>female</th>\n",
       "      <th>black</th>\n",
       "      <th>hispanic</th>\n",
       "      <th>othrace</th>\n",
       "      <th>dep</th>\n",
       "      <th>...</th>\n",
       "      <th>recall</th>\n",
       "      <th>agelt35</th>\n",
       "      <th>agegt54</th>\n",
       "      <th>durable</th>\n",
       "      <th>nondurable</th>\n",
       "      <th>lusd</th>\n",
       "      <th>husd</th>\n",
       "      <th>muld</th>\n",
       "      <th>dep1</th>\n",
       "      <th>dep2</th>\n",
       "    </tr>\n",
       "  </thead>\n",
       "  <tbody>\n",
       "    <tr>\n",
       "      <th>0</th>\n",
       "      <td>0</td>\n",
       "      <td>10824</td>\n",
       "      <td>0</td>\n",
       "      <td>2.890372</td>\n",
       "      <td>18</td>\n",
       "      <td>0</td>\n",
       "      <td>0</td>\n",
       "      <td>0</td>\n",
       "      <td>0</td>\n",
       "      <td>2</td>\n",
       "      <td>...</td>\n",
       "      <td>0</td>\n",
       "      <td>0</td>\n",
       "      <td>0</td>\n",
       "      <td>0</td>\n",
       "      <td>0</td>\n",
       "      <td>0</td>\n",
       "      <td>1</td>\n",
       "      <td>0</td>\n",
       "      <td>0.0</td>\n",
       "      <td>1.0</td>\n",
       "    </tr>\n",
       "    <tr>\n",
       "      <th>1</th>\n",
       "      <td>3</td>\n",
       "      <td>10824</td>\n",
       "      <td>0</td>\n",
       "      <td>0.000000</td>\n",
       "      <td>1</td>\n",
       "      <td>0</td>\n",
       "      <td>0</td>\n",
       "      <td>0</td>\n",
       "      <td>0</td>\n",
       "      <td>0</td>\n",
       "      <td>...</td>\n",
       "      <td>0</td>\n",
       "      <td>0</td>\n",
       "      <td>0</td>\n",
       "      <td>0</td>\n",
       "      <td>0</td>\n",
       "      <td>1</td>\n",
       "      <td>0</td>\n",
       "      <td>0</td>\n",
       "      <td>0.0</td>\n",
       "      <td>0.0</td>\n",
       "    </tr>\n",
       "    <tr>\n",
       "      <th>2</th>\n",
       "      <td>4</td>\n",
       "      <td>10747</td>\n",
       "      <td>0</td>\n",
       "      <td>3.295837</td>\n",
       "      <td>27</td>\n",
       "      <td>0</td>\n",
       "      <td>0</td>\n",
       "      <td>0</td>\n",
       "      <td>0</td>\n",
       "      <td>0</td>\n",
       "      <td>...</td>\n",
       "      <td>0</td>\n",
       "      <td>0</td>\n",
       "      <td>0</td>\n",
       "      <td>0</td>\n",
       "      <td>0</td>\n",
       "      <td>1</td>\n",
       "      <td>0</td>\n",
       "      <td>0</td>\n",
       "      <td>0.0</td>\n",
       "      <td>0.0</td>\n",
       "    </tr>\n",
       "    <tr>\n",
       "      <th>3</th>\n",
       "      <td>11</td>\n",
       "      <td>10607</td>\n",
       "      <td>1</td>\n",
       "      <td>2.197225</td>\n",
       "      <td>9</td>\n",
       "      <td>0</td>\n",
       "      <td>0</td>\n",
       "      <td>0</td>\n",
       "      <td>0</td>\n",
       "      <td>0</td>\n",
       "      <td>...</td>\n",
       "      <td>0</td>\n",
       "      <td>1</td>\n",
       "      <td>0</td>\n",
       "      <td>0</td>\n",
       "      <td>0</td>\n",
       "      <td>0</td>\n",
       "      <td>0</td>\n",
       "      <td>1</td>\n",
       "      <td>0.0</td>\n",
       "      <td>0.0</td>\n",
       "    </tr>\n",
       "    <tr>\n",
       "      <th>4</th>\n",
       "      <td>12</td>\n",
       "      <td>10831</td>\n",
       "      <td>0</td>\n",
       "      <td>3.295837</td>\n",
       "      <td>27</td>\n",
       "      <td>0</td>\n",
       "      <td>0</td>\n",
       "      <td>0</td>\n",
       "      <td>0</td>\n",
       "      <td>1</td>\n",
       "      <td>...</td>\n",
       "      <td>0</td>\n",
       "      <td>0</td>\n",
       "      <td>1</td>\n",
       "      <td>1</td>\n",
       "      <td>0</td>\n",
       "      <td>1</td>\n",
       "      <td>0</td>\n",
       "      <td>0</td>\n",
       "      <td>1.0</td>\n",
       "      <td>0.0</td>\n",
       "    </tr>\n",
       "  </tbody>\n",
       "</table>\n",
       "<p>5 rows × 26 columns</p>\n",
       "</div>"
      ],
      "text/plain": [
       "   index   abdt  tg  inuidur1  inuidur2  female  black  hispanic  othrace  \\\n",
       "0      0  10824   0  2.890372        18       0      0         0        0   \n",
       "1      3  10824   0  0.000000         1       0      0         0        0   \n",
       "2      4  10747   0  3.295837        27       0      0         0        0   \n",
       "3     11  10607   1  2.197225         9       0      0         0        0   \n",
       "4     12  10831   0  3.295837        27       0      0         0        0   \n",
       "\n",
       "   dep  ...  recall  agelt35  agegt54  durable  nondurable  lusd  husd  muld  \\\n",
       "0    2  ...       0        0        0        0           0     0     1     0   \n",
       "1    0  ...       0        0        0        0           0     1     0     0   \n",
       "2    0  ...       0        0        0        0           0     1     0     0   \n",
       "3    0  ...       0        1        0        0           0     0     0     1   \n",
       "4    1  ...       0        0        1        1           0     1     0     0   \n",
       "\n",
       "   dep1  dep2  \n",
       "0   0.0   1.0  \n",
       "1   0.0   0.0  \n",
       "2   0.0   0.0  \n",
       "3   0.0   0.0  \n",
       "4   1.0   0.0  \n",
       "\n",
       "[5 rows x 26 columns]"
      ]
     },
     "execution_count": 4,
     "metadata": {},
     "output_type": "execute_result"
    }
   ],
   "source": [
    "dml_data = dml.datasets.fetch_bonus()\n",
    "dml_data.data.head()"
   ]
  },
  {
   "cell_type": "markdown",
   "metadata": {},
   "source": [
    "## Specify learner and estimate causal parameter: PLR model with random forest as learner\n",
    "\n"
   ]
  },
  {
   "cell_type": "code",
   "execution_count": 5,
   "metadata": {
    "execution": {
     "iopub.execute_input": "2022-10-10T14:20:05.437271Z",
     "iopub.status.busy": "2022-10-10T14:20:05.437015Z",
     "iopub.status.idle": "2022-10-10T14:20:05.446477Z",
     "shell.execute_reply": "2022-10-10T14:20:05.445843Z"
    }
   },
   "outputs": [],
   "source": [
    "# Set machine learning methods for m & l\n",
    "ml_l = RandomForestRegressor()\n",
    "ml_m = RandomForestRegressor()\n",
    "n_folds = 2\n",
    "n_rep = 10\n",
    "\n",
    "np.random.seed(3141)\n",
    "dml_plr_rf = dml.DoubleMLPLR(dml_data,\n",
    "                             ml_l,\n",
    "                             ml_m,\n",
    "                             n_folds=n_folds,\n",
    "                             n_rep=n_rep,\n",
    "                             score='partialling out',\n",
    "                             dml_procedure='dml2')\n",
    "\n",
    "# set some hyperparameters for the learners\n",
    "pars = {'n_estimators': 500,\n",
    "        'max_features': 'sqrt',\n",
    "        'max_depth': 5}\n",
    "\n",
    "dml_plr_rf.set_ml_nuisance_params('ml_l', 'tg', pars)\n",
    "dml_plr_rf.set_ml_nuisance_params('ml_m', 'tg', pars)"
   ]
  },
  {
   "cell_type": "code",
   "execution_count": 6,
   "metadata": {
    "execution": {
     "iopub.execute_input": "2022-10-10T14:20:05.449838Z",
     "iopub.status.busy": "2022-10-10T14:20:05.449598Z",
     "iopub.status.idle": "2022-10-10T14:20:33.264920Z",
     "shell.execute_reply": "2022-10-10T14:20:33.264189Z"
    }
   },
   "outputs": [
    {
     "data": {
      "text/html": [
       "<div>\n",
       "<style scoped>\n",
       "    .dataframe tbody tr th:only-of-type {\n",
       "        vertical-align: middle;\n",
       "    }\n",
       "\n",
       "    .dataframe tbody tr th {\n",
       "        vertical-align: top;\n",
       "    }\n",
       "\n",
       "    .dataframe thead th {\n",
       "        text-align: right;\n",
       "    }\n",
       "</style>\n",
       "<table border=\"1\" class=\"dataframe\">\n",
       "  <thead>\n",
       "    <tr style=\"text-align: right;\">\n",
       "      <th></th>\n",
       "      <th>coef</th>\n",
       "      <th>std err</th>\n",
       "      <th>t</th>\n",
       "      <th>P&gt;|t|</th>\n",
       "      <th>2.5 %</th>\n",
       "      <th>97.5 %</th>\n",
       "    </tr>\n",
       "  </thead>\n",
       "  <tbody>\n",
       "    <tr>\n",
       "      <th>tg</th>\n",
       "      <td>-0.079101</td>\n",
       "      <td>0.035392</td>\n",
       "      <td>-2.235032</td>\n",
       "      <td>0.025415</td>\n",
       "      <td>-0.148467</td>\n",
       "      <td>-0.009735</td>\n",
       "    </tr>\n",
       "  </tbody>\n",
       "</table>\n",
       "</div>"
      ],
      "text/plain": [
       "        coef   std err         t     P>|t|     2.5 %    97.5 %\n",
       "tg -0.079101  0.035392 -2.235032  0.025415 -0.148467 -0.009735"
      ]
     },
     "execution_count": 6,
     "metadata": {},
     "output_type": "execute_result"
    }
   ],
   "source": [
    "dml_plr_rf.fit()\n",
    "dml_plr_rf.summary"
   ]
  },
  {
   "cell_type": "code",
   "execution_count": 7,
   "metadata": {
    "execution": {
     "iopub.execute_input": "2022-10-10T14:20:33.269089Z",
     "iopub.status.busy": "2022-10-10T14:20:33.268663Z",
     "iopub.status.idle": "2022-10-10T14:20:33.389192Z",
     "shell.execute_reply": "2022-10-10T14:20:33.387788Z"
    }
   },
   "outputs": [
    {
     "name": "stdout",
     "output_type": "stream",
     "text": [
      "================== DoubleMLData Object ==================\n",
      "\n",
      "------------------ Data summary      ------------------\n",
      "Outcome variable: inuidur1\n",
      "Treatment variable(s): ['tg']\n",
      "Covariates: ['female', 'black', 'othrace', 'dep1', 'dep2', 'q2', 'q3', 'q4', 'q5', 'q6', 'agelt35', 'agegt54', 'durable', 'lusd', 'husd', 'female^2', 'female black', 'female othrace', 'female dep1', 'female dep2', 'female q2', 'female q3', 'female q4', 'female q5', 'female q6', 'female agelt35', 'female agegt54', 'female durable', 'female lusd', 'female husd', 'black^2', 'black othrace', 'black dep1', 'black dep2', 'black q2', 'black q3', 'black q4', 'black q5', 'black q6', 'black agelt35', 'black agegt54', 'black durable', 'black lusd', 'black husd', 'othrace^2', 'othrace dep1', 'othrace dep2', 'othrace q2', 'othrace q3', 'othrace q4', 'othrace q5', 'othrace q6', 'othrace agelt35', 'othrace agegt54', 'othrace durable', 'othrace lusd', 'othrace husd', 'dep1^2', 'dep1 dep2', 'dep1 q2', 'dep1 q3', 'dep1 q4', 'dep1 q5', 'dep1 q6', 'dep1 agelt35', 'dep1 agegt54', 'dep1 durable', 'dep1 lusd', 'dep1 husd', 'dep2^2', 'dep2 q2', 'dep2 q3', 'dep2 q4', 'dep2 q5', 'dep2 q6', 'dep2 agelt35', 'dep2 agegt54', 'dep2 durable', 'dep2 lusd', 'dep2 husd', 'q2^2', 'q2 q3', 'q2 q4', 'q2 q5', 'q2 q6', 'q2 agelt35', 'q2 agegt54', 'q2 durable', 'q2 lusd', 'q2 husd', 'q3^2', 'q3 q4', 'q3 q5', 'q3 q6', 'q3 agelt35', 'q3 agegt54', 'q3 durable', 'q3 lusd', 'q3 husd', 'q4^2', 'q4 q5', 'q4 q6', 'q4 agelt35', 'q4 agegt54', 'q4 durable', 'q4 lusd', 'q4 husd', 'q5^2', 'q5 q6', 'q5 agelt35', 'q5 agegt54', 'q5 durable', 'q5 lusd', 'q5 husd', 'q6^2', 'q6 agelt35', 'q6 agegt54', 'q6 durable', 'q6 lusd', 'q6 husd', 'agelt35^2', 'agelt35 agegt54', 'agelt35 durable', 'agelt35 lusd', 'agelt35 husd', 'agegt54^2', 'agegt54 durable', 'agegt54 lusd', 'agegt54 husd', 'durable^2', 'durable lusd', 'durable husd', 'lusd^2', 'lusd husd', 'husd^2']\n",
      "Instrument variable(s): None\n",
      "No. Observations: 5099\n",
      "\n",
      "------------------ DataFrame info    ------------------\n",
      "<class 'pandas.core.frame.DataFrame'>\n",
      "RangeIndex: 5099 entries, 0 to 5098\n",
      "Columns: 137 entries, inuidur1 to husd^2\n",
      "dtypes: float64(136), int64(1)\n",
      "memory usage: 5.3 MB\n",
      "\n"
     ]
    }
   ],
   "source": [
    "# Load data with polynomial features\n",
    "dml_data_lasso = dml.datasets.fetch_bonus(polynomial_features=True)\n",
    "print(dml_data_lasso)"
   ]
  },
  {
   "cell_type": "markdown",
   "metadata": {},
   "source": [
    "## Specify learner and estimate causal parameter: PLR model with Lasso as learner\n",
    "\n"
   ]
  },
  {
   "cell_type": "code",
   "execution_count": 8,
   "metadata": {
    "execution": {
     "iopub.execute_input": "2022-10-10T14:20:33.393349Z",
     "iopub.status.busy": "2022-10-10T14:20:33.392936Z",
     "iopub.status.idle": "2022-10-10T14:20:33.401923Z",
     "shell.execute_reply": "2022-10-10T14:20:33.401250Z"
    }
   },
   "outputs": [],
   "source": [
    "# Set machine learning methods for m & l\n",
    "ml_l = Lasso()\n",
    "ml_m = Lasso()\n",
    "n_folds = 2\n",
    "n_rep = 10\n",
    "\n",
    "np.random.seed(3141)\n",
    "dml_plr_lasso = dml.DoubleMLPLR(dml_data_lasso,\n",
    "                                ml_l,\n",
    "                                ml_m,\n",
    "                                n_folds=n_folds,\n",
    "                                n_rep=n_rep,\n",
    "                                score='partialling out',\n",
    "                                dml_procedure='dml2')\n",
    "\n",
    "# set some hyperparameters for the learners\n",
    "dml_plr_lasso.set_ml_nuisance_params('ml_l', 'tg', {'alpha': 0.0005})\n",
    "dml_plr_lasso.set_ml_nuisance_params('ml_m', 'tg', {'alpha': 0.0026})"
   ]
  },
  {
   "cell_type": "code",
   "execution_count": 9,
   "metadata": {
    "execution": {
     "iopub.execute_input": "2022-10-10T14:20:33.405426Z",
     "iopub.status.busy": "2022-10-10T14:20:33.405037Z",
     "iopub.status.idle": "2022-10-10T14:20:34.645506Z",
     "shell.execute_reply": "2022-10-10T14:20:34.644801Z"
    }
   },
   "outputs": [
    {
     "data": {
      "text/html": [
       "<div>\n",
       "<style scoped>\n",
       "    .dataframe tbody tr th:only-of-type {\n",
       "        vertical-align: middle;\n",
       "    }\n",
       "\n",
       "    .dataframe tbody tr th {\n",
       "        vertical-align: top;\n",
       "    }\n",
       "\n",
       "    .dataframe thead th {\n",
       "        text-align: right;\n",
       "    }\n",
       "</style>\n",
       "<table border=\"1\" class=\"dataframe\">\n",
       "  <thead>\n",
       "    <tr style=\"text-align: right;\">\n",
       "      <th></th>\n",
       "      <th>coef</th>\n",
       "      <th>std err</th>\n",
       "      <th>t</th>\n",
       "      <th>P&gt;|t|</th>\n",
       "      <th>2.5 %</th>\n",
       "      <th>97.5 %</th>\n",
       "    </tr>\n",
       "  </thead>\n",
       "  <tbody>\n",
       "    <tr>\n",
       "      <th>tg</th>\n",
       "      <td>-0.078207</td>\n",
       "      <td>0.035572</td>\n",
       "      <td>-2.198549</td>\n",
       "      <td>0.02791</td>\n",
       "      <td>-0.147927</td>\n",
       "      <td>-0.008487</td>\n",
       "    </tr>\n",
       "  </tbody>\n",
       "</table>\n",
       "</div>"
      ],
      "text/plain": [
       "        coef   std err         t    P>|t|     2.5 %    97.5 %\n",
       "tg -0.078207  0.035572 -2.198549  0.02791 -0.147927 -0.008487"
      ]
     },
     "execution_count": 9,
     "metadata": {},
     "output_type": "execute_result"
    }
   ],
   "source": [
    "dml_plr_lasso.fit()\n",
    "dml_plr_lasso.summary"
   ]
  },
  {
   "cell_type": "markdown",
   "metadata": {},
   "source": [
    "## Specify learner and estimate causal parameter: IRM model with random forest as learner\n",
    "\n"
   ]
  },
  {
   "cell_type": "code",
   "execution_count": 10,
   "metadata": {
    "execution": {
     "iopub.execute_input": "2022-10-10T14:20:34.649274Z",
     "iopub.status.busy": "2022-10-10T14:20:34.648982Z",
     "iopub.status.idle": "2022-10-10T14:20:34.666988Z",
     "shell.execute_reply": "2022-10-10T14:20:34.666347Z"
    }
   },
   "outputs": [
    {
     "data": {
      "text/plain": [
       "<doubleml.double_ml_irm.DoubleMLIRM at 0x7f1644659040>"
      ]
     },
     "execution_count": 10,
     "metadata": {},
     "output_type": "execute_result"
    }
   ],
   "source": [
    "# Set machine learning methods for m & g\n",
    "ml_g = RandomForestRegressor()\n",
    "ml_m = RandomForestClassifier()\n",
    "n_folds = 2\n",
    "n_rep = 10\n",
    "\n",
    "np.random.seed(3141)\n",
    "dml_irm_rf = dml.DoubleMLIRM(dml_data,\n",
    "                             ml_g,\n",
    "                             ml_m,\n",
    "                             n_folds=n_folds,\n",
    "                             n_rep=n_rep,\n",
    "                             score='ATE',\n",
    "                             dml_procedure='dml2')\n",
    "\n",
    "# set some hyperparameters for the learners\n",
    "pars = {'n_estimators': 500,\n",
    "        'max_features': 'sqrt',\n",
    "        'max_depth': 5}\n",
    "\n",
    "dml_irm_rf.set_ml_nuisance_params('ml_g0', 'tg', pars)\n",
    "dml_irm_rf.set_ml_nuisance_params('ml_g1', 'tg', pars)\n",
    "dml_irm_rf.set_ml_nuisance_params('ml_m', 'tg', pars)"
   ]
  },
  {
   "cell_type": "code",
   "execution_count": 11,
   "metadata": {
    "execution": {
     "iopub.execute_input": "2022-10-10T14:20:34.670488Z",
     "iopub.status.busy": "2022-10-10T14:20:34.670178Z",
     "iopub.status.idle": "2022-10-10T14:21:16.382376Z",
     "shell.execute_reply": "2022-10-10T14:21:16.381575Z"
    }
   },
   "outputs": [
    {
     "data": {
      "text/html": [
       "<div>\n",
       "<style scoped>\n",
       "    .dataframe tbody tr th:only-of-type {\n",
       "        vertical-align: middle;\n",
       "    }\n",
       "\n",
       "    .dataframe tbody tr th {\n",
       "        vertical-align: top;\n",
       "    }\n",
       "\n",
       "    .dataframe thead th {\n",
       "        text-align: right;\n",
       "    }\n",
       "</style>\n",
       "<table border=\"1\" class=\"dataframe\">\n",
       "  <thead>\n",
       "    <tr style=\"text-align: right;\">\n",
       "      <th></th>\n",
       "      <th>coef</th>\n",
       "      <th>std err</th>\n",
       "      <th>t</th>\n",
       "      <th>P&gt;|t|</th>\n",
       "      <th>2.5 %</th>\n",
       "      <th>97.5 %</th>\n",
       "    </tr>\n",
       "  </thead>\n",
       "  <tbody>\n",
       "    <tr>\n",
       "      <th>tg</th>\n",
       "      <td>-0.07698</td>\n",
       "      <td>0.03574</td>\n",
       "      <td>-2.153918</td>\n",
       "      <td>0.031247</td>\n",
       "      <td>-0.147028</td>\n",
       "      <td>-0.006932</td>\n",
       "    </tr>\n",
       "  </tbody>\n",
       "</table>\n",
       "</div>"
      ],
      "text/plain": [
       "       coef  std err         t     P>|t|     2.5 %    97.5 %\n",
       "tg -0.07698  0.03574 -2.153918  0.031247 -0.147028 -0.006932"
      ]
     },
     "execution_count": 11,
     "metadata": {},
     "output_type": "execute_result"
    }
   ],
   "source": [
    "dml_irm_rf.fit()\n",
    "dml_irm_rf.summary"
   ]
  },
  {
   "cell_type": "markdown",
   "metadata": {},
   "source": [
    "## Specify learner and estimate causal parameter: IRM model with Lasso as learner\n",
    "\n"
   ]
  },
  {
   "cell_type": "code",
   "execution_count": 12,
   "metadata": {
    "execution": {
     "iopub.execute_input": "2022-10-10T14:21:16.386671Z",
     "iopub.status.busy": "2022-10-10T14:21:16.386406Z",
     "iopub.status.idle": "2022-10-10T14:21:16.397769Z",
     "shell.execute_reply": "2022-10-10T14:21:16.397055Z"
    }
   },
   "outputs": [
    {
     "data": {
      "text/plain": [
       "<doubleml.double_ml_irm.DoubleMLIRM at 0x7f164462ce20>"
      ]
     },
     "execution_count": 12,
     "metadata": {},
     "output_type": "execute_result"
    }
   ],
   "source": [
    "# Set machine learning methods for m & g\n",
    "ml_g = Lasso()\n",
    "ml_m = LogisticRegression()\n",
    "np.random.seed(1234)\n",
    "n_folds = 2\n",
    "n_rep = 10\n",
    "\n",
    "np.random.seed(3141)\n",
    "dml_irm_lasso = dml.DoubleMLIRM(dml_data_lasso,\n",
    "                                ml_g,\n",
    "                                ml_m,\n",
    "                                n_folds=n_folds,\n",
    "                                n_rep=n_rep,\n",
    "                                score='ATE',\n",
    "                                dml_procedure='dml2')\n",
    "\n",
    "# set some hyperparameters for the learners\n",
    "dml_irm_lasso.set_ml_nuisance_params('ml_g0', 'tg', {'alpha': 0.0019})\n",
    "dml_irm_lasso.set_ml_nuisance_params('ml_g1', 'tg', {'alpha': 0.0073})\n",
    "dml_irm_lasso.set_ml_nuisance_params('ml_m', 'tg', {'C': 0.0001})"
   ]
  },
  {
   "cell_type": "code",
   "execution_count": 13,
   "metadata": {
    "execution": {
     "iopub.execute_input": "2022-10-10T14:21:16.400990Z",
     "iopub.status.busy": "2022-10-10T14:21:16.400740Z",
     "iopub.status.idle": "2022-10-10T14:21:17.081382Z",
     "shell.execute_reply": "2022-10-10T14:21:17.080681Z"
    }
   },
   "outputs": [
    {
     "data": {
      "text/html": [
       "<div>\n",
       "<style scoped>\n",
       "    .dataframe tbody tr th:only-of-type {\n",
       "        vertical-align: middle;\n",
       "    }\n",
       "\n",
       "    .dataframe tbody tr th {\n",
       "        vertical-align: top;\n",
       "    }\n",
       "\n",
       "    .dataframe thead th {\n",
       "        text-align: right;\n",
       "    }\n",
       "</style>\n",
       "<table border=\"1\" class=\"dataframe\">\n",
       "  <thead>\n",
       "    <tr style=\"text-align: right;\">\n",
       "      <th></th>\n",
       "      <th>coef</th>\n",
       "      <th>std err</th>\n",
       "      <th>t</th>\n",
       "      <th>P&gt;|t|</th>\n",
       "      <th>2.5 %</th>\n",
       "      <th>97.5 %</th>\n",
       "    </tr>\n",
       "  </thead>\n",
       "  <tbody>\n",
       "    <tr>\n",
       "      <th>tg</th>\n",
       "      <td>-0.080947</td>\n",
       "      <td>0.035545</td>\n",
       "      <td>-2.277299</td>\n",
       "      <td>0.022768</td>\n",
       "      <td>-0.150614</td>\n",
       "      <td>-0.01128</td>\n",
       "    </tr>\n",
       "  </tbody>\n",
       "</table>\n",
       "</div>"
      ],
      "text/plain": [
       "        coef   std err         t     P>|t|     2.5 %   97.5 %\n",
       "tg -0.080947  0.035545 -2.277299  0.022768 -0.150614 -0.01128"
      ]
     },
     "execution_count": 13,
     "metadata": {},
     "output_type": "execute_result"
    }
   ],
   "source": [
    "dml_irm_lasso.fit()\n",
    "dml_irm_lasso.summary"
   ]
  }
 ],
 "metadata": {
  "kernelspec": {
   "display_name": "Python 3 (ipykernel)",
   "language": "python",
   "name": "python3"
  },
  "language_info": {
   "codemirror_mode": {
    "name": "ipython",
    "version": 3
   },
   "file_extension": ".py",
   "mimetype": "text/x-python",
   "name": "python",
   "nbconvert_exporter": "python",
   "pygments_lexer": "ipython3",
   "version": "3.8.14"
  }
 },
 "nbformat": 4,
 "nbformat_minor": 1
}
