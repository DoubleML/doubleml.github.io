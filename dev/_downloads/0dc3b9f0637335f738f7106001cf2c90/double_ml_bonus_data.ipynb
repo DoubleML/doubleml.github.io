{
  "cells": [
    {
      "cell_type": "code",
      "execution_count": null,
      "metadata": {
        "collapsed": false
      },
      "outputs": [],
      "source": [
        "%matplotlib inline"
      ]
    },
    {
      "cell_type": "markdown",
      "metadata": {},
      "source": [
        "\n# DML: Bonus Data\nThis example shows\nTODO: Add a general description!\n"
      ]
    },
    {
      "cell_type": "code",
      "execution_count": null,
      "metadata": {
        "collapsed": false
      },
      "outputs": [],
      "source": [
        "print(__doc__)"
      ]
    },
    {
      "cell_type": "code",
      "execution_count": null,
      "metadata": {
        "collapsed": false
      },
      "outputs": [],
      "source": [
        "import numpy as np\nimport doubleml as dml\nfrom doubleml.datasets import fetch_bonus\n\nfrom sklearn.linear_model import Lasso, LogisticRegression\nfrom sklearn.ensemble import RandomForestClassifier, RandomForestRegressor\n\nimport matplotlib.pyplot as plt\nimport seaborn as sns"
      ]
    },
    {
      "cell_type": "code",
      "execution_count": null,
      "metadata": {
        "collapsed": false
      },
      "outputs": [],
      "source": [
        "plt.rcParams['figure.figsize'] = 14, 6\nsns.set()"
      ]
    },
    {
      "cell_type": "markdown",
      "metadata": {},
      "source": [
        "## Load bonus data using the dml datasets module\n\n"
      ]
    },
    {
      "cell_type": "code",
      "execution_count": null,
      "metadata": {
        "collapsed": false
      },
      "outputs": [],
      "source": [
        "dml_data = dml.datasets.fetch_bonus()\ndml_data.data.head()"
      ]
    },
    {
      "cell_type": "markdown",
      "metadata": {},
      "source": [
        "## Specify learner and estimate causal parameter: PLR model with random forest as learner\n\n"
      ]
    },
    {
      "cell_type": "code",
      "execution_count": null,
      "metadata": {
        "collapsed": false
      },
      "outputs": [],
      "source": [
        "# Set machine learning methods for m & g\nml_g = RandomForestRegressor()\nml_m = RandomForestRegressor()\nn_folds = 2\nn_rep = 10\n\nnp.random.seed(3141)\ndml_plr_rf = dml.DoubleMLPLR(dml_data,\n                             ml_g,\n                             ml_m,\n                             n_folds,\n                             n_rep,\n                             'partialling out',\n                             'dml2')\n\n# set some hyperparameters for the learners\npars = {'n_estimators': 500,\n        'max_features': 'sqrt',\n        'max_depth': 5}\n\ndml_plr_rf.set_ml_nuisance_params('ml_g', 'tg', pars)\ndml_plr_rf.set_ml_nuisance_params('ml_m', 'tg', pars)"
      ]
    },
    {
      "cell_type": "code",
      "execution_count": null,
      "metadata": {
        "collapsed": false
      },
      "outputs": [],
      "source": [
        "dml_plr_rf.fit()\ndml_plr_rf.summary"
      ]
    },
    {
      "cell_type": "code",
      "execution_count": null,
      "metadata": {
        "collapsed": false
      },
      "outputs": [],
      "source": [
        "# Load data with polynomial features\ndml_data_lasso = dml.datasets.fetch_bonus(polynomial_features=True)\nprint(dml_data_lasso)"
      ]
    },
    {
      "cell_type": "markdown",
      "metadata": {},
      "source": [
        "## Specify learner and estimate causal parameter: PLR model with Lasso as learner\n\n"
      ]
    },
    {
      "cell_type": "code",
      "execution_count": null,
      "metadata": {
        "collapsed": false
      },
      "outputs": [],
      "source": [
        "# Set machine learning methods for m & g\nml_g = Lasso()\nml_m = Lasso()\nn_folds = 2\nn_rep = 10\n\nnp.random.seed(3141)\ndml_plr_lasso = dml.DoubleMLPLR(dml_data_lasso,\n                                ml_g,\n                                ml_m,\n                                n_folds,\n                                n_rep,\n                                'partialling out',\n                                'dml2')\n\n# set some hyperparameters for the learners\ndml_plr_lasso.set_ml_nuisance_params('ml_g', 'tg', {'alpha': 0.0005})\ndml_plr_lasso.set_ml_nuisance_params('ml_m', 'tg', {'alpha': 0.0026})"
      ]
    },
    {
      "cell_type": "code",
      "execution_count": null,
      "metadata": {
        "collapsed": false
      },
      "outputs": [],
      "source": [
        "dml_plr_lasso.fit()\ndml_plr_lasso.summary"
      ]
    },
    {
      "cell_type": "markdown",
      "metadata": {},
      "source": [
        "## Specify learner and estimate causal parameter: IRM model with random forest as learner\n\n"
      ]
    },
    {
      "cell_type": "code",
      "execution_count": null,
      "metadata": {
        "collapsed": false
      },
      "outputs": [],
      "source": [
        "# Set machine learning methods for m & g\nml_g = RandomForestRegressor()\nml_m = RandomForestClassifier()\nn_folds = 2\nn_rep = 10\n\nnp.random.seed(3141)\ndml_irm_rf = dml.DoubleMLIRM(dml_data,\n                             ml_g,\n                             ml_m,\n                             n_folds,\n                             n_rep,\n                             'ATE',\n                             'dml2')\n\n# set some hyperparameters for the learners\npars = {'n_estimators': 500,\n        'max_features': 'sqrt',\n        'max_depth': 5}\n\ndml_irm_rf.set_ml_nuisance_params('ml_g0', 'tg', pars)\ndml_irm_rf.set_ml_nuisance_params('ml_g1', 'tg', pars)\ndml_irm_rf.set_ml_nuisance_params('ml_m', 'tg', pars)"
      ]
    },
    {
      "cell_type": "code",
      "execution_count": null,
      "metadata": {
        "collapsed": false
      },
      "outputs": [],
      "source": [
        "dml_irm_rf.fit()\ndml_irm_rf.summary"
      ]
    },
    {
      "cell_type": "markdown",
      "metadata": {},
      "source": [
        "## Specify learner and estimate causal parameter: IRM model with Lasso as learner\n\n"
      ]
    },
    {
      "cell_type": "code",
      "execution_count": null,
      "metadata": {
        "collapsed": false
      },
      "outputs": [],
      "source": [
        "# Set machine learning methods for m & g\nml_g = Lasso()\nml_m = LogisticRegression()\nnp.random.seed(1234)\nn_folds = 2\nn_rep = 10\n\nnp.random.seed(3141)\ndml_irm_lasso = dml.DoubleMLIRM(dml_data_lasso,\n                                ml_g,\n                                ml_m,\n                                n_folds,\n                                n_rep,\n                                'ATE',\n                                'dml2')\n\n# set some hyperparameters for the learners\ndml_irm_lasso.set_ml_nuisance_params('ml_g0', 'tg', {'alpha': 0.0019})\ndml_irm_lasso.set_ml_nuisance_params('ml_g1', 'tg', {'alpha': 0.0073})\ndml_irm_lasso.set_ml_nuisance_params('ml_m', 'tg', {'C': 0.0001})"
      ]
    },
    {
      "cell_type": "code",
      "execution_count": null,
      "metadata": {
        "collapsed": false
      },
      "outputs": [],
      "source": [
        "dml_irm_lasso.fit()\ndml_irm_lasso.summary"
      ]
    }
  ],
  "metadata": {
    "kernelspec": {
      "display_name": "Python 3",
      "language": "python",
      "name": "python3"
    },
    "language_info": {
      "codemirror_mode": {
        "name": "ipython",
        "version": 3
      },
      "file_extension": ".py",
      "mimetype": "text/x-python",
      "name": "python",
      "nbconvert_exporter": "python",
      "pygments_lexer": "ipython3",
      "version": "3.8.6"
    }
  },
  "nbformat": 4,
  "nbformat_minor": 0
}